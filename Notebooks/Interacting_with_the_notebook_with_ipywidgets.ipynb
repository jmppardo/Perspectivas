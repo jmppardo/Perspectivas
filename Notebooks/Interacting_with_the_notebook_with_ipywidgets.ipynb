{
 "cells": [
  {
   "cell_type": "markdown",
   "metadata": {},
   "source": [
    "# Python Functions and Classes\n",
    "\n",
    "In the first lecture we introduced some basic aspects on Python and function definitions. We will introduce now some convenient way of defining function variables. Additionally we will present an important structure in Python, the _classes_. This course is not aimed at covering this material in depth and we will present only the very basics. The idea of this introduction is to present you these structures, as they will be used when we introduce the main topic of this lecture: ipywidgets.\n",
    "\n",
    "## Keyword arguments as function variables in Python\n",
    "\n",
    "There are several ways of defining the variables for a function in Python. One particularly useful way is to use _keyword arguments_. This is done like in the following example"
   ]
  },
  {
   "cell_type": "code",
   "execution_count": 3,
   "metadata": {},
   "outputs": [],
   "source": [
    "def my_function(text=\"Default Value for the Variable\", number=3):\n",
    "    \n",
    "    print(f\"This is the text for the text variable: {text}.\\nThis is the content of the number variable: {number}\")"
   ]
  },
  {
   "cell_type": "markdown",
   "metadata": {},
   "source": [
    "In this way one can fix a name for the variable which helps to remember the purpose of each variable. In addition to that, the variables can be defined with a default value that wil be used when it is not given at function call."
   ]
  },
  {
   "cell_type": "code",
   "execution_count": 4,
   "metadata": {},
   "outputs": [
    {
     "name": "stdout",
     "output_type": "stream",
     "text": [
      "This is the text for the text variable: Default Value for the Variable.\n",
      "This is the content of the number variable: 3\n"
     ]
    }
   ],
   "source": [
    "my_function()"
   ]
  },
  {
   "cell_type": "markdown",
   "metadata": {},
   "source": [
    "The named variables can be called in any orther. Whenever a named variable is not specified at function call the default value will be used. One can also use other variables to provide the value of a name variable of a function. The content of these variables will be read at function call. Check the different examples below."
   ]
  },
  {
   "cell_type": "code",
   "execution_count": 5,
   "metadata": {},
   "outputs": [
    {
     "name": "stdout",
     "output_type": "stream",
     "text": [
      "\n",
      "First Example\n",
      "\n",
      "This is the text for the text variable: Nobody expects the spanish inquisition.\n",
      "This is the content of the number variable: 3\n",
      "\n",
      "Second Example\n",
      "\n",
      "This is the text for the text variable: Nobody expects the spanish inquisition.\n",
      "This is the content of the number variable: 7\n",
      "\n",
      "Third Example\n",
      "\n",
      "This is the text for the text variable: This text will be printed.\n",
      "This is the content of the number variable: 3\n",
      "This is the text for the text variable: This text will be printed.\n",
      "This is the content of the number variable: And this number\n"
     ]
    }
   ],
   "source": [
    "# First Example\n",
    "print(\"\\nFirst Example\\n\")\n",
    "my_function(text=\"Nobody expects the spanish inquisition\")\n",
    "\n",
    "# Second Example\n",
    "print(\"\\nSecond Example\\n\")\n",
    "my_function(number=7,text=\"Nobody expects the spanish inquisition\")\n",
    "\n",
    "# Third Example\n",
    "print(\"\\nThird Example\\n\")\n",
    "\n",
    "text=\"This text will be printed\"\n",
    "\n",
    "my_function(text=text)\n",
    "\n",
    "number_variable=\"And this number\"\n",
    "\n",
    "my_function(text=text, number=number_variable)"
   ]
  },
  {
   "cell_type": "markdown",
   "metadata": {},
   "source": [
    "You may now recall several of the examples from the lecture on plotting. Many of the parameters for the different functions that we saw on that lecture are passed this way. Notice that a function expects to receive as many arguments as variables it has. Otherwise it raises an error. This is a very convenient way of avoiding to pass to the function all the variables each time it is called.\n",
    "\n",
    "## Python classes: A crash course\n",
    "\n",
    "We are going to introduce next Python classes. A new class defines a new type of object in Python. A class can have _attributes_ which define its state and _methods_ (functions) for modifying its state among other things. As stated at the beginning we are not going to present classes in depth. Any of you that have interest in object oriented programming and in understanding these powerful structures should have a look at [this tutorial](https://docs.python.org/3/tutorial/classes.html) in the Python documentation.\n",
    "\n",
    "To present the classes we will borrow an example from that tutorial and define the class _Dog_."
   ]
  },
  {
   "cell_type": "code",
   "execution_count": 6,
   "metadata": {},
   "outputs": [],
   "source": [
    "class Dog:\n",
    "    \n",
    "    def bark(self):\n",
    "        print(\"Woof! Woof!\")"
   ]
  },
  {
   "cell_type": "markdown",
   "metadata": {},
   "source": [
    "The above code has defined the class `Dog`. This class has a _method_ (a function). This function is called `bark`. Notice that this function has a single argument called `self` that seems to play no role. We will come to it in a minute. Before doing it, let us create a Dog and make it bark. \n",
    "\n",
    "The following line of code creates a variable named `a` and defines it to be an object of the `Dog` class. "
   ]
  },
  {
   "cell_type": "code",
   "execution_count": 7,
   "metadata": {},
   "outputs": [
    {
     "data": {
      "text/plain": [
       "<__main__.Dog at 0x7fbbe07ff070>"
      ]
     },
     "execution_count": 7,
     "metadata": {},
     "output_type": "execute_result"
    }
   ],
   "source": [
    "a = Dog() \n",
    "\n",
    "a"
   ]
  },
  {
   "cell_type": "code",
   "execution_count": 8,
   "metadata": {},
   "outputs": [
    {
     "data": {
      "text/plain": [
       "<bound method Dog.bark of <__main__.Dog object at 0x7fbbe07ff070>>"
      ]
     },
     "execution_count": 8,
     "metadata": {},
     "output_type": "execute_result"
    }
   ],
   "source": [
    "a.bark"
   ]
  },
  {
   "cell_type": "code",
   "execution_count": 9,
   "metadata": {},
   "outputs": [
    {
     "name": "stdout",
     "output_type": "stream",
     "text": [
      "Woof! Woof!\n"
     ]
    }
   ],
   "source": [
    "a.bark()"
   ]
  },
  {
   "cell_type": "markdown",
   "metadata": {},
   "source": [
    "One says that `a` is an _instance_ of the class Dog. Any _method_ bound to that instance will be accessed by appending to its variable name a dot and the name of the method. Notice that, in the same way that when one is calling a function, one needs to use parenthesis even if the function doesn't require any variables. \n",
    "\n",
    "Now we will explain shortly what the sepecial variable `self` means. For that, let us define a new _class_, `Mean_Dog`. This time the `bark` method will not use the `self` argument."
   ]
  },
  {
   "cell_type": "code",
   "execution_count": 10,
   "metadata": {},
   "outputs": [],
   "source": [
    "class Mean_Dog:\n",
    "    \n",
    "    def bark():\n",
    "        print(\"Woof! Woof!\")"
   ]
  },
  {
   "cell_type": "markdown",
   "metadata": {},
   "source": [
    "Now we will try to instantiate another dog, 'm', and make it bark."
   ]
  },
  {
   "cell_type": "code",
   "execution_count": 11,
   "metadata": {},
   "outputs": [
    {
     "data": {
      "text/plain": [
       "<__main__.Mean_Dog at 0x7fbbe07ff8b0>"
      ]
     },
     "execution_count": 11,
     "metadata": {},
     "output_type": "execute_result"
    }
   ],
   "source": [
    "m = Mean_Dog()\n",
    "\n",
    "m"
   ]
  },
  {
   "cell_type": "code",
   "execution_count": 12,
   "metadata": {},
   "outputs": [
    {
     "ename": "TypeError",
     "evalue": "bark() takes 0 positional arguments but 1 was given",
     "output_type": "error",
     "traceback": [
      "\u001b[0;31m---------------------------------------------------------------------------\u001b[0m",
      "\u001b[0;31mTypeError\u001b[0m                                 Traceback (most recent call last)",
      "Input \u001b[0;32mIn [12]\u001b[0m, in \u001b[0;36m<cell line: 1>\u001b[0;34m()\u001b[0m\n\u001b[0;32m----> 1\u001b[0m \u001b[43mm\u001b[49m\u001b[38;5;241;43m.\u001b[39;49m\u001b[43mbark\u001b[49m\u001b[43m(\u001b[49m\u001b[43m)\u001b[49m\n",
      "\u001b[0;31mTypeError\u001b[0m: bark() takes 0 positional arguments but 1 was given"
     ]
    }
   ],
   "source": [
    "m.bark()"
   ]
  },
  {
   "cell_type": "markdown",
   "metadata": {},
   "source": [
    "The `Mean_Dog` doesn't bark. That is why it is mean. As you can see we are getting an error. This error might appear strange at first glance. The interpreter is claiming that we passed 1 argument to the function call but that it takes zero arguments. Definitely when we have a look at the line\n",
    "\n",
    "```python\n",
    "    def bark():\n",
    "```\n",
    "\n",
    "we can see that we defined the method with no arguments. But we also called it with no arguments, didn't we?\n",
    "\n",
    "```python\n",
    "m.bark()\n",
    "```\n"
   ]
  },
  {
   "cell_type": "markdown",
   "metadata": {},
   "source": [
    "Actually we didn't. When one defines classes and instantiates them, one wants that the methods depend on the instance of the class, like 'a' or 'm' in the examples and not of the objects themselves, like 'Dog' or 'Mean_Dog'. That is why the variable _self_ exists. It refers to the instance of the class. Actually, the statement\n",
    "\n",
    "```python\n",
    "a.bark()\n",
    "```\n",
    "\n",
    "is analogue to write\n",
    "\n",
    "```python\n",
    "Dog.bark(a)\n",
    "```\n",
    "\n",
    "which can be understood as \"Use the method bark of the class Dog on the instance a\""
   ]
  },
  {
   "cell_type": "code",
   "execution_count": 13,
   "metadata": {},
   "outputs": [
    {
     "name": "stdout",
     "output_type": "stream",
     "text": [
      "Woof! Woof!\n"
     ]
    }
   ],
   "source": [
    "Dog.bark(a)"
   ]
  },
  {
   "cell_type": "code",
   "execution_count": 14,
   "metadata": {},
   "outputs": [
    {
     "name": "stdout",
     "output_type": "stream",
     "text": [
      "Woof! Woof!\n"
     ]
    }
   ],
   "source": [
    "Mean_Dog.bark()"
   ]
  },
  {
   "cell_type": "markdown",
   "metadata": {},
   "source": [
    "So the method bark on the class `Mean_Dog` does not depend on their istances, just on the class object. In fact, we can reproduce the same error above if we pass the instance as first argument"
   ]
  },
  {
   "cell_type": "code",
   "execution_count": 15,
   "metadata": {},
   "outputs": [
    {
     "ename": "TypeError",
     "evalue": "bark() takes 0 positional arguments but 1 was given",
     "output_type": "error",
     "traceback": [
      "\u001b[0;31m---------------------------------------------------------------------------\u001b[0m",
      "\u001b[0;31mTypeError\u001b[0m                                 Traceback (most recent call last)",
      "Input \u001b[0;32mIn [15]\u001b[0m, in \u001b[0;36m<cell line: 1>\u001b[0;34m()\u001b[0m\n\u001b[0;32m----> 1\u001b[0m \u001b[43mMean_Dog\u001b[49m\u001b[38;5;241;43m.\u001b[39;49m\u001b[43mbark\u001b[49m\u001b[43m(\u001b[49m\u001b[43mm\u001b[49m\u001b[43m)\u001b[49m\n",
      "\u001b[0;31mTypeError\u001b[0m: bark() takes 0 positional arguments but 1 was given"
     ]
    }
   ],
   "source": [
    "Mean_Dog.bark(m)"
   ]
  },
  {
   "cell_type": "markdown",
   "metadata": {},
   "source": [
    "Now we are ready to define class attributes. These are variables that will be linked to the instances of the class and that will distinguish the different instances of the class. For doing this, we will use a special method, the `__init__` method. In Python there are special functions that serve a purpose and all of them are defined with double underscores before and after their name. The `__init__` method of a class in Python will be executed each time the class is instantiated. Arguments in the call to the class will be passed directly to the `__init__` method.\n",
    "\n",
    "In the next example we will use it to give a name to each dog. The name will be an _attribute_ of the class that will contain a string."
   ]
  },
  {
   "cell_type": "code",
   "execution_count": 16,
   "metadata": {},
   "outputs": [],
   "source": [
    "class Dog:\n",
    "\n",
    "    def __init__(self, name):\n",
    "        self.name = name    # instance variable unique to each instance\n",
    "\n",
    "    def bark(self):\n",
    "        print(\"Woof! Woof!\")\n",
    "        "
   ]
  },
  {
   "cell_type": "code",
   "execution_count": 18,
   "metadata": {},
   "outputs": [
    {
     "name": "stdout",
     "output_type": "stream",
     "text": [
      "Barky can bark: \n",
      "Woof! Woof!\n"
     ]
    }
   ],
   "source": [
    "a = Dog(\"Barky\")\n",
    "\n",
    "print(f\"{a.name} can bark: \")\n",
    "a.bark()"
   ]
  },
  {
   "cell_type": "markdown",
   "metadata": {},
   "source": [
    "Attributes can also be accesed directly so that one can modify them after the instantiation. "
   ]
  },
  {
   "cell_type": "code",
   "execution_count": 19,
   "metadata": {},
   "outputs": [
    {
     "data": {
      "text/plain": [
       "'Barky'"
      ]
     },
     "execution_count": 19,
     "metadata": {},
     "output_type": "execute_result"
    }
   ],
   "source": [
    "a.name"
   ]
  },
  {
   "cell_type": "code",
   "execution_count": 20,
   "metadata": {},
   "outputs": [
    {
     "data": {
      "text/plain": [
       "'Buddy'"
      ]
     },
     "execution_count": 20,
     "metadata": {},
     "output_type": "execute_result"
    }
   ],
   "source": [
    "a.name = \"Buddy\"\n",
    "\n",
    "a.name"
   ]
  },
  {
   "cell_type": "code",
   "execution_count": null,
   "metadata": {},
   "outputs": [],
   "source": []
  },
  {
   "cell_type": "markdown",
   "metadata": {},
   "source": [
    "We will finish this short introduction of Python classes with an example on how attributes and methods can interact with each other. We are going to redefine the `Dog` class one more time."
   ]
  },
  {
   "cell_type": "code",
   "execution_count": 23,
   "metadata": {},
   "outputs": [],
   "source": [
    "class Dog:\n",
    "\n",
    "    def __init__(self, name):\n",
    "        self.name = name    # instance variable unique to each instance\n",
    "        self.tricks = []    # creates a new empty list for each instance\n",
    "\n",
    "    def bark(self):\n",
    "        print(\"Woof! Woof!\")\n",
    "        \n",
    "    def add_trick(self, trick):\n",
    "        self.tricks.append(trick)\n",
    "        "
   ]
  },
  {
   "cell_type": "markdown",
   "metadata": {},
   "source": [
    "Let us focus on the stament\n",
    "\n",
    "```python\n",
    "self.trick.append(trick)\n",
    "```\n",
    "\n",
    "`self.trick` after instantiation will be an empty list. `append` is a method of the list object that appends an element to the list. Check how it works with the next example."
   ]
  },
  {
   "cell_type": "code",
   "execution_count": 24,
   "metadata": {},
   "outputs": [
    {
     "name": "stdout",
     "output_type": "stream",
     "text": [
      "[1, 2, 3]\n",
      "[1, 2, 3, 8]\n"
     ]
    }
   ],
   "source": [
    "example_list = [1, 2, 3]\n",
    "\n",
    "print(example_list)\n",
    "\n",
    "example_list.append(8)\n",
    "\n",
    "print(example_list)"
   ]
  },
  {
   "cell_type": "markdown",
   "metadata": {},
   "source": [
    "The `add_trick` method allows us to add elements to the `tricks` list of each `Dog`. That is how it works."
   ]
  },
  {
   "cell_type": "code",
   "execution_count": 25,
   "metadata": {},
   "outputs": [
    {
     "name": "stdout",
     "output_type": "stream",
     "text": [
      "['sit', 'play dead']\n",
      "['roll over']\n"
     ]
    }
   ],
   "source": [
    "a = Dog(\"Barky\")\n",
    "b = Dog(\"Beethoven\")\n",
    "\n",
    "a.add_trick(\"sit\")\n",
    "a.add_trick(\"play dead\")\n",
    "\n",
    "b.add_trick(\"roll over\")\n",
    "\n",
    "print(a.tricks)\n",
    "print(b.tricks)"
   ]
  },
  {
   "cell_type": "markdown",
   "metadata": {},
   "source": [
    "# Ipywidgets\n",
    "### A powerful way of enhancing the interaction with the notebook.  \n",
    "\n",
    "The ipywidgets are special objects that exploit the display power of the notebook and connect easily the process in the Python kernel with rich output. For an extensive introduction and tutorials it is recommended to access the [documentation](https://ipywidgets.readthedocs.io/en/latest/) of the ipywidgets. Specially recommended are the sections [Simple Widget Introduction](https://ipywidgets.readthedocs.io/en/latest/examples/Widget%20Basics.html), [Widget List](https://ipywidgets.readthedocs.io/en/latest/examples/Widget%20List.html) and [Output widgets](https://ipywidgets.readthedocs.io/en/latest/examples/Output%20Widget.html). \n",
    "Most of the examples are taken directly from these sources. Notice that the widgets presented here are just a selection, see [Widget List](https://ipywidgets.readthedocs.io/en/latest/examples/Widget%20List.html) for the complete list.\n",
    "\n",
    "Notice that most of the things in this section will not work in a non-interactive session. It is recommended either to downliad the \".ipynb\" file of this lecture or access the interactive version on binder using the link in the [subject repository](http://github.com/jmppardo/Perspectivas)\n",
    "\n",
    "As usual we need to import the corresponding package"
   ]
  },
  {
   "cell_type": "code",
   "execution_count": 26,
   "metadata": {},
   "outputs": [],
   "source": [
    "import ipywidgets as wg\n",
    "from IPython.display import display"
   ]
  },
  {
   "cell_type": "markdown",
   "metadata": {},
   "source": [
    "## Numeric Widgets\n",
    "\n",
    "As their name indicates these widgets deal with numbers. The _value_ of the widget will be associated with a number that can be an Integer or a Floating point number. The meaning of most of the keyword arguments is self-explanatory.\n",
    "\n",
    "### Sliders\n",
    "\n",
    "Sliders are widgets that represent a slider whose position determines a numerical value for the widget. Examples of these are `IntSlider`, `FloatSlider` or `IntRangeSlider`.\n"
   ]
  },
  {
   "cell_type": "code",
   "execution_count": 27,
   "metadata": {},
   "outputs": [
    {
     "data": {
      "application/vnd.jupyter.widget-view+json": {
       "model_id": "bf1ed77aa3254012a8f0fa2c7e750252",
       "version_major": 2,
       "version_minor": 0
      },
      "text/plain": [
       "IntSlider(value=7, continuous_update=False, description='Test:', max=10)"
      ]
     },
     "metadata": {},
     "output_type": "display_data"
    }
   ],
   "source": [
    "wg.IntSlider(\n",
    "    value=7,\n",
    "    min=0,\n",
    "    max=10,\n",
    "    step=1,\n",
    "    description='Test:',\n",
    "    disabled=False,\n",
    "    continuous_update=False,\n",
    "    orientation='horizontal',\n",
    "    readout=True,\n",
    "    readout_format='d'\n",
    ")"
   ]
  },
  {
   "cell_type": "code",
   "execution_count": 31,
   "metadata": {},
   "outputs": [
    {
     "data": {
      "application/vnd.jupyter.widget-view+json": {
       "model_id": "5febd51ca9c04a828249c2a04e59e104",
       "version_major": 2,
       "version_minor": 0
      },
      "text/plain": [
       "IntSlider(value=12, continuous_update=False, description='Test:', max=20, min=5, orientation='vertical', reado…"
      ]
     },
     "metadata": {},
     "output_type": "display_data"
    }
   ],
   "source": [
    "wg.IntSlider(\n",
    "    value=12,\n",
    "    min=5,\n",
    "    max=20,\n",
    "    step=1,\n",
    "    description='Test:',\n",
    "    disabled=False,\n",
    "    continuous_update=False,\n",
    "    orientation='vertical',\n",
    "    readout=True,\n",
    "    readout_format='.2f'\n",
    ")"
   ]
  },
  {
   "cell_type": "markdown",
   "metadata": {},
   "source": [
    "`wg.IntSlider` is a class object defined in the ipywidgets library. It is instantiated when the cell is executed and the widget is displayed. We have seen this behaviour in the notebook before, in which objects are displayed if they are the last element in the cell. Check what happens next."
   ]
  },
  {
   "cell_type": "code",
   "execution_count": 32,
   "metadata": {},
   "outputs": [
    {
     "data": {
      "application/vnd.jupyter.widget-view+json": {
       "model_id": "5813c4ae12d347509cfe0d3af362ace2",
       "version_major": 2,
       "version_minor": 0
      },
      "text/plain": [
       "FloatSlider(value=0.0)"
      ]
     },
     "metadata": {},
     "output_type": "display_data"
    }
   ],
   "source": [
    "wg.IntSlider()\n",
    "\n",
    "\n",
    "\n",
    "wg.FloatSlider()\n",
    "\n"
   ]
  },
  {
   "cell_type": "markdown",
   "metadata": {},
   "source": [
    "Only the second widget, the `FloatSlide` widget with its default parameters is displayed. If one wants to define several widgets at a time they need to be instantiated with different names and call them later using the `Ipython.display` function."
   ]
  },
  {
   "cell_type": "code",
   "execution_count": 38,
   "metadata": {},
   "outputs": [
    {
     "data": {
      "application/vnd.jupyter.widget-view+json": {
       "model_id": "e7d7491059f54becaf9c8769c47ae674",
       "version_major": 2,
       "version_minor": 0
      },
      "text/plain": [
       "FloatSlider(value=7.5, continuous_update=False, description='FloatSlider:', max=10.0, readout_format='.1f')"
      ]
     },
     "metadata": {},
     "output_type": "display_data"
    },
    {
     "data": {
      "application/vnd.jupyter.widget-view+json": {
       "model_id": "b574faee827d45fb94a0bc19622e038f",
       "version_major": 2,
       "version_minor": 0
      },
      "text/plain": [
       "IntRangeSlider(value=(5, 7), continuous_update=False, description='IntRangeSlider:', max=10)"
      ]
     },
     "metadata": {},
     "output_type": "display_data"
    }
   ],
   "source": [
    "float_slider = wg.FloatSlider(\n",
    "    value=7.5,\n",
    "    min=0,\n",
    "    max=10.0,\n",
    "    step=0.1,\n",
    "    description='FloatSlider:',\n",
    "    disabled=False,\n",
    "    continuous_update=False,\n",
    "    orientation='horizontal',\n",
    "    readout=True,\n",
    "    readout_format='.1f',\n",
    ")\n",
    "\n",
    "int_range_slider = wg.IntRangeSlider(\n",
    "    value=[5, 7],\n",
    "    min=0,\n",
    "    max=10,\n",
    "    step=1,\n",
    "    description='IntRangeSlider:',\n",
    "    disabled=False,\n",
    "    continuous_update=False,\n",
    "    orientation='horizontal',\n",
    "    readout=True,\n",
    "    readout_format='d',\n",
    ")\n",
    "\n",
    "display(float_slider,int_range_slider)"
   ]
  },
  {
   "cell_type": "markdown",
   "metadata": {},
   "source": [
    "By instantiating we can also recover the _value_ of the widgets. This is an _attribute_ that almost all widgets have."
   ]
  },
  {
   "cell_type": "code",
   "execution_count": 34,
   "metadata": {},
   "outputs": [
    {
     "data": {
      "text/plain": [
       "(4, 7)"
      ]
     },
     "execution_count": 34,
     "metadata": {},
     "output_type": "execute_result"
    }
   ],
   "source": [
    "int_range_slider.value"
   ]
  },
  {
   "cell_type": "markdown",
   "metadata": {},
   "source": [
    "If you are reading this notebook in the interactive version, try to change the IntRangeSlider with the mouse and execute the cell above again.\n",
    "\n",
    "### Text Boxes for Numeric values\n",
    "\n",
    "Apart from sliders one can also insert numerical values, which again can be interger or float values. The difference between the following two widgets is that the second one admits numbers only in the specified range."
   ]
  },
  {
   "cell_type": "code",
   "execution_count": 35,
   "metadata": {},
   "outputs": [
    {
     "data": {
      "application/vnd.jupyter.widget-view+json": {
       "model_id": "e079e6be08f14042a4101cb8ffd063a1",
       "version_major": 2,
       "version_minor": 0
      },
      "text/plain": [
       "IntText(value=7, description='Any:')"
      ]
     },
     "metadata": {},
     "output_type": "display_data"
    }
   ],
   "source": [
    "wg.IntText(\n",
    "    value=7,\n",
    "    description='Any:',\n",
    "    disabled=False\n",
    ")"
   ]
  },
  {
   "cell_type": "code",
   "execution_count": 39,
   "metadata": {},
   "outputs": [
    {
     "data": {
      "application/vnd.jupyter.widget-view+json": {
       "model_id": "27c513bddde94b2086bbab1dfad74b5c",
       "version_major": 2,
       "version_minor": 0
      },
      "text/plain": [
       "BoundedFloatText(value=7.5, description='Text:', max=10.0, step=0.1)"
      ]
     },
     "metadata": {},
     "output_type": "display_data"
    }
   ],
   "source": [
    "wg.BoundedFloatText(\n",
    "    value=7.5,\n",
    "    min=0,\n",
    "    max=10.0,\n",
    "    step=0.1,\n",
    "    description='Text:',\n",
    "    disabled=False\n",
    ")"
   ]
  },
  {
   "cell_type": "markdown",
   "metadata": {},
   "source": [
    "## String Widgets"
   ]
  },
  {
   "cell_type": "code",
   "execution_count": 40,
   "metadata": {},
   "outputs": [
    {
     "data": {
      "application/vnd.jupyter.widget-view+json": {
       "model_id": "71de711cf88d4b31b967ddf228a2a1dc",
       "version_major": 2,
       "version_minor": 0
      },
      "text/plain": [
       "Text(value='Hello World', description='String:', placeholder='Type something')"
      ]
     },
     "metadata": {},
     "output_type": "display_data"
    }
   ],
   "source": [
    "wg.Text(\n",
    "    value='Hello World',\n",
    "    placeholder='Type something',\n",
    "    description='String:',\n",
    "    disabled=False\n",
    ")"
   ]
  },
  {
   "cell_type": "code",
   "execution_count": 45,
   "metadata": {},
   "outputs": [
    {
     "data": {
      "application/vnd.jupyter.widget-view+json": {
       "model_id": "3332c508ccde4b71b4f352147f337f7d",
       "version_major": 2,
       "version_minor": 0
      },
      "text/plain": [
       "Textarea(value='', description='String:', placeholder='Type something')"
      ]
     },
     "metadata": {},
     "output_type": "display_data"
    }
   ],
   "source": [
    "wg.Textarea(\n",
    "    value='',\n",
    "    placeholder='Type something',\n",
    "    description='String:',\n",
    "    disabled=False\n",
    ")"
   ]
  },
  {
   "cell_type": "code",
   "execution_count": 46,
   "metadata": {},
   "outputs": [
    {
     "data": {
      "application/vnd.jupyter.widget-view+json": {
       "model_id": "5093afd6b3f64bd3919a4f5a9aec95cb",
       "version_major": 2,
       "version_minor": 0
      },
      "text/plain": [
       "Label(value='The $m$ in $E=mc^2$:')"
      ]
     },
     "metadata": {},
     "output_type": "display_data"
    }
   ],
   "source": [
    "wg.Label(value=\"The $m$ in $E=mc^2$:\")"
   ]
  },
  {
   "cell_type": "markdown",
   "metadata": {},
   "source": [
    "The difference between the _Text_ and _Textarea_ widgets above and the Label widget is that the Label widget is descriptive while the others are ment to imput data. When constructing complicated widgets you might want to add descriptions to them and this is done with the _Label_ widget."
   ]
  },
  {
   "cell_type": "markdown",
   "metadata": {},
   "source": [
    "## Boolean and selection Widgets"
   ]
  },
  {
   "cell_type": "code",
   "execution_count": 47,
   "metadata": {},
   "outputs": [
    {
     "data": {
      "application/vnd.jupyter.widget-view+json": {
       "model_id": "c5a3ef25838b4c4cbd1eac9a2fffe7b5",
       "version_major": 2,
       "version_minor": 0
      },
      "text/plain": [
       "Checkbox(value=True, description='Check me', indent=False)"
      ]
     },
     "metadata": {},
     "output_type": "display_data"
    }
   ],
   "source": [
    "wg.Checkbox(\n",
    "    value=True,\n",
    "    description='Check me',\n",
    "    disabled=False,\n",
    "    indent=False\n",
    ")"
   ]
  },
  {
   "cell_type": "code",
   "execution_count": 48,
   "metadata": {},
   "outputs": [
    {
     "data": {
      "application/vnd.jupyter.widget-view+json": {
       "model_id": "c089151464b048e6ab1106729ed4d245",
       "version_major": 2,
       "version_minor": 0
      },
      "text/plain": [
       "Dropdown(description='Number:', index=1, options=('1', '2', '3'), value='2')"
      ]
     },
     "metadata": {},
     "output_type": "display_data"
    }
   ],
   "source": [
    "drop1 = wg.Dropdown(\n",
    "    options=['1', '2', '3'],\n",
    "    value='2',\n",
    "    description='Number:',\n",
    "    disabled=False,\n",
    ")\n",
    "display(drop1)"
   ]
  },
  {
   "cell_type": "code",
   "execution_count": 49,
   "metadata": {},
   "outputs": [
    {
     "data": {
      "application/vnd.jupyter.widget-view+json": {
       "model_id": "add16fefc4c64a689d095a11f9baf180",
       "version_major": 2,
       "version_minor": 0
      },
      "text/plain": [
       "Dropdown(description='Number:', index=1, options=(('One', 1), ('Two', 2), ('Three', 3)), value=2)"
      ]
     },
     "metadata": {},
     "output_type": "display_data"
    }
   ],
   "source": [
    "drop2 = wg.Dropdown(\n",
    "    options=[('One', 1), ('Two', 2), ('Three', 3)],\n",
    "    value=2,\n",
    "    description='Number:',\n",
    ")\n",
    "display(drop2)"
   ]
  },
  {
   "cell_type": "code",
   "execution_count": 51,
   "metadata": {},
   "outputs": [
    {
     "name": "stdout",
     "output_type": "stream",
     "text": [
      "1\n",
      "3\n"
     ]
    }
   ],
   "source": [
    "print(drop1.value)\n",
    "print(drop2.value)"
   ]
  },
  {
   "cell_type": "markdown",
   "metadata": {},
   "source": [
    "## The Button Widget\n",
    "\n",
    "This is a slightly more complicated widget that involves the execution of a function. This widget places a button an registers an _event_ when the button is clicked"
   ]
  },
  {
   "cell_type": "code",
   "execution_count": 60,
   "metadata": {},
   "outputs": [
    {
     "data": {
      "application/vnd.jupyter.widget-view+json": {
       "model_id": "d4867ea83cc04aa4b7c4fe86cb343cd3",
       "version_major": 2,
       "version_minor": 0
      },
      "text/plain": [
       "Button(description='Click me', icon='check', style=ButtonStyle(), tooltip='Click me and some stuff will be pri…"
      ]
     },
     "metadata": {},
     "output_type": "display_data"
    }
   ],
   "source": [
    "button = wg.Button(\n",
    "    description='Click me',\n",
    "    disabled=False,\n",
    "    button_style='', # 'success', 'info', 'warning', 'danger' or ''\n",
    "    tooltip='Click me and some stuff will be printed',\n",
    "    icon='check' # (FontAwesome names without the `fa-` prefix)\n",
    ")\n",
    "display(button)\n",
    "\n",
    "def action_of_button(b): #This function must be defined with a single variable. \n",
    "    print(\"I was clicked\")\n",
    "    #print(b)\n",
    "    #print(b.description)\n",
    "    \n",
    "button.on_click(action_of_button)"
   ]
  },
  {
   "cell_type": "markdown",
   "metadata": {},
   "source": [
    "In the example of the button one needs to define the function that implements the action of the button with a variable. It doesn't matter what name is given to this variable. The _button instance_ will be passed as the argument. Remember, the `Button` widget is a class and when we call it like in the example we get an instance of that button. That is, you can access any method or attribute of the button instance within the function. You will need to use this in the exercises."
   ]
  },
  {
   "cell_type": "markdown",
   "metadata": {},
   "source": [
    "## Container/Layout Widgets and the Output Widget\n",
    "\n",
    "So far we have seen several widgets. There are many more. Please visit the [widget list](https://ipywidgets.readthedocs.io/en/latest/examples/Widget%20List.html#) page for a complete list of all the widgets.\n",
    "\n",
    "As you might have noticed, once created the widgets persist on the notebook. That is, we can display an instance of a widget that was previously created and the two of them will be sinchronised. In the next cell we will display again the _IntRangeSlider_ widget that we created before. Remember that we instantiated it with the name `int_range_slider`"
   ]
  },
  {
   "cell_type": "code",
   "execution_count": 61,
   "metadata": {},
   "outputs": [
    {
     "data": {
      "application/vnd.jupyter.widget-view+json": {
       "model_id": "b574faee827d45fb94a0bc19622e038f",
       "version_major": 2,
       "version_minor": 0
      },
      "text/plain": [
       "IntRangeSlider(value=(5, 7), continuous_update=False, description='IntRangeSlider:', max=10)"
      ]
     },
     "metadata": {},
     "output_type": "display_data"
    }
   ],
   "source": [
    "int_range_slider"
   ]
  },
  {
   "cell_type": "markdown",
   "metadata": {},
   "source": [
    "As you can see it is in the same state that we left it. Let us go up and move the handles. Then we can come here again and see what happened. \n",
    "\n",
    "**Do it now before reading further**\n",
    "\n",
    "If you followed my lead (I know you did) you have checked that the handles of this _view_ of the widget are now in the position to which you brought them. Additionally, widgets might print something, but only the active cell will read this output. Check what happens with the button instance below."
   ]
  },
  {
   "cell_type": "code",
   "execution_count": 62,
   "metadata": {},
   "outputs": [
    {
     "data": {
      "application/vnd.jupyter.widget-view+json": {
       "model_id": "d4867ea83cc04aa4b7c4fe86cb343cd3",
       "version_major": 2,
       "version_minor": 0
      },
      "text/plain": [
       "Button(description='Click me', icon='check', style=ButtonStyle(), tooltip='Click me and some stuff will be pri…"
      ]
     },
     "metadata": {},
     "output_type": "display_data"
    },
    {
     "name": "stdout",
     "output_type": "stream",
     "text": [
      "I was clicked\n",
      "I was clicked\n"
     ]
    }
   ],
   "source": [
    "button"
   ]
  },
  {
   "cell_type": "markdown",
   "metadata": {},
   "source": [
    "We have access to the button we created, and when we press the _Button_ we get the message printed. However, this printed messages are not printed in the cell were we created the button the first time.\n",
    "\n",
    "To handle all the views of several widgets and to display them is where we can use the container widgets. We are going to see just three of them: `HBox` (horizontal box). `VBox` (vertical box) and the `Output` widget.\n",
    "\n",
    "`HBox` and `VBox` work in the same way. They accept a list of widgets and display them arranged horizontally or vertically respectively. "
   ]
  },
  {
   "cell_type": "code",
   "execution_count": 67,
   "metadata": {},
   "outputs": [
    {
     "data": {
      "application/vnd.jupyter.widget-view+json": {
       "model_id": "c39863d066074e9187910f6c83d8adc0",
       "version_major": 2,
       "version_minor": 0
      },
      "text/plain": [
       "HBox(children=(IntRangeSlider(value=(5, 9), continuous_update=False, description='IntRangeSlider:', max=10), B…"
      ]
     },
     "metadata": {},
     "output_type": "display_data"
    }
   ],
   "source": [
    "wg.HBox([int_range_slider, button])"
   ]
  },
  {
   "cell_type": "code",
   "execution_count": 68,
   "metadata": {},
   "outputs": [
    {
     "data": {
      "application/vnd.jupyter.widget-view+json": {
       "model_id": "ac436fe843684a188896df61801ffc6b",
       "version_major": 2,
       "version_minor": 0
      },
      "text/plain": [
       "VBox(children=(Dropdown(description='Number:', index=1, options=('1', '2', '3'), value='2'), Button(descriptio…"
      ]
     },
     "metadata": {},
     "output_type": "display_data"
    }
   ],
   "source": [
    "wg.VBox([drop1, button])"
   ]
  },
  {
   "cell_type": "markdown",
   "metadata": {},
   "source": [
    "Notice again that although `button` is the same instance of a `Button` class, each time we click either of the buttons above we get the printed message only in the active cell. To construct persistent widgets that will be displayed only once it is a good idea to use the `Output` widget. This is simply a container widget but it is capable to capture any reach ouput that the notebook is able to produce and display it. Have a look at [Output widgets: leveraging Jupyter’s display system](https://ipywidgets.readthedocs.io/en/latest/examples/Output%20Widget.html) for more detailed information.\n",
    "\n",
    "The `Output` widget provides a display area that is persistent. Any content can be sent to it. Let us define another button, but this time the print statement will be sent to an instance of the `Output` widget."
   ]
  },
  {
   "cell_type": "code",
   "execution_count": 74,
   "metadata": {},
   "outputs": [],
   "source": [
    "button2 = wg.Button(\n",
    "    description='Click me',\n",
    "    disabled=False,\n",
    "    button_style='', # 'success', 'info', 'warning', 'danger' or ''\n",
    "    tooltip='Click me',\n",
    "    icon='check' # (FontAwesome names without the `fa-` prefix)\n",
    ")\n",
    "\n",
    "out = wg.Output()\n",
    "\n",
    "def action_of_button2(b):  \n",
    "    with out:   # This special statement here takes the output of all the staments nested to it and sends it to the 'out' instance\n",
    "        print(\"I was clicked\")\n",
    "    \n",
    "button2.on_click(action_of_button2)"
   ]
  },
  {
   "cell_type": "markdown",
   "metadata": {},
   "source": [
    "The way to send output to the `out` instance is by means of the `with` statement. Any output raised within the scope of the `with` statement will be captured and send to the `out` instance. We can now display the two widgets that we created. And check what happens."
   ]
  },
  {
   "cell_type": "code",
   "execution_count": 75,
   "metadata": {},
   "outputs": [
    {
     "data": {
      "application/vnd.jupyter.widget-view+json": {
       "model_id": "3466f31a48484e919426015d93ecf3db",
       "version_major": 2,
       "version_minor": 0
      },
      "text/plain": [
       "VBox(children=(Button(description='Click me', icon='check', style=ButtonStyle(), tooltip='Click me'), Output()…"
      ]
     },
     "metadata": {},
     "output_type": "display_data"
    }
   ],
   "source": [
    "wg.VBox([button2, out])"
   ]
  },
  {
   "cell_type": "markdown",
   "metadata": {},
   "source": [
    "In the next cell we will create another view of the button2. This time the output will appear only in the Output widget."
   ]
  },
  {
   "cell_type": "code",
   "execution_count": 72,
   "metadata": {},
   "outputs": [
    {
     "data": {
      "application/vnd.jupyter.widget-view+json": {
       "model_id": "b4781775627e4c7bbaa5ce04d9552ad3",
       "version_major": 2,
       "version_minor": 0
      },
      "text/plain": [
       "Button(description='Click me', icon='check', style=ButtonStyle(), tooltip='Click me')"
      ]
     },
     "metadata": {},
     "output_type": "display_data"
    }
   ],
   "source": [
    "button2"
   ]
  },
  {
   "cell_type": "markdown",
   "metadata": {},
   "source": [
    "The output widget can be cleared with the `clear_output` method. Notice how all the text present in the `out` instance vanishes when executing the following cell."
   ]
  },
  {
   "cell_type": "code",
   "execution_count": 76,
   "metadata": {},
   "outputs": [],
   "source": [
    "out.clear_output()"
   ]
  },
  {
   "cell_type": "markdown",
   "metadata": {},
   "source": [
    "## Linking widgets and interacting with them.\n",
    "\n",
    "### The `jslink` method and the `Play` widget\n",
    "\n",
    "So far we have seen several widgets. We know how to address their attributes and change them. The `Output` widget provides a powerful tool to create complex content but we haven't yet unleashed the full potential.\n",
    "\n",
    "Many times you will want to relate the attributes of different widgets. This is done with the `jslink` method. Next we will create two new numeric widgets and link their `value` attributes."
   ]
  },
  {
   "cell_type": "code",
   "execution_count": 77,
   "metadata": {},
   "outputs": [
    {
     "data": {
      "application/vnd.jupyter.widget-view+json": {
       "model_id": "d9a27add465b445199b74e909b93af13",
       "version_major": 2,
       "version_minor": 0
      },
      "text/plain": [
       "FloatProgress(value=7.5, bar_style='info', description='Loading:', max=10.0, style=ProgressStyle(bar_color='#f…"
      ]
     },
     "metadata": {},
     "output_type": "display_data"
    },
    {
     "data": {
      "application/vnd.jupyter.widget-view+json": {
       "model_id": "3e57b02d5af443f0969cb189b0338044",
       "version_major": 2,
       "version_minor": 0
      },
      "text/plain": [
       "BoundedFloatText(value=0.0, description='Total Progress:', max=10.0, step=0.1)"
      ]
     },
     "metadata": {},
     "output_type": "display_data"
    }
   ],
   "source": [
    "float_progress = wg.FloatProgress(\n",
    "    value=7.5,\n",
    "    min=0,\n",
    "    max=10.0,\n",
    "    description='Loading:',\n",
    "    bar_style='info',\n",
    "    style={'bar_color': '#ffff00'},\n",
    "    orientation='horizontal'\n",
    ")\n",
    "\n",
    "float_text = wg.BoundedFloatText(\n",
    "    min=0,\n",
    "    max=10.0,\n",
    "    step=0.1,\n",
    "    description='Total Progress:',\n",
    ")\n",
    "\n",
    "wg.jslink((float_progress,'value'),(float_text,'value'))\n",
    "\n",
    "display(float_progress, float_text)"
   ]
  },
  {
   "cell_type": "markdown",
   "metadata": {},
   "source": [
    "Now that we know how to link different widgets we can see an interseting one, the `Play` widget, which allows to construct animations of dynamically generated data. This widget just creates a counter that increases in steps and provides controls to start, stop or pause the counting. Of course, the interesting thing about this widget is to link its value with some other widget. It is important to notice that the `Play` widget only works with integer values."
   ]
  },
  {
   "cell_type": "code",
   "execution_count": 82,
   "metadata": {},
   "outputs": [
    {
     "data": {
      "application/vnd.jupyter.widget-view+json": {
       "model_id": "c5c724193ff1406cba48cede5fb76175",
       "version_major": 2,
       "version_minor": 0
      },
      "text/plain": [
       "HBox(children=(Play(value=50, description='Press play', interval=500), IntSlider(value=0)))"
      ]
     },
     "metadata": {},
     "output_type": "display_data"
    }
   ],
   "source": [
    "play = wg.Play(\n",
    "    value=50,\n",
    "    min=0,\n",
    "    max=100,\n",
    "    step=1,\n",
    "    interval=500,\n",
    "    description=\"Press play\",\n",
    "    disabled=False\n",
    ")\n",
    "slider = wg.IntSlider()\n",
    "wg.jslink((play, 'value'), (slider, 'value'))\n",
    "wg.HBox([play, slider])"
   ]
  },
  {
   "cell_type": "markdown",
   "metadata": {},
   "source": [
    "The interval attribute controls the speed of play. It represents the time in miliseconds between steps of the play. Notice how the speed slows done and speeds up after execution of the following cells."
   ]
  },
  {
   "cell_type": "code",
   "execution_count": 81,
   "metadata": {},
   "outputs": [],
   "source": [
    "play.interval = 2000"
   ]
  },
  {
   "cell_type": "code",
   "execution_count": 80,
   "metadata": {},
   "outputs": [],
   "source": [
    "play.interval = 100"
   ]
  },
  {
   "cell_type": "markdown",
   "metadata": {},
   "source": [
    "### Using interact\n",
    "\n",
    "The `interact` method automatically creates user interface controls for exploring code and data interactively. We are going to see a basic example. In the exercises you will use interact to easily produce an animation. Please check the documentation about [interact](https://ipywidgets.readthedocs.io/en/latest/examples/Using%20Interact.html) for a comprehensive guide on this useful tool. The following examples were obtained there.\n",
    "\n",
    "To use interact you need to define a function that you want to explore. Next we define a simple function with just one argument that returns some value. We will use interact to 'explore' this function."
   ]
  },
  {
   "cell_type": "code",
   "execution_count": 85,
   "metadata": {},
   "outputs": [],
   "source": [
    "def f(x):\n",
    "    return 2*x"
   ]
  },
  {
   "cell_type": "code",
   "execution_count": 86,
   "metadata": {},
   "outputs": [
    {
     "data": {
      "application/vnd.jupyter.widget-view+json": {
       "model_id": "d21639c2678741dd9778c0ae5dfc1a96",
       "version_major": 2,
       "version_minor": 0
      },
      "text/plain": [
       "interactive(children=(IntSlider(value=10, description='x', max=30, min=-10), Output()), _dom_classes=('widget-…"
      ]
     },
     "metadata": {},
     "output_type": "display_data"
    }
   ],
   "source": [
    "wg.interact(f,x = 10)\n",
    "\n",
    "pass"
   ]
  },
  {
   "cell_type": "markdown",
   "metadata": {},
   "source": [
    "The following table gives an overview of the widgets that are generated automatically to interact with the data. The sliders will be integer or float depending on the value given.\n",
    "\n",
    "| Keyword argument | Widget  |\n",
    "|:--|:--|\n",
    "| **True** or **False**  | Checkbox  |\n",
    "| 'Hi there' | Text |\n",
    "|  _value_ or _(min,max)_ or _(min,max,step)_ | Slider |\n",
    "| \\['orange','apple'\\] or \\[('one', 1), ('two', 2)\\]  | Dropdown |\n",
    "\n",
    "Try it. This works also with functions with more arguments. You just need to add more keyword arguments to the interact function.\n",
    "\n",
    "The above _abbreviations_ work for these common widgets. Actually one can get the same results above by writing\n",
    "\n",
    "```python\n",
    "wg.interact(f,x = wg.IntSlider(min=-10, max=30, step=1, value=10))\n",
    "```\n",
    "\n",
    "If any of you is wondering, there are other widgets that can be used in this very same way. Like the `Play` widget. This is how we will construct an animation.\n"
   ]
  },
  {
   "cell_type": "code",
   "execution_count": null,
   "metadata": {},
   "outputs": [],
   "source": []
  }
 ],
 "metadata": {
  "kernelspec": {
   "display_name": "Python 3 (ipykernel)",
   "language": "python",
   "name": "python3"
  },
  "language_info": {
   "codemirror_mode": {
    "name": "ipython",
    "version": 3
   },
   "file_extension": ".py",
   "mimetype": "text/x-python",
   "name": "python",
   "nbconvert_exporter": "python",
   "pygments_lexer": "ipython3",
   "version": "3.9.13"
  },
  "widgets": {
   "application/vnd.jupyter.widget-state+json": {
    "state": {
     "02b046c8fe4147a2b890cab50b25f8f6": {
      "model_module": "@jupyter-widgets/base",
      "model_module_version": "1.2.0",
      "model_name": "LayoutModel",
      "state": {}
     },
     "0389fa9bf6854e618d2c359f68b72072": {
      "model_module": "@jupyter-widgets/base",
      "model_module_version": "1.2.0",
      "model_name": "LayoutModel",
      "state": {}
     },
     "083dded27c08460aafae885490268d7c": {
      "model_module": "@jupyter-widgets/controls",
      "model_module_version": "1.5.0",
      "model_name": "IntSliderModel",
      "state": {
       "continuous_update": false,
       "description": "Test:",
       "layout": "IPY_MODEL_d5c7e652cd6f4f2283ad9cde9528b5c9",
       "max": 10,
       "style": "IPY_MODEL_782a640d16a14d0e91c0482a8d2e8715",
       "value": 4
      }
     },
     "1baf87c09ff84a3196847bf5ff1d1c32": {
      "model_module": "@jupyter-widgets/controls",
      "model_module_version": "1.5.0",
      "model_name": "LinkModel",
      "state": {
       "source": [
        "IPY_MODEL_5c26b7075a384c298825fa2802be32f7",
        "value"
       ],
       "target": [
        "IPY_MODEL_4b6782f1213544db8cdb8b39d3d9f67e",
        "value"
       ]
      }
     },
     "1bf7c08f15f94956b8db1ae7184f632e": {
      "model_module": "@jupyter-widgets/controls",
      "model_module_version": "1.5.0",
      "model_name": "HBoxModel",
      "state": {
       "children": [
        "IPY_MODEL_dbfd2fff70b04762a5ac121555b75a49",
        "IPY_MODEL_929538bc97d0439b9d81de1ed3efe8a2"
       ],
       "layout": "IPY_MODEL_85279584b1da4dd88edea401a7c5d2ee"
      }
     },
     "224c18f01bcb4bd4abaf8c47d3345137": {
      "model_module": "@jupyter-widgets/controls",
      "model_module_version": "1.5.0",
      "model_name": "DescriptionStyleModel",
      "state": {
       "description_width": ""
      }
     },
     "26b8dbce66e3493d97efd4135e18ec9c": {
      "model_module": "@jupyter-widgets/controls",
      "model_module_version": "1.5.0",
      "model_name": "ProgressStyleModel",
      "state": {
       "bar_color": "#ffff00",
       "description_width": ""
      }
     },
     "2986fffa5aa34cb7aa2b1dba806df86c": {
      "model_module": "@jupyter-widgets/controls",
      "model_module_version": "1.5.0",
      "model_name": "DescriptionStyleModel",
      "state": {
       "description_width": ""
      }
     },
     "29bda92054f3447b82e0930206231850": {
      "model_module": "@jupyter-widgets/controls",
      "model_module_version": "1.5.0",
      "model_name": "VBoxModel",
      "state": {
       "children": [
        "IPY_MODEL_688527e1c4b94d67aa2af8d090991965",
        "IPY_MODEL_cd860c1d08464934aec33311403e935b"
       ],
       "layout": "IPY_MODEL_813109fa5aa14d3b85dde310f72109d1"
      }
     },
     "2ab4a90cf717478dac85770d32d32374": {
      "model_module": "@jupyter-widgets/base",
      "model_module_version": "1.2.0",
      "model_name": "LayoutModel",
      "state": {}
     },
     "2dfde59436f844489480338d89abbb22": {
      "model_module": "@jupyter-widgets/controls",
      "model_module_version": "1.5.0",
      "model_name": "DropdownModel",
      "state": {
       "_options_labels": [
        "One",
        "Two",
        "Three"
       ],
       "description": "Number:",
       "index": 1,
       "layout": "IPY_MODEL_4685df17d7d44859946e495a238f5773",
       "style": "IPY_MODEL_49f75d207b5247b2a44e48cc7a85f5b1"
      }
     },
     "30e715de7bb647839c2a5d89f0fc3e55": {
      "model_module": "@jupyter-widgets/controls",
      "model_module_version": "1.5.0",
      "model_name": "DescriptionStyleModel",
      "state": {
       "description_width": ""
      }
     },
     "319affe07505422ebff483eed8481b68": {
      "model_module": "@jupyter-widgets/base",
      "model_module_version": "1.2.0",
      "model_name": "LayoutModel",
      "state": {}
     },
     "3334f6934e994484b9c85ab5458bd3ea": {
      "model_module": "@jupyter-widgets/base",
      "model_module_version": "1.2.0",
      "model_name": "LayoutModel",
      "state": {}
     },
     "3f3d8f1b89be4f2bbf1b2b39361673fd": {
      "model_module": "@jupyter-widgets/controls",
      "model_module_version": "1.5.0",
      "model_name": "IntSliderModel",
      "state": {
       "continuous_update": false,
       "description": "Test:",
       "disabled": true,
       "layout": "IPY_MODEL_e0bcd5fa884b466094763057c7769240",
       "max": 20,
       "min": 5,
       "orientation": "vertical",
       "readout_format": ".2f",
       "style": "IPY_MODEL_443377dfb97c414fb1d35db8ba18390d",
       "value": 12
      }
     },
     "40f76eb0e911466a9b618b34aaeba546": {
      "model_module": "@jupyter-widgets/controls",
      "model_module_version": "1.5.0",
      "model_name": "DescriptionStyleModel",
      "state": {
       "description_width": ""
      }
     },
     "443377dfb97c414fb1d35db8ba18390d": {
      "model_module": "@jupyter-widgets/controls",
      "model_module_version": "1.5.0",
      "model_name": "SliderStyleModel",
      "state": {
       "description_width": ""
      }
     },
     "4685df17d7d44859946e495a238f5773": {
      "model_module": "@jupyter-widgets/base",
      "model_module_version": "1.2.0",
      "model_name": "LayoutModel",
      "state": {}
     },
     "49eb8157d99d48508afe42ffa27974ae": {
      "model_module": "@jupyter-widgets/base",
      "model_module_version": "1.2.0",
      "model_name": "LayoutModel",
      "state": {}
     },
     "49f75d207b5247b2a44e48cc7a85f5b1": {
      "model_module": "@jupyter-widgets/controls",
      "model_module_version": "1.5.0",
      "model_name": "DescriptionStyleModel",
      "state": {
       "description_width": ""
      }
     },
     "4b6782f1213544db8cdb8b39d3d9f67e": {
      "model_module": "@jupyter-widgets/controls",
      "model_module_version": "1.5.0",
      "model_name": "IntSliderModel",
      "state": {
       "layout": "IPY_MODEL_3334f6934e994484b9c85ab5458bd3ea",
       "style": "IPY_MODEL_7e16f8d85c1a4ae0b3ead791effa197d",
       "value": 50
      }
     },
     "4c25d4c06edb4083a729e16af62da629": {
      "model_module": "@jupyter-widgets/controls",
      "model_module_version": "1.5.0",
      "model_name": "VBoxModel",
      "state": {
       "children": [
        "IPY_MODEL_87f9bea3cced4ef4b0701245c0548be5",
        "IPY_MODEL_929538bc97d0439b9d81de1ed3efe8a2"
       ],
       "layout": "IPY_MODEL_02b046c8fe4147a2b890cab50b25f8f6"
      }
     },
     "5c26b7075a384c298825fa2802be32f7": {
      "model_module": "@jupyter-widgets/controls",
      "model_module_version": "1.5.0",
      "model_name": "PlayModel",
      "state": {
       "description": "Press play",
       "layout": "IPY_MODEL_5f9ca9b253954f2f89b7d2d8dead474a",
       "style": "IPY_MODEL_fc19fbaf9cfc48479971167f65a3c907",
       "value": 50
      }
     },
     "5f9ca9b253954f2f89b7d2d8dead474a": {
      "model_module": "@jupyter-widgets/base",
      "model_module_version": "1.2.0",
      "model_name": "LayoutModel",
      "state": {}
     },
     "6398d5631a0347d196e1f5803eac5008": {
      "model_module": "@jupyter-widgets/controls",
      "model_module_version": "1.5.0",
      "model_name": "SliderStyleModel",
      "state": {
       "description_width": ""
      }
     },
     "677fc63f939d4adabb31fda45230a272": {
      "model_module": "@jupyter-widgets/output",
      "model_module_version": "1.0.0",
      "model_name": "OutputModel",
      "state": {
       "layout": "IPY_MODEL_efaadd1507e143cc84e241edd2f3d89d",
       "outputs": [
        {
         "data": {
          "text/plain": "10"
         },
         "metadata": {},
         "output_type": "display_data"
        }
       ]
      }
     },
     "688527e1c4b94d67aa2af8d090991965": {
      "model_module": "@jupyter-widgets/controls",
      "model_module_version": "1.5.0",
      "model_name": "ButtonModel",
      "state": {
       "description": "Click me",
       "icon": "check",
       "layout": "IPY_MODEL_9beb56031aaa4bdd94160055636e8e68",
       "style": "IPY_MODEL_7f647ac45b904acda4232cb4363a572f",
       "tooltip": "Click me"
      }
     },
     "6ce36d6e158d4b4ea80aea906e944655": {
      "model_module": "@jupyter-widgets/controls",
      "model_module_version": "1.5.0",
      "model_name": "DescriptionStyleModel",
      "state": {
       "description_width": ""
      }
     },
     "736dd5a5c8e2445a9cb1c7bb04c7a48d": {
      "model_module": "@jupyter-widgets/controls",
      "model_module_version": "1.5.0",
      "model_name": "FloatProgressModel",
      "state": {
       "bar_style": "info",
       "description": "Loading:",
       "layout": "IPY_MODEL_d8423d8f8e5b40859bc4b2d465cf4741",
       "max": 10,
       "style": "IPY_MODEL_26b8dbce66e3493d97efd4135e18ec9c",
       "value": 7.5
      }
     },
     "74a3c423653d4d23ab70b0d809e2a35a": {
      "model_module": "@jupyter-widgets/controls",
      "model_module_version": "1.5.0",
      "model_name": "DescriptionStyleModel",
      "state": {
       "description_width": ""
      }
     },
     "765a052075fb4c4b9f8ccaad818df8fc": {
      "model_module": "@jupyter-widgets/controls",
      "model_module_version": "1.5.0",
      "model_name": "SliderStyleModel",
      "state": {
       "description_width": ""
      }
     },
     "782a640d16a14d0e91c0482a8d2e8715": {
      "model_module": "@jupyter-widgets/controls",
      "model_module_version": "1.5.0",
      "model_name": "SliderStyleModel",
      "state": {
       "description_width": ""
      }
     },
     "791a13d6ae124c3bb4e7f352dbba81db": {
      "model_module": "@jupyter-widgets/base",
      "model_module_version": "1.2.0",
      "model_name": "LayoutModel",
      "state": {}
     },
     "7b37f11fe4ac44c6ba7ea50b2464c984": {
      "model_module": "@jupyter-widgets/controls",
      "model_module_version": "1.5.0",
      "model_name": "DescriptionStyleModel",
      "state": {
       "description_width": ""
      }
     },
     "7e16f8d85c1a4ae0b3ead791effa197d": {
      "model_module": "@jupyter-widgets/controls",
      "model_module_version": "1.5.0",
      "model_name": "SliderStyleModel",
      "state": {
       "description_width": ""
      }
     },
     "7f647ac45b904acda4232cb4363a572f": {
      "model_module": "@jupyter-widgets/controls",
      "model_module_version": "1.5.0",
      "model_name": "ButtonStyleModel",
      "state": {}
     },
     "7fbc19ed0cc04372a259a7ebeec3f9aa": {
      "model_module": "@jupyter-widgets/base",
      "model_module_version": "1.2.0",
      "model_name": "LayoutModel",
      "state": {}
     },
     "80408be9e2624107a882108c95bd508e": {
      "model_module": "@jupyter-widgets/controls",
      "model_module_version": "1.5.0",
      "model_name": "LabelModel",
      "state": {
       "layout": "IPY_MODEL_f4586b5fef764c74bf368e944489c0ea",
       "style": "IPY_MODEL_7b37f11fe4ac44c6ba7ea50b2464c984",
       "value": "The $m$ in $E=mc^2$:"
      }
     },
     "813109fa5aa14d3b85dde310f72109d1": {
      "model_module": "@jupyter-widgets/base",
      "model_module_version": "1.2.0",
      "model_name": "LayoutModel",
      "state": {}
     },
     "83300287cd3e43d3abdaf3ab87d76d23": {
      "model_module": "@jupyter-widgets/controls",
      "model_module_version": "1.5.0",
      "model_name": "BoundedFloatTextModel",
      "state": {
       "description": "Text:",
       "layout": "IPY_MODEL_864a57ad792a41a88a1d77bdf0ba4326",
       "max": 10,
       "style": "IPY_MODEL_2986fffa5aa34cb7aa2b1dba806df86c",
       "value": 7.5
      }
     },
     "85279584b1da4dd88edea401a7c5d2ee": {
      "model_module": "@jupyter-widgets/base",
      "model_module_version": "1.2.0",
      "model_name": "LayoutModel",
      "state": {}
     },
     "864a57ad792a41a88a1d77bdf0ba4326": {
      "model_module": "@jupyter-widgets/base",
      "model_module_version": "1.2.0",
      "model_name": "LayoutModel",
      "state": {}
     },
     "87f9bea3cced4ef4b0701245c0548be5": {
      "model_module": "@jupyter-widgets/controls",
      "model_module_version": "1.5.0",
      "model_name": "DropdownModel",
      "state": {
       "_options_labels": [
        "1",
        "2",
        "3"
       ],
       "description": "Number:",
       "index": 1,
       "layout": "IPY_MODEL_319affe07505422ebff483eed8481b68",
       "style": "IPY_MODEL_ac37b43fbcc7448e9ee656b5687ed991"
      }
     },
     "8a0084b227cc451693e1b1d30ae123c3": {
      "model_module": "@jupyter-widgets/controls",
      "model_module_version": "1.5.0",
      "model_name": "FloatSliderModel",
      "state": {
       "continuous_update": false,
       "description": "FloatSlider:",
       "layout": "IPY_MODEL_c333dfe6d8c748e4a06eca1ee57fdc47",
       "max": 10,
       "readout_format": ".1f",
       "step": 0.1,
       "style": "IPY_MODEL_b39ff5650e674a68b239644321e2b4dd",
       "value": 7.5
      }
     },
     "900031275a0947dda521608e4777a1cd": {
      "model_module": "@jupyter-widgets/controls",
      "model_module_version": "1.5.0",
      "model_name": "SliderStyleModel",
      "state": {
       "description_width": ""
      }
     },
     "929538bc97d0439b9d81de1ed3efe8a2": {
      "model_module": "@jupyter-widgets/controls",
      "model_module_version": "1.5.0",
      "model_name": "ButtonModel",
      "state": {
       "description": "Click me",
       "icon": "check",
       "layout": "IPY_MODEL_c76d8e4ae0b74c8aa2c635ce24b1d1ca",
       "style": "IPY_MODEL_a6e679ce96e74c4d9fb41a2e21fd361d",
       "tooltip": "Click me"
      }
     },
     "93b77ac120c9402684439447b54c7d83": {
      "model_module": "@jupyter-widgets/controls",
      "model_module_version": "1.5.0",
      "model_name": "BoundedFloatTextModel",
      "state": {
       "description": "Total Progress:",
       "layout": "IPY_MODEL_d2d0a10ecc6241f09ac6398342a43fef",
       "max": 10,
       "style": "IPY_MODEL_6ce36d6e158d4b4ea80aea906e944655",
       "value": 7.5
      }
     },
     "94ce877940424b32a46e58a42d23826a": {
      "model_module": "@jupyter-widgets/controls",
      "model_module_version": "1.5.0",
      "model_name": "IntSliderModel",
      "state": {
       "layout": "IPY_MODEL_99db44f8e1cb4889bfb3b065ff7deeac",
       "style": "IPY_MODEL_765a052075fb4c4b9f8ccaad818df8fc"
      }
     },
     "99db44f8e1cb4889bfb3b065ff7deeac": {
      "model_module": "@jupyter-widgets/base",
      "model_module_version": "1.2.0",
      "model_name": "LayoutModel",
      "state": {}
     },
     "9b3eadc08d5d4611bccefd62db63ca51": {
      "model_module": "@jupyter-widgets/controls",
      "model_module_version": "1.5.0",
      "model_name": "SliderStyleModel",
      "state": {
       "description_width": ""
      }
     },
     "9beb56031aaa4bdd94160055636e8e68": {
      "model_module": "@jupyter-widgets/base",
      "model_module_version": "1.2.0",
      "model_name": "LayoutModel",
      "state": {}
     },
     "9fe9d9d52db64d3db000d53c561099a5": {
      "model_module": "@jupyter-widgets/base",
      "model_module_version": "1.2.0",
      "model_name": "LayoutModel",
      "state": {}
     },
     "a6e679ce96e74c4d9fb41a2e21fd361d": {
      "model_module": "@jupyter-widgets/controls",
      "model_module_version": "1.5.0",
      "model_name": "ButtonStyleModel",
      "state": {}
     },
     "aabdc7080f394944abc0deb9a91907e4": {
      "model_module": "@jupyter-widgets/controls",
      "model_module_version": "1.5.0",
      "model_name": "TextModel",
      "state": {
       "description": "String:",
       "layout": "IPY_MODEL_b5bc7d90bb8945de928ba7a8dc9c87cb",
       "placeholder": "Type something",
       "style": "IPY_MODEL_30e715de7bb647839c2a5d89f0fc3e55",
       "value": "Hello World"
      }
     },
     "ac37b43fbcc7448e9ee656b5687ed991": {
      "model_module": "@jupyter-widgets/controls",
      "model_module_version": "1.5.0",
      "model_name": "DescriptionStyleModel",
      "state": {
       "description_width": ""
      }
     },
     "ac733e3adeb24f4f9c7675bb7f18d5fa": {
      "model_module": "@jupyter-widgets/controls",
      "model_module_version": "1.5.0",
      "model_name": "IntSliderModel",
      "state": {
       "description": "x",
       "layout": "IPY_MODEL_bbd3f0d83c444cf997aeb77a6239e72e",
       "max": 30,
       "min": -10,
       "style": "IPY_MODEL_900031275a0947dda521608e4777a1cd",
       "value": 10
      }
     },
     "b39ff5650e674a68b239644321e2b4dd": {
      "model_module": "@jupyter-widgets/controls",
      "model_module_version": "1.5.0",
      "model_name": "SliderStyleModel",
      "state": {
       "description_width": ""
      }
     },
     "b3c853df64fb46d7907db4e1835cd252": {
      "model_module": "@jupyter-widgets/base",
      "model_module_version": "1.2.0",
      "model_name": "LayoutModel",
      "state": {}
     },
     "b460392a99dd4f33a38496040280fece": {
      "model_module": "@jupyter-widgets/controls",
      "model_module_version": "1.5.0",
      "model_name": "VBoxModel",
      "state": {
       "_dom_classes": [
        "widget-interact"
       ],
       "children": [
        "IPY_MODEL_ac733e3adeb24f4f9c7675bb7f18d5fa",
        "IPY_MODEL_677fc63f939d4adabb31fda45230a272"
       ],
       "layout": "IPY_MODEL_9fe9d9d52db64d3db000d53c561099a5"
      }
     },
     "b518a634bc1247d59ac8581d2e91c686": {
      "model_module": "@jupyter-widgets/controls",
      "model_module_version": "1.5.0",
      "model_name": "HBoxModel",
      "state": {
       "children": [
        "IPY_MODEL_5c26b7075a384c298825fa2802be32f7",
        "IPY_MODEL_4b6782f1213544db8cdb8b39d3d9f67e"
       ],
       "layout": "IPY_MODEL_d6d6a236a7ca482499306f329eb73c2b"
      }
     },
     "b5bc7d90bb8945de928ba7a8dc9c87cb": {
      "model_module": "@jupyter-widgets/base",
      "model_module_version": "1.2.0",
      "model_name": "LayoutModel",
      "state": {}
     },
     "b5e7a8d10c314d4ca69f5e8806a5f24c": {
      "model_module": "@jupyter-widgets/controls",
      "model_module_version": "1.5.0",
      "model_name": "IntTextModel",
      "state": {
       "description": "Any:",
       "layout": "IPY_MODEL_b3c853df64fb46d7907db4e1835cd252",
       "step": 1,
       "style": "IPY_MODEL_40f76eb0e911466a9b618b34aaeba546",
       "value": 7
      }
     },
     "ba1761ae273544e5af859e96a2438771": {
      "model_module": "@jupyter-widgets/controls",
      "model_module_version": "1.5.0",
      "model_name": "FloatSliderModel",
      "state": {
       "layout": "IPY_MODEL_7fbc19ed0cc04372a259a7ebeec3f9aa",
       "step": 0.1,
       "style": "IPY_MODEL_6398d5631a0347d196e1f5803eac5008"
      }
     },
     "bbd3f0d83c444cf997aeb77a6239e72e": {
      "model_module": "@jupyter-widgets/base",
      "model_module_version": "1.2.0",
      "model_name": "LayoutModel",
      "state": {}
     },
     "be89fec5247348998bd1a50ea5833602": {
      "model_module": "@jupyter-widgets/controls",
      "model_module_version": "1.5.0",
      "model_name": "CheckboxModel",
      "state": {
       "description": "Check me",
       "disabled": false,
       "indent": false,
       "layout": "IPY_MODEL_2ab4a90cf717478dac85770d32d32374",
       "style": "IPY_MODEL_74a3c423653d4d23ab70b0d809e2a35a",
       "value": true
      }
     },
     "c333dfe6d8c748e4a06eca1ee57fdc47": {
      "model_module": "@jupyter-widgets/base",
      "model_module_version": "1.2.0",
      "model_name": "LayoutModel",
      "state": {}
     },
     "c76d8e4ae0b74c8aa2c635ce24b1d1ca": {
      "model_module": "@jupyter-widgets/base",
      "model_module_version": "1.2.0",
      "model_name": "LayoutModel",
      "state": {}
     },
     "cd860c1d08464934aec33311403e935b": {
      "model_module": "@jupyter-widgets/output",
      "model_module_version": "1.0.0",
      "model_name": "OutputModel",
      "state": {
       "layout": "IPY_MODEL_0389fa9bf6854e618d2c359f68b72072"
      }
     },
     "d2d0a10ecc6241f09ac6398342a43fef": {
      "model_module": "@jupyter-widgets/base",
      "model_module_version": "1.2.0",
      "model_name": "LayoutModel",
      "state": {}
     },
     "d5c7e652cd6f4f2283ad9cde9528b5c9": {
      "model_module": "@jupyter-widgets/base",
      "model_module_version": "1.2.0",
      "model_name": "LayoutModel",
      "state": {}
     },
     "d6d6a236a7ca482499306f329eb73c2b": {
      "model_module": "@jupyter-widgets/base",
      "model_module_version": "1.2.0",
      "model_name": "LayoutModel",
      "state": {}
     },
     "d8423d8f8e5b40859bc4b2d465cf4741": {
      "model_module": "@jupyter-widgets/base",
      "model_module_version": "1.2.0",
      "model_name": "LayoutModel",
      "state": {}
     },
     "dbfd2fff70b04762a5ac121555b75a49": {
      "model_module": "@jupyter-widgets/controls",
      "model_module_version": "1.5.0",
      "model_name": "IntRangeSliderModel",
      "state": {
       "_model_name": "IntRangeSliderModel",
       "_view_name": "IntRangeSliderView",
       "continuous_update": false,
       "description": "IntRangeSlider:",
       "layout": "IPY_MODEL_49eb8157d99d48508afe42ffa27974ae",
       "max": 10,
       "style": "IPY_MODEL_9b3eadc08d5d4611bccefd62db63ca51",
       "value": [
        5,
        7
       ]
      }
     },
     "df55a1ce63934ba1acbc66b588a572f6": {
      "model_module": "@jupyter-widgets/controls",
      "model_module_version": "1.5.0",
      "model_name": "LinkModel",
      "state": {
       "source": [
        "IPY_MODEL_736dd5a5c8e2445a9cb1c7bb04c7a48d",
        "value"
       ],
       "target": [
        "IPY_MODEL_93b77ac120c9402684439447b54c7d83",
        "value"
       ]
      }
     },
     "e0bcd5fa884b466094763057c7769240": {
      "model_module": "@jupyter-widgets/base",
      "model_module_version": "1.2.0",
      "model_name": "LayoutModel",
      "state": {}
     },
     "efaadd1507e143cc84e241edd2f3d89d": {
      "model_module": "@jupyter-widgets/base",
      "model_module_version": "1.2.0",
      "model_name": "LayoutModel",
      "state": {}
     },
     "f4586b5fef764c74bf368e944489c0ea": {
      "model_module": "@jupyter-widgets/base",
      "model_module_version": "1.2.0",
      "model_name": "LayoutModel",
      "state": {}
     },
     "fb897d07f4504b4fab982f19268d0821": {
      "model_module": "@jupyter-widgets/controls",
      "model_module_version": "1.5.0",
      "model_name": "TextareaModel",
      "state": {
       "description": "String:",
       "layout": "IPY_MODEL_791a13d6ae124c3bb4e7f352dbba81db",
       "placeholder": "Type something",
       "style": "IPY_MODEL_224c18f01bcb4bd4abaf8c47d3345137",
       "value": "This text widget can be resized to fit larger text"
      }
     },
     "fc19fbaf9cfc48479971167f65a3c907": {
      "model_module": "@jupyter-widgets/controls",
      "model_module_version": "1.5.0",
      "model_name": "DescriptionStyleModel",
      "state": {
       "description_width": ""
      }
     }
    },
    "version_major": 2,
    "version_minor": 0
   }
  }
 },
 "nbformat": 4,
 "nbformat_minor": 4
}
