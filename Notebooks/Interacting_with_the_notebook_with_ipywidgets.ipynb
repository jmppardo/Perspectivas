{
 "cells": [
  {
   "cell_type": "markdown",
   "metadata": {},
   "source": [
    "# Python Functions and Classes\n",
    "\n",
    "In the first lecture we introduced some basic aspects on Python and function definitions. We will introduce now some convenient way of defining function variables. Additionally we will present an important structure in Python, the _classes_. This course is not aimed at covering this material in depth and we will present only the very basics. The idea of this introduction is to present you these structures, as they will be used when we introduce the main topic of this lecture: ipywidgets.\n",
    "\n",
    "## Keyword arguments as function variables in Python\n",
    "\n",
    "There are several ways of defining the variables for a function in Python. One particularly useful way is to use _keyword arguments_. This is done like in the following example"
   ]
  },
  {
   "cell_type": "code",
   "execution_count": 1,
   "metadata": {},
   "outputs": [],
   "source": [
    "def my_function(text=\"Default Value for the Variable\", number=3):\n",
    "    \n",
    "    print(f\"This is the text for the text variable: {text}.\\nThis is the content of the number variable: {number}\")"
   ]
  },
  {
   "cell_type": "markdown",
   "metadata": {},
   "source": [
    "In this way one can fix a name for the variable which helps to remember the purpose of each variable. In addition to that, the variables can be defined with a default value that wil be used when it is not given at function call."
   ]
  },
  {
   "cell_type": "code",
   "execution_count": 2,
   "metadata": {},
   "outputs": [
    {
     "name": "stdout",
     "output_type": "stream",
     "text": [
      "This is the text for the text variable: Default Value for the Variable.\n",
      "This is the content of the number variable: 3\n"
     ]
    }
   ],
   "source": [
    "my_function()"
   ]
  },
  {
   "cell_type": "markdown",
   "metadata": {},
   "source": [
    "The named variables can be called in any orther. Whenever a named variable is not specified at function call the default value will be used. One can also use other variables to provide the value of a name variable of a function. The content of these variables will be read at function call. Check the different examples below."
   ]
  },
  {
   "cell_type": "code",
   "execution_count": 3,
   "metadata": {},
   "outputs": [
    {
     "name": "stdout",
     "output_type": "stream",
     "text": [
      "\n",
      "First Example\n",
      "\n",
      "This is the text for the text variable: Nobody expects the spanish inquisition.\n",
      "This is the content of the number variable: 3\n",
      "\n",
      "Second Example\n",
      "\n",
      "This is the text for the text variable: Nobody expects the spanish inquisition.\n",
      "This is the content of the number variable: 7\n",
      "\n",
      "Third Example\n",
      "\n",
      "This is the text for the text variable: This text will be printed.\n",
      "This is the content of the number variable: 3\n",
      "This is the text for the text variable: This text will be printed.\n",
      "This is the content of the number variable: And this number\n"
     ]
    }
   ],
   "source": [
    "# First Example\n",
    "print(\"\\nFirst Example\\n\")\n",
    "my_function(text=\"Nobody expects the spanish inquisition\")\n",
    "\n",
    "# Second Example\n",
    "print(\"\\nSecond Example\\n\")\n",
    "my_function(number=7,text=\"Nobody expects the spanish inquisition\")\n",
    "\n",
    "# Third Example\n",
    "print(\"\\nThird Example\\n\")\n",
    "\n",
    "text=\"This text will be printed\"\n",
    "\n",
    "my_function(text=text)\n",
    "\n",
    "number_variable=\"And this number\"\n",
    "\n",
    "my_function(text=text, number=number_variable)"
   ]
  },
  {
   "cell_type": "markdown",
   "metadata": {},
   "source": [
    "You may now recall several of the examples from the lecture on plotting. Many of the parameters for the different functions that we saw on that lecture are passed this way. Notice that a function expects to receive as many arguments as variables it has. Otherwise it raises an error. This is a very convenient way of avoiding to pass to the function all the variables each time it is called.\n",
    "\n",
    "## Python classes: A crash course\n",
    "\n",
    "We are going to introduce next Python classes. A new class defines a new type of object in Python. A class can have _attributes_ which define its state and _methods_ (functions) for modifying its state among other things. As stated at the beginning we are not going to present classes in depth. Any of you that have interest in object oriented programming and in understanding these powerful structures should have a look at [this tutorial](https://docs.python.org/3/tutorial/classes.html) in the Python documentation.\n",
    "\n",
    "To present the classes we will borrow an example from that tutorial and define the class _Dog_."
   ]
  },
  {
   "cell_type": "code",
   "execution_count": 4,
   "metadata": {},
   "outputs": [],
   "source": [
    "class Dog:\n",
    "    \n",
    "    def bark(self):\n",
    "        print(\"Woof! Woof!\")"
   ]
  },
  {
   "cell_type": "markdown",
   "metadata": {},
   "source": [
    "The above code has defined the class _Dog_. This class has a _method_ (a function). This function is called bark. Notice that this function has a single argument called _self_ that seems to play no role. We will come to it in a minute. Before doing it, let us create a Dog and make it bark. \n",
    "\n",
    "The following line of code creates a variable named 'a' and defines it to be an object of the _Dog_ class. "
   ]
  },
  {
   "cell_type": "code",
   "execution_count": 5,
   "metadata": {},
   "outputs": [
    {
     "data": {
      "text/plain": [
       "<__main__.Dog at 0x7fc9c042b3a0>"
      ]
     },
     "execution_count": 5,
     "metadata": {},
     "output_type": "execute_result"
    }
   ],
   "source": [
    "a = Dog() \n",
    "\n",
    "a"
   ]
  },
  {
   "cell_type": "code",
   "execution_count": 6,
   "metadata": {},
   "outputs": [
    {
     "data": {
      "text/plain": [
       "<bound method Dog.bark of <__main__.Dog object at 0x7fc9c042b3a0>>"
      ]
     },
     "execution_count": 6,
     "metadata": {},
     "output_type": "execute_result"
    }
   ],
   "source": [
    "a.bark"
   ]
  },
  {
   "cell_type": "code",
   "execution_count": 7,
   "metadata": {},
   "outputs": [
    {
     "name": "stdout",
     "output_type": "stream",
     "text": [
      "Woof! Woof!\n"
     ]
    }
   ],
   "source": [
    "a.bark()"
   ]
  },
  {
   "cell_type": "markdown",
   "metadata": {},
   "source": [
    "One says that 'a' is an _instance_ of the class Dog. Any _method_ bound to that instance will be accessed by appending to its variable name a dot and the name of the method. Notice that in the same way that when one is calling a function one needs to use parenthesis even if the function doesn't require any variables. \n",
    "\n",
    "Now we will explain shortly what the sepecial variable _self_ means. For taht let us define a new class, _Mean_Dog_. This time the _bark_ method will not use the _self_ argument."
   ]
  },
  {
   "cell_type": "code",
   "execution_count": 8,
   "metadata": {},
   "outputs": [],
   "source": [
    "class Mean_Dog:\n",
    "    \n",
    "    def bark():\n",
    "        print(\"Woof! Woof!\")"
   ]
  },
  {
   "cell_type": "markdown",
   "metadata": {},
   "source": [
    "Now we will try to instantiate another dog, 'm', and make it bark."
   ]
  },
  {
   "cell_type": "code",
   "execution_count": 9,
   "metadata": {},
   "outputs": [
    {
     "data": {
      "text/plain": [
       "<__main__.Mean_Dog at 0x7fc9c042b9d0>"
      ]
     },
     "execution_count": 9,
     "metadata": {},
     "output_type": "execute_result"
    }
   ],
   "source": [
    "m = Mean_Dog()\n",
    "\n",
    "m"
   ]
  },
  {
   "cell_type": "code",
   "execution_count": 10,
   "metadata": {},
   "outputs": [
    {
     "ename": "TypeError",
     "evalue": "bark() takes 0 positional arguments but 1 was given",
     "output_type": "error",
     "traceback": [
      "\u001b[0;31m---------------------------------------------------------------------------\u001b[0m",
      "\u001b[0;31mTypeError\u001b[0m                                 Traceback (most recent call last)",
      "\u001b[0;32m<ipython-input-10-0e3b010c67f8>\u001b[0m in \u001b[0;36m<module>\u001b[0;34m\u001b[0m\n\u001b[0;32m----> 1\u001b[0;31m \u001b[0mm\u001b[0m\u001b[0;34m.\u001b[0m\u001b[0mbark\u001b[0m\u001b[0;34m(\u001b[0m\u001b[0;34m)\u001b[0m\u001b[0;34m\u001b[0m\u001b[0;34m\u001b[0m\u001b[0m\n\u001b[0m",
      "\u001b[0;31mTypeError\u001b[0m: bark() takes 0 positional arguments but 1 was given"
     ]
    }
   ],
   "source": [
    "m.bark()"
   ]
  },
  {
   "cell_type": "markdown",
   "metadata": {},
   "source": [
    "The _Mean_Dog_ doesn't bark. That is why it is mean. As you can see we are getting an error. This error might appear strange at first glance. The interpreter is claiming that we passed 1 argument to the function call but that it takes zero arguments. Definitely when we have a look at the line\n",
    "\n",
    "> $\\mathtt{    def}$ $\\mathtt{bark}():$\n",
    "\n",
    "we can see that we defined the method with no arguments. But we also called it with no arguments, didn't we?\n",
    "\n",
    "> $\\mathtt{m.bark}()$"
   ]
  },
  {
   "cell_type": "markdown",
   "metadata": {},
   "source": [
    "Actually we didn't. When one defines classes and instantiates them, one wants that the methods depend on the instance of the class, like 'a' or 'm' in the examples and not of the objects themselves, like 'Dog' or 'Mean_Dog'. That is why the variable _self_ exists. It refers to the instance of the class. Actually, the statement\n",
    "\n",
    "> $\\mathtt{a.bark()}$\n",
    "\n",
    "is analogue to write\n",
    "\n",
    "> $\\mathtt{Dog.bark(a)}$\n",
    "\n",
    "which can be understood as \"Use the method bark of the class Dog on the instance a\""
   ]
  },
  {
   "cell_type": "code",
   "execution_count": 11,
   "metadata": {},
   "outputs": [
    {
     "name": "stdout",
     "output_type": "stream",
     "text": [
      "Woof! Woof!\n"
     ]
    }
   ],
   "source": [
    "Dog.bark(a)"
   ]
  },
  {
   "cell_type": "code",
   "execution_count": 12,
   "metadata": {},
   "outputs": [
    {
     "name": "stdout",
     "output_type": "stream",
     "text": [
      "Woof! Woof!\n"
     ]
    }
   ],
   "source": [
    "Mean_Dog.bark()"
   ]
  },
  {
   "cell_type": "markdown",
   "metadata": {},
   "source": [
    "So the method bark on the class _Mean_Dog_ does not depend on their istances, just on the class object. In fact we can reproduce the same error above if we pass the instance as first argument"
   ]
  },
  {
   "cell_type": "code",
   "execution_count": 13,
   "metadata": {},
   "outputs": [
    {
     "ename": "TypeError",
     "evalue": "bark() takes 0 positional arguments but 1 was given",
     "output_type": "error",
     "traceback": [
      "\u001b[0;31m---------------------------------------------------------------------------\u001b[0m",
      "\u001b[0;31mTypeError\u001b[0m                                 Traceback (most recent call last)",
      "\u001b[0;32m<ipython-input-13-db3f0400a581>\u001b[0m in \u001b[0;36m<module>\u001b[0;34m\u001b[0m\n\u001b[0;32m----> 1\u001b[0;31m \u001b[0mMean_Dog\u001b[0m\u001b[0;34m.\u001b[0m\u001b[0mbark\u001b[0m\u001b[0;34m(\u001b[0m\u001b[0mm\u001b[0m\u001b[0;34m)\u001b[0m\u001b[0;34m\u001b[0m\u001b[0;34m\u001b[0m\u001b[0m\n\u001b[0m",
      "\u001b[0;31mTypeError\u001b[0m: bark() takes 0 positional arguments but 1 was given"
     ]
    }
   ],
   "source": [
    "Mean_Dog.bark(m)"
   ]
  },
  {
   "cell_type": "markdown",
   "metadata": {},
   "source": [
    "Now we are ready to define class attributes. These are variables that will be linked to the instances of the class and that will distinguish the different instances of the class. For doing this we will use a special method, the *\\_\\_init\\_\\_* method. In Python there are special functions that serve a purpose and all of them are defined with double underscores before and after their name. The *\\_\\_init\\_\\_* method of a class in Python will be executed each time the class is instantiated. Arguments in the call to the class will be passed directly to the *\\_\\_init\\_\\_* method.\n",
    "\n",
    "In the next example we will use it to give a name to each dog. The name will be an _attribute_ of the class that will contain a string."
   ]
  },
  {
   "cell_type": "code",
   "execution_count": 15,
   "metadata": {},
   "outputs": [],
   "source": [
    "class Dog:\n",
    "\n",
    "    def __init__(self, name):\n",
    "        self.name = name    # instance variable unique to each instance\n",
    "\n",
    "    def bark(self):\n",
    "        print(\"Woof! Woof!\")\n",
    "        "
   ]
  },
  {
   "cell_type": "code",
   "execution_count": 16,
   "metadata": {},
   "outputs": [
    {
     "name": "stdout",
     "output_type": "stream",
     "text": [
      "Barky can bark: \n",
      "Woof! Woof!\n"
     ]
    }
   ],
   "source": [
    "a = Dog(\"Barky\")\n",
    "\n",
    "print(f\"{a.name} can bark: \")\n",
    "a.bark()"
   ]
  },
  {
   "cell_type": "markdown",
   "metadata": {},
   "source": [
    "Attributes can also be accesed directly so that one can modify them after the instantiation. "
   ]
  },
  {
   "cell_type": "code",
   "execution_count": 17,
   "metadata": {},
   "outputs": [
    {
     "data": {
      "text/plain": [
       "'Barky'"
      ]
     },
     "execution_count": 17,
     "metadata": {},
     "output_type": "execute_result"
    }
   ],
   "source": [
    "a.name"
   ]
  },
  {
   "cell_type": "code",
   "execution_count": 18,
   "metadata": {},
   "outputs": [
    {
     "data": {
      "text/plain": [
       "'Buddy'"
      ]
     },
     "execution_count": 18,
     "metadata": {},
     "output_type": "execute_result"
    }
   ],
   "source": [
    "a.name = \"Buddy\"\n",
    "\n",
    "a.name"
   ]
  },
  {
   "cell_type": "markdown",
   "metadata": {},
   "source": [
    "We will finish this short introduction of Python classes with an example on how attributes and methods can interact with each other. We are going to redefine the _Dog_ class one more time."
   ]
  },
  {
   "cell_type": "code",
   "execution_count": 19,
   "metadata": {},
   "outputs": [],
   "source": [
    "class Dog:\n",
    "\n",
    "    def __init__(self, name):\n",
    "        self.name = name    # instance variable unique to each instance\n",
    "        self.tricks = []    # creates a new empty list for each instance\n",
    "\n",
    "    def bark(self):\n",
    "        print(\"Woof! Woof!\")\n",
    "        \n",
    "    def add_trick(self, trick):\n",
    "        self.tricks.append(trick)\n",
    "        "
   ]
  },
  {
   "cell_type": "markdown",
   "metadata": {},
   "source": [
    "Let us focus on the stament\n",
    "\n",
    "> $\\mathtt{self.trick.append(trick)}$\n",
    "\n",
    "$\\mathtt{self.trick}$ after instantiation will be an empty list. $\\mathtt{append}$ is a method of the list object that appends an element to the list. Check how it works with the next example."
   ]
  },
  {
   "cell_type": "code",
   "execution_count": 20,
   "metadata": {},
   "outputs": [
    {
     "name": "stdout",
     "output_type": "stream",
     "text": [
      "[1, 2, 3]\n",
      "[1, 2, 3, 8]\n"
     ]
    }
   ],
   "source": [
    "example_list = [1, 2, 3]\n",
    "\n",
    "print(example_list)\n",
    "\n",
    "example_list.append(8)\n",
    "\n",
    "print(example_list)"
   ]
  },
  {
   "cell_type": "markdown",
   "metadata": {},
   "source": [
    "The _add_trick_ method allows us to add elements to the _trick_ list of each _Dog_. That is how it works."
   ]
  },
  {
   "cell_type": "code",
   "execution_count": 21,
   "metadata": {},
   "outputs": [
    {
     "name": "stdout",
     "output_type": "stream",
     "text": [
      "['sit', 'play dead']\n",
      "['roll over']\n"
     ]
    }
   ],
   "source": [
    "a = Dog(\"Barky\")\n",
    "b = Dog(\"Beethoven\")\n",
    "\n",
    "a.add_trick(\"sit\")\n",
    "a.add_trick(\"play dead\")\n",
    "\n",
    "b.add_trick(\"roll over\")\n",
    "\n",
    "print(a.tricks)\n",
    "print(b.tricks)"
   ]
  },
  {
   "cell_type": "markdown",
   "metadata": {},
   "source": [
    "# Ipywidgets\n",
    "### A powerful way of enhancing the interaction with the notebook.  \n",
    "\n",
    "The ipywidgets are special objects that exploit the display power of the notebook and connect easily the process in the Python kernel with rich output. For an extensive introduction and tutorials it is recommended to access the [documentation](https://ipywidgets.readthedocs.io/en/latest/) of the ipywidgets. Specially recommended are the sections [Simple Widget Introduction](https://ipywidgets.readthedocs.io/en/latest/examples/Widget%20Basics.html), [Widget List](https://ipywidgets.readthedocs.io/en/latest/examples/Widget%20List.html) and [Output widgets](https://ipywidgets.readthedocs.io/en/latest/examples/Output%20Widget.html). \n",
    "Most of the examples are taken directly from these sources. Notice that the widgets presented here are just a selection, see [Widget List](https://ipywidgets.readthedocs.io/en/latest/examples/Widget%20List.html) for the complete list.\n",
    "\n",
    "Notice that most of the things in this section will not work in a non-interactive session. It is recommended either to downliad the \".ipynb\" file of this lecture or access the interactive version on binder using the link in the [subject repository](http://github.com/jmppardo/Perspectivas)\n",
    "\n",
    "As usual we need to import the corresponding package"
   ]
  },
  {
   "cell_type": "code",
   "execution_count": 1,
   "metadata": {},
   "outputs": [],
   "source": [
    "import ipywidgets as wg\n",
    "from IPython.display import display"
   ]
  },
  {
   "cell_type": "markdown",
   "metadata": {},
   "source": [
    "## Numeric Widgets\n",
    "\n",
    "As their name indicates these widgets deal with numbers. The _value_ of the widget will be associated with a number that can be an Integer or a Floating point number. The meaning of most of the keyword arguments is self-explanatory.\n",
    "\n",
    "### Sliders\n",
    "\n",
    "Sliders are widgets that represent a slider whose position determines a numerical value for the widget. Examples of these are _IntSlider_, _FloatSlider_ or _IntRangeSlider_.\n"
   ]
  },
  {
   "cell_type": "code",
   "execution_count": 2,
   "metadata": {},
   "outputs": [
    {
     "data": {
      "application/vnd.jupyter.widget-view+json": {
       "model_id": "71d7f89303e548e5a0847c61b1545723",
       "version_major": 2,
       "version_minor": 0
      },
      "text/plain": [
       "IntSlider(value=7, continuous_update=False, description='Test:', max=10)"
      ]
     },
     "metadata": {},
     "output_type": "display_data"
    }
   ],
   "source": [
    "wg.IntSlider(\n",
    "    value=7,\n",
    "    min=0,\n",
    "    max=10,\n",
    "    step=1,\n",
    "    description='Test:',\n",
    "    disabled=False,\n",
    "    continuous_update=False,\n",
    "    orientation='horizontal',\n",
    "    readout=True,\n",
    "    readout_format='d'\n",
    ")"
   ]
  },
  {
   "cell_type": "code",
   "execution_count": 3,
   "metadata": {},
   "outputs": [
    {
     "data": {
      "application/vnd.jupyter.widget-view+json": {
       "model_id": "c1d362c84f3f4222b644ccae6b94c075",
       "version_major": 2,
       "version_minor": 0
      },
      "text/plain": [
       "IntSlider(value=12, continuous_update=False, description='Test:', disabled=True, max=20, min=5, orientation='v…"
      ]
     },
     "metadata": {},
     "output_type": "display_data"
    }
   ],
   "source": [
    "wg.IntSlider(\n",
    "    value=12,\n",
    "    min=5,\n",
    "    max=20,\n",
    "    step=1,\n",
    "    description='Test:',\n",
    "    disabled=True,\n",
    "    continuous_update=False,\n",
    "    orientation='vertical',\n",
    "    readout=True,\n",
    "    readout_format='.2f'\n",
    ")"
   ]
  },
  {
   "cell_type": "markdown",
   "metadata": {},
   "source": [
    "$\\mathtt{wg.IntSlider}$ is a class object defiend in the ipywidgets library. It is instantiated when the cell is executed and the widget is displayed. We have seen this behaviour in the notebook before, in which objects are displayed if they are the last element in the cell. Check what happens next."
   ]
  },
  {
   "cell_type": "code",
   "execution_count": 4,
   "metadata": {},
   "outputs": [
    {
     "data": {
      "application/vnd.jupyter.widget-view+json": {
       "model_id": "ab562eee4ad845028541b0eb7574410a",
       "version_major": 2,
       "version_minor": 0
      },
      "text/plain": [
       "FloatSlider(value=0.0)"
      ]
     },
     "metadata": {},
     "output_type": "display_data"
    }
   ],
   "source": [
    "wg.IntSlider()\n",
    "\n",
    "\n",
    "\n",
    "wg.FloatSlider()\n",
    "\n"
   ]
  },
  {
   "cell_type": "markdown",
   "metadata": {},
   "source": [
    "Only the second widget, the _FloatSlider_ widget with its default parameters is displayed. If one wants to define several widgets at a time they need to be instantiated with different names and call them later using the _Ipython.display_ function."
   ]
  },
  {
   "cell_type": "code",
   "execution_count": 5,
   "metadata": {},
   "outputs": [
    {
     "data": {
      "application/vnd.jupyter.widget-view+json": {
       "model_id": "3fdaeb18b4124215acf06d10942c427f",
       "version_major": 2,
       "version_minor": 0
      },
      "text/plain": [
       "FloatSlider(value=7.5, continuous_update=False, description='FloatSlider:', max=10.0, readout_format='.1f')"
      ]
     },
     "metadata": {},
     "output_type": "display_data"
    },
    {
     "data": {
      "application/vnd.jupyter.widget-view+json": {
       "model_id": "e6047d25b0c446d58dd6276e3a002a65",
       "version_major": 2,
       "version_minor": 0
      },
      "text/plain": [
       "IntRangeSlider(value=(5, 7), continuous_update=False, description='IntRangeSlider:', max=10)"
      ]
     },
     "metadata": {},
     "output_type": "display_data"
    }
   ],
   "source": [
    "float_slider = wg.FloatSlider(\n",
    "    value=7.5,\n",
    "    min=0,\n",
    "    max=10.0,\n",
    "    step=0.1,\n",
    "    description='FloatSlider:',\n",
    "    disabled=False,\n",
    "    continuous_update=False,\n",
    "    orientation='horizontal',\n",
    "    readout=True,\n",
    "    readout_format='.1f',\n",
    ")\n",
    "\n",
    "int_range_slider = wg.IntRangeSlider(\n",
    "    value=[5, 7],\n",
    "    min=0,\n",
    "    max=10,\n",
    "    step=1,\n",
    "    description='IntRangeSlider:',\n",
    "    disabled=False,\n",
    "    continuous_update=False,\n",
    "    orientation='horizontal',\n",
    "    readout=True,\n",
    "    readout_format='d',\n",
    ")\n",
    "\n",
    "display(float_slider,int_range_slider)"
   ]
  },
  {
   "cell_type": "markdown",
   "metadata": {},
   "source": [
    "By instantiating we can also recover the _value_ of the widgets. This is an _attribute_ that almost all widgets have."
   ]
  },
  {
   "cell_type": "code",
   "execution_count": 6,
   "metadata": {},
   "outputs": [
    {
     "data": {
      "text/plain": [
       "(5, 7)"
      ]
     },
     "execution_count": 6,
     "metadata": {},
     "output_type": "execute_result"
    }
   ],
   "source": [
    "int_range_slider.value"
   ]
  },
  {
   "cell_type": "markdown",
   "metadata": {},
   "source": [
    "If you are reading this notebook in the interactive version, try to change the IntRangeSlider with the mouse and execute the cell above again.\n",
    "\n",
    "### Text Boxes for Numeric values\n",
    "\n",
    "Apart from sliders one can also insert numerical values, which again can be interger or float values. The difference between the following two widgets is that the second one admits numbers only in the specified range."
   ]
  },
  {
   "cell_type": "code",
   "execution_count": 7,
   "metadata": {},
   "outputs": [
    {
     "data": {
      "application/vnd.jupyter.widget-view+json": {
       "model_id": "e67a235c89794404b44df7791692a698",
       "version_major": 2,
       "version_minor": 0
      },
      "text/plain": [
       "IntText(value=7, description='Any:')"
      ]
     },
     "metadata": {},
     "output_type": "display_data"
    }
   ],
   "source": [
    "wg.IntText(\n",
    "    value=7,\n",
    "    description='Any:',\n",
    "    disabled=False\n",
    ")"
   ]
  },
  {
   "cell_type": "code",
   "execution_count": 8,
   "metadata": {},
   "outputs": [
    {
     "data": {
      "application/vnd.jupyter.widget-view+json": {
       "model_id": "360d4edeed414f309875710236e4475c",
       "version_major": 2,
       "version_minor": 0
      },
      "text/plain": [
       "BoundedFloatText(value=7.5, description='Text:', max=10.0, step=0.1)"
      ]
     },
     "metadata": {},
     "output_type": "display_data"
    }
   ],
   "source": [
    "wg.BoundedFloatText(\n",
    "    value=7.5,\n",
    "    min=0,\n",
    "    max=10.0,\n",
    "    step=0.1,\n",
    "    description='Text:',\n",
    "    disabled=False\n",
    ")"
   ]
  },
  {
   "cell_type": "markdown",
   "metadata": {},
   "source": [
    "## String Widgets"
   ]
  },
  {
   "cell_type": "code",
   "execution_count": 9,
   "metadata": {},
   "outputs": [
    {
     "data": {
      "application/vnd.jupyter.widget-view+json": {
       "model_id": "d74c5aa18ffe44c19a63815944291965",
       "version_major": 2,
       "version_minor": 0
      },
      "text/plain": [
       "Text(value='Hello World', description='String:', placeholder='Type something')"
      ]
     },
     "metadata": {},
     "output_type": "display_data"
    }
   ],
   "source": [
    "wg.Text(\n",
    "    value='Hello World',\n",
    "    placeholder='Type something',\n",
    "    description='String:',\n",
    "    disabled=False\n",
    ")"
   ]
  },
  {
   "cell_type": "code",
   "execution_count": 10,
   "metadata": {},
   "outputs": [
    {
     "data": {
      "application/vnd.jupyter.widget-view+json": {
       "model_id": "63d00dd7d1894fffbf7e7b6cccaed905",
       "version_major": 2,
       "version_minor": 0
      },
      "text/plain": [
       "Textarea(value='This text widget can be resized to fit larger text', description='String:', placeholder='Type …"
      ]
     },
     "metadata": {},
     "output_type": "display_data"
    }
   ],
   "source": [
    "wg.Textarea(\n",
    "    value='This text widget can be resized to fit larger text',\n",
    "    placeholder='Type something',\n",
    "    description='String:',\n",
    "    disabled=False\n",
    ")"
   ]
  },
  {
   "cell_type": "code",
   "execution_count": 11,
   "metadata": {},
   "outputs": [
    {
     "data": {
      "application/vnd.jupyter.widget-view+json": {
       "model_id": "7eb573d8813d4d9a876154ff7dac5c56",
       "version_major": 2,
       "version_minor": 0
      },
      "text/plain": [
       "Label(value='The $m$ in $E=mc^2$:')"
      ]
     },
     "metadata": {},
     "output_type": "display_data"
    }
   ],
   "source": [
    "wg.Label(value=\"The $m$ in $E=mc^2$:\")"
   ]
  },
  {
   "cell_type": "markdown",
   "metadata": {},
   "source": [
    "The difference between the _Text_ and _Textarea_ widgets above and the Label widget is that the Label widget is descriptive while the others are ment to imput data. When constructing complicated widgets you might want to add descriptions to them and this is done with the _Label_ widget."
   ]
  },
  {
   "cell_type": "markdown",
   "metadata": {},
   "source": [
    "## Boolean and selection Widgets"
   ]
  },
  {
   "cell_type": "code",
   "execution_count": 12,
   "metadata": {},
   "outputs": [
    {
     "data": {
      "application/vnd.jupyter.widget-view+json": {
       "model_id": "b618b86e5ea4413aa55094bef664c05d",
       "version_major": 2,
       "version_minor": 0
      },
      "text/plain": [
       "Checkbox(value=True, description='Check me', indent=False)"
      ]
     },
     "metadata": {},
     "output_type": "display_data"
    }
   ],
   "source": [
    "wg.Checkbox(\n",
    "    value=True,\n",
    "    description='Check me',\n",
    "    disabled=False,\n",
    "    indent=False\n",
    ")"
   ]
  },
  {
   "cell_type": "code",
   "execution_count": 13,
   "metadata": {},
   "outputs": [
    {
     "data": {
      "application/vnd.jupyter.widget-view+json": {
       "model_id": "7fadb96dfa794550ab3d03a9af61e2d3",
       "version_major": 2,
       "version_minor": 0
      },
      "text/plain": [
       "Dropdown(description='Number:', index=1, options=('1', '2', '3'), value='2')"
      ]
     },
     "metadata": {},
     "output_type": "display_data"
    }
   ],
   "source": [
    "drop1 = wg.Dropdown(\n",
    "    options=['1', '2', '3'],\n",
    "    value='2',\n",
    "    description='Number:',\n",
    "    disabled=False,\n",
    ")\n",
    "display(drop1)"
   ]
  },
  {
   "cell_type": "code",
   "execution_count": 14,
   "metadata": {},
   "outputs": [
    {
     "data": {
      "application/vnd.jupyter.widget-view+json": {
       "model_id": "853fe110b9f84a02b8481f0b5229ce32",
       "version_major": 2,
       "version_minor": 0
      },
      "text/plain": [
       "Dropdown(description='Number:', index=1, options=(('One', 1), ('Two', 2), ('Three', 3)), value=2)"
      ]
     },
     "metadata": {},
     "output_type": "display_data"
    }
   ],
   "source": [
    "drop2 = wg.Dropdown(\n",
    "    options=[('One', 1), ('Two', 2), ('Three', 3)],\n",
    "    value=2,\n",
    "    description='Number:',\n",
    ")\n",
    "display(drop2)"
   ]
  },
  {
   "cell_type": "code",
   "execution_count": 15,
   "metadata": {},
   "outputs": [
    {
     "name": "stdout",
     "output_type": "stream",
     "text": [
      "2\n",
      "2\n"
     ]
    }
   ],
   "source": [
    "print(drop1.value)\n",
    "print(drop2.value)"
   ]
  },
  {
   "cell_type": "markdown",
   "metadata": {},
   "source": [
    "## The Button Widget\n",
    "\n",
    "This is a slightly more complicated widget that involves the execution of a function. This widget places a button an registers an _event_ when the button is clicked"
   ]
  },
  {
   "cell_type": "code",
   "execution_count": 16,
   "metadata": {},
   "outputs": [
    {
     "data": {
      "application/vnd.jupyter.widget-view+json": {
       "model_id": "cadb7ef2bd1d41aab4633a6141c9bbce",
       "version_major": 2,
       "version_minor": 0
      },
      "text/plain": [
       "Button(description='Click me', icon='check', style=ButtonStyle(), tooltip='Click me')"
      ]
     },
     "metadata": {},
     "output_type": "display_data"
    }
   ],
   "source": [
    "button = wg.Button(\n",
    "    description='Click me',\n",
    "    disabled=False,\n",
    "    button_style='', # 'success', 'info', 'warning', 'danger' or ''\n",
    "    tooltip='Click me',\n",
    "    icon='check' # (FontAwesome names without the `fa-` prefix)\n",
    ")\n",
    "display(button)\n",
    "\n",
    "def action_of_button(b): #This function must be defined with a single variable. \n",
    "    print(\"I was clicked\")\n",
    "    #print(b)\n",
    "    #print(b.description)\n",
    "    \n",
    "button.on_click(action_of_button)"
   ]
  },
  {
   "cell_type": "markdown",
   "metadata": {},
   "source": [
    "In the example of the button one needs to define the fucntion that implements the action of the button with a variable. It doesn't matter what name is given to this variable. The button instance will be passed as the argument. Remember, the _Button_ widget is a class and when we call it like in the example we get an instance of that button. That is, you can access any method or attribute of the button instance within the function. You will need to use this in the exercises."
   ]
  },
  {
   "cell_type": "markdown",
   "metadata": {},
   "source": [
    "## Container/Layout Widgets and the Output Widget\n",
    "\n",
    "So far we have seen several widgets. There are many more. Please visit the [widget list](https://ipywidgets.readthedocs.io/en/latest/examples/Widget%20List.html#) page for a complete list of all the widgets.\n",
    "\n",
    "As you might have noticed, once created the widgets persist on the notebook. That is, we can display an instance of a widget that was previously created and the two of them will be sinchronised. In the next cell we will display again the _IntRangeSlider_ widget that we created before. Remember that we instantiated it with the name $\\mathtt{int}$\\_$\\mathtt{range}$\\_$\\mathtt{slider}$"
   ]
  },
  {
   "cell_type": "code",
   "execution_count": 17,
   "metadata": {},
   "outputs": [
    {
     "data": {
      "application/vnd.jupyter.widget-view+json": {
       "model_id": "e6047d25b0c446d58dd6276e3a002a65",
       "version_major": 2,
       "version_minor": 0
      },
      "text/plain": [
       "IntRangeSlider(value=(5, 7), continuous_update=False, description='IntRangeSlider:', max=10)"
      ]
     },
     "metadata": {},
     "output_type": "display_data"
    }
   ],
   "source": [
    "int_range_slider"
   ]
  },
  {
   "cell_type": "markdown",
   "metadata": {},
   "source": [
    "As you can see it is in the same state that we left it. Let us go up and move the handles. Then we can come here again and see what happened. \n",
    "\n",
    "**Do it now before reading further**\n",
    "\n",
    "If you followed my lead (I know you did) you have checked that the handles of this _view_ of the widget are now in the position to which you brought them. Additionally, widgets might print something, but only the active cell will read this output. Check what happens with the button instance below."
   ]
  },
  {
   "cell_type": "code",
   "execution_count": 18,
   "metadata": {},
   "outputs": [
    {
     "data": {
      "application/vnd.jupyter.widget-view+json": {
       "model_id": "cadb7ef2bd1d41aab4633a6141c9bbce",
       "version_major": 2,
       "version_minor": 0
      },
      "text/plain": [
       "Button(description='Click me', icon='check', style=ButtonStyle(), tooltip='Click me')"
      ]
     },
     "metadata": {},
     "output_type": "display_data"
    }
   ],
   "source": [
    "button"
   ]
  },
  {
   "cell_type": "markdown",
   "metadata": {},
   "source": [
    "We have access to the button we created, and when we press the _Button_ we get the message printed, however this printed messages are not printed in the cell were we created the button the first time.\n",
    "\n",
    "To handle all the views of several widgets and to display them is where we can use the container widgets. We are going to see just three of them: _HBox_ (horizontal box). _VBox_ (vertical box) and the _Output_ widget.\n",
    "\n",
    "_HBox_ and _VBox_ work in the same way. They accept a list of widgets and display them arranged horizontally or vertically respectively. "
   ]
  },
  {
   "cell_type": "code",
   "execution_count": 19,
   "metadata": {},
   "outputs": [
    {
     "data": {
      "application/vnd.jupyter.widget-view+json": {
       "model_id": "0168eba8b6ab45a8b45d8d3c739b08f3",
       "version_major": 2,
       "version_minor": 0
      },
      "text/plain": [
       "HBox(children=(IntRangeSlider(value=(5, 7), continuous_update=False, description='IntRangeSlider:', max=10), B…"
      ]
     },
     "metadata": {},
     "output_type": "display_data"
    }
   ],
   "source": [
    "wg.HBox([int_range_slider, button])"
   ]
  },
  {
   "cell_type": "code",
   "execution_count": 20,
   "metadata": {},
   "outputs": [
    {
     "data": {
      "application/vnd.jupyter.widget-view+json": {
       "model_id": "7b5f9ce9b20f41679f67b50c91bffa24",
       "version_major": 2,
       "version_minor": 0
      },
      "text/plain": [
       "VBox(children=(Dropdown(description='Number:', index=1, options=('1', '2', '3'), value='2'), Button(descriptio…"
      ]
     },
     "metadata": {},
     "output_type": "display_data"
    }
   ],
   "source": [
    "wg.VBox([drop1, button])"
   ]
  },
  {
   "cell_type": "markdown",
   "metadata": {},
   "source": [
    "Notice again that although $\\mathtt{button}$ is the same instance of _Button_ each time we click either of the buttons above we get the printed message only in the active cell. To construct persistent widgets that will be displayed only once it is a good idea to use the _Output_ widget. This is simply a container widget but it is capable to capture any reach ouput that the notebook is able to produce and displaying it. Have a look at [Output widgets: leveraging Jupyter’s display system](https://ipywidgets.readthedocs.io/en/latest/examples/Output%20Widget.html) for more detailed information.\n",
    "\n",
    "The _Output_ widget provides a display area that is persistent. Any content can be sent to it. Let us define another button, but this time the print statement will be sent to the _Output_ widget."
   ]
  },
  {
   "cell_type": "code",
   "execution_count": 21,
   "metadata": {},
   "outputs": [],
   "source": [
    "button2 = wg.Button(\n",
    "    description='Click me',\n",
    "    disabled=False,\n",
    "    button_style='', # 'success', 'info', 'warning', 'danger' or ''\n",
    "    tooltip='Click me',\n",
    "    icon='check' # (FontAwesome names without the `fa-` prefix)\n",
    ")\n",
    "\n",
    "out = wg.Output()\n",
    "\n",
    "def action_of_button2(b):  \n",
    "    with out:   # This special statement here takes the output of all the staments nested to it and sends it to the 'out' instance\n",
    "        print(\"I was clicked\")\n",
    "    \n",
    "button2.on_click(action_of_button2)"
   ]
  },
  {
   "cell_type": "markdown",
   "metadata": {},
   "source": [
    "The way to send output to the $\\mathtt{out}$ instance is by means of the $\\mathtt{with}$ statement. Any output raised within the scope of the $\\mathtt{with}$-statement will be captured and send to the $\\mathtt{out}$ instance. We can now display the two widgets that we created. And check what happens."
   ]
  },
  {
   "cell_type": "code",
   "execution_count": 22,
   "metadata": {},
   "outputs": [
    {
     "data": {
      "application/vnd.jupyter.widget-view+json": {
       "model_id": "a4c5168599a5479fb0e82ab3b0382aab",
       "version_major": 2,
       "version_minor": 0
      },
      "text/plain": [
       "VBox(children=(Button(description='Click me', icon='check', style=ButtonStyle(), tooltip='Click me'), Output()…"
      ]
     },
     "metadata": {},
     "output_type": "display_data"
    }
   ],
   "source": [
    "wg.VBox([button2, out])"
   ]
  },
  {
   "cell_type": "markdown",
   "metadata": {},
   "source": [
    "In the next cell we will create another view of the button2. This time teh output will appear only in the Output widget."
   ]
  },
  {
   "cell_type": "code",
   "execution_count": 23,
   "metadata": {},
   "outputs": [
    {
     "data": {
      "application/vnd.jupyter.widget-view+json": {
       "model_id": "8ed498d9e61f4c6881575ca59af70529",
       "version_major": 2,
       "version_minor": 0
      },
      "text/plain": [
       "Button(description='Click me', icon='check', style=ButtonStyle(), tooltip='Click me')"
      ]
     },
     "metadata": {},
     "output_type": "display_data"
    }
   ],
   "source": [
    "button2"
   ]
  },
  {
   "cell_type": "markdown",
   "metadata": {},
   "source": [
    "The output widget can be cleared with the _clear\\_output_ method. Notice how all the text present in the $\\mathtt{out}$ instance vanishes when executing the following cell."
   ]
  },
  {
   "cell_type": "code",
   "execution_count": 24,
   "metadata": {},
   "outputs": [],
   "source": [
    "out.clear_output()"
   ]
  },
  {
   "cell_type": "markdown",
   "metadata": {},
   "source": [
    "## Linking widgets and interacting with them.\n",
    "\n",
    "### The jslink method and the _Play_ widget\n",
    "\n",
    "So far we have seen several widgets. We know how to address their attributes and change them. The _Output_ widget provides a powerful tool to create complex content but we haven't yet unleashed the full potential.\n",
    "\n",
    "Many times you will want to relate the attributes of differend widgets. This is done with the _jslink_ method. Next we will create to new numeric widgets and link their _value_ attribute."
   ]
  },
  {
   "cell_type": "code",
   "execution_count": 25,
   "metadata": {},
   "outputs": [
    {
     "data": {
      "application/vnd.jupyter.widget-view+json": {
       "model_id": "a095d2aa65cd4c19afd59022122cff41",
       "version_major": 2,
       "version_minor": 0
      },
      "text/plain": [
       "FloatProgress(value=7.5, bar_style='info', description='Loading:', max=10.0, style=ProgressStyle(bar_color='#f…"
      ]
     },
     "metadata": {},
     "output_type": "display_data"
    },
    {
     "data": {
      "application/vnd.jupyter.widget-view+json": {
       "model_id": "8660c7cba5a748be9798c3d5a6f5998f",
       "version_major": 2,
       "version_minor": 0
      },
      "text/plain": [
       "BoundedFloatText(value=0.0, description='Total Progress:', max=10.0, step=0.1)"
      ]
     },
     "metadata": {},
     "output_type": "display_data"
    }
   ],
   "source": [
    "float_progress = wg.FloatProgress(\n",
    "    value=7.5,\n",
    "    min=0,\n",
    "    max=10.0,\n",
    "    description='Loading:',\n",
    "    bar_style='info',\n",
    "    style={'bar_color': '#ffff00'},\n",
    "    orientation='horizontal'\n",
    ")\n",
    "\n",
    "float_text = wg.BoundedFloatText(\n",
    "    min=0,\n",
    "    max=10.0,\n",
    "    step=0.1,\n",
    "    description='Total Progress:',\n",
    ")\n",
    "\n",
    "wg.jslink((float_progress,'value'),(float_text,'value'))\n",
    "\n",
    "display(float_progress, float_text)"
   ]
  },
  {
   "cell_type": "markdown",
   "metadata": {},
   "source": [
    "Now that we know how to link different widgets we can see an interseting one, the _Play_ widget, which allows to construct animations of dynamically generated data. This widget just creates a counter that increases in steps and provides controls to start, stop or pause the counting. Of course the interseting thing about this widget is to link its value with some other widget. It is important to notice that the _Play_ widget only works with integer values."
   ]
  },
  {
   "cell_type": "code",
   "execution_count": 26,
   "metadata": {},
   "outputs": [
    {
     "data": {
      "application/vnd.jupyter.widget-view+json": {
       "model_id": "924861ba57ab4b37b4bd9e17ae076fe7",
       "version_major": 2,
       "version_minor": 0
      },
      "text/plain": [
       "HBox(children=(Play(value=50, description='Press play', interval=500), IntSlider(value=0)))"
      ]
     },
     "metadata": {},
     "output_type": "display_data"
    }
   ],
   "source": [
    "play = wg.Play(\n",
    "    value=50,\n",
    "    min=0,\n",
    "    max=100,\n",
    "    step=1,\n",
    "    interval=500,\n",
    "    description=\"Press play\",\n",
    "    disabled=False\n",
    ")\n",
    "slider = wg.IntSlider()\n",
    "wg.jslink((play, 'value'), (slider, 'value'))\n",
    "wg.HBox([play, slider])"
   ]
  },
  {
   "cell_type": "markdown",
   "metadata": {},
   "source": [
    "The interval attribute controls the speed of play. It represents the time in miliseconds between steps of the play. Notice how the speed slows done and speeds up after execution of the following cells."
   ]
  },
  {
   "cell_type": "code",
   "execution_count": 27,
   "metadata": {},
   "outputs": [],
   "source": [
    "play.interval = 2000"
   ]
  },
  {
   "cell_type": "code",
   "execution_count": 28,
   "metadata": {},
   "outputs": [],
   "source": [
    "play.interval = 100"
   ]
  },
  {
   "cell_type": "markdown",
   "metadata": {},
   "source": [
    "### Using interact\n",
    "\n",
    "The _interact_ method automatically creates user interface controls for exploring code and data interactively. We are going to see a basic example. In the exercises you will use interact to easily produce an animation. Please check the documentation about [interact](https://ipywidgets.readthedocs.io/en/latest/examples/Using%20Interact.html) for a comprehensive guide on this useful tool. The following examples were obtained there.\n",
    "\n",
    "To use interact you need to define a function that you want to explore. Next we define a function with just one argument and that returns it. We will use interact to 'explore' this function."
   ]
  },
  {
   "cell_type": "code",
   "execution_count": 29,
   "metadata": {},
   "outputs": [],
   "source": [
    "def f(x):\n",
    "    return x"
   ]
  },
  {
   "cell_type": "code",
   "execution_count": 30,
   "metadata": {},
   "outputs": [
    {
     "data": {
      "application/vnd.jupyter.widget-view+json": {
       "model_id": "2b92f9d370f34b7a9445c8bbccb38da4",
       "version_major": 2,
       "version_minor": 0
      },
      "text/plain": [
       "interactive(children=(IntSlider(value=10, description='x', max=30, min=-10), Output()), _dom_classes=('widget-…"
      ]
     },
     "metadata": {},
     "output_type": "display_data"
    }
   ],
   "source": [
    "wg.interact(f,x = 10)\n",
    "\n",
    "pass"
   ]
  },
  {
   "cell_type": "markdown",
   "metadata": {},
   "source": [
    "The following table gives an overview of the widgets that are generated automatically to interact with the data. The sliders will be integer or float depending on the value given.\n",
    "\n",
    "| Keyword argument | Widget  |\n",
    "|:--|:--|\n",
    "| **True** or **False**  | Checkbox  |\n",
    "| 'Hi there' | Text |\n",
    "|  _value_ or _(min,max)_ or _(min,max,step)_ | Slider |\n",
    "| \\['orange','apple'\\] or \\[('one', 1), ('two', 2)\\]  | Dropdown |\n",
    "\n",
    "Try it. This works also with functions with more arguments. You just need to add more keyword arguments to the interacti funnction.\n",
    "\n",
    "The above _abbreviations_ work for these common widgets. Actually one can get the same results above by writing\n",
    "\n",
    "> <p style=\"font-family: helvetica, sans-serif;\">wg.interact(f,x = wg.IntSlider(min=-10, max=30, step=1, value=10))</p>\n",
    "\n",
    "If any of you is wondering, there are other widgets that can be used in this very same way. Like the _Play_ widget. This is how we will construct an animation.\n"
   ]
  }
 ],
 "metadata": {
  "kernelspec": {
   "display_name": "Python 3",
   "language": "python",
   "name": "python3"
  },
  "language_info": {
   "codemirror_mode": {
    "name": "ipython",
    "version": 3
   },
   "file_extension": ".py",
   "mimetype": "text/x-python",
   "name": "python",
   "nbconvert_exporter": "python",
   "pygments_lexer": "ipython3",
   "version": "3.8.5"
  }
 },
 "nbformat": 4,
 "nbformat_minor": 4
}
