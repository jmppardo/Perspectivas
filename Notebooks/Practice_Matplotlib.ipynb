{
 "cells": [
  {
   "cell_type": "markdown",
   "metadata": {},
   "source": [
    "# Exercises to practice with Matplotlib and Numpy\n",
    "\n",
    "In this notebook we are going to practice with some of the functionality in the libraries _Matplotlib_ and _Numpy_. To begin with we will need to import both libraries."
   ]
  },
  {
   "cell_type": "code",
   "execution_count": 1,
   "metadata": {},
   "outputs": [],
   "source": [
    "import matplotlib.pyplot as plt\n",
    "import numpy as np"
   ]
  },
  {
   "cell_type": "markdown",
   "metadata": {},
   "source": [
    "## Exercise 1\n",
    "\n",
    "Define two numpy arrays with the following elements\n",
    "\n",
    "- a = [1, 2 ,3]\n",
    "- b = [3, 3, 2]\n",
    "\n",
    "Now, perform the following operations on them and display the results:\n",
    "\n",
    "1. a + b\n",
    "2. a$\\ast$b \n",
    "3. a$^2$. That is, compute the square of each element in the array\n",
    "4. Perform the computation $\\mathtt{a**b}$. Do you know what operation was performed?"
   ]
  },
  {
   "cell_type": "code",
   "execution_count": null,
   "metadata": {},
   "outputs": [],
   "source": []
  },
  {
   "cell_type": "markdown",
   "metadata": {},
   "source": [
    "## Exercise 2\n",
    "\n",
    "Define two python functions that evaluate the following expressions:\n",
    "\n",
    "1. $t\\mapsto e^{-(t-1)^2/3}$\n",
    "2. $x \\mapsto x^2e^{-x}$\n",
    "\n"
   ]
  },
  {
   "cell_type": "code",
   "execution_count": null,
   "metadata": {},
   "outputs": [],
   "source": []
  },
  {
   "cell_type": "markdown",
   "metadata": {},
   "source": [
    "## Exercise 3\n",
    "\n",
    "Plot each of the functions defined in the previous exercise in separated figures. Use different styles for the lines of each figure. Give each figure a title, a legend and label the axes appropriately."
   ]
  },
  {
   "cell_type": "code",
   "execution_count": null,
   "metadata": {},
   "outputs": [],
   "source": []
  },
  {
   "cell_type": "markdown",
   "metadata": {},
   "source": [
    "## Exercise 4\n",
    "\n",
    "Execute the cell of code below and answer the following questions\n",
    "\n",
    "1. Can you explain what you see on the figure?\n",
    "2. Why do we see the line of text : ${\\tt{Text(0.5, 0, \"x\")}}$ ?"
   ]
  },
  {
   "cell_type": "code",
   "execution_count": 7,
   "metadata": {},
   "outputs": [
    {
     "data": {
      "text/plain": [
       "Text(0.5, 0, 'x')"
      ]
     },
     "execution_count": 7,
     "metadata": {},
     "output_type": "execute_result"
    },
    {
     "data": {
      "image/png": "[encoded data removed]",
      "text/plain": [
       "<Figure size 432x288 with 1 Axes>"
      ]
     },
     "metadata": {
      "needs_background": "light"
     },
     "output_type": "display_data"
    }
   ],
   "source": [
    "plt.xlabel(\"x\")"
   ]
  },
  {
   "cell_type": "markdown",
   "metadata": {},
   "source": [
    "## Exercise 5\n",
    "\n",
    "Produce a plot exactly like the one of **Exercise 4** but without the line of text ${\\tt{Text(0.5, 0, \"x\")}}$"
   ]
  },
  {
   "cell_type": "code",
   "execution_count": null,
   "metadata": {},
   "outputs": [],
   "source": []
  },
  {
   "cell_type": "markdown",
   "metadata": {},
   "source": [
    "## Exercise 6\n",
    "\n",
    "Plot the two functions in **Exercise 2** on the same axes. Define the _xlabel_, _ylabel_, a title and a legend which contains information about both functions. "
   ]
  },
  {
   "cell_type": "code",
   "execution_count": null,
   "metadata": {},
   "outputs": [],
   "source": []
  },
  {
   "cell_type": "markdown",
   "metadata": {},
   "source": [
    "## Exercise 7\n",
    "\n",
    "Produce 6 figures using the data of **Exercise 2**. You need to define _xlabel_, _ylabel_, titles and legends for each figure. You need to use the method $\\mathtt{ax.set(...)}$ introduced in class and you can call this statement only once in the code.\n",
    "\n",
    "_Hint:_ You need to use lists and a for-loop"
   ]
  },
  {
   "cell_type": "code",
   "execution_count": null,
   "metadata": {},
   "outputs": [],
   "source": []
  },
  {
   "cell_type": "markdown",
   "metadata": {},
   "source": [
    "## Exercise 8\n",
    "\n",
    "Produce one figure with 6 axes aligned as a 3x2 matrix. The figure must have one title. Each set of axes in the figure must have a legend and a title. The labels must apear only at the bottom and the left margin of the figure. Use loops to minimise the statements that you need to complete this figure."
   ]
  },
  {
   "cell_type": "code",
   "execution_count": null,
   "metadata": {},
   "outputs": [],
   "source": []
  }
 ],
 "metadata": {
  "kernelspec": {
   "display_name": "Python 3",
   "language": "python",
   "name": "python3"
  },
  "language_info": {
   "codemirror_mode": {
    "name": "ipython",
    "version": 3
   },
   "file_extension": ".py",
   "mimetype": "text/x-python",
   "name": "python",
   "nbconvert_exporter": "python",
   "pygments_lexer": "ipython3",
   "version": "3.8.5"
  }
 },
 "nbformat": 4,
 "nbformat_minor": 4
}
