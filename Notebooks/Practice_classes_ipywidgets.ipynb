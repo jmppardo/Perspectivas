{
 "cells": [
  {
   "cell_type": "markdown",
   "metadata": {},
   "source": [
    "# Exercises to practice with keywords argumetns, classes and ipywidgets"
   ]
  },
  {
   "cell_type": "code",
   "execution_count": 3,
   "metadata": {},
   "outputs": [],
   "source": [
    "import ipywidgets as wg"
   ]
  },
  {
   "cell_type": "markdown",
   "metadata": {},
   "source": [
    "## Exercises to practice with keyword arguments and classes "
   ]
  },
  {
   "cell_type": "markdown",
   "metadata": {},
   "source": [
    "### Exercise 1\n",
    "\n",
    "Define a function with a named variable 'my_list' that takes as default argument an empty list. The function must print the elements of the list when executed."
   ]
  },
  {
   "cell_type": "code",
   "execution_count": null,
   "metadata": {},
   "outputs": [],
   "source": []
  },
  {
   "cell_type": "markdown",
   "metadata": {},
   "source": [
    "### Exercise 2\n",
    "\n",
    "Consider the function defined in the next cell. Define a class named \"my_class\" that produces the same output as the function each time it is instantiated."
   ]
  },
  {
   "cell_type": "code",
   "execution_count": 3,
   "metadata": {},
   "outputs": [],
   "source": [
    "def my_func(string,number):\n",
    "    \n",
    "    print(number*string)"
   ]
  },
  {
   "cell_type": "code",
   "execution_count": null,
   "metadata": {},
   "outputs": [],
   "source": []
  },
  {
   "cell_type": "markdown",
   "metadata": {},
   "source": [
    "### Exercise 3\n",
    "\n",
    "Define a class named \"Student\". This class must have the attributes listed below. The term in square brakets must be the default value of the attribute:\n",
    "\n",
    "- name\\[\"Name\"\\]\n",
    "- lastname\\[\"Lastname\"\\]\n",
    "- evaluation\\[{\"math\":0, \"english\":0}\\]\n",
    "\n",
    "The class must be defined so that the \"name\" and \"lastname\" attributes can be modified when the class is instantiated but the evaluation attribute value should not.\n",
    "\n",
    "Instantiate the class above first with the default values and then with the following ones\n",
    "\n",
    "- name: \"John\"\n",
    "- lastname: \"Smith\""
   ]
  },
  {
   "cell_type": "code",
   "execution_count": null,
   "metadata": {},
   "outputs": [],
   "source": []
  },
  {
   "cell_type": "markdown",
   "metadata": {},
   "source": [
    "### Execise 4\n",
    "\n",
    "Modify the class of **Exercise 3** above to include two methods named \"math_mark\" and \"programming_mark\" that allow to modify the entries of the dictionary in the evaluation attribute."
   ]
  },
  {
   "cell_type": "code",
   "execution_count": null,
   "metadata": {},
   "outputs": [],
   "source": []
  },
  {
   "cell_type": "markdown",
   "metadata": {},
   "source": [
    "## Exercises to practice with ipywidgets\n",
    "\n",
    "### Exercise 5\n",
    "\n",
    "Define two numeric widgets that handle floating point numbers and link their values so that when one of them is changed, the other is changed also. "
   ]
  },
  {
   "cell_type": "code",
   "execution_count": null,
   "metadata": {},
   "outputs": [],
   "source": []
  },
  {
   "cell_type": "markdown",
   "metadata": {},
   "source": [
    "### Exercise 6\n",
    "\n",
    "Define a _Text_ widget and a _Button_. Establish a link between _value_ of the _Text_ widget and the text that appears on the button. Whenever the text in the _Text_ widget is changef the text on the button must change. "
   ]
  },
  {
   "cell_type": "code",
   "execution_count": null,
   "metadata": {},
   "outputs": [],
   "source": []
  },
  {
   "cell_type": "markdown",
   "metadata": {},
   "source": [
    "### Exercise 7\n",
    "\n",
    "Define a button that executes a function when it is clicked. The effect of the button must be to \n",
    "\n",
    "1. Print the message \"I was clicked\"\n",
    "2. Change the button description to \"Disabled\"\n",
    "3. Disable the button. For that you need to set the _disabled_ attribute to **True**"
   ]
  },
  {
   "cell_type": "code",
   "execution_count": null,
   "metadata": {},
   "outputs": [],
   "source": []
  },
  {
   "cell_type": "markdown",
   "metadata": {},
   "source": [
    "### Exercise 8\n",
    "\n",
    "In this example you are going to produce two Buttons.\n",
    "Produce the button of **Exercise 7** and use _Output_ widget to capture the printed messages produced when clicking it. Use the name button_1 to instantiate it. Produce another button, with name button_2, that _enables_ the button_1 when clicked and clears the instance of the _Output_ widget where the button_1 prints. Then display the two buttons and the output widget using a combination of _HBox_ and _Vbox_."
   ]
  },
  {
   "cell_type": "code",
   "execution_count": null,
   "metadata": {},
   "outputs": [],
   "source": []
  },
  {
   "cell_type": "markdown",
   "metadata": {},
   "source": [
    "### Exercise 9\n",
    "\n",
    "In this exercise you are going to produce an animation. For that, first we define the function of the next cell which plots a sine function, but displayed in terms of a parameter. Do not forget to execute that cell. Notice that we are using a keyword argument to define a default value for the parameter t.\n",
    "\n",
    "1. In a new cell call the function $\\mathtt{sine}$_$\\mathtt{wave}$ with different values of $\\mathtt{t}$ to see what you get.\n",
    "2. Use the interact method with this function and keyword argument 't=(0,200,1)'. If done correctly you should see an IntSlider taht allows you to chenge the plot shown.\n",
    "3. Instead of the keyword argument above use 't=wg.Play(XXX)', where XXX are some parameters that you need to chose conveniently. Look at the example with the _Play_ widget to figure out what to do."
   ]
  },
  {
   "cell_type": "code",
   "execution_count": 4,
   "metadata": {},
   "outputs": [],
   "source": [
    "import numpy as np\n",
    "import matplotlib.pyplot as plt\n",
    "\n",
    "x = np.linspace(0,2*np.pi,100)\n",
    "\n",
    "def sine_wave(t=0):\n",
    "    y = np.sin(x+np.pi*t/50)\n",
    "    plt.plot(x,y)\n",
    "    plt.show()"
   ]
  },
  {
   "cell_type": "code",
   "execution_count": null,
   "metadata": {},
   "outputs": [],
   "source": []
  }
 ],
 "metadata": {
  "kernelspec": {
   "display_name": "Python 3",
   "language": "python",
   "name": "python3"
  },
  "language_info": {
   "codemirror_mode": {
    "name": "ipython",
    "version": 3
   },
   "file_extension": ".py",
   "mimetype": "text/x-python",
   "name": "python",
   "nbconvert_exporter": "python",
   "pygments_lexer": "ipython3",
   "version": "3.8.5"
  }
 },
 "nbformat": 4,
 "nbformat_minor": 4
}
