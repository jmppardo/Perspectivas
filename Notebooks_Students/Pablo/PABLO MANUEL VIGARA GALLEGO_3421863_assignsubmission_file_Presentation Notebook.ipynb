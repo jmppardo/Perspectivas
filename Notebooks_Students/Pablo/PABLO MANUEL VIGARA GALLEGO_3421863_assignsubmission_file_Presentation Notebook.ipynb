{
 "cells": [
  {
   "cell_type": "markdown",
   "metadata": {},
   "source": [
    "# Academia Vigara\n",
    "\n",
    "## Introduction\n",
    "\n",
    "<img src=\"https://gestor.acaker.com/storage/img/A4HbpS4NZ2M89DebuTBxGl3KE1DoYRAzszQG3tHf.png\" width=\"40%\" style=\"align: center;\">\n",
    "\n",
    "Academia Vigara is a Small Company founded in 2016 with the main aim of helping every family with the exams in high school and univeristy.\n",
    "\n",
    "### History\n",
    "To introduce a bit the story of the company i will detail you some oof the most important hints:\n",
    "\n",
    "- **nov-2016:** The first Academia Vigara was opened. It had 40 $m^2$\n",
    "- **sep-2017:** We change venue to have more space to the closest free local.\n",
    "- **2018:**\n",
    "    - We open a seconda academy in Alcorcón.\n",
    "    - We sign two contrats in Fenlabrada.\n",
    "    - We manage the no-formal education in Alcorcón TownHall\n",
    "- **2019:** \n",
    "  - We transform the entire company and start I create **_acaKER_**.\n",
    "  - We close our venues in Fuenlabrada owing to national regulations of our goverment.\n",
    "- **2020:** Thanks to COVID que enlarge our e-teaching team and improve the acaKER department.\n",
    "- **2021:** We opened a new venue in Leganés.\n",
    "\n",
    "Currently there are three different venues where you can become an Academia Vigara Student on top of the online classes.\n",
    "\n",
    "| Alcorcón Castillos | Alcorcón Valderas  | Leganés |\n",
    "|:--|:--| :--|\n",
    "| <img src=\"https://web.academiavigara.com/img/fachada_castillos.jpg\" width=\"400px\">|<img src=\"https://web.academiavigara.com/img/fachada_languages.jpg\" width=\"400px\">|<img src=\"https://web.academiavigara.com/img/Fachada_esquina.jpeg\" width=\"400px\"> |\n",
    "\n",
    "\n",
    "if you are interested in knowing more things about the academy or the company, you can visit its website just by clicking in the following link: [website of the academy](https://academiavigara.com/)\n",
    "\n",
    "\n",
    "<div style=\"background: yellow; padding-top: 20px; padding-bottom: 20px; text-align: center; margin-top: 60px;\">\n",
    "    <h3>Important notice</h3>\n",
    "    All the data use in this notebook is <b>fake</b>. The database we are connecting has been created only for educational porpuoses. \n",
    "    Any similarity with the real life would be an absolute coincidence.\n",
    "</div>\n",
    "\n",
    "\n"
   ]
  },
  {
   "cell_type": "markdown",
   "metadata": {},
   "source": [
    "## Importing data\n",
    "\n",
    "First of all we need to obtain the data from a database where the business is working. For that I am going to create a **Class** that will help uss managing later the querys we make to the data base to manage teh information easily and without reapiting the code.\n",
    "\n",
    "For that we have to import some libraries and create the class as it can be seen below:"
   ]
  },
  {
   "cell_type": "code",
   "execution_count": 2,
   "metadata": {},
   "outputs": [],
   "source": [
    "import pymysql\n",
    "import pandas as pd\n",
    "\n",
    "class DB():\n",
    "    \n",
    "    def __init__(self):\n",
    "        self.conn=pymysql.connect(host='127.0.0.1',port=int(3306),user='root',passwd='',db='acaKER')\n",
    "        \n",
    "    \n",
    "    def query(self, query):\n",
    "        df=pd.read_sql_query(query,self.conn)\n",
    "        return df;\n",
    "    \n",
    "    def querydict(self, query):\n",
    "        df=pd.read_sql_query(query,self.conn)\n",
    "        return df.to_dict('records')\n",
    "    \n",
    "    def querylist(self, query, column):\n",
    "        df=pd.read_sql_query(query,self.conn)\n",
    "        return df[column].to_list()"
   ]
  },
  {
   "cell_type": "markdown",
   "metadata": {},
   "source": [
    "To check everything is working properly, we are going to check the number of students that the academy had for the last 12 months and we will plot it in a simple graph:"
   ]
  },
  {
   "cell_type": "code",
   "execution_count": 3,
   "metadata": {},
   "outputs": [
    {
     "name": "stdout",
     "output_type": "stream",
     "text": [
      "    ano  alumnos\n",
      "0  2019      518\n",
      "1  2020      861\n",
      "2  2021     1111\n"
     ]
    }
   ],
   "source": [
    "ask = ' SELECT YEAR(created_at) as ano, COUNT(Distinct alumno_id) as alumnos FROM detalle WHERE YEAR(created_at)>2016 GROUP BY YEAR(created_at) ORDER BY YEAR(created_at) ASC '\n",
    "\n",
    "students = DB()\n",
    "table = students.query(query = ask)\n",
    "dic = students.querydict(query = ask)\n",
    "print(table)"
   ]
  },
  {
   "cell_type": "markdown",
   "metadata": {},
   "source": [
    "To have a better view of the data, I would like to have a graph where we can check the evolution of the number of sstudents.\n",
    "\n",
    "That is why we are going to import some libraries that will help in this task."
   ]
  },
  {
   "cell_type": "code",
   "execution_count": 4,
   "metadata": {},
   "outputs": [
    {
     "data": {
      "image/png": "[encoded data removed]",
      "text/plain": [
       "<Figure size 432x288 with 1 Axes>"
      ]
     },
     "metadata": {
      "needs_background": "light"
     },
     "output_type": "display_data"
    }
   ],
   "source": [
    "import matplotlib.pyplot as plt\n",
    "import numpy as np\n",
    "\n",
    "anos = np.array( table['ano'] )\n",
    "alumnos = np.array( table['alumnos'] )\n",
    "\n",
    "plt.plot(anos,alumnos, 'o')\n",
    "plt.plot(anos,alumnos,)\n",
    "plt.title(\"Evolution oof number of students\")\n",
    "plt.xticks(np.arange(min(anos), max(anos)+1, 1.0))\n",
    "plt.xlabel(\"year\")\n",
    "plt.ylabel(\"#Students\")\n",
    "plt.legend([\"#Students\"])\n",
    "plt.show()"
   ]
  },
  {
   "cell_type": "markdown",
   "metadata": {},
   "source": [
    "Just from watching the plot, we can easily draw that the growth of the number of students is linear in the last 3 years so it would be easy to have an stimation of the number of students that there will be in the following year."
   ]
  },
  {
   "cell_type": "markdown",
   "metadata": {},
   "source": [
    "## Objective\n",
    "\n",
    "This notebook will try to solve several mathematical problems that appears in the daily task of the managers of the academy so it can be used as a tool for them to take more concious decisions. Ideally this decisions will become into better results for the company.\n",
    "\n",
    "- Get and stimations of the number of the students that the academy will have in 2022 using the current data.\n",
    "- Get an stimation of the current month income in a certain day of the month using the temporality factor.\n",
    "- Have a simple dashboard where the managers can retrive some data.\n",
    "\n",
    "For this we will define classes and functions that will help doing the maths behind this calculations and we will plot all the results for a better understanding."
   ]
  },
  {
   "cell_type": "markdown",
   "metadata": {},
   "source": [
    "---"
   ]
  },
  {
   "cell_type": "markdown",
   "metadata": {},
   "source": [
    "## Students in 2022\n",
    "\n",
    "To stimate the number of students in the following year since we had realised that the data follows a linear trend, we will use linear regresion using some basic statistics.\n",
    "\n",
    "We will try to approximates the point we have with a line that follows:\n",
    "\n",
    "$$y = mx + n$$\n",
    "\n",
    "Where the unknows are the value of $m$ and $n$.\n",
    "\n",
    "$m$ can easily be stimated using the following formula:\n",
    "\n",
    "$$ m = \\frac{S_{x y}}{S_{x}^{2}} $$\n",
    "\n",
    "And once we have computed $m$, $n$ is automatic since we know that the point $(\\bar{x}, \\bar{y})$ belongs to trend line.\n",
    "\n",
    "$$\n",
    "\\bar{y}=m \\bar{x}+n \\Rightarrow n=\\bar{y}-m \\bar{x}\n",
    "$$\n",
    "\n",
    "And finally we need to compute the Value of $S_{x y}$ and $S_{x}$:\n",
    "\n",
    "$$ S_{x y}=\\frac{\\sum_{i=1}^{n} x_{i} y_{i}}{N}-\\bar{x} \\bar{y} = \\frac{\\sum_{i=1}^{n} (\\bar{x} - x_{i})(\\bar{y} - y_{i})}{N} $$\n",
    "\n",
    "$$\n",
    "S_{x}=\\frac{\\sum_{i=1}^{n} x_{i}^2}{N}-\\bar{x}^2 = \\frac{\\sum_{i=1}^{n} (\\bar{x} - x_{i})^2}{N}\n",
    "$$\n",
    "\n",
    "\n",
    "\n"
   ]
  },
  {
   "cell_type": "code",
   "execution_count": 5,
   "metadata": {},
   "outputs": [],
   "source": [
    "class linear_regresion():\n",
    "    \n",
    "    def __init__(self,x,y):\n",
    "        self.x = np.array(x)\n",
    "        self.y = np.array(y)\n",
    "        \n",
    "    \n",
    "    def avg(self, var):\n",
    "        avg = 0\n",
    "        for i in var:\n",
    "            avg += i\n",
    "        avg /= len(var)\n",
    "        return avg\n",
    "        \n",
    "    def cov(self):\n",
    "        avgx = self.avg(var = self.x)\n",
    "        avgy = self.avg(var = self.y)\n",
    "        suma = 0\n",
    "        for i in range(len(self.x)):\n",
    "            dx = self.x[i] - avgx\n",
    "            dy = self.y[i] - avgy\n",
    "            suma += dx*dy\n",
    "        \n",
    "        cov = suma/len(self.x)\n",
    "        return cov\n",
    "    \n",
    "    def varx(self):\n",
    "        avgx = self.avg(var = self.x)\n",
    "        var = 0\n",
    "        for i in range(len(self.x)):\n",
    "            var += (self.x[i] - avgx)**2\n",
    "        var /= len(self.x)\n",
    "        return var\n",
    "    \n",
    "    def m(self):\n",
    "        m = self.cov()/(self.varx()**2)\n",
    "        return m\n",
    "    \n",
    "    def n(self):\n",
    "        return self.avg(var = self.y) - self.m()*self.avg(var = self.x)\n",
    "    \n",
    "    def stimation(self, ano):\n",
    "        students = self.n() + self.m()*ano\n",
    "        return f\"In {ano} there will be {students:.0f} in the academy.\"\n",
    "    \n",
    "    def stimation_number(self, ano):\n",
    "        y = self.n() + self.m()*ano\n",
    "        return y"
   ]
  },
  {
   "cell_type": "markdown",
   "metadata": {},
   "source": [
    "Now we have prepare a class that can be used for ant linear regresion problem, I am goint to use it to compute the number of students that there will be the following year.\n",
    "\n",
    "First we instancite the class with the data we are using and then, we will be able to know the result with just a simple line of code."
   ]
  },
  {
   "cell_type": "code",
   "execution_count": 6,
   "metadata": {},
   "outputs": [
    {
     "name": "stdout",
     "output_type": "stream",
     "text": [
      "In 2022 there will be 1720 in the academy.\n"
     ]
    }
   ],
   "source": [
    "future = linear_regresion(table['ano'],table['alumnos'])\n",
    "print(future.stimation(ano=2022))"
   ]
  },
  {
   "cell_type": "markdown",
   "metadata": {},
   "source": [
    "Using this stimation we can also draw the trend line and"
   ]
  },
  {
   "cell_type": "code",
   "execution_count": 7,
   "metadata": {},
   "outputs": [
    {
     "data": {
      "image/png": "[encoded data removed]",
      "text/plain": [
       "<Figure size 432x288 with 1 Axes>"
      ]
     },
     "metadata": {
      "needs_background": "light"
     },
     "output_type": "display_data"
    }
   ],
   "source": [
    "anos = np.append(anos,[2022])\n",
    "y_22 = future.stimation_number(ano=2022)\n",
    "alumnos = np.append(alumnos,[y_22])\n",
    "plt.plot(anos,alumnos, 'o')\n",
    "plt.title(\"ESTIMATION of the evolution oof number of students\")\n",
    "plt.xticks(np.arange(min(anos), max(anos)+1, 1.0))\n",
    "\n",
    "t = np.linspace(min(anos),max(anos), 101)\n",
    "y = future.stimation_number(ano=t)\n",
    "plt.plot(t,y)\n",
    "\n",
    "plt.xlabel(\"year\")\n",
    "plt.ylabel(\"#Students\")\n",
    "plt.legend([\"real #Students\",\"Estimation\"])\n",
    "plt.show()\n",
    "\n",
    "\n"
   ]
  },
  {
   "cell_type": "markdown",
   "metadata": {},
   "source": [
    "---"
   ]
  },
  {
   "cell_type": "markdown",
   "metadata": {},
   "source": [
    "## Comparing Dashboard\n",
    "\n",
    "Now, we are going to create a big widget where we can compere the income of a month in several years. To use that I am going to use different widget so we can easyly choose which month we may compare.\n",
    "\n",
    "First, what I need to create is the widgets. To create the widgets, we should know what are the different possibilities in the database so we would like to get the years in which we have data. From that we can create the wdgets."
   ]
  },
  {
   "cell_type": "code",
   "execution_count": 8,
   "metadata": {},
   "outputs": [],
   "source": [
    "import ipywidgets as wg\n",
    "from IPython.display import display\n",
    "\n",
    "mes = wg.FloatSlider(\n",
    "    value=1,\n",
    "    min=1,\n",
    "    max=12,\n",
    "    step=1,\n",
    "    description='MONTH:',\n",
    "    disabled=False,\n",
    "    continuous_update=True,\n",
    "    orientation='horizontal',\n",
    "    readout=True,\n",
    "    readout_format='.0f',\n",
    ")\n",
    "\n",
    "ask = 'SELECT DISTINCT YEAR(created_at) as years FROM tiquet WHERE YEAR(created_at)>0 ORDER BY YEAR(created_at) DESC'\n",
    "\n",
    "## I get the available years in the database\n",
    "years = DB()\n",
    "table = years.query(query = ask)\n",
    "years_list = years.querylist(query = ask, column = 'years')\n",
    "years_dic = years.querydict(query = ask)\n",
    "\n",
    "vec =[]\n",
    "for i in range(len(years_list)-1):\n",
    "    vec.append( f\"{years_list[i]}\" )\n",
    "\n",
    "    \n",
    "## Once the vector with the years is create, we proceed with the widgets.\n",
    "\n",
    "ano1 = wg.Dropdown(\n",
    "    options= years_list,\n",
    "    description='YEAR A:',\n",
    "    disabled=False,\n",
    ")\n",
    "\n",
    "ano2 = wg.Dropdown(\n",
    "    options=vec,\n",
    "    description='YEAR B:',\n",
    "    disabled=False,\n",
    ")\n"
   ]
  },
  {
   "cell_type": "markdown",
   "metadata": {},
   "source": [
    "Once I have the the widgets and the data ready, I need to prepare the function that works with the button that enables the comparison. In the next cell I prepare a button and it functionality so the task can be easily done."
   ]
  },
  {
   "cell_type": "code",
   "execution_count": 9,
   "metadata": {},
   "outputs": [
    {
     "name": "stdout",
     "output_type": "stream",
     "text": [
      "Select the parameters:\n"
     ]
    },
    {
     "data": {
      "application/vnd.jupyter.widget-view+json": {
       "model_id": "73255b5fe95c42ec97959398297dbac7",
       "version_major": 2,
       "version_minor": 0
      },
      "text/plain": [
       "VBox(children=(HBox(children=(FloatSlider(value=1.0, description='MONTH:', max=12.0, min=1.0, readout_format='…"
      ]
     },
     "metadata": {},
     "output_type": "display_data"
    }
   ],
   "source": [
    "button2 = wg.Button(\n",
    "    description='Compare',\n",
    "    disabled=False,\n",
    "    button_style='primary',\n",
    "    tooltip='Click me',\n",
    "    icon='money' # (FontAwesome names without the `fa-` prefix)\n",
    ")\n",
    "\n",
    "out = wg.Output()\n",
    "\n",
    "\n",
    "def action_of_button2(b):\n",
    "        out.clear_output()\n",
    "        ask = f\" SELECT YEAR(created_at) as ano, MONTH(created_at), SUM(total) as total FROM tiquet WHERE MONTH(created_at)={mes.value} AND (YEAR(created_at)={ano1.value} OR YEAR(created_at)={ano2.value}) GROUP BY YEAR(created_at), MONTH(created_at) ORDER BY YEAR(created_at) ASC, MONTH(created_at) \"\n",
    "        students = DB()\n",
    "        table = students.query(query = ask)\n",
    "        dic = students.querydict(query = ask)\n",
    "\n",
    "        with out:\n",
    "            table\n",
    "            if len(dic)>1:\n",
    "                print(f\"The {mes.value:.0f}/{ano1.value} had a turnover of {(table['total'][0]-table['total'][1]):.2f} € in comparison with {ano2.value}.\")\n",
    "            else:\n",
    "                print(\"You might choose different years to compare.\")\n",
    "            \n",
    "    \n",
    "button2.on_click(action_of_button2)\n",
    "\n",
    "print('Select the parameters:')\n",
    "wg.VBox([wg.HBox([mes, ano1, ano2]),button2,out])\n",
    "\n"
   ]
  },
  {
   "cell_type": "markdown",
   "metadata": {},
   "source": [
    "---"
   ]
  },
  {
   "cell_type": "markdown",
   "metadata": {},
   "source": [
    "## Conclusion\n",
    "\n",
    "This notebook can be quite powerfull for the managers of any academy that belongs to acakKER moreover if I finish with its development and implement many other funtionalities to analise data of the company. However, the objective that have been persued from the begining have been achived in this notebook."
   ]
  }
 ],
 "metadata": {
  "kernelspec": {
   "display_name": "Python 3",
   "language": "python",
   "name": "python3"
  },
  "language_info": {
   "codemirror_mode": {
    "name": "ipython",
    "version": 3
   },
   "file_extension": ".py",
   "mimetype": "text/x-python",
   "name": "python",
   "nbconvert_exporter": "python",
   "pygments_lexer": "ipython3",
   "version": "3.8.5"
  },
  "widgets": {
   "application/vnd.jupyter.widget-state+json": {
    "state": {
     "006936856b37440cbee5a905afaae20e": {
      "model_module": "@jupyter-widgets/base",
      "model_module_version": "1.2.0",
      "model_name": "LayoutModel",
      "state": {}
     },
     "00b0cc4d95154a119c4fef334fd2c182": {
      "model_module": "@jupyter-widgets/controls",
      "model_module_version": "1.5.0",
      "model_name": "DropdownModel",
      "state": {
       "_options_labels": [
        "1",
        "2",
        "3"
       ],
       "description": "Mes B:",
       "index": 1,
       "layout": "IPY_MODEL_a671ad89b07f44a6a09b022bb2dfba66",
       "style": "IPY_MODEL_c0dc99a211a44bcbb6c7b31e6a030205"
      }
     },
     "00b59697894f410290f880bb1300078b": {
      "model_module": "@jupyter-widgets/controls",
      "model_module_version": "1.5.0",
      "model_name": "ButtonStyleModel",
      "state": {}
     },
     "00d19020b1b044e7aa07a49e8b85d9bd": {
      "model_module": "@jupyter-widgets/output",
      "model_module_version": "1.0.0",
      "model_name": "OutputModel",
      "state": {
       "layout": "IPY_MODEL_fb6dcbb209bd4faf9f0a8a607f8e3935",
       "outputs": [
        {
         "name": "stdout",
         "output_type": "stream",
         "text": "En el mes  7.0 / 2021  se facturó  -74.45000000000005  € respecto  2020\n"
        }
       ]
      }
     },
     "017194aa7c9a427d984d96bb60ce5dfd": {
      "model_module": "@jupyter-widgets/base",
      "model_module_version": "1.2.0",
      "model_name": "LayoutModel",
      "state": {}
     },
     "02626925e5f24f758745e9b52ecf4053": {
      "model_module": "@jupyter-widgets/base",
      "model_module_version": "1.2.0",
      "model_name": "LayoutModel",
      "state": {}
     },
     "0272e841325c462eabc8c2cef2f064c6": {
      "model_module": "@jupyter-widgets/base",
      "model_module_version": "1.2.0",
      "model_name": "LayoutModel",
      "state": {}
     },
     "0294e7bcac7f4635a054f09d579286a9": {
      "model_module": "@jupyter-widgets/base",
      "model_module_version": "1.2.0",
      "model_name": "LayoutModel",
      "state": {}
     },
     "02c3d1b4f87c4c4e99a764815bf46a90": {
      "model_module": "@jupyter-widgets/base",
      "model_module_version": "1.2.0",
      "model_name": "LayoutModel",
      "state": {}
     },
     "03f1e2305632460cb7d9e4ccdf2aa1d9": {
      "model_module": "@jupyter-widgets/controls",
      "model_module_version": "1.5.0",
      "model_name": "DropdownModel",
      "state": {
       "_options_labels": [
        "2021",
        "2020",
        "2019",
        "2018",
        "2017"
       ],
       "description": "YEAR B:",
       "index": 3,
       "layout": "IPY_MODEL_61642e18b500432ba797f69506c92a2e",
       "style": "IPY_MODEL_09157c4e63f2460b9889d411e8037076"
      }
     },
     "0439d72619d84b57b68733c6f0842a1c": {
      "model_module": "@jupyter-widgets/controls",
      "model_module_version": "1.5.0",
      "model_name": "SliderStyleModel",
      "state": {
       "description_width": ""
      }
     },
     "0447455bdd8d4864a5462ad5454d92f6": {
      "model_module": "@jupyter-widgets/controls",
      "model_module_version": "1.5.0",
      "model_name": "DropdownModel",
      "state": {
       "_options_labels": [
        "1",
        "2",
        "3"
       ],
       "description": "Mes B:",
       "index": 1,
       "layout": "IPY_MODEL_05a153b43a6a48469469b4f495f33482",
       "style": "IPY_MODEL_ea3c7d35a0f644bd9da6f4a6962382b8"
      }
     },
     "0507a4dd2b7b431f8d8eec1f2ea8f4be": {
      "model_module": "@jupyter-widgets/controls",
      "model_module_version": "1.5.0",
      "model_name": "DropdownModel",
      "state": {
       "_options_labels": [
        "2016",
        "2017",
        "2018",
        "2019",
        "2020"
       ],
       "description": "YEAR B:",
       "index": 0,
       "layout": "IPY_MODEL_9ab8093bf7b2487db77fc18169548204",
       "style": "IPY_MODEL_8e7af9a667964cf0bb99aab012da9df0"
      }
     },
     "055528dcd7114d1198dc6018940b7e11": {
      "model_module": "@jupyter-widgets/controls",
      "model_module_version": "1.5.0",
      "model_name": "DescriptionStyleModel",
      "state": {
       "description_width": ""
      }
     },
     "0564589d684a45708e7ebf87115fe2fa": {
      "model_module": "@jupyter-widgets/output",
      "model_module_version": "1.0.0",
      "model_name": "OutputModel",
      "state": {
       "layout": "IPY_MODEL_d923725e01104317b190fe568d99a3a4",
       "outputs": [
        {
         "name": "stdout",
         "output_type": "stream",
         "text": "En el mes 4/2021 se facturó -15933.87 € respecto 2019\n"
        }
       ]
      }
     },
     "05a153b43a6a48469469b4f495f33482": {
      "model_module": "@jupyter-widgets/base",
      "model_module_version": "1.2.0",
      "model_name": "LayoutModel",
      "state": {}
     },
     "06ca77c73d614af1bb14cae408736690": {
      "model_module": "@jupyter-widgets/controls",
      "model_module_version": "1.5.0",
      "model_name": "VBoxModel",
      "state": {
       "children": [
        "IPY_MODEL_3227f82b0de8497ead00d9e33600e0cb",
        "IPY_MODEL_f95d0d6e67ee4bb3ab62966451e97dc6"
       ],
       "layout": "IPY_MODEL_a32c5776d9f143dd8343333aa50609c8"
      }
     },
     "06dcc420203a44f3ab3ad4c27ffcaa45": {
      "model_module": "@jupyter-widgets/controls",
      "model_module_version": "1.5.0",
      "model_name": "HBoxModel",
      "state": {
       "children": [
        "IPY_MODEL_5794e6f8a1dc445888a377a681828cd2",
        "IPY_MODEL_71b17b4e5e224091826e0d42e661f4ee",
        "IPY_MODEL_03f1e2305632460cb7d9e4ccdf2aa1d9"
       ],
       "layout": "IPY_MODEL_923abb07769e467c9f5c5201c3455483"
      }
     },
     "06f39ef435b24aa997dcc7076eb370f2": {
      "model_module": "@jupyter-widgets/controls",
      "model_module_version": "1.5.0",
      "model_name": "FloatSliderModel",
      "state": {
       "description": "MES:",
       "layout": "IPY_MODEL_821c0312e0424e689033af7629068913",
       "max": 12,
       "min": 1,
       "readout_format": ".0f",
       "style": "IPY_MODEL_250d715c34e3485995c4e2113fda08ff",
       "value": 2
      }
     },
     "07910f89bc70429c95417408c8069e43": {
      "model_module": "@jupyter-widgets/controls",
      "model_module_version": "1.5.0",
      "model_name": "FloatSliderModel",
      "state": {
       "description": "MES:",
       "layout": "IPY_MODEL_9bd140e04bba40e0a05c07e3d1760f6a",
       "max": 12,
       "min": 1,
       "readout_format": ".0f",
       "style": "IPY_MODEL_3904132cfebd44d2ba730f97fd82d193",
       "value": 1
      }
     },
     "07bc6e900c43481992e540ca99fed265": {
      "model_module": "@jupyter-widgets/base",
      "model_module_version": "1.2.0",
      "model_name": "LayoutModel",
      "state": {}
     },
     "0805ab42e13444e89dad3d998416cb8a": {
      "model_module": "@jupyter-widgets/controls",
      "model_module_version": "1.5.0",
      "model_name": "FloatSliderModel",
      "state": {
       "description": "MES:",
       "layout": "IPY_MODEL_382b2635b59e4e6c895947fdb75ee8fc",
       "max": 12,
       "min": 1,
       "readout_format": ".0f",
       "style": "IPY_MODEL_209dbf07476541c994923858aeef644a",
       "value": 1
      }
     },
     "08099ddd100444dbb43427913ee864b3": {
      "model_module": "@jupyter-widgets/controls",
      "model_module_version": "1.5.0",
      "model_name": "SliderStyleModel",
      "state": {
       "description_width": ""
      }
     },
     "083d9ef1ab9b4d2c9aace4eaa8f40407": {
      "model_module": "@jupyter-widgets/base",
      "model_module_version": "1.2.0",
      "model_name": "LayoutModel",
      "state": {}
     },
     "0906179728374089a84254ab7fd1c050": {
      "model_module": "@jupyter-widgets/controls",
      "model_module_version": "1.5.0",
      "model_name": "VBoxModel",
      "state": {
       "children": [
        "IPY_MODEL_39cdbba948744e25a21c546ada83750f",
        "IPY_MODEL_51169a952f7b444fa1b98073c1f2f33e",
        "IPY_MODEL_33fd7c3c921e4fd783862893d590b6b9"
       ],
       "layout": "IPY_MODEL_f0237a7661a94e90bfc28200912fed94"
      }
     },
     "09157c4e63f2460b9889d411e8037076": {
      "model_module": "@jupyter-widgets/controls",
      "model_module_version": "1.5.0",
      "model_name": "DescriptionStyleModel",
      "state": {
       "description_width": ""
      }
     },
     "092adce8c2b74f5a999e26ad8d57e3bd": {
      "model_module": "@jupyter-widgets/base",
      "model_module_version": "1.2.0",
      "model_name": "LayoutModel",
      "state": {}
     },
     "0986db88db4348c9a841f3857aafbc2b": {
      "model_module": "@jupyter-widgets/base",
      "model_module_version": "1.2.0",
      "model_name": "LayoutModel",
      "state": {}
     },
     "09daa99d12e14336b5a2866ae3d23d61": {
      "model_module": "@jupyter-widgets/base",
      "model_module_version": "1.2.0",
      "model_name": "LayoutModel",
      "state": {}
     },
     "0a4f1f9c42d34f84b8144746e2ad5a0c": {
      "model_module": "@jupyter-widgets/controls",
      "model_module_version": "1.5.0",
      "model_name": "FloatSliderModel",
      "state": {
       "description": "MES:",
       "layout": "IPY_MODEL_d2c1e01c23a14a2aad20131f15ebddee",
       "max": 12,
       "min": 1,
       "readout_format": ".0f",
       "style": "IPY_MODEL_a67b1d79874a48e38d1a93b6d6df6d68",
       "value": 1
      }
     },
     "0a755b87101542ffa465c704dcb699c0": {
      "model_module": "@jupyter-widgets/controls",
      "model_module_version": "1.5.0",
      "model_name": "SliderStyleModel",
      "state": {
       "description_width": ""
      }
     },
     "0bf9c1ada4844e469c2d29c663eda47b": {
      "model_module": "@jupyter-widgets/controls",
      "model_module_version": "1.5.0",
      "model_name": "DescriptionStyleModel",
      "state": {
       "description_width": ""
      }
     },
     "0c15f8caa89049929926a1129983f1d5": {
      "model_module": "@jupyter-widgets/controls",
      "model_module_version": "1.5.0",
      "model_name": "VBoxModel",
      "state": {
       "children": [
        "IPY_MODEL_f6cec444c6104acb8c3053e7a0ac7b30",
        "IPY_MODEL_b9d2b05d94714d69833be26f74cfcd73",
        "IPY_MODEL_00d19020b1b044e7aa07a49e8b85d9bd"
       ],
       "layout": "IPY_MODEL_77c3edc363904518a0bf6bb3bf62d621"
      }
     },
     "0c3132caef2144458c36d982ee4fd54c": {
      "model_module": "@jupyter-widgets/base",
      "model_module_version": "1.2.0",
      "model_name": "LayoutModel",
      "state": {}
     },
     "0c5e35b9fd424483bc216a30d0204bb2": {
      "model_module": "@jupyter-widgets/controls",
      "model_module_version": "1.5.0",
      "model_name": "VBoxModel",
      "state": {
       "children": [
        "IPY_MODEL_238d5d5ff1554934acc7e41f3233279a",
        "IPY_MODEL_6017df4c60cf4d079b52cef0b270e544"
       ],
       "layout": "IPY_MODEL_86263e46bd754f6bb95369b3bc9b0ab9"
      }
     },
     "0cb59e8c668b49499f89fb24b90c66ec": {
      "model_module": "@jupyter-widgets/base",
      "model_module_version": "1.2.0",
      "model_name": "LayoutModel",
      "state": {}
     },
     "0d26fe7fad08478697124cd18392106a": {
      "model_module": "@jupyter-widgets/controls",
      "model_module_version": "1.5.0",
      "model_name": "SliderStyleModel",
      "state": {
       "description_width": ""
      }
     },
     "0e00bc055e5848c1a659917ed1eb7a94": {
      "model_module": "@jupyter-widgets/controls",
      "model_module_version": "1.5.0",
      "model_name": "FloatSliderModel",
      "state": {
       "description": "MES:",
       "layout": "IPY_MODEL_6c6af68f14b041d09e8e107311249229",
       "max": 12,
       "min": 1,
       "readout_format": ".0f",
       "style": "IPY_MODEL_8416cfd6e47f42469c57e545bf7a8913",
       "value": 1
      }
     },
     "0f237225d71744549e378b86556ab580": {
      "model_module": "@jupyter-widgets/base",
      "model_module_version": "1.2.0",
      "model_name": "LayoutModel",
      "state": {}
     },
     "0f9f2494faf74d879ffc7f34da786075": {
      "model_module": "@jupyter-widgets/controls",
      "model_module_version": "1.5.0",
      "model_name": "DropdownModel",
      "state": {
       "_options_labels": [
        "1",
        "2",
        "3"
       ],
       "description": "Mes A:",
       "index": 1,
       "layout": "IPY_MODEL_c77cb25a0f2448ffb9bc4d43f490b582",
       "style": "IPY_MODEL_97edf4d7f1c04beda3c1a4c1d9352bec"
      }
     },
     "0fc2225272764814a5f82df14942c333": {
      "model_module": "@jupyter-widgets/controls",
      "model_module_version": "1.5.0",
      "model_name": "ButtonStyleModel",
      "state": {}
     },
     "0fd074bc2c6a4e64852388f6db37e059": {
      "model_module": "@jupyter-widgets/base",
      "model_module_version": "1.2.0",
      "model_name": "LayoutModel",
      "state": {}
     },
     "0fdbefa21ba84ff48f9e3dd2e2665e1d": {
      "model_module": "@jupyter-widgets/controls",
      "model_module_version": "1.5.0",
      "model_name": "FloatSliderModel",
      "state": {
       "description": "MES:",
       "layout": "IPY_MODEL_ff4705ba521f4555b62602c023205d2a",
       "max": 12,
       "min": 1,
       "readout_format": ".0f",
       "style": "IPY_MODEL_8af3243b115e4cfcb815c1f2b1f52678",
       "value": 1
      }
     },
     "0ff8e18aadb84ca48a9c846f2e0ce0e9": {
      "model_module": "@jupyter-widgets/base",
      "model_module_version": "1.2.0",
      "model_name": "LayoutModel",
      "state": {}
     },
     "1035077a035040f0abae19052074f37e": {
      "model_module": "@jupyter-widgets/controls",
      "model_module_version": "1.5.0",
      "model_name": "DescriptionStyleModel",
      "state": {
       "description_width": ""
      }
     },
     "1077ef7ff93543f289ee3c94146ef31c": {
      "model_module": "@jupyter-widgets/controls",
      "model_module_version": "1.5.0",
      "model_name": "HBoxModel",
      "state": {
       "children": [
        "IPY_MODEL_57aefdbe0ebe4ab3b72b54f8e1381299",
        "IPY_MODEL_6739f1d82d7e46148324f572b017190a",
        "IPY_MODEL_ba66d741e53e456781b8944962e2b7b9"
       ],
       "layout": "IPY_MODEL_5d4c48a77523406bbcec9c6b5a1275b6"
      }
     },
     "112a6a0f5e5640ebaf73900b62ef714a": {
      "model_module": "@jupyter-widgets/base",
      "model_module_version": "1.2.0",
      "model_name": "LayoutModel",
      "state": {}
     },
     "119e005e1b4242408973a617436b9be5": {
      "model_module": "@jupyter-widgets/controls",
      "model_module_version": "1.5.0",
      "model_name": "VBoxModel",
      "state": {
       "children": [
        "IPY_MODEL_8b0cf10db85f4193be69aeba8d81e52d",
        "IPY_MODEL_6e2e6bfe79f9414fa84bd2cb6e2a1412",
        "IPY_MODEL_6560842da2124dd6aec53217139d9b73"
       ],
       "layout": "IPY_MODEL_02c3d1b4f87c4c4e99a764815bf46a90"
      }
     },
     "11f1513e56134558959eee98d2ca0fc2": {
      "model_module": "@jupyter-widgets/controls",
      "model_module_version": "1.5.0",
      "model_name": "SliderStyleModel",
      "state": {
       "description_width": ""
      }
     },
     "1218d7af37a64ba2a3b0b1d2ffe1a007": {
      "model_module": "@jupyter-widgets/base",
      "model_module_version": "1.2.0",
      "model_name": "LayoutModel",
      "state": {}
     },
     "127ebfe0014844898a0cf3bf3d2fbd14": {
      "model_module": "@jupyter-widgets/controls",
      "model_module_version": "1.5.0",
      "model_name": "SliderStyleModel",
      "state": {
       "description_width": ""
      }
     },
     "12a4c090784445eb9e83cc561550b8d3": {
      "model_module": "@jupyter-widgets/base",
      "model_module_version": "1.2.0",
      "model_name": "LayoutModel",
      "state": {}
     },
     "12dd8ab71dd140a98d129274aeebfb95": {
      "model_module": "@jupyter-widgets/controls",
      "model_module_version": "1.5.0",
      "model_name": "DescriptionStyleModel",
      "state": {
       "description_width": ""
      }
     },
     "13e910e12f544bf6b04a4e11be24380d": {
      "model_module": "@jupyter-widgets/base",
      "model_module_version": "1.2.0",
      "model_name": "LayoutModel",
      "state": {}
     },
     "140f4c6f68a74929906bbfe6ca46c4d9": {
      "model_module": "@jupyter-widgets/controls",
      "model_module_version": "1.5.0",
      "model_name": "ButtonModel",
      "state": {
       "description": "Click me",
       "icon": "check",
       "layout": "IPY_MODEL_333995e2b18b482bb0a1de761ce1d784",
       "style": "IPY_MODEL_b1c36103339c48dcb5576fe0eab32851",
       "tooltip": "Click me"
      }
     },
     "1430e2e4e3fc4ba59d4cd70885e2ccf3": {
      "model_module": "@jupyter-widgets/base",
      "model_module_version": "1.2.0",
      "model_name": "LayoutModel",
      "state": {}
     },
     "14406d9ea1ca43deab0a266ccda4e18d": {
      "model_module": "@jupyter-widgets/base",
      "model_module_version": "1.2.0",
      "model_name": "LayoutModel",
      "state": {}
     },
     "1480bae4143e4659951258f4329302b2": {
      "model_module": "@jupyter-widgets/controls",
      "model_module_version": "1.5.0",
      "model_name": "SliderStyleModel",
      "state": {
       "description_width": ""
      }
     },
     "14da1db3f2bc4c948dab1da114325379": {
      "model_module": "@jupyter-widgets/controls",
      "model_module_version": "1.5.0",
      "model_name": "FloatSliderModel",
      "state": {
       "description": "MES:",
       "layout": "IPY_MODEL_81ed540b1ab442aba4450f264e831c33",
       "max": 12,
       "min": 1,
       "readout_format": ".0f",
       "style": "IPY_MODEL_0439d72619d84b57b68733c6f0842a1c",
       "value": 1
      }
     },
     "158ed881e9834efd9080ae07cbe8e431": {
      "model_module": "@jupyter-widgets/base",
      "model_module_version": "1.2.0",
      "model_name": "LayoutModel",
      "state": {}
     },
     "15979dd967604a0eba08c6d3347ab867": {
      "model_module": "@jupyter-widgets/controls",
      "model_module_version": "1.5.0",
      "model_name": "SliderStyleModel",
      "state": {
       "description_width": ""
      }
     },
     "15cc1ed8ce22421bbac35de143fbe57b": {
      "model_module": "@jupyter-widgets/controls",
      "model_module_version": "1.5.0",
      "model_name": "SliderStyleModel",
      "state": {
       "description_width": ""
      }
     },
     "162e8feaed94423f8e6021a3daf4b4ec": {
      "model_module": "@jupyter-widgets/controls",
      "model_module_version": "1.5.0",
      "model_name": "FloatSliderModel",
      "state": {
       "description": "MES:",
       "layout": "IPY_MODEL_767ea4f8e6be455ab70bd57212c97815",
       "max": 12,
       "min": 1,
       "readout_format": ".0f",
       "style": "IPY_MODEL_d4ab555878564b3c8d34ddc8c32a9c84",
       "value": 1
      }
     },
     "16887ef37cb64c52867fc1b0da0fa262": {
      "model_module": "@jupyter-widgets/base",
      "model_module_version": "1.2.0",
      "model_name": "LayoutModel",
      "state": {}
     },
     "173090da14ba404d822c3c08251da191": {
      "model_module": "@jupyter-widgets/base",
      "model_module_version": "1.2.0",
      "model_name": "LayoutModel",
      "state": {}
     },
     "179776cddbaa4b3bbc775740180b41d0": {
      "model_module": "@jupyter-widgets/controls",
      "model_module_version": "1.5.0",
      "model_name": "VBoxModel",
      "state": {
       "children": [
        "IPY_MODEL_5a61fc3fbcf742eba14e989f592e61a5",
        "IPY_MODEL_1c62783005784c0b8e677af7974d59c3",
        "IPY_MODEL_af03ce1cfc214e46b1c76a58b232a5ef"
       ],
       "layout": "IPY_MODEL_1430e2e4e3fc4ba59d4cd70885e2ccf3"
      }
     },
     "17e079d3579d4b33a10313b25810b0ed": {
      "model_module": "@jupyter-widgets/controls",
      "model_module_version": "1.5.0",
      "model_name": "DescriptionStyleModel",
      "state": {
       "description_width": ""
      }
     },
     "18293b19c7ed4da29fb7c2082a1ae62d": {
      "model_module": "@jupyter-widgets/controls",
      "model_module_version": "1.5.0",
      "model_name": "SliderStyleModel",
      "state": {
       "description_width": ""
      }
     },
     "18a999442ae84f0a8aa6608c5ed4d693": {
      "model_module": "@jupyter-widgets/base",
      "model_module_version": "1.2.0",
      "model_name": "LayoutModel",
      "state": {}
     },
     "195cb8699af24775b31fa2f4e4df2dca": {
      "model_module": "@jupyter-widgets/controls",
      "model_module_version": "1.5.0",
      "model_name": "DropdownModel",
      "state": {
       "_options_labels": [
        "2021",
        "2020",
        "2019",
        "2018",
        "2017"
       ],
       "description": "YEAR B:",
       "index": 3,
       "layout": "IPY_MODEL_6242d7ed73734199904729bafc2fcf53",
       "style": "IPY_MODEL_4661edc352444d5fb32ae3503944552a"
      }
     },
     "197fa8a9747f4f43b3304510822f2cfb": {
      "model_module": "@jupyter-widgets/controls",
      "model_module_version": "1.5.0",
      "model_name": "FloatSliderModel",
      "state": {
       "description": "MES:",
       "layout": "IPY_MODEL_2ef50f7cf0c047559776e4d161b210e4",
       "max": 12,
       "min": 1,
       "readout_format": ".0f",
       "style": "IPY_MODEL_c898989c1ebb4fe9ac62c4ebc205883b",
       "value": 1
      }
     },
     "19ce25244f7d4701896b6be614a9b921": {
      "model_module": "@jupyter-widgets/base",
      "model_module_version": "1.2.0",
      "model_name": "LayoutModel",
      "state": {}
     },
     "1abc8ee79a03469b8897b4c9714b3119": {
      "model_module": "@jupyter-widgets/controls",
      "model_module_version": "1.5.0",
      "model_name": "ButtonStyleModel",
      "state": {}
     },
     "1abcecd95196475c92014e43ae62f9a3": {
      "model_module": "@jupyter-widgets/base",
      "model_module_version": "1.2.0",
      "model_name": "LayoutModel",
      "state": {}
     },
     "1b096bf9bc944f3387b5e3c92cd0c596": {
      "model_module": "@jupyter-widgets/base",
      "model_module_version": "1.2.0",
      "model_name": "LayoutModel",
      "state": {}
     },
     "1b25fab64c32404a8fc3a5d4bbd4a004": {
      "model_module": "@jupyter-widgets/controls",
      "model_module_version": "1.5.0",
      "model_name": "SliderStyleModel",
      "state": {
       "description_width": ""
      }
     },
     "1b5dbe850f0049678ff2c5813b3d26d0": {
      "model_module": "@jupyter-widgets/controls",
      "model_module_version": "1.5.0",
      "model_name": "ButtonModel",
      "state": {
       "description": "Click me",
       "icon": "check",
       "layout": "IPY_MODEL_8ad28e0dda8c464ca53cb5f0dbd94b41",
       "style": "IPY_MODEL_ffefa8619c01490395c47933646283ce",
       "tooltip": "Click me"
      }
     },
     "1c4c59e7fd854b7f88a9c246c6b1125e": {
      "model_module": "@jupyter-widgets/output",
      "model_module_version": "1.0.0",
      "model_name": "OutputModel",
      "state": {
       "layout": "IPY_MODEL_43977739abb5490dbde96f683d5ca51a",
       "outputs": [
        {
         "name": "stdout",
         "output_type": "stream",
         "text": "    ano  MONTH(created_at)    total\n0  2019                  4  21038.8\n1  2020                  4  15421.3\n21038.8\n"
        }
       ]
      }
     },
     "1c62783005784c0b8e677af7974d59c3": {
      "model_module": "@jupyter-widgets/controls",
      "model_module_version": "1.5.0",
      "model_name": "ButtonModel",
      "state": {
       "button_style": "primary",
       "description": "Compare",
       "icon": "money",
       "layout": "IPY_MODEL_db0b3ff7f2f54464bed6bb9ae6e94cf1",
       "style": "IPY_MODEL_95b7b6a5e42f44ff8b21b972e387ad1a",
       "tooltip": "Click me"
      }
     },
     "1c94f9b8950240ceaf418084df219680": {
      "model_module": "@jupyter-widgets/controls",
      "model_module_version": "1.5.0",
      "model_name": "FloatSliderModel",
      "state": {
       "description": "MES:",
       "layout": "IPY_MODEL_695e872d0de146a5a7bf5aeab7d95267",
       "max": 12,
       "min": 1,
       "readout_format": ".0f",
       "style": "IPY_MODEL_dc9492ec26fb446d80cf9b9d728ed0a6",
       "value": 1
      }
     },
     "1cf3ab0d462f437884dc242a4f9e84cb": {
      "model_module": "@jupyter-widgets/base",
      "model_module_version": "1.2.0",
      "model_name": "LayoutModel",
      "state": {}
     },
     "1d014209fbaf4e8487ba5e08ea323015": {
      "model_module": "@jupyter-widgets/controls",
      "model_module_version": "1.5.0",
      "model_name": "FloatSliderModel",
      "state": {
       "description": "MES:",
       "layout": "IPY_MODEL_c83a907102fd40debb4211ddb9c100bd",
       "max": 12,
       "min": 1,
       "readout_format": ".0f",
       "style": "IPY_MODEL_ef58c949db92495e8fc16c501a9b107f",
       "value": 1
      }
     },
     "1d84678b301942539c73404f8db3af8f": {
      "model_module": "@jupyter-widgets/controls",
      "model_module_version": "1.5.0",
      "model_name": "DropdownModel",
      "state": {
       "_options_labels": [
        "2016",
        "2017",
        "2018",
        "2019",
        "2020",
        "2021"
       ],
       "description": "Mes B:",
       "index": 0,
       "layout": "IPY_MODEL_491c27ec029e47808cc7b14ffd30045a",
       "style": "IPY_MODEL_7745670a3d6e49a88eec6ff70f8f85e9"
      }
     },
     "1da0c28a04294132834f35b1c71e6d46": {
      "model_module": "@jupyter-widgets/controls",
      "model_module_version": "1.5.0",
      "model_name": "SliderStyleModel",
      "state": {
       "description_width": ""
      }
     },
     "1debd1e3c2f945bfa4b6ea6836e71826": {
      "model_module": "@jupyter-widgets/base",
      "model_module_version": "1.2.0",
      "model_name": "LayoutModel",
      "state": {}
     },
     "1e579caa993a4130b99e31926afe9940": {
      "model_module": "@jupyter-widgets/controls",
      "model_module_version": "1.5.0",
      "model_name": "ButtonModel",
      "state": {
       "description": "Click me",
       "icon": "check",
       "layout": "IPY_MODEL_963dd168a577434d833a36f156b70d7e",
       "style": "IPY_MODEL_c3cd2243edc24a13bb063fb84a332df7",
       "tooltip": "Click me"
      }
     },
     "1e6bf50af08b482e9f53df2f18dc1ebb": {
      "model_module": "@jupyter-widgets/controls",
      "model_module_version": "1.5.0",
      "model_name": "ButtonStyleModel",
      "state": {}
     },
     "1f104a600fba421cb3371a52ddc0219b": {
      "model_module": "@jupyter-widgets/base",
      "model_module_version": "1.2.0",
      "model_name": "LayoutModel",
      "state": {}
     },
     "1f3600c9a1b443ca9d19d85dc9a3aea2": {
      "model_module": "@jupyter-widgets/base",
      "model_module_version": "1.2.0",
      "model_name": "LayoutModel",
      "state": {}
     },
     "1fdc45d4890c4514a2f30fa79e045d90": {
      "model_module": "@jupyter-widgets/output",
      "model_module_version": "1.0.0",
      "model_name": "OutputModel",
      "state": {
       "layout": "IPY_MODEL_60117bd71f2442f9b4f216635252d718"
      }
     },
     "2066bf294eac44b283ce359156084238": {
      "model_module": "@jupyter-widgets/controls",
      "model_module_version": "1.5.0",
      "model_name": "ButtonStyleModel",
      "state": {}
     },
     "207f9fc30c9c477ea91a70f4e878ea56": {
      "model_module": "@jupyter-widgets/controls",
      "model_module_version": "1.5.0",
      "model_name": "DescriptionStyleModel",
      "state": {
       "description_width": ""
      }
     },
     "209332e6fc784019b547966e48e4af1d": {
      "model_module": "@jupyter-widgets/controls",
      "model_module_version": "1.5.0",
      "model_name": "FloatSliderModel",
      "state": {
       "description": "MES:",
       "layout": "IPY_MODEL_5a04cd4ea250407c893592532c4e2497",
       "max": 12,
       "min": 1,
       "readout_format": ".0f",
       "style": "IPY_MODEL_2b26f78ce4c74c14bb013d60e4315107",
       "value": 1
      }
     },
     "209dbf07476541c994923858aeef644a": {
      "model_module": "@jupyter-widgets/controls",
      "model_module_version": "1.5.0",
      "model_name": "SliderStyleModel",
      "state": {
       "description_width": ""
      }
     },
     "20bd5a6a021a469f97792f4ea0f18325": {
      "model_module": "@jupyter-widgets/controls",
      "model_module_version": "1.5.0",
      "model_name": "DescriptionStyleModel",
      "state": {
       "description_width": ""
      }
     },
     "20fa3a2247704129b6b1229731d44311": {
      "model_module": "@jupyter-widgets/base",
      "model_module_version": "1.2.0",
      "model_name": "LayoutModel",
      "state": {}
     },
     "21fb0506d38347949039a01de8a3aec5": {
      "model_module": "@jupyter-widgets/controls",
      "model_module_version": "1.5.0",
      "model_name": "ButtonStyleModel",
      "state": {}
     },
     "229a4cd5c75349148e6e49eacac1daed": {
      "model_module": "@jupyter-widgets/base",
      "model_module_version": "1.2.0",
      "model_name": "LayoutModel",
      "state": {}
     },
     "22c7774b27594c19982cca42df264424": {
      "model_module": "@jupyter-widgets/base",
      "model_module_version": "1.2.0",
      "model_name": "LayoutModel",
      "state": {}
     },
     "238d5d5ff1554934acc7e41f3233279a": {
      "model_module": "@jupyter-widgets/controls",
      "model_module_version": "1.5.0",
      "model_name": "ButtonModel",
      "state": {
       "description": "Click me",
       "icon": "check",
       "layout": "IPY_MODEL_b35752a39ed444798eb7fe4083cd4898",
       "style": "IPY_MODEL_1abc8ee79a03469b8897b4c9714b3119",
       "tooltip": "Click me"
      }
     },
     "23f7bf244e384f1494b44a049d63aecf": {
      "model_module": "@jupyter-widgets/base",
      "model_module_version": "1.2.0",
      "model_name": "LayoutModel",
      "state": {}
     },
     "247e8841aa054356a6384f4ce81bd959": {
      "model_module": "@jupyter-widgets/controls",
      "model_module_version": "1.5.0",
      "model_name": "DropdownModel",
      "state": {
       "_options_labels": [
        "2021",
        "2020",
        "2019",
        "2018",
        "2017",
        "2016"
       ],
       "description": "YEAR A:",
       "index": 1,
       "layout": "IPY_MODEL_18a999442ae84f0a8aa6608c5ed4d693",
       "style": "IPY_MODEL_0bf9c1ada4844e469c2d29c663eda47b"
      }
     },
     "24da4a032f4f479f9767a32e08aff0bb": {
      "model_module": "@jupyter-widgets/controls",
      "model_module_version": "1.5.0",
      "model_name": "HBoxModel",
      "state": {
       "children": [
        "IPY_MODEL_57aefdbe0ebe4ab3b72b54f8e1381299",
        "IPY_MODEL_6739f1d82d7e46148324f572b017190a",
        "IPY_MODEL_ba66d741e53e456781b8944962e2b7b9"
       ],
       "layout": "IPY_MODEL_677118c903514dc38df2b4dc94bc2861"
      }
     },
     "24efbe023f3e4b0c93cebc2d10198596": {
      "model_module": "@jupyter-widgets/controls",
      "model_module_version": "1.5.0",
      "model_name": "FloatSliderModel",
      "state": {
       "description": "MES:",
       "layout": "IPY_MODEL_4555bcb0f0dd492b886b6e9dcc94bff3",
       "max": 12,
       "min": 1,
       "readout_format": ".0f",
       "style": "IPY_MODEL_47c737fbd2f14d55be1d6d596d8cf543",
       "value": 1
      }
     },
     "250d715c34e3485995c4e2113fda08ff": {
      "model_module": "@jupyter-widgets/controls",
      "model_module_version": "1.5.0",
      "model_name": "SliderStyleModel",
      "state": {
       "description_width": ""
      }
     },
     "2513d88546e940769fc430fdb94c1958": {
      "model_module": "@jupyter-widgets/base",
      "model_module_version": "1.2.0",
      "model_name": "LayoutModel",
      "state": {}
     },
     "26bef21597cb4f0492e1b3470755ef49": {
      "model_module": "@jupyter-widgets/controls",
      "model_module_version": "1.5.0",
      "model_name": "DescriptionStyleModel",
      "state": {
       "description_width": ""
      }
     },
     "270695c3b8384780b386d4a7ddd18c34": {
      "model_module": "@jupyter-widgets/controls",
      "model_module_version": "1.5.0",
      "model_name": "DropdownModel",
      "state": {
       "_options_labels": [
        "2021",
        "2020",
        "2019",
        "2018",
        "2017",
        "2016"
       ],
       "description": "YEAR A:",
       "index": 2,
       "layout": "IPY_MODEL_da6e7aa543694ccfbd8b4745771570d3",
       "style": "IPY_MODEL_61303fb92d584033bec590e32a4e8a44"
      }
     },
     "285a5af35cba44a3b30596505e4abcff": {
      "model_module": "@jupyter-widgets/base",
      "model_module_version": "1.2.0",
      "model_name": "LayoutModel",
      "state": {}
     },
     "28c64a53ab0a495faf0e31d8eac5069d": {
      "model_module": "@jupyter-widgets/controls",
      "model_module_version": "1.5.0",
      "model_name": "DropdownModel",
      "state": {
       "_options_labels": [
        "1",
        "2",
        "3"
       ],
       "description": "Number:",
       "index": 1,
       "layout": "IPY_MODEL_b446956aa76f46849d276db90b88c652",
       "style": "IPY_MODEL_cca82e217b034b44baee85b46b10a957"
      }
     },
     "29a395409ee34d85ab57680a33348fb9": {
      "model_module": "@jupyter-widgets/controls",
      "model_module_version": "1.5.0",
      "model_name": "SliderStyleModel",
      "state": {
       "description_width": ""
      }
     },
     "29eeab9b22c942f18319942dfe681b39": {
      "model_module": "@jupyter-widgets/base",
      "model_module_version": "1.2.0",
      "model_name": "LayoutModel",
      "state": {}
     },
     "2a655f989bb946b798f9156099324d7a": {
      "model_module": "@jupyter-widgets/controls",
      "model_module_version": "1.5.0",
      "model_name": "DescriptionStyleModel",
      "state": {
       "description_width": ""
      }
     },
     "2a9b5bc85da3433daa58c08566105d60": {
      "model_module": "@jupyter-widgets/output",
      "model_module_version": "1.0.0",
      "model_name": "OutputModel",
      "state": {
       "layout": "IPY_MODEL_7cee4088cff34aba8a07c29efce644dc",
       "outputs": [
        {
         "name": "stdout",
         "output_type": "stream",
         "text": "You might choose different years\n"
        }
       ]
      }
     },
     "2aa4adb2a0e3425abc6fadfba25e3b16": {
      "model_module": "@jupyter-widgets/base",
      "model_module_version": "1.2.0",
      "model_name": "LayoutModel",
      "state": {}
     },
     "2ae525ef15664655bb657a3a3512e576": {
      "model_module": "@jupyter-widgets/base",
      "model_module_version": "1.2.0",
      "model_name": "LayoutModel",
      "state": {}
     },
     "2b26f78ce4c74c14bb013d60e4315107": {
      "model_module": "@jupyter-widgets/controls",
      "model_module_version": "1.5.0",
      "model_name": "SliderStyleModel",
      "state": {
       "description_width": ""
      }
     },
     "2b7c955cbfc244e68713c31a4c104240": {
      "model_module": "@jupyter-widgets/base",
      "model_module_version": "1.2.0",
      "model_name": "LayoutModel",
      "state": {}
     },
     "2bc143ac76d5441b89b64fdf7bef134d": {
      "model_module": "@jupyter-widgets/controls",
      "model_module_version": "1.5.0",
      "model_name": "VBoxModel",
      "state": {
       "children": [
        "IPY_MODEL_6ec66784e5f74b289712e6fb95651d0d",
        "IPY_MODEL_da55aa959ae04500afffbba250ab54ad"
       ],
       "layout": "IPY_MODEL_5a48a4ef96194207b070544679cac127"
      }
     },
     "2bfdaa468abc40bda4c5ee12f7a59940": {
      "model_module": "@jupyter-widgets/controls",
      "model_module_version": "1.5.0",
      "model_name": "SliderStyleModel",
      "state": {
       "description_width": ""
      }
     },
     "2c22cd1c88164d3a82758c0320775dc7": {
      "model_module": "@jupyter-widgets/base",
      "model_module_version": "1.2.0",
      "model_name": "LayoutModel",
      "state": {}
     },
     "2c4ddacbe31c4fd79ee4dee56ee40fe1": {
      "model_module": "@jupyter-widgets/controls",
      "model_module_version": "1.5.0",
      "model_name": "FloatSliderModel",
      "state": {
       "description": "MES:",
       "layout": "IPY_MODEL_006936856b37440cbee5a905afaae20e",
       "max": 12,
       "min": 1,
       "readout_format": ".0f",
       "style": "IPY_MODEL_e648d61e775a4e8291e63b942f39a763",
       "value": 1
      }
     },
     "2d0026024fff4014b3de3f1c3ba13324": {
      "model_module": "@jupyter-widgets/base",
      "model_module_version": "1.2.0",
      "model_name": "LayoutModel",
      "state": {}
     },
     "2d1a5bb696bf4f25bc835e7a23908003": {
      "model_module": "@jupyter-widgets/controls",
      "model_module_version": "1.5.0",
      "model_name": "ButtonModel",
      "state": {
       "button_style": "primary",
       "description": "Compare",
       "icon": "money",
       "layout": "IPY_MODEL_5675e18dc410486cb61cb11f235ae204",
       "style": "IPY_MODEL_3916edce724d4539a2a0772ecb9b5029",
       "tooltip": "Click me"
      }
     },
     "2d2b836de98449069f206cea6b5be794": {
      "model_module": "@jupyter-widgets/base",
      "model_module_version": "1.2.0",
      "model_name": "LayoutModel",
      "state": {}
     },
     "2d56b1c37e13401daecd374159f6a1c8": {
      "model_module": "@jupyter-widgets/controls",
      "model_module_version": "1.5.0",
      "model_name": "DescriptionStyleModel",
      "state": {
       "description_width": ""
      }
     },
     "2d863c8864b048a69f7920ddcb513578": {
      "model_module": "@jupyter-widgets/base",
      "model_module_version": "1.2.0",
      "model_name": "LayoutModel",
      "state": {}
     },
     "2da8b673a20644a39a36953aa2079e9d": {
      "model_module": "@jupyter-widgets/controls",
      "model_module_version": "1.5.0",
      "model_name": "ButtonStyleModel",
      "state": {}
     },
     "2e0e6b91979f4af8aefff4578cc0486f": {
      "model_module": "@jupyter-widgets/base",
      "model_module_version": "1.2.0",
      "model_name": "LayoutModel",
      "state": {}
     },
     "2e258f34323e4ae6ad21ca48f1a60c61": {
      "model_module": "@jupyter-widgets/controls",
      "model_module_version": "1.5.0",
      "model_name": "SliderStyleModel",
      "state": {
       "description_width": ""
      }
     },
     "2e9b18d8ecab404185925b9ff2f5f7a5": {
      "model_module": "@jupyter-widgets/controls",
      "model_module_version": "1.5.0",
      "model_name": "DropdownModel",
      "state": {
       "_options_labels": [
        "1",
        "2",
        "3"
       ],
       "description": "Number:",
       "index": 1,
       "layout": "IPY_MODEL_d650fd624b304e62881fdf5dc555a026",
       "style": "IPY_MODEL_055528dcd7114d1198dc6018940b7e11"
      }
     },
     "2ecda2b5777a4bdd8700c43c658c3d3a": {
      "model_module": "@jupyter-widgets/controls",
      "model_module_version": "1.5.0",
      "model_name": "HBoxModel",
      "state": {
       "children": [
        "IPY_MODEL_a5a6cddd68994240bba267bbec0ccd4a",
        "IPY_MODEL_c21611cf12fd47fbb10783488e02493c",
        "IPY_MODEL_3db6012742da4f68a68d544658b482d0"
       ],
       "layout": "IPY_MODEL_1debd1e3c2f945bfa4b6ea6836e71826"
      }
     },
     "2ef50f7cf0c047559776e4d161b210e4": {
      "model_module": "@jupyter-widgets/base",
      "model_module_version": "1.2.0",
      "model_name": "LayoutModel",
      "state": {}
     },
     "2f84e3d1759347d3ba4d6dbdaed066a5": {
      "model_module": "@jupyter-widgets/controls",
      "model_module_version": "1.5.0",
      "model_name": "SliderStyleModel",
      "state": {
       "description_width": ""
      }
     },
     "2f90616ddae34aa98630e63098be7656": {
      "model_module": "@jupyter-widgets/base",
      "model_module_version": "1.2.0",
      "model_name": "LayoutModel",
      "state": {}
     },
     "2fbba5dc5d6140438b7fdafc348e52b3": {
      "model_module": "@jupyter-widgets/controls",
      "model_module_version": "1.5.0",
      "model_name": "FloatSliderModel",
      "state": {
       "description": "MES:",
       "layout": "IPY_MODEL_6509646a9afd4e60a5773b6e2033bb6e",
       "max": 12,
       "min": 1,
       "readout_format": ".0f",
       "style": "IPY_MODEL_40d2c2f09b44438a872ac8b2fae54f41",
       "value": 1
      }
     },
     "2ff944fe271640a996dc7cba737d48b9": {
      "model_module": "@jupyter-widgets/controls",
      "model_module_version": "1.5.0",
      "model_name": "DropdownModel",
      "state": {
       "_options_labels": [
        "2016",
        "2017",
        "2018",
        "2019",
        "2020"
       ],
       "description": "YEAR B:",
       "index": 0,
       "layout": "IPY_MODEL_893d47e1e79a4845b4bb4cbbba775b55",
       "style": "IPY_MODEL_e37a5ce89b9f4873814d49c5adf1295f"
      }
     },
     "3000585272c748dc861355c3f663b753": {
      "model_module": "@jupyter-widgets/controls",
      "model_module_version": "1.5.0",
      "model_name": "SliderStyleModel",
      "state": {
       "description_width": ""
      }
     },
     "300b0ae1252541aa9af32a3d6804a31d": {
      "model_module": "@jupyter-widgets/controls",
      "model_module_version": "1.5.0",
      "model_name": "FloatSliderModel",
      "state": {
       "description": "MES:",
       "layout": "IPY_MODEL_a6780c8aea18424a82dfbb1758b51a8e",
       "max": 12,
       "min": 1,
       "readout_format": ".0f",
       "style": "IPY_MODEL_9561a1cd35d0454d893b92d533d43fb4",
       "value": 1
      }
     },
     "301dd48c23b24cca97653d89afdbdd38": {
      "model_module": "@jupyter-widgets/base",
      "model_module_version": "1.2.0",
      "model_name": "LayoutModel",
      "state": {}
     },
     "309d1a815dc04437b30364ca96b30da9": {
      "model_module": "@jupyter-widgets/controls",
      "model_module_version": "1.5.0",
      "model_name": "ButtonStyleModel",
      "state": {}
     },
     "310f1166fc0b4173a91c5aaeb06f32cd": {
      "model_module": "@jupyter-widgets/controls",
      "model_module_version": "1.5.0",
      "model_name": "DescriptionStyleModel",
      "state": {
       "description_width": ""
      }
     },
     "3122a74c6324411bb573cb453deb43a3": {
      "model_module": "@jupyter-widgets/base",
      "model_module_version": "1.2.0",
      "model_name": "LayoutModel",
      "state": {}
     },
     "313fe23637284393bac00329ec81efa2": {
      "model_module": "@jupyter-widgets/controls",
      "model_module_version": "1.5.0",
      "model_name": "ButtonModel",
      "state": {
       "button_style": "primary",
       "description": "Compare",
       "icon": "money",
       "layout": "IPY_MODEL_017194aa7c9a427d984d96bb60ce5dfd",
       "style": "IPY_MODEL_00b59697894f410290f880bb1300078b",
       "tooltip": "Click me"
      }
     },
     "31e0cf8d3ee249ffb0e1afd0c37e9560": {
      "model_module": "@jupyter-widgets/controls",
      "model_module_version": "1.5.0",
      "model_name": "FloatSliderModel",
      "state": {
       "description": "MES:",
       "layout": "IPY_MODEL_e585f25413414ed5aa71b1830da49cb8",
       "max": 12,
       "min": 1,
       "readout_format": ".0f",
       "style": "IPY_MODEL_d30e5ffd46d8457eac790f547ff2b823",
       "value": 1
      }
     },
     "3215e54b541c4ea2ba32559f1a923843": {
      "model_module": "@jupyter-widgets/base",
      "model_module_version": "1.2.0",
      "model_name": "LayoutModel",
      "state": {}
     },
     "3227f82b0de8497ead00d9e33600e0cb": {
      "model_module": "@jupyter-widgets/controls",
      "model_module_version": "1.5.0",
      "model_name": "ButtonModel",
      "state": {
       "description": "Click me",
       "icon": "check",
       "layout": "IPY_MODEL_65fc1871efbc444e9e6819b3e199edbb",
       "style": "IPY_MODEL_bc42393ba6c84549921a04064e0e3e58",
       "tooltip": "Click me"
      }
     },
     "333995e2b18b482bb0a1de761ce1d784": {
      "model_module": "@jupyter-widgets/base",
      "model_module_version": "1.2.0",
      "model_name": "LayoutModel",
      "state": {}
     },
     "336e5a4d07ca4a85854a57427f7fc67a": {
      "model_module": "@jupyter-widgets/controls",
      "model_module_version": "1.5.0",
      "model_name": "ButtonStyleModel",
      "state": {}
     },
     "33a203e8c336464a9be8c27031493d57": {
      "model_module": "@jupyter-widgets/controls",
      "model_module_version": "1.5.0",
      "model_name": "HBoxModel",
      "state": {
       "children": [
        "IPY_MODEL_57aefdbe0ebe4ab3b72b54f8e1381299",
        "IPY_MODEL_6739f1d82d7e46148324f572b017190a",
        "IPY_MODEL_ba66d741e53e456781b8944962e2b7b9"
       ],
       "layout": "IPY_MODEL_c75567f6ee324f27bef063249422f025"
      }
     },
     "33fd7c3c921e4fd783862893d590b6b9": {
      "model_module": "@jupyter-widgets/output",
      "model_module_version": "1.0.0",
      "model_name": "OutputModel",
      "state": {
       "layout": "IPY_MODEL_531321cf949943c8b14bde4dc53a2065",
       "outputs": [
        {
         "name": "stdout",
         "output_type": "stream",
         "text": "En el mes 1/2019 se facturó -28737.64 € respecto 2021\n"
        }
       ]
      }
     },
     "34c7189fc7f544ff8ac5fcbdcbe97599": {
      "model_module": "@jupyter-widgets/controls",
      "model_module_version": "1.5.0",
      "model_name": "SliderStyleModel",
      "state": {
       "description_width": ""
      }
     },
     "3554d1eaff1f4fc0bf5a63b3e1c68443": {
      "model_module": "@jupyter-widgets/controls",
      "model_module_version": "1.5.0",
      "model_name": "SliderStyleModel",
      "state": {
       "description_width": ""
      }
     },
     "355ab93998d6476f9fd73a0fb487e875": {
      "model_module": "@jupyter-widgets/controls",
      "model_module_version": "1.5.0",
      "model_name": "ButtonStyleModel",
      "state": {}
     },
     "356d41314539473f9b193453a83c4305": {
      "model_module": "@jupyter-widgets/base",
      "model_module_version": "1.2.0",
      "model_name": "LayoutModel",
      "state": {}
     },
     "35ef1268e2714325851f1011ae968b81": {
      "model_module": "@jupyter-widgets/base",
      "model_module_version": "1.2.0",
      "model_name": "LayoutModel",
      "state": {}
     },
     "35f0ffd9be3747098ed536e5a65f0c4b": {
      "model_module": "@jupyter-widgets/output",
      "model_module_version": "1.0.0",
      "model_name": "OutputModel",
      "state": {
       "layout": "IPY_MODEL_876da3b21eec4c0a9e029251d676c2d2"
      }
     },
     "3620f50488d14ff5bc9361b91be9b4da": {
      "model_module": "@jupyter-widgets/base",
      "model_module_version": "1.2.0",
      "model_name": "LayoutModel",
      "state": {}
     },
     "36bd30445c484f88845d19d9f4079823": {
      "model_module": "@jupyter-widgets/controls",
      "model_module_version": "1.5.0",
      "model_name": "DropdownModel",
      "state": {
       "_options_labels": [
        "2016",
        "2017",
        "2018",
        "2019",
        "2020",
        "2021"
       ],
       "description": "YEAR A:",
       "index": 0,
       "layout": "IPY_MODEL_41b6ab0a42ad4a198fe773060556161a",
       "style": "IPY_MODEL_e8384261dae748deb356d2ec00eaed19"
      }
     },
     "37650b900eb649b78c331265972a75b0": {
      "model_module": "@jupyter-widgets/base",
      "model_module_version": "1.2.0",
      "model_name": "LayoutModel",
      "state": {}
     },
     "378c7f037a9241ffaf9f1f109392f9c8": {
      "model_module": "@jupyter-widgets/controls",
      "model_module_version": "1.5.0",
      "model_name": "SliderStyleModel",
      "state": {
       "description_width": ""
      }
     },
     "382b2635b59e4e6c895947fdb75ee8fc": {
      "model_module": "@jupyter-widgets/base",
      "model_module_version": "1.2.0",
      "model_name": "LayoutModel",
      "state": {}
     },
     "38d44e356107469ab74d415b765b3d31": {
      "model_module": "@jupyter-widgets/base",
      "model_module_version": "1.2.0",
      "model_name": "LayoutModel",
      "state": {}
     },
     "38ee68624f5b4b5eb8f12e93f595a96a": {
      "model_module": "@jupyter-widgets/controls",
      "model_module_version": "1.5.0",
      "model_name": "SliderStyleModel",
      "state": {
       "description_width": ""
      }
     },
     "3902ffcc497f4dba9f7100887da82447": {
      "model_module": "@jupyter-widgets/output",
      "model_module_version": "1.0.0",
      "model_name": "OutputModel",
      "state": {
       "layout": "IPY_MODEL_b69be8c863594cb99b35dd60f5ffef88",
       "outputs": [
        {
         "name": "stdout",
         "output_type": "stream",
         "text": "I was clicked\n    ano  MONTH(created_at)    totsl\n0  2020                  1  27256.0\n"
        }
       ]
      }
     },
     "3904132cfebd44d2ba730f97fd82d193": {
      "model_module": "@jupyter-widgets/controls",
      "model_module_version": "1.5.0",
      "model_name": "SliderStyleModel",
      "state": {
       "description_width": ""
      }
     },
     "3912ca29ca174226b48e974ead42afe1": {
      "model_module": "@jupyter-widgets/base",
      "model_module_version": "1.2.0",
      "model_name": "LayoutModel",
      "state": {}
     },
     "3916edce724d4539a2a0772ecb9b5029": {
      "model_module": "@jupyter-widgets/controls",
      "model_module_version": "1.5.0",
      "model_name": "ButtonStyleModel",
      "state": {}
     },
     "397686f35f9d422b822e1be12ea3c69a": {
      "model_module": "@jupyter-widgets/controls",
      "model_module_version": "1.5.0",
      "model_name": "DescriptionStyleModel",
      "state": {
       "description_width": ""
      }
     },
     "397a069bbc10479db7ecf3e7ca1a813a": {
      "model_module": "@jupyter-widgets/controls",
      "model_module_version": "1.5.0",
      "model_name": "SliderStyleModel",
      "state": {
       "description_width": ""
      }
     },
     "39aca120655a47d1a2a04e0bf599162b": {
      "model_module": "@jupyter-widgets/controls",
      "model_module_version": "1.5.0",
      "model_name": "ButtonStyleModel",
      "state": {}
     },
     "39cdbba948744e25a21c546ada83750f": {
      "model_module": "@jupyter-widgets/controls",
      "model_module_version": "1.5.0",
      "model_name": "HBoxModel",
      "state": {
       "children": [
        "IPY_MODEL_e893bb73c5dc4f6a9e2e6f0b3633c265",
        "IPY_MODEL_247e8841aa054356a6384f4ce81bd959",
        "IPY_MODEL_195cb8699af24775b31fa2f4e4df2dca"
       ],
       "layout": "IPY_MODEL_e79bc5902ccc4ed7a04dbcecea9376d6"
      }
     },
     "3a72825355644b86b4ef81e8fad0e640": {
      "model_module": "@jupyter-widgets/controls",
      "model_module_version": "1.5.0",
      "model_name": "FloatSliderModel",
      "state": {
       "description": "MES:",
       "layout": "IPY_MODEL_9753b60c35ec41db872cae796adc83e7",
       "max": 12,
       "min": 1,
       "readout_format": ".0f",
       "style": "IPY_MODEL_2e258f34323e4ae6ad21ca48f1a60c61",
       "value": 1
      }
     },
     "3ab4b5074ce342c6abdc4b9daf0e860f": {
      "model_module": "@jupyter-widgets/controls",
      "model_module_version": "1.5.0",
      "model_name": "HBoxModel",
      "state": {
       "children": [
        "IPY_MODEL_e893bb73c5dc4f6a9e2e6f0b3633c265",
        "IPY_MODEL_247e8841aa054356a6384f4ce81bd959",
        "IPY_MODEL_195cb8699af24775b31fa2f4e4df2dca"
       ],
       "layout": "IPY_MODEL_23f7bf244e384f1494b44a049d63aecf"
      }
     },
     "3ad1d3cfe8b94da3821041cae5ab685c": {
      "model_module": "@jupyter-widgets/controls",
      "model_module_version": "1.5.0",
      "model_name": "SliderStyleModel",
      "state": {
       "description_width": ""
      }
     },
     "3af1215d6ec2480da57c31537f2e25a0": {
      "model_module": "@jupyter-widgets/controls",
      "model_module_version": "1.5.0",
      "model_name": "ButtonModel",
      "state": {
       "button_style": "primary",
       "description": "Compare",
       "icon": "money",
       "layout": "IPY_MODEL_c7b6f39e0f4a4f7aba0e1264dce18e64",
       "style": "IPY_MODEL_21fb0506d38347949039a01de8a3aec5",
       "tooltip": "Click me"
      }
     },
     "3b5812c1822044fcad4ca3a10f1b0036": {
      "model_module": "@jupyter-widgets/base",
      "model_module_version": "1.2.0",
      "model_name": "LayoutModel",
      "state": {}
     },
     "3be0aa2a62cf402e805aad2dbabe803c": {
      "model_module": "@jupyter-widgets/controls",
      "model_module_version": "1.5.0",
      "model_name": "DropdownModel",
      "state": {
       "_options_labels": [
        "1",
        "2",
        "3"
       ],
       "description": "Mes B:",
       "index": 1,
       "layout": "IPY_MODEL_49574ef8432c45b7a0fdb8d776bdbb7e",
       "style": "IPY_MODEL_610484402bf94762b55a4c9b9b099979"
      }
     },
     "3c2d1eb4850244f18b5fda12989191c5": {
      "model_module": "@jupyter-widgets/controls",
      "model_module_version": "1.5.0",
      "model_name": "FloatSliderModel",
      "state": {
       "description": "MES:",
       "layout": "IPY_MODEL_20fa3a2247704129b6b1229731d44311",
       "max": 12,
       "min": 1,
       "readout_format": ".0f",
       "style": "IPY_MODEL_54269cbb75ae425184fa25798a5baacf",
       "value": 1
      }
     },
     "3c672c97bb8e48a28358cb986a695bbc": {
      "model_module": "@jupyter-widgets/controls",
      "model_module_version": "1.5.0",
      "model_name": "DescriptionStyleModel",
      "state": {
       "description_width": ""
      }
     },
     "3d35897cb36c41cba00adb8efdf159a7": {
      "model_module": "@jupyter-widgets/controls",
      "model_module_version": "1.5.0",
      "model_name": "SliderStyleModel",
      "state": {
       "description_width": ""
      }
     },
     "3db6012742da4f68a68d544658b482d0": {
      "model_module": "@jupyter-widgets/controls",
      "model_module_version": "1.5.0",
      "model_name": "DropdownModel",
      "state": {
       "_options_labels": [
        "2016",
        "2017",
        "2018",
        "2019",
        "2020"
       ],
       "description": "YEAR B:",
       "index": 4,
       "layout": "IPY_MODEL_651388240f154d3289da562aa800a135",
       "style": "IPY_MODEL_e16512f25e70418e96d7f2099f605759"
      }
     },
     "3e8cd8d697d54181a548b937ccf9ddb2": {
      "model_module": "@jupyter-widgets/base",
      "model_module_version": "1.2.0",
      "model_name": "LayoutModel",
      "state": {}
     },
     "3f19fc351fd24492aa5f299e31d88367": {
      "model_module": "@jupyter-widgets/controls",
      "model_module_version": "1.5.0",
      "model_name": "ButtonStyleModel",
      "state": {}
     },
     "3f5af8839db042449aab77ed19a79167": {
      "model_module": "@jupyter-widgets/controls",
      "model_module_version": "1.5.0",
      "model_name": "HBoxModel",
      "state": {
       "children": [
        "IPY_MODEL_a5a6cddd68994240bba267bbec0ccd4a",
        "IPY_MODEL_c21611cf12fd47fbb10783488e02493c",
        "IPY_MODEL_3db6012742da4f68a68d544658b482d0"
       ],
       "layout": "IPY_MODEL_9a7b72bbae5249e5ab7962f6cc43f80f"
      }
     },
     "3fed271e316d4f24b71df3988791bc43": {
      "model_module": "@jupyter-widgets/controls",
      "model_module_version": "1.5.0",
      "model_name": "HBoxModel",
      "state": {
       "children": [
        "IPY_MODEL_e893bb73c5dc4f6a9e2e6f0b3633c265",
        "IPY_MODEL_247e8841aa054356a6384f4ce81bd959",
        "IPY_MODEL_195cb8699af24775b31fa2f4e4df2dca"
       ],
       "layout": "IPY_MODEL_be5f8471b421462d9c7c7b1e2df88c40"
      }
     },
     "405f992804df4ebaabfaa53b979be293": {
      "model_module": "@jupyter-widgets/base",
      "model_module_version": "1.2.0",
      "model_name": "LayoutModel",
      "state": {}
     },
     "406c8cf2820b4f69bf7fd0476269f258": {
      "model_module": "@jupyter-widgets/controls",
      "model_module_version": "1.5.0",
      "model_name": "ButtonStyleModel",
      "state": {}
     },
     "40d2c2f09b44438a872ac8b2fae54f41": {
      "model_module": "@jupyter-widgets/controls",
      "model_module_version": "1.5.0",
      "model_name": "SliderStyleModel",
      "state": {
       "description_width": ""
      }
     },
     "41279c646ce04d9aadba944092131b6a": {
      "model_module": "@jupyter-widgets/base",
      "model_module_version": "1.2.0",
      "model_name": "LayoutModel",
      "state": {}
     },
     "41b6ab0a42ad4a198fe773060556161a": {
      "model_module": "@jupyter-widgets/base",
      "model_module_version": "1.2.0",
      "model_name": "LayoutModel",
      "state": {}
     },
     "41ba867e9ebc46b6bae7f96710d4b4d5": {
      "model_module": "@jupyter-widgets/controls",
      "model_module_version": "1.5.0",
      "model_name": "SliderStyleModel",
      "state": {
       "description_width": ""
      }
     },
     "41c4a81bb1f542c9a07cb077ef452f1f": {
      "model_module": "@jupyter-widgets/base",
      "model_module_version": "1.2.0",
      "model_name": "LayoutModel",
      "state": {}
     },
     "427c3c6261b24af5bc080e624c2b451e": {
      "model_module": "@jupyter-widgets/controls",
      "model_module_version": "1.5.0",
      "model_name": "ButtonModel",
      "state": {
       "button_style": "primary",
       "description": "Click me",
       "icon": "money-bill-wave",
       "layout": "IPY_MODEL_dba577961a2841a5aecf34c5873ee192",
       "style": "IPY_MODEL_c850989f177a4fa3a1f983c2144f436b",
       "tooltip": "Click me"
      }
     },
     "42c971fd2cce4f72a85a51955cd72990": {
      "model_module": "@jupyter-widgets/output",
      "model_module_version": "1.0.0",
      "model_name": "OutputModel",
      "state": {
       "layout": "IPY_MODEL_65bda023256c40de9fb24e9d40037b1e",
       "outputs": [
        {
         "ename": "KeyError",
         "evalue": "1",
         "output_type": "error",
         "traceback": [
          "\u001b[0;31m---------------------------------------------------------------------------\u001b[0m",
          "\u001b[0;31mValueError\u001b[0m                                Traceback (most recent call last)",
          "\u001b[0;32m/opt/anaconda3/lib/python3.8/site-packages/pandas/core/indexes/range.py\u001b[0m in \u001b[0;36mget_loc\u001b[0;34m(self, key, method, tolerance)\u001b[0m\n\u001b[1;32m    354\u001b[0m                 \u001b[0;32mtry\u001b[0m\u001b[0;34m:\u001b[0m\u001b[0;34m\u001b[0m\u001b[0;34m\u001b[0m\u001b[0m\n\u001b[0;32m--> 355\u001b[0;31m                     \u001b[0;32mreturn\u001b[0m \u001b[0mself\u001b[0m\u001b[0;34m.\u001b[0m\u001b[0m_range\u001b[0m\u001b[0;34m.\u001b[0m\u001b[0mindex\u001b[0m\u001b[0;34m(\u001b[0m\u001b[0mnew_key\u001b[0m\u001b[0;34m)\u001b[0m\u001b[0;34m\u001b[0m\u001b[0;34m\u001b[0m\u001b[0m\n\u001b[0m\u001b[1;32m    356\u001b[0m                 \u001b[0;32mexcept\u001b[0m \u001b[0mValueError\u001b[0m \u001b[0;32mas\u001b[0m \u001b[0merr\u001b[0m\u001b[0;34m:\u001b[0m\u001b[0;34m\u001b[0m\u001b[0;34m\u001b[0m\u001b[0m\n",
          "\u001b[0;31mValueError\u001b[0m: 1 is not in range",
          "\nThe above exception was the direct cause of the following exception:\n",
          "\u001b[0;31mKeyError\u001b[0m                                  Traceback (most recent call last)",
          "\u001b[0;32m<ipython-input-255-75af755426fd>\u001b[0m in \u001b[0;36maction_of_button2\u001b[0;34m(b)\u001b[0m\n\u001b[1;32m     24\u001b[0m         \u001b[0;32mwith\u001b[0m \u001b[0mout\u001b[0m\u001b[0;34m:\u001b[0m\u001b[0;34m\u001b[0m\u001b[0;34m\u001b[0m\u001b[0m\n\u001b[1;32m     25\u001b[0m             \u001b[0mtable\u001b[0m\u001b[0;34m\u001b[0m\u001b[0;34m\u001b[0m\u001b[0m\n\u001b[0;32m---> 26\u001b[0;31m             \u001b[0mprint\u001b[0m\u001b[0;34m(\u001b[0m\u001b[0;34mf\"En el mes {mes.value:.0f}/{ano1.value} se facturó {(table['total'][0]-table['total'][1]):.2f} € respecto {ano2.value}\"\u001b[0m\u001b[0;34m)\u001b[0m\u001b[0;34m\u001b[0m\u001b[0;34m\u001b[0m\u001b[0m\n\u001b[0m\u001b[1;32m     27\u001b[0m \u001b[0;34m\u001b[0m\u001b[0m\n\u001b[1;32m     28\u001b[0m \u001b[0mbutton2\u001b[0m\u001b[0;34m.\u001b[0m\u001b[0mon_click\u001b[0m\u001b[0;34m(\u001b[0m\u001b[0maction_of_button2\u001b[0m\u001b[0;34m)\u001b[0m\u001b[0;34m\u001b[0m\u001b[0;34m\u001b[0m\u001b[0m\n",
          "\u001b[0;32m/opt/anaconda3/lib/python3.8/site-packages/pandas/core/series.py\u001b[0m in \u001b[0;36m__getitem__\u001b[0;34m(self, key)\u001b[0m\n\u001b[1;32m    880\u001b[0m \u001b[0;34m\u001b[0m\u001b[0m\n\u001b[1;32m    881\u001b[0m         \u001b[0;32melif\u001b[0m \u001b[0mkey_is_scalar\u001b[0m\u001b[0;34m:\u001b[0m\u001b[0;34m\u001b[0m\u001b[0;34m\u001b[0m\u001b[0m\n\u001b[0;32m--> 882\u001b[0;31m             \u001b[0;32mreturn\u001b[0m \u001b[0mself\u001b[0m\u001b[0;34m.\u001b[0m\u001b[0m_get_value\u001b[0m\u001b[0;34m(\u001b[0m\u001b[0mkey\u001b[0m\u001b[0;34m)\u001b[0m\u001b[0;34m\u001b[0m\u001b[0;34m\u001b[0m\u001b[0m\n\u001b[0m\u001b[1;32m    883\u001b[0m \u001b[0;34m\u001b[0m\u001b[0m\n\u001b[1;32m    884\u001b[0m         \u001b[0;32mif\u001b[0m \u001b[0mis_hashable\u001b[0m\u001b[0;34m(\u001b[0m\u001b[0mkey\u001b[0m\u001b[0;34m)\u001b[0m\u001b[0;34m:\u001b[0m\u001b[0;34m\u001b[0m\u001b[0;34m\u001b[0m\u001b[0m\n",
          "\u001b[0;32m/opt/anaconda3/lib/python3.8/site-packages/pandas/core/series.py\u001b[0m in \u001b[0;36m_get_value\u001b[0;34m(self, label, takeable)\u001b[0m\n\u001b[1;32m    987\u001b[0m \u001b[0;34m\u001b[0m\u001b[0m\n\u001b[1;32m    988\u001b[0m         \u001b[0;31m# Similar to Index.get_value, but we do not fall back to positional\u001b[0m\u001b[0;34m\u001b[0m\u001b[0;34m\u001b[0m\u001b[0;34m\u001b[0m\u001b[0m\n\u001b[0;32m--> 989\u001b[0;31m         \u001b[0mloc\u001b[0m \u001b[0;34m=\u001b[0m \u001b[0mself\u001b[0m\u001b[0;34m.\u001b[0m\u001b[0mindex\u001b[0m\u001b[0;34m.\u001b[0m\u001b[0mget_loc\u001b[0m\u001b[0;34m(\u001b[0m\u001b[0mlabel\u001b[0m\u001b[0;34m)\u001b[0m\u001b[0;34m\u001b[0m\u001b[0;34m\u001b[0m\u001b[0m\n\u001b[0m\u001b[1;32m    990\u001b[0m         \u001b[0;32mreturn\u001b[0m \u001b[0mself\u001b[0m\u001b[0;34m.\u001b[0m\u001b[0mindex\u001b[0m\u001b[0;34m.\u001b[0m\u001b[0m_get_values_for_loc\u001b[0m\u001b[0;34m(\u001b[0m\u001b[0mself\u001b[0m\u001b[0;34m,\u001b[0m \u001b[0mloc\u001b[0m\u001b[0;34m,\u001b[0m \u001b[0mlabel\u001b[0m\u001b[0;34m)\u001b[0m\u001b[0;34m\u001b[0m\u001b[0;34m\u001b[0m\u001b[0m\n\u001b[1;32m    991\u001b[0m \u001b[0;34m\u001b[0m\u001b[0m\n",
          "\u001b[0;32m/opt/anaconda3/lib/python3.8/site-packages/pandas/core/indexes/range.py\u001b[0m in \u001b[0;36mget_loc\u001b[0;34m(self, key, method, tolerance)\u001b[0m\n\u001b[1;32m    355\u001b[0m                     \u001b[0;32mreturn\u001b[0m \u001b[0mself\u001b[0m\u001b[0;34m.\u001b[0m\u001b[0m_range\u001b[0m\u001b[0;34m.\u001b[0m\u001b[0mindex\u001b[0m\u001b[0;34m(\u001b[0m\u001b[0mnew_key\u001b[0m\u001b[0;34m)\u001b[0m\u001b[0;34m\u001b[0m\u001b[0;34m\u001b[0m\u001b[0m\n\u001b[1;32m    356\u001b[0m                 \u001b[0;32mexcept\u001b[0m \u001b[0mValueError\u001b[0m \u001b[0;32mas\u001b[0m \u001b[0merr\u001b[0m\u001b[0;34m:\u001b[0m\u001b[0;34m\u001b[0m\u001b[0;34m\u001b[0m\u001b[0m\n\u001b[0;32m--> 357\u001b[0;31m                     \u001b[0;32mraise\u001b[0m \u001b[0mKeyError\u001b[0m\u001b[0;34m(\u001b[0m\u001b[0mkey\u001b[0m\u001b[0;34m)\u001b[0m \u001b[0;32mfrom\u001b[0m \u001b[0merr\u001b[0m\u001b[0;34m\u001b[0m\u001b[0;34m\u001b[0m\u001b[0m\n\u001b[0m\u001b[1;32m    358\u001b[0m             \u001b[0;32mraise\u001b[0m \u001b[0mKeyError\u001b[0m\u001b[0;34m(\u001b[0m\u001b[0mkey\u001b[0m\u001b[0;34m)\u001b[0m\u001b[0;34m\u001b[0m\u001b[0;34m\u001b[0m\u001b[0m\n\u001b[1;32m    359\u001b[0m         \u001b[0;32mreturn\u001b[0m \u001b[0msuper\u001b[0m\u001b[0;34m(\u001b[0m\u001b[0;34m)\u001b[0m\u001b[0;34m.\u001b[0m\u001b[0mget_loc\u001b[0m\u001b[0;34m(\u001b[0m\u001b[0mkey\u001b[0m\u001b[0;34m,\u001b[0m \u001b[0mmethod\u001b[0m\u001b[0;34m=\u001b[0m\u001b[0mmethod\u001b[0m\u001b[0;34m,\u001b[0m \u001b[0mtolerance\u001b[0m\u001b[0;34m=\u001b[0m\u001b[0mtolerance\u001b[0m\u001b[0;34m)\u001b[0m\u001b[0;34m\u001b[0m\u001b[0;34m\u001b[0m\u001b[0m\n",
          "\u001b[0;31mKeyError\u001b[0m: 1"
         ]
        }
       ]
      }
     },
     "42d6e01cb1fc4cb292b7761f28fa35ba": {
      "model_module": "@jupyter-widgets/base",
      "model_module_version": "1.2.0",
      "model_name": "LayoutModel",
      "state": {}
     },
     "42e20c5df59f4ef19c7c28913d0116aa": {
      "model_module": "@jupyter-widgets/controls",
      "model_module_version": "1.5.0",
      "model_name": "DropdownModel",
      "state": {
       "_options_labels": [
        "1",
        "2",
        "3"
       ],
       "description": "Number:",
       "index": 1,
       "layout": "IPY_MODEL_2d863c8864b048a69f7920ddcb513578",
       "style": "IPY_MODEL_a9cb05c3e3504ec5806a5aeedb822e77"
      }
     },
     "43977739abb5490dbde96f683d5ca51a": {
      "model_module": "@jupyter-widgets/base",
      "model_module_version": "1.2.0",
      "model_name": "LayoutModel",
      "state": {}
     },
     "43b75a97901c40439af721920b3cdfbf": {
      "model_module": "@jupyter-widgets/base",
      "model_module_version": "1.2.0",
      "model_name": "LayoutModel",
      "state": {}
     },
     "43bb6435fcc74b13903eca73831c2a12": {
      "model_module": "@jupyter-widgets/controls",
      "model_module_version": "1.5.0",
      "model_name": "ButtonStyleModel",
      "state": {}
     },
     "43e21415452447d2bcf6e5ae1b0f5d6c": {
      "model_module": "@jupyter-widgets/base",
      "model_module_version": "1.2.0",
      "model_name": "LayoutModel",
      "state": {}
     },
     "44ad273fe3ff479cb3d7060571f9db86": {
      "model_module": "@jupyter-widgets/controls",
      "model_module_version": "1.5.0",
      "model_name": "SliderStyleModel",
      "state": {
       "description_width": ""
      }
     },
     "44b85b6d43c848fc98bc4529240e186c": {
      "model_module": "@jupyter-widgets/output",
      "model_module_version": "1.0.0",
      "model_name": "OutputModel",
      "state": {
       "layout": "IPY_MODEL_3912ca29ca174226b48e974ead42afe1",
       "outputs": [
        {
         "name": "stdout",
         "output_type": "stream",
         "text": "    ano  MONTH(created_at)    total\n0  2019                  4  21038.8\n1  2020                  4  15421.3\n0    21038.8\n1    15421.3\nName: total, dtype: float64\n"
        }
       ]
      }
     },
     "4551d4ce132746679d758999c4142a03": {
      "model_module": "@jupyter-widgets/controls",
      "model_module_version": "1.5.0",
      "model_name": "FloatSliderModel",
      "state": {
       "description": "MES:",
       "layout": "IPY_MODEL_07bc6e900c43481992e540ca99fed265",
       "max": 12,
       "min": 1,
       "readout_format": ".0f",
       "style": "IPY_MODEL_b4e82b529747430f902de5031fd4dc8b",
       "value": 1
      }
     },
     "4555bcb0f0dd492b886b6e9dcc94bff3": {
      "model_module": "@jupyter-widgets/base",
      "model_module_version": "1.2.0",
      "model_name": "LayoutModel",
      "state": {}
     },
     "45836d314d514914aa2edc4f63197f4f": {
      "model_module": "@jupyter-widgets/base",
      "model_module_version": "1.2.0",
      "model_name": "LayoutModel",
      "state": {}
     },
     "45a1c6e4de8844fc8f5cfc5f283a5d1e": {
      "model_module": "@jupyter-widgets/controls",
      "model_module_version": "1.5.0",
      "model_name": "ButtonModel",
      "state": {
       "button_style": "primary",
       "description": "Compare",
       "icon": "money",
       "layout": "IPY_MODEL_8b1c5469e3244bf7a67cdfcc4b7a179a",
       "style": "IPY_MODEL_2066bf294eac44b283ce359156084238",
       "tooltip": "Click me"
      }
     },
     "46101c1ae90348bfa069c271ea496630": {
      "model_module": "@jupyter-widgets/base",
      "model_module_version": "1.2.0",
      "model_name": "LayoutModel",
      "state": {}
     },
     "4635050cfe7446f88525fd9ea558a023": {
      "model_module": "@jupyter-widgets/controls",
      "model_module_version": "1.5.0",
      "model_name": "ButtonStyleModel",
      "state": {}
     },
     "4653bb894b414933925a3d5804cc42a7": {
      "model_module": "@jupyter-widgets/controls",
      "model_module_version": "1.5.0",
      "model_name": "DescriptionStyleModel",
      "state": {
       "description_width": ""
      }
     },
     "4661edc352444d5fb32ae3503944552a": {
      "model_module": "@jupyter-widgets/controls",
      "model_module_version": "1.5.0",
      "model_name": "DescriptionStyleModel",
      "state": {
       "description_width": ""
      }
     },
     "46f2b22ad3414005926fe6a0cab91f7e": {
      "model_module": "@jupyter-widgets/base",
      "model_module_version": "1.2.0",
      "model_name": "LayoutModel",
      "state": {}
     },
     "4724069744824034ae68332362e4ac7d": {
      "model_module": "@jupyter-widgets/controls",
      "model_module_version": "1.5.0",
      "model_name": "DropdownModel",
      "state": {
       "_options_labels": [
        "1",
        "2",
        "3"
       ],
       "description": "Number:",
       "index": 1,
       "layout": "IPY_MODEL_8aa2f91ffff54017adacdb65c86863d6",
       "style": "IPY_MODEL_207f9fc30c9c477ea91a70f4e878ea56"
      }
     },
     "473706f9c83f4be1ae2d816ee7ed83af": {
      "model_module": "@jupyter-widgets/controls",
      "model_module_version": "1.5.0",
      "model_name": "VBoxModel",
      "state": {
       "children": [
        "IPY_MODEL_24da4a032f4f479f9767a32e08aff0bb",
        "IPY_MODEL_af5fdbb4e0ee493eb3c93693429100bc",
        "IPY_MODEL_a8336ce60d7e456fa70708bf9ce8d9e4"
       ],
       "layout": "IPY_MODEL_901455c154074dcfbe04f81df9990e4b"
      }
     },
     "476b585fae7d42a98f5a73c7bd7ed56f": {
      "model_module": "@jupyter-widgets/base",
      "model_module_version": "1.2.0",
      "model_name": "LayoutModel",
      "state": {}
     },
     "47a0931e574a4b09b2963fd6ca4e4585": {
      "model_module": "@jupyter-widgets/controls",
      "model_module_version": "1.5.0",
      "model_name": "VBoxModel",
      "state": {
       "children": [
        "IPY_MODEL_e85321e1b82e4c9a8675b2e0b9dca989",
        "IPY_MODEL_c672a5efc9c6420ba4970b21fbacc39d",
        "IPY_MODEL_ac76ad732b96464ea3a9fdbde7d489b2"
       ],
       "layout": "IPY_MODEL_229a4cd5c75349148e6e49eacac1daed"
      }
     },
     "47c737fbd2f14d55be1d6d596d8cf543": {
      "model_module": "@jupyter-widgets/controls",
      "model_module_version": "1.5.0",
      "model_name": "SliderStyleModel",
      "state": {
       "description_width": ""
      }
     },
     "48425bc657034aef94acd82362e6ba22": {
      "model_module": "@jupyter-widgets/base",
      "model_module_version": "1.2.0",
      "model_name": "LayoutModel",
      "state": {}
     },
     "4846541eb2ee48b196a9036d47fcb136": {
      "model_module": "@jupyter-widgets/controls",
      "model_module_version": "1.5.0",
      "model_name": "ButtonStyleModel",
      "state": {}
     },
     "491c27ec029e47808cc7b14ffd30045a": {
      "model_module": "@jupyter-widgets/base",
      "model_module_version": "1.2.0",
      "model_name": "LayoutModel",
      "state": {}
     },
     "49574ef8432c45b7a0fdb8d776bdbb7e": {
      "model_module": "@jupyter-widgets/base",
      "model_module_version": "1.2.0",
      "model_name": "LayoutModel",
      "state": {}
     },
     "49de73ed2a774183a61b4c23f6b71fb9": {
      "model_module": "@jupyter-widgets/controls",
      "model_module_version": "1.5.0",
      "model_name": "VBoxModel",
      "state": {
       "children": [
        "IPY_MODEL_140f4c6f68a74929906bbfe6ca46c4d9",
        "IPY_MODEL_72a7bd65886043c69256b765dc603248",
        "IPY_MODEL_4d4ce4763d454292a881af2701c3a2ae"
       ],
       "layout": "IPY_MODEL_613465f9fe5042c89ad04ef75e8f3927"
      }
     },
     "4ab54f8bb34342f7bf566a9917ae8b67": {
      "model_module": "@jupyter-widgets/controls",
      "model_module_version": "1.5.0",
      "model_name": "VBoxModel",
      "state": {
       "children": [
        "IPY_MODEL_9bcbe4d43e014def990653dc918f172b",
        "IPY_MODEL_c7237a65adfa475da16a294059417b35"
       ],
       "layout": "IPY_MODEL_503aacff8eb048fa9b2a115aa6cb2f45"
      }
     },
     "4af3a843249f474f94476946245a89a6": {
      "model_module": "@jupyter-widgets/base",
      "model_module_version": "1.2.0",
      "model_name": "LayoutModel",
      "state": {}
     },
     "4c8d81bd7b9342c9b8f65d5598b513ab": {
      "model_module": "@jupyter-widgets/controls",
      "model_module_version": "1.5.0",
      "model_name": "SliderStyleModel",
      "state": {
       "description_width": ""
      }
     },
     "4c9a401448b94fad9f3fe2446af5222f": {
      "model_module": "@jupyter-widgets/controls",
      "model_module_version": "1.5.0",
      "model_name": "FloatSliderModel",
      "state": {
       "description": "MES:",
       "layout": "IPY_MODEL_9a14bcb73c5d4b55b747bfaa56e5fd09",
       "max": 12,
       "min": 1,
       "readout_format": ".0f",
       "style": "IPY_MODEL_44ad273fe3ff479cb3d7060571f9db86",
       "value": 1
      }
     },
     "4d4ce4763d454292a881af2701c3a2ae": {
      "model_module": "@jupyter-widgets/output",
      "model_module_version": "1.0.0",
      "model_name": "OutputModel",
      "state": {
       "layout": "IPY_MODEL_add3ae18e1af4947a391ae023b7eb7d1"
      }
     },
     "4d81e39aa22e4d6c9c0ab5835ad50fa3": {
      "model_module": "@jupyter-widgets/base",
      "model_module_version": "1.2.0",
      "model_name": "LayoutModel",
      "state": {}
     },
     "4d89cb5ff9d34b7b81f7abc96b2a8171": {
      "model_module": "@jupyter-widgets/controls",
      "model_module_version": "1.5.0",
      "model_name": "DropdownModel",
      "state": {
       "_options_labels": [
        "2",
        "0",
        "2",
        "1"
       ],
       "description": "Mes A:",
       "index": 0,
       "layout": "IPY_MODEL_626d3eac2378473fb569a6f6ff50a176",
       "style": "IPY_MODEL_3c672c97bb8e48a28358cb986a695bbc"
      }
     },
     "4d9ac3b5a43643fdb8dbf89efa6b8f1f": {
      "model_module": "@jupyter-widgets/output",
      "model_module_version": "1.0.0",
      "model_name": "OutputModel",
      "state": {
       "layout": "IPY_MODEL_3122a74c6324411bb573cb453deb43a3",
       "outputs": [
        {
         "ename": "KeyError",
         "evalue": "1",
         "output_type": "error",
         "traceback": [
          "\u001b[0;31m---------------------------------------------------------------------------\u001b[0m",
          "\u001b[0;31mValueError\u001b[0m                                Traceback (most recent call last)",
          "\u001b[0;32m/opt/anaconda3/lib/python3.8/site-packages/pandas/core/indexes/range.py\u001b[0m in \u001b[0;36mget_loc\u001b[0;34m(self, key, method, tolerance)\u001b[0m\n\u001b[1;32m    354\u001b[0m                 \u001b[0;32mtry\u001b[0m\u001b[0;34m:\u001b[0m\u001b[0;34m\u001b[0m\u001b[0;34m\u001b[0m\u001b[0m\n\u001b[0;32m--> 355\u001b[0;31m                     \u001b[0;32mreturn\u001b[0m \u001b[0mself\u001b[0m\u001b[0;34m.\u001b[0m\u001b[0m_range\u001b[0m\u001b[0;34m.\u001b[0m\u001b[0mindex\u001b[0m\u001b[0;34m(\u001b[0m\u001b[0mnew_key\u001b[0m\u001b[0;34m)\u001b[0m\u001b[0;34m\u001b[0m\u001b[0;34m\u001b[0m\u001b[0m\n\u001b[0m\u001b[1;32m    356\u001b[0m                 \u001b[0;32mexcept\u001b[0m \u001b[0mValueError\u001b[0m \u001b[0;32mas\u001b[0m \u001b[0merr\u001b[0m\u001b[0;34m:\u001b[0m\u001b[0;34m\u001b[0m\u001b[0;34m\u001b[0m\u001b[0m\n",
          "\u001b[0;31mValueError\u001b[0m: 1 is not in range",
          "\nThe above exception was the direct cause of the following exception:\n",
          "\u001b[0;31mKeyError\u001b[0m                                  Traceback (most recent call last)",
          "\u001b[0;32m<ipython-input-256-775a4e5eedce>\u001b[0m in \u001b[0;36maction_of_button2\u001b[0;34m(b)\u001b[0m\n\u001b[1;32m     24\u001b[0m         \u001b[0;32mwith\u001b[0m \u001b[0mout\u001b[0m\u001b[0;34m:\u001b[0m\u001b[0;34m\u001b[0m\u001b[0;34m\u001b[0m\u001b[0m\n\u001b[1;32m     25\u001b[0m             \u001b[0mtable\u001b[0m\u001b[0;34m\u001b[0m\u001b[0;34m\u001b[0m\u001b[0m\n\u001b[0;32m---> 26\u001b[0;31m             \u001b[0mprint\u001b[0m\u001b[0;34m(\u001b[0m\u001b[0;34mf\"En el mes {mes.value:.0f}/{ano1.value} se facturó {(table['total'][0]-table['total'][1]):.2f} € respecto {ano2.value}\"\u001b[0m\u001b[0;34m)\u001b[0m\u001b[0;34m\u001b[0m\u001b[0;34m\u001b[0m\u001b[0m\n\u001b[0m\u001b[1;32m     27\u001b[0m \u001b[0;34m\u001b[0m\u001b[0m\n\u001b[1;32m     28\u001b[0m \u001b[0mbutton2\u001b[0m\u001b[0;34m.\u001b[0m\u001b[0mon_click\u001b[0m\u001b[0;34m(\u001b[0m\u001b[0maction_of_button2\u001b[0m\u001b[0;34m)\u001b[0m\u001b[0;34m\u001b[0m\u001b[0;34m\u001b[0m\u001b[0m\n",
          "\u001b[0;32m/opt/anaconda3/lib/python3.8/site-packages/pandas/core/series.py\u001b[0m in \u001b[0;36m__getitem__\u001b[0;34m(self, key)\u001b[0m\n\u001b[1;32m    880\u001b[0m \u001b[0;34m\u001b[0m\u001b[0m\n\u001b[1;32m    881\u001b[0m         \u001b[0;32melif\u001b[0m \u001b[0mkey_is_scalar\u001b[0m\u001b[0;34m:\u001b[0m\u001b[0;34m\u001b[0m\u001b[0;34m\u001b[0m\u001b[0m\n\u001b[0;32m--> 882\u001b[0;31m             \u001b[0;32mreturn\u001b[0m \u001b[0mself\u001b[0m\u001b[0;34m.\u001b[0m\u001b[0m_get_value\u001b[0m\u001b[0;34m(\u001b[0m\u001b[0mkey\u001b[0m\u001b[0;34m)\u001b[0m\u001b[0;34m\u001b[0m\u001b[0;34m\u001b[0m\u001b[0m\n\u001b[0m\u001b[1;32m    883\u001b[0m \u001b[0;34m\u001b[0m\u001b[0m\n\u001b[1;32m    884\u001b[0m         \u001b[0;32mif\u001b[0m \u001b[0mis_hashable\u001b[0m\u001b[0;34m(\u001b[0m\u001b[0mkey\u001b[0m\u001b[0;34m)\u001b[0m\u001b[0;34m:\u001b[0m\u001b[0;34m\u001b[0m\u001b[0;34m\u001b[0m\u001b[0m\n",
          "\u001b[0;32m/opt/anaconda3/lib/python3.8/site-packages/pandas/core/series.py\u001b[0m in \u001b[0;36m_get_value\u001b[0;34m(self, label, takeable)\u001b[0m\n\u001b[1;32m    987\u001b[0m \u001b[0;34m\u001b[0m\u001b[0m\n\u001b[1;32m    988\u001b[0m         \u001b[0;31m# Similar to Index.get_value, but we do not fall back to positional\u001b[0m\u001b[0;34m\u001b[0m\u001b[0;34m\u001b[0m\u001b[0;34m\u001b[0m\u001b[0m\n\u001b[0;32m--> 989\u001b[0;31m         \u001b[0mloc\u001b[0m \u001b[0;34m=\u001b[0m \u001b[0mself\u001b[0m\u001b[0;34m.\u001b[0m\u001b[0mindex\u001b[0m\u001b[0;34m.\u001b[0m\u001b[0mget_loc\u001b[0m\u001b[0;34m(\u001b[0m\u001b[0mlabel\u001b[0m\u001b[0;34m)\u001b[0m\u001b[0;34m\u001b[0m\u001b[0;34m\u001b[0m\u001b[0m\n\u001b[0m\u001b[1;32m    990\u001b[0m         \u001b[0;32mreturn\u001b[0m \u001b[0mself\u001b[0m\u001b[0;34m.\u001b[0m\u001b[0mindex\u001b[0m\u001b[0;34m.\u001b[0m\u001b[0m_get_values_for_loc\u001b[0m\u001b[0;34m(\u001b[0m\u001b[0mself\u001b[0m\u001b[0;34m,\u001b[0m \u001b[0mloc\u001b[0m\u001b[0;34m,\u001b[0m \u001b[0mlabel\u001b[0m\u001b[0;34m)\u001b[0m\u001b[0;34m\u001b[0m\u001b[0;34m\u001b[0m\u001b[0m\n\u001b[1;32m    991\u001b[0m \u001b[0;34m\u001b[0m\u001b[0m\n",
          "\u001b[0;32m/opt/anaconda3/lib/python3.8/site-packages/pandas/core/indexes/range.py\u001b[0m in \u001b[0;36mget_loc\u001b[0;34m(self, key, method, tolerance)\u001b[0m\n\u001b[1;32m    355\u001b[0m                     \u001b[0;32mreturn\u001b[0m \u001b[0mself\u001b[0m\u001b[0;34m.\u001b[0m\u001b[0m_range\u001b[0m\u001b[0;34m.\u001b[0m\u001b[0mindex\u001b[0m\u001b[0;34m(\u001b[0m\u001b[0mnew_key\u001b[0m\u001b[0;34m)\u001b[0m\u001b[0;34m\u001b[0m\u001b[0;34m\u001b[0m\u001b[0m\n\u001b[1;32m    356\u001b[0m                 \u001b[0;32mexcept\u001b[0m \u001b[0mValueError\u001b[0m \u001b[0;32mas\u001b[0m \u001b[0merr\u001b[0m\u001b[0;34m:\u001b[0m\u001b[0;34m\u001b[0m\u001b[0;34m\u001b[0m\u001b[0m\n\u001b[0;32m--> 357\u001b[0;31m                     \u001b[0;32mraise\u001b[0m \u001b[0mKeyError\u001b[0m\u001b[0;34m(\u001b[0m\u001b[0mkey\u001b[0m\u001b[0;34m)\u001b[0m \u001b[0;32mfrom\u001b[0m \u001b[0merr\u001b[0m\u001b[0;34m\u001b[0m\u001b[0;34m\u001b[0m\u001b[0m\n\u001b[0m\u001b[1;32m    358\u001b[0m             \u001b[0;32mraise\u001b[0m \u001b[0mKeyError\u001b[0m\u001b[0;34m(\u001b[0m\u001b[0mkey\u001b[0m\u001b[0;34m)\u001b[0m\u001b[0;34m\u001b[0m\u001b[0;34m\u001b[0m\u001b[0m\n\u001b[1;32m    359\u001b[0m         \u001b[0;32mreturn\u001b[0m \u001b[0msuper\u001b[0m\u001b[0;34m(\u001b[0m\u001b[0;34m)\u001b[0m\u001b[0;34m.\u001b[0m\u001b[0mget_loc\u001b[0m\u001b[0;34m(\u001b[0m\u001b[0mkey\u001b[0m\u001b[0;34m,\u001b[0m \u001b[0mmethod\u001b[0m\u001b[0;34m=\u001b[0m\u001b[0mmethod\u001b[0m\u001b[0;34m,\u001b[0m \u001b[0mtolerance\u001b[0m\u001b[0;34m=\u001b[0m\u001b[0mtolerance\u001b[0m\u001b[0;34m)\u001b[0m\u001b[0;34m\u001b[0m\u001b[0;34m\u001b[0m\u001b[0m\n",
          "\u001b[0;31mKeyError\u001b[0m: 1"
         ]
        }
       ]
      }
     },
     "4dbc12be025d416f9dcb22afb8643fe0": {
      "model_module": "@jupyter-widgets/output",
      "model_module_version": "1.0.0",
      "model_name": "OutputModel",
      "state": {
       "layout": "IPY_MODEL_53adc35b704042829e2c37da7d2b3283"
      }
     },
     "4e076a4157cb40ec9dc9c72595b4ab0b": {
      "model_module": "@jupyter-widgets/controls",
      "model_module_version": "1.5.0",
      "model_name": "ButtonModel",
      "state": {
       "button_style": "primary",
       "description": "Compare",
       "icon": "money",
       "layout": "IPY_MODEL_68fd92ad26bb42ab8394fc30d0af4dea",
       "style": "IPY_MODEL_43bb6435fcc74b13903eca73831c2a12",
       "tooltip": "Click me"
      }
     },
     "4ec9418b858d44278d939cdd6155a11a": {
      "model_module": "@jupyter-widgets/base",
      "model_module_version": "1.2.0",
      "model_name": "LayoutModel",
      "state": {}
     },
     "4eca110c654c489f93d240e4db0efb8e": {
      "model_module": "@jupyter-widgets/controls",
      "model_module_version": "1.5.0",
      "model_name": "DropdownModel",
      "state": {
       "_options_labels": [
        "2016",
        "2017",
        "2018",
        "2019",
        "2020",
        "2021"
       ],
       "description": "Mes B:",
       "index": 0,
       "layout": "IPY_MODEL_6f64422e1e9d4397a6fe1ba24d751b0a",
       "style": "IPY_MODEL_12dd8ab71dd140a98d129274aeebfb95"
      }
     },
     "503aacff8eb048fa9b2a115aa6cb2f45": {
      "model_module": "@jupyter-widgets/base",
      "model_module_version": "1.2.0",
      "model_name": "LayoutModel",
      "state": {}
     },
     "5075593ea05d4562ad75bf751e7098d6": {
      "model_module": "@jupyter-widgets/base",
      "model_module_version": "1.2.0",
      "model_name": "LayoutModel",
      "state": {}
     },
     "508af22cce5447638b358506a15b385b": {
      "model_module": "@jupyter-widgets/controls",
      "model_module_version": "1.5.0",
      "model_name": "DescriptionStyleModel",
      "state": {
       "description_width": ""
      }
     },
     "508ea2cd80aa4142959d78915262e835": {
      "model_module": "@jupyter-widgets/base",
      "model_module_version": "1.2.0",
      "model_name": "LayoutModel",
      "state": {}
     },
     "50c3762779454fadaf6e9ba840260988": {
      "model_module": "@jupyter-widgets/base",
      "model_module_version": "1.2.0",
      "model_name": "LayoutModel",
      "state": {}
     },
     "50ff8097571d4da5b67ff721fb820044": {
      "model_module": "@jupyter-widgets/controls",
      "model_module_version": "1.5.0",
      "model_name": "FloatSliderModel",
      "state": {
       "description": "MES:",
       "layout": "IPY_MODEL_092adce8c2b74f5a999e26ad8d57e3bd",
       "max": 12,
       "min": 1,
       "readout_format": ".0f",
       "style": "IPY_MODEL_3ad1d3cfe8b94da3821041cae5ab685c",
       "value": 1
      }
     },
     "51169a952f7b444fa1b98073c1f2f33e": {
      "model_module": "@jupyter-widgets/controls",
      "model_module_version": "1.5.0",
      "model_name": "ButtonModel",
      "state": {
       "button_style": "primary",
       "description": "Compare",
       "icon": "money",
       "layout": "IPY_MODEL_be4c6641bee247699880688001ddf98b",
       "style": "IPY_MODEL_4846541eb2ee48b196a9036d47fcb136",
       "tooltip": "Click me"
      }
     },
     "5159d5068f1442ed8563ab0dcc580168": {
      "model_module": "@jupyter-widgets/controls",
      "model_module_version": "1.5.0",
      "model_name": "FloatSliderModel",
      "state": {
       "description": "MES:",
       "layout": "IPY_MODEL_9f65b042ef264ee0858bc27a95805eff",
       "max": 12,
       "min": 1,
       "readout_format": ".0f",
       "style": "IPY_MODEL_f4a1ec16ddaf4a42b9e593e8df32dcca",
       "value": 1
      }
     },
     "515ddff96be64cf5a657d0e2a732fba2": {
      "model_module": "@jupyter-widgets/controls",
      "model_module_version": "1.5.0",
      "model_name": "VBoxModel",
      "state": {
       "children": [
        "IPY_MODEL_2ecda2b5777a4bdd8700c43c658c3d3a",
        "IPY_MODEL_1b5dbe850f0049678ff2c5813b3d26d0",
        "IPY_MODEL_9e56aae5eb2c466bb788ce702a861876"
       ],
       "layout": "IPY_MODEL_a9ba37ffe0bf4fe09bbb75d30043d61c"
      }
     },
     "51c6ef083f894b2e879600c9205c9823": {
      "model_module": "@jupyter-widgets/controls",
      "model_module_version": "1.5.0",
      "model_name": "DescriptionStyleModel",
      "state": {
       "description_width": ""
      }
     },
     "51e7e7c7dd274cb4b18361755db8f979": {
      "model_module": "@jupyter-widgets/controls",
      "model_module_version": "1.5.0",
      "model_name": "VBoxModel",
      "state": {
       "children": [
        "IPY_MODEL_983131c7c5a844458fc0575fb86089d2",
        "IPY_MODEL_45a1c6e4de8844fc8f5cfc5f283a5d1e",
        "IPY_MODEL_62d3a27ea44845a5b85f6da4306fbcc0"
       ],
       "layout": "IPY_MODEL_5fa9795d2a7c4d2b840e4bfd18eacd84"
      }
     },
     "52b4b248e9e44eb9abaca7408d678fe9": {
      "model_module": "@jupyter-widgets/base",
      "model_module_version": "1.2.0",
      "model_name": "LayoutModel",
      "state": {}
     },
     "52d7a5dd59204772a9136d58a2b5ff0e": {
      "model_module": "@jupyter-widgets/base",
      "model_module_version": "1.2.0",
      "model_name": "LayoutModel",
      "state": {}
     },
     "531321cf949943c8b14bde4dc53a2065": {
      "model_module": "@jupyter-widgets/base",
      "model_module_version": "1.2.0",
      "model_name": "LayoutModel",
      "state": {}
     },
     "53adc35b704042829e2c37da7d2b3283": {
      "model_module": "@jupyter-widgets/base",
      "model_module_version": "1.2.0",
      "model_name": "LayoutModel",
      "state": {}
     },
     "54269cbb75ae425184fa25798a5baacf": {
      "model_module": "@jupyter-widgets/controls",
      "model_module_version": "1.5.0",
      "model_name": "SliderStyleModel",
      "state": {
       "description_width": ""
      }
     },
     "556eabc7495e4d29bab9f9225568b24d": {
      "model_module": "@jupyter-widgets/base",
      "model_module_version": "1.2.0",
      "model_name": "LayoutModel",
      "state": {}
     },
     "56238f96205b4c93affda546a1249da7": {
      "model_module": "@jupyter-widgets/controls",
      "model_module_version": "1.5.0",
      "model_name": "FloatSliderModel",
      "state": {
       "description": "MES:",
       "layout": "IPY_MODEL_57bda09d85994f44a2df607fe819c089",
       "max": 12,
       "min": 1,
       "readout_format": ".0f",
       "style": "IPY_MODEL_1da0c28a04294132834f35b1c71e6d46",
       "value": 1
      }
     },
     "563e4327f1464de0a03500a1e75dcb9d": {
      "model_module": "@jupyter-widgets/base",
      "model_module_version": "1.2.0",
      "model_name": "LayoutModel",
      "state": {}
     },
     "5675e18dc410486cb61cb11f235ae204": {
      "model_module": "@jupyter-widgets/base",
      "model_module_version": "1.2.0",
      "model_name": "LayoutModel",
      "state": {}
     },
     "568a93fb85a7411597ee8e2179d37aa7": {
      "model_module": "@jupyter-widgets/base",
      "model_module_version": "1.2.0",
      "model_name": "LayoutModel",
      "state": {}
     },
     "56b87bd872b749efac216dd99d5b33d0": {
      "model_module": "@jupyter-widgets/base",
      "model_module_version": "1.2.0",
      "model_name": "LayoutModel",
      "state": {}
     },
     "57714d70f1fb4776bdcef6c8d38ff39f": {
      "model_module": "@jupyter-widgets/controls",
      "model_module_version": "1.5.0",
      "model_name": "DropdownModel",
      "state": {
       "_options_labels": [
        "1",
        "2",
        "3"
       ],
       "description": "Mes A:",
       "index": 1,
       "layout": "IPY_MODEL_c454dfa751414b09bcf33609ff9b8c60",
       "style": "IPY_MODEL_e997da6f07e94a2bb6e09bde3f3f51bd"
      }
     },
     "577639cc0b684067bcf098fc9116559f": {
      "model_module": "@jupyter-widgets/controls",
      "model_module_version": "1.5.0",
      "model_name": "DropdownModel",
      "state": {
       "_options_labels": [
        "2",
        "0",
        "2",
        "1"
       ],
       "description": "Mes A:",
       "index": 0,
       "layout": "IPY_MODEL_43b75a97901c40439af721920b3cdfbf",
       "style": "IPY_MODEL_bbdcd457178948e492e455623d886adf"
      }
     },
     "5794e6f8a1dc445888a377a681828cd2": {
      "model_module": "@jupyter-widgets/controls",
      "model_module_version": "1.5.0",
      "model_name": "FloatSliderModel",
      "state": {
       "description": "MONTH:",
       "layout": "IPY_MODEL_fc739e63282d446281ecc761403d6023",
       "max": 12,
       "min": 1,
       "readout_format": ".0f",
       "style": "IPY_MODEL_127ebfe0014844898a0cf3bf3d2fbd14",
       "value": 4
      }
     },
     "57aefdbe0ebe4ab3b72b54f8e1381299": {
      "model_module": "@jupyter-widgets/controls",
      "model_module_version": "1.5.0",
      "model_name": "FloatSliderModel",
      "state": {
       "description": "MONTH:",
       "layout": "IPY_MODEL_803f5c25f2bd4aaa90ef63a10b70fdfa",
       "max": 12,
       "min": 1,
       "readout_format": ".0f",
       "style": "IPY_MODEL_f625177abe6045d39642e6e88d8fcde3",
       "value": 4
      }
     },
     "57bda09d85994f44a2df607fe819c089": {
      "model_module": "@jupyter-widgets/base",
      "model_module_version": "1.2.0",
      "model_name": "LayoutModel",
      "state": {}
     },
     "5846c83c902740e89bd0e36b21afb1c5": {
      "model_module": "@jupyter-widgets/controls",
      "model_module_version": "1.5.0",
      "model_name": "HBoxModel",
      "state": {
       "children": [
        "IPY_MODEL_610a089ea15047aaa51d203297418019",
        "IPY_MODEL_828d6f5982d04f9ebad9856b3ae4728b",
        "IPY_MODEL_7cbec9c35c024449b0b0e6eefdd405f9"
       ],
       "layout": "IPY_MODEL_476b585fae7d42a98f5a73c7bd7ed56f"
      }
     },
     "5896a68a2e8a4a5ab3975ff4ff1f0c17": {
      "model_module": "@jupyter-widgets/base",
      "model_module_version": "1.2.0",
      "model_name": "LayoutModel",
      "state": {}
     },
     "594eda6729ce404ca22cc5f740e23640": {
      "model_module": "@jupyter-widgets/base",
      "model_module_version": "1.2.0",
      "model_name": "LayoutModel",
      "state": {}
     },
     "59a849ccb5a146a5830f723cecb9ffc1": {
      "model_module": "@jupyter-widgets/controls",
      "model_module_version": "1.5.0",
      "model_name": "DescriptionStyleModel",
      "state": {
       "description_width": ""
      }
     },
     "59f170138345417e83f3526b1d53a55d": {
      "model_module": "@jupyter-widgets/controls",
      "model_module_version": "1.5.0",
      "model_name": "DropdownModel",
      "state": {
       "_options_labels": [
        "1",
        "2",
        "3"
       ],
       "description": "Mes B:",
       "index": 1,
       "layout": "IPY_MODEL_a8ce00e5b83d43cbae93432c5a97bbd7",
       "style": "IPY_MODEL_c5f66333ed88483cb8e8d44308ee5864"
      }
     },
     "5a04cd4ea250407c893592532c4e2497": {
      "model_module": "@jupyter-widgets/base",
      "model_module_version": "1.2.0",
      "model_name": "LayoutModel",
      "state": {}
     },
     "5a22f6a6773f42688d75c9120129d200": {
      "model_module": "@jupyter-widgets/base",
      "model_module_version": "1.2.0",
      "model_name": "LayoutModel",
      "state": {}
     },
     "5a48a4ef96194207b070544679cac127": {
      "model_module": "@jupyter-widgets/base",
      "model_module_version": "1.2.0",
      "model_name": "LayoutModel",
      "state": {}
     },
     "5a61fc3fbcf742eba14e989f592e61a5": {
      "model_module": "@jupyter-widgets/controls",
      "model_module_version": "1.5.0",
      "model_name": "HBoxModel",
      "state": {
       "children": [
        "IPY_MODEL_a211327490da42f59f61ae3b558d36fa",
        "IPY_MODEL_846c52f895db47e0b292a87524936887",
        "IPY_MODEL_c94f090c1d724cb09d48e4570db417a1"
       ],
       "layout": "IPY_MODEL_56b87bd872b749efac216dd99d5b33d0"
      }
     },
     "5a85d1ef5d324341808a560a2a09e726": {
      "model_module": "@jupyter-widgets/controls",
      "model_module_version": "1.5.0",
      "model_name": "FloatSliderModel",
      "state": {
       "description": "MES:",
       "layout": "IPY_MODEL_7cd59890e8d84c5db02a2fc3c70aaa05",
       "max": 12,
       "min": 1,
       "readout_format": ".0f",
       "style": "IPY_MODEL_cf36a21076754a2aa67c9873dbaf2cda",
       "value": 1
      }
     },
     "5a934a54876841bc8e162fdcb59d8db8": {
      "model_module": "@jupyter-widgets/base",
      "model_module_version": "1.2.0",
      "model_name": "LayoutModel",
      "state": {}
     },
     "5b30587736dc482dbe4f15489e9567b5": {
      "model_module": "@jupyter-widgets/base",
      "model_module_version": "1.2.0",
      "model_name": "LayoutModel",
      "state": {}
     },
     "5b5ec9d53b64487baf9752530f031bf5": {
      "model_module": "@jupyter-widgets/controls",
      "model_module_version": "1.5.0",
      "model_name": "HBoxModel",
      "state": {
       "children": [
        "IPY_MODEL_e893bb73c5dc4f6a9e2e6f0b3633c265",
        "IPY_MODEL_247e8841aa054356a6384f4ce81bd959",
        "IPY_MODEL_195cb8699af24775b31fa2f4e4df2dca"
       ],
       "layout": "IPY_MODEL_f3a009f8e9ab4c0caec69ef4b9a2fb3e"
      }
     },
     "5b7b218f9a9b4dd9940946330f9abaa8": {
      "model_module": "@jupyter-widgets/controls",
      "model_module_version": "1.5.0",
      "model_name": "DropdownModel",
      "state": {
       "_options_labels": [
        "1",
        "2",
        "3"
       ],
       "description": "Mes B:",
       "index": 1,
       "layout": "IPY_MODEL_2513d88546e940769fc430fdb94c1958",
       "style": "IPY_MODEL_6a99be019da84090b90d4709940de18d"
      }
     },
     "5b91e60fb3934835b8205e704c9eba9f": {
      "model_module": "@jupyter-widgets/controls",
      "model_module_version": "1.5.0",
      "model_name": "DescriptionStyleModel",
      "state": {
       "description_width": ""
      }
     },
     "5d09f3fa300a44949c1fe851c5b7f4ec": {
      "model_module": "@jupyter-widgets/controls",
      "model_module_version": "1.5.0",
      "model_name": "ButtonStyleModel",
      "state": {}
     },
     "5d4c48a77523406bbcec9c6b5a1275b6": {
      "model_module": "@jupyter-widgets/base",
      "model_module_version": "1.2.0",
      "model_name": "LayoutModel",
      "state": {}
     },
     "5dbf6f880b2849579eceb94fbfec9c4e": {
      "model_module": "@jupyter-widgets/base",
      "model_module_version": "1.2.0",
      "model_name": "LayoutModel",
      "state": {}
     },
     "5de9406b8e1e48849fc31bc4cacb9b13": {
      "model_module": "@jupyter-widgets/base",
      "model_module_version": "1.2.0",
      "model_name": "LayoutModel",
      "state": {}
     },
     "5f2a457cd90446e2a5f3c7cb4cabb9cd": {
      "model_module": "@jupyter-widgets/controls",
      "model_module_version": "1.5.0",
      "model_name": "FloatSliderModel",
      "state": {
       "description": "MES:",
       "layout": "IPY_MODEL_d7e94a23380f4e75a3cef38cf0d050e9",
       "max": 12,
       "min": 1,
       "readout_format": ".0f",
       "style": "IPY_MODEL_bf96d2f32c094ea69538dea444eda300",
       "value": 1
      }
     },
     "5f5dc0d277374d92a04c782cc8959328": {
      "model_module": "@jupyter-widgets/controls",
      "model_module_version": "1.5.0",
      "model_name": "FloatSliderModel",
      "state": {
       "description": "MES:",
       "layout": "IPY_MODEL_1cf3ab0d462f437884dc242a4f9e84cb",
       "max": 12,
       "min": 1,
       "readout_format": ".0f",
       "style": "IPY_MODEL_a750a0a0b59e4cc29b0a9180d7f9bcfa",
       "value": 1
      }
     },
     "5f7afe1f0f764b5cbedc72122f3829c3": {
      "model_module": "@jupyter-widgets/controls",
      "model_module_version": "1.5.0",
      "model_name": "VBoxModel",
      "state": {
       "children": [
        "IPY_MODEL_f16d93a7b1064e1c8c4d2fe073f08dd4",
        "IPY_MODEL_ab3971b21c364504b1b7a88e936cdf84",
        "IPY_MODEL_8ef8d7c684084dbab0574ed4e47834b0"
       ],
       "layout": "IPY_MODEL_16887ef37cb64c52867fc1b0da0fa262"
      }
     },
     "5fa7ebad9740438dbc582f718d701ca9": {
      "model_module": "@jupyter-widgets/base",
      "model_module_version": "1.2.0",
      "model_name": "LayoutModel",
      "state": {}
     },
     "5fa9795d2a7c4d2b840e4bfd18eacd84": {
      "model_module": "@jupyter-widgets/base",
      "model_module_version": "1.2.0",
      "model_name": "LayoutModel",
      "state": {}
     },
     "5fc4c50d333043d092908f6a0e949932": {
      "model_module": "@jupyter-widgets/controls",
      "model_module_version": "1.5.0",
      "model_name": "ButtonStyleModel",
      "state": {}
     },
     "5fd3e9acdd9a4b1192ce4df822a71780": {
      "model_module": "@jupyter-widgets/base",
      "model_module_version": "1.2.0",
      "model_name": "LayoutModel",
      "state": {}
     },
     "60109896be184d26a226ea60436ad4bf": {
      "model_module": "@jupyter-widgets/controls",
      "model_module_version": "1.5.0",
      "model_name": "HBoxModel",
      "state": {
       "children": [
        "IPY_MODEL_5794e6f8a1dc445888a377a681828cd2",
        "IPY_MODEL_71b17b4e5e224091826e0d42e661f4ee",
        "IPY_MODEL_03f1e2305632460cb7d9e4ccdf2aa1d9"
       ],
       "layout": "IPY_MODEL_c10aa67bd4174662b101783b23ad4138"
      }
     },
     "60117bd71f2442f9b4f216635252d718": {
      "model_module": "@jupyter-widgets/base",
      "model_module_version": "1.2.0",
      "model_name": "LayoutModel",
      "state": {}
     },
     "6017df4c60cf4d079b52cef0b270e544": {
      "model_module": "@jupyter-widgets/output",
      "model_module_version": "1.0.0",
      "model_name": "OutputModel",
      "state": {
       "layout": "IPY_MODEL_9d4403d46b7141f89920275394abed9f",
       "outputs": [
        {
         "name": "stdout",
         "output_type": "stream",
         "text": "I was clicked\n    ano  MONTH(created_at)    totsl\n0  2020                  1  27256.0\n"
        }
       ]
      }
     },
     "605efdba41104b49a47b8f2a90e64763": {
      "model_module": "@jupyter-widgets/controls",
      "model_module_version": "1.5.0",
      "model_name": "ButtonStyleModel",
      "state": {}
     },
     "610484402bf94762b55a4c9b9b099979": {
      "model_module": "@jupyter-widgets/controls",
      "model_module_version": "1.5.0",
      "model_name": "DescriptionStyleModel",
      "state": {
       "description_width": ""
      }
     },
     "610a089ea15047aaa51d203297418019": {
      "model_module": "@jupyter-widgets/controls",
      "model_module_version": "1.5.0",
      "model_name": "FloatSliderModel",
      "state": {
       "description": "MONTH:",
       "layout": "IPY_MODEL_2f90616ddae34aa98630e63098be7656",
       "max": 12,
       "min": 1,
       "readout_format": ".0f",
       "style": "IPY_MODEL_df2ea6adda7844ca9584b664ce3559b5",
       "value": 7
      }
     },
     "61303fb92d584033bec590e32a4e8a44": {
      "model_module": "@jupyter-widgets/controls",
      "model_module_version": "1.5.0",
      "model_name": "DescriptionStyleModel",
      "state": {
       "description_width": ""
      }
     },
     "613465f9fe5042c89ad04ef75e8f3927": {
      "model_module": "@jupyter-widgets/base",
      "model_module_version": "1.2.0",
      "model_name": "LayoutModel",
      "state": {}
     },
     "6160bb0c223f4939bf6f70403175d7a7": {
      "model_module": "@jupyter-widgets/base",
      "model_module_version": "1.2.0",
      "model_name": "LayoutModel",
      "state": {}
     },
     "61642e18b500432ba797f69506c92a2e": {
      "model_module": "@jupyter-widgets/base",
      "model_module_version": "1.2.0",
      "model_name": "LayoutModel",
      "state": {}
     },
     "6184601a49c4470d980282f55ca59a3d": {
      "model_module": "@jupyter-widgets/output",
      "model_module_version": "1.0.0",
      "model_name": "OutputModel",
      "state": {
       "layout": "IPY_MODEL_3e8cd8d697d54181a548b937ccf9ddb2",
       "outputs": [
        {
         "name": "stdout",
         "output_type": "stream",
         "text": "    ano  MONTH(created_at)    total\n0  2019                  4  21038.8\n1  2020                  4  15421.3\n<class 'numpy.float64'>\n"
        }
       ]
      }
     },
     "6221bce2aa3142e49b1e7137107e5a73": {
      "model_module": "@jupyter-widgets/controls",
      "model_module_version": "1.5.0",
      "model_name": "DescriptionStyleModel",
      "state": {
       "description_width": ""
      }
     },
     "6242d7ed73734199904729bafc2fcf53": {
      "model_module": "@jupyter-widgets/base",
      "model_module_version": "1.2.0",
      "model_name": "LayoutModel",
      "state": {}
     },
     "626d3eac2378473fb569a6f6ff50a176": {
      "model_module": "@jupyter-widgets/base",
      "model_module_version": "1.2.0",
      "model_name": "LayoutModel",
      "state": {}
     },
     "62aee117b674411a9666dfc8a311c3e8": {
      "model_module": "@jupyter-widgets/controls",
      "model_module_version": "1.5.0",
      "model_name": "VBoxModel",
      "state": {
       "children": [
        "IPY_MODEL_919a655cf6104f55b3591db55a9d8266",
        "IPY_MODEL_f8b21867133d4df58f34721bc89e5eb3",
        "IPY_MODEL_8e8171ca25274031a0ad582ad2ef56ec"
       ],
       "layout": "IPY_MODEL_edb686c1433c436582b655129b4bdcfc"
      }
     },
     "62d3a27ea44845a5b85f6da4306fbcc0": {
      "model_module": "@jupyter-widgets/output",
      "model_module_version": "1.0.0",
      "model_name": "OutputModel",
      "state": {
       "layout": "IPY_MODEL_ca9b1b263fa944d9b1d8d456921cd7e8",
       "outputs": [
        {
         "ename": "KeyError",
         "evalue": "1",
         "output_type": "error",
         "traceback": [
          "\u001b[0;31m---------------------------------------------------------------------------\u001b[0m",
          "\u001b[0;31mValueError\u001b[0m                                Traceback (most recent call last)",
          "\u001b[0;32m/opt/anaconda3/lib/python3.8/site-packages/pandas/core/indexes/range.py\u001b[0m in \u001b[0;36mget_loc\u001b[0;34m(self, key, method, tolerance)\u001b[0m\n\u001b[1;32m    354\u001b[0m                 \u001b[0;32mtry\u001b[0m\u001b[0;34m:\u001b[0m\u001b[0;34m\u001b[0m\u001b[0;34m\u001b[0m\u001b[0m\n\u001b[0;32m--> 355\u001b[0;31m                     \u001b[0;32mreturn\u001b[0m \u001b[0mself\u001b[0m\u001b[0;34m.\u001b[0m\u001b[0m_range\u001b[0m\u001b[0;34m.\u001b[0m\u001b[0mindex\u001b[0m\u001b[0;34m(\u001b[0m\u001b[0mnew_key\u001b[0m\u001b[0;34m)\u001b[0m\u001b[0;34m\u001b[0m\u001b[0;34m\u001b[0m\u001b[0m\n\u001b[0m\u001b[1;32m    356\u001b[0m                 \u001b[0;32mexcept\u001b[0m \u001b[0mValueError\u001b[0m \u001b[0;32mas\u001b[0m \u001b[0merr\u001b[0m\u001b[0;34m:\u001b[0m\u001b[0;34m\u001b[0m\u001b[0;34m\u001b[0m\u001b[0m\n",
          "\u001b[0;31mValueError\u001b[0m: 1 is not in range",
          "\nThe above exception was the direct cause of the following exception:\n",
          "\u001b[0;31mKeyError\u001b[0m                                  Traceback (most recent call last)",
          "\u001b[0;32m<ipython-input-257-17c13a8a29b9>\u001b[0m in \u001b[0;36maction_of_button2\u001b[0;34m(b)\u001b[0m\n\u001b[1;32m     25\u001b[0m         \u001b[0;32mwith\u001b[0m \u001b[0mout\u001b[0m\u001b[0;34m:\u001b[0m\u001b[0;34m\u001b[0m\u001b[0;34m\u001b[0m\u001b[0m\n\u001b[1;32m     26\u001b[0m             \u001b[0mtable\u001b[0m\u001b[0;34m\u001b[0m\u001b[0;34m\u001b[0m\u001b[0m\n\u001b[0;32m---> 27\u001b[0;31m             \u001b[0mprint\u001b[0m\u001b[0;34m(\u001b[0m\u001b[0;34mf\"En el mes {mes.value:.0f}/{ano1.value} se facturó {(table['total'][0]-table['total'][1]):.2f} € respecto {ano2.value}\"\u001b[0m\u001b[0;34m)\u001b[0m\u001b[0;34m\u001b[0m\u001b[0;34m\u001b[0m\u001b[0m\n\u001b[0m\u001b[1;32m     28\u001b[0m \u001b[0;34m\u001b[0m\u001b[0m\n\u001b[1;32m     29\u001b[0m \u001b[0mbutton2\u001b[0m\u001b[0;34m.\u001b[0m\u001b[0mon_click\u001b[0m\u001b[0;34m(\u001b[0m\u001b[0maction_of_button2\u001b[0m\u001b[0;34m)\u001b[0m\u001b[0;34m\u001b[0m\u001b[0;34m\u001b[0m\u001b[0m\n",
          "\u001b[0;32m/opt/anaconda3/lib/python3.8/site-packages/pandas/core/series.py\u001b[0m in \u001b[0;36m__getitem__\u001b[0;34m(self, key)\u001b[0m\n\u001b[1;32m    880\u001b[0m \u001b[0;34m\u001b[0m\u001b[0m\n\u001b[1;32m    881\u001b[0m         \u001b[0;32melif\u001b[0m \u001b[0mkey_is_scalar\u001b[0m\u001b[0;34m:\u001b[0m\u001b[0;34m\u001b[0m\u001b[0;34m\u001b[0m\u001b[0m\n\u001b[0;32m--> 882\u001b[0;31m             \u001b[0;32mreturn\u001b[0m \u001b[0mself\u001b[0m\u001b[0;34m.\u001b[0m\u001b[0m_get_value\u001b[0m\u001b[0;34m(\u001b[0m\u001b[0mkey\u001b[0m\u001b[0;34m)\u001b[0m\u001b[0;34m\u001b[0m\u001b[0;34m\u001b[0m\u001b[0m\n\u001b[0m\u001b[1;32m    883\u001b[0m \u001b[0;34m\u001b[0m\u001b[0m\n\u001b[1;32m    884\u001b[0m         \u001b[0;32mif\u001b[0m \u001b[0mis_hashable\u001b[0m\u001b[0;34m(\u001b[0m\u001b[0mkey\u001b[0m\u001b[0;34m)\u001b[0m\u001b[0;34m:\u001b[0m\u001b[0;34m\u001b[0m\u001b[0;34m\u001b[0m\u001b[0m\n",
          "\u001b[0;32m/opt/anaconda3/lib/python3.8/site-packages/pandas/core/series.py\u001b[0m in \u001b[0;36m_get_value\u001b[0;34m(self, label, takeable)\u001b[0m\n\u001b[1;32m    987\u001b[0m \u001b[0;34m\u001b[0m\u001b[0m\n\u001b[1;32m    988\u001b[0m         \u001b[0;31m# Similar to Index.get_value, but we do not fall back to positional\u001b[0m\u001b[0;34m\u001b[0m\u001b[0;34m\u001b[0m\u001b[0;34m\u001b[0m\u001b[0m\n\u001b[0;32m--> 989\u001b[0;31m         \u001b[0mloc\u001b[0m \u001b[0;34m=\u001b[0m \u001b[0mself\u001b[0m\u001b[0;34m.\u001b[0m\u001b[0mindex\u001b[0m\u001b[0;34m.\u001b[0m\u001b[0mget_loc\u001b[0m\u001b[0;34m(\u001b[0m\u001b[0mlabel\u001b[0m\u001b[0;34m)\u001b[0m\u001b[0;34m\u001b[0m\u001b[0;34m\u001b[0m\u001b[0m\n\u001b[0m\u001b[1;32m    990\u001b[0m         \u001b[0;32mreturn\u001b[0m \u001b[0mself\u001b[0m\u001b[0;34m.\u001b[0m\u001b[0mindex\u001b[0m\u001b[0;34m.\u001b[0m\u001b[0m_get_values_for_loc\u001b[0m\u001b[0;34m(\u001b[0m\u001b[0mself\u001b[0m\u001b[0;34m,\u001b[0m \u001b[0mloc\u001b[0m\u001b[0;34m,\u001b[0m \u001b[0mlabel\u001b[0m\u001b[0;34m)\u001b[0m\u001b[0;34m\u001b[0m\u001b[0;34m\u001b[0m\u001b[0m\n\u001b[1;32m    991\u001b[0m \u001b[0;34m\u001b[0m\u001b[0m\n",
          "\u001b[0;32m/opt/anaconda3/lib/python3.8/site-packages/pandas/core/indexes/range.py\u001b[0m in \u001b[0;36mget_loc\u001b[0;34m(self, key, method, tolerance)\u001b[0m\n\u001b[1;32m    355\u001b[0m                     \u001b[0;32mreturn\u001b[0m \u001b[0mself\u001b[0m\u001b[0;34m.\u001b[0m\u001b[0m_range\u001b[0m\u001b[0;34m.\u001b[0m\u001b[0mindex\u001b[0m\u001b[0;34m(\u001b[0m\u001b[0mnew_key\u001b[0m\u001b[0;34m)\u001b[0m\u001b[0;34m\u001b[0m\u001b[0;34m\u001b[0m\u001b[0m\n\u001b[1;32m    356\u001b[0m                 \u001b[0;32mexcept\u001b[0m \u001b[0mValueError\u001b[0m \u001b[0;32mas\u001b[0m \u001b[0merr\u001b[0m\u001b[0;34m:\u001b[0m\u001b[0;34m\u001b[0m\u001b[0;34m\u001b[0m\u001b[0m\n\u001b[0;32m--> 357\u001b[0;31m                     \u001b[0;32mraise\u001b[0m \u001b[0mKeyError\u001b[0m\u001b[0;34m(\u001b[0m\u001b[0mkey\u001b[0m\u001b[0;34m)\u001b[0m \u001b[0;32mfrom\u001b[0m \u001b[0merr\u001b[0m\u001b[0;34m\u001b[0m\u001b[0;34m\u001b[0m\u001b[0m\n\u001b[0m\u001b[1;32m    358\u001b[0m             \u001b[0;32mraise\u001b[0m \u001b[0mKeyError\u001b[0m\u001b[0;34m(\u001b[0m\u001b[0mkey\u001b[0m\u001b[0;34m)\u001b[0m\u001b[0;34m\u001b[0m\u001b[0;34m\u001b[0m\u001b[0m\n\u001b[1;32m    359\u001b[0m         \u001b[0;32mreturn\u001b[0m \u001b[0msuper\u001b[0m\u001b[0;34m(\u001b[0m\u001b[0;34m)\u001b[0m\u001b[0;34m.\u001b[0m\u001b[0mget_loc\u001b[0m\u001b[0;34m(\u001b[0m\u001b[0mkey\u001b[0m\u001b[0;34m,\u001b[0m \u001b[0mmethod\u001b[0m\u001b[0;34m=\u001b[0m\u001b[0mmethod\u001b[0m\u001b[0;34m,\u001b[0m \u001b[0mtolerance\u001b[0m\u001b[0;34m=\u001b[0m\u001b[0mtolerance\u001b[0m\u001b[0;34m)\u001b[0m\u001b[0;34m\u001b[0m\u001b[0;34m\u001b[0m\u001b[0m\n",
          "\u001b[0;31mKeyError\u001b[0m: 1"
         ]
        }
       ]
      }
     },
     "63ba3d06278a48628442e7c5110cf8fe": {
      "model_module": "@jupyter-widgets/controls",
      "model_module_version": "1.5.0",
      "model_name": "ButtonStyleModel",
      "state": {}
     },
     "640bfbfa11bb4468baecaa8f965fe17d": {
      "model_module": "@jupyter-widgets/base",
      "model_module_version": "1.2.0",
      "model_name": "LayoutModel",
      "state": {}
     },
     "644a42f2af7340e6a21e4e0eb36ae736": {
      "model_module": "@jupyter-widgets/controls",
      "model_module_version": "1.5.0",
      "model_name": "FloatSliderModel",
      "state": {
       "description": "MES:",
       "layout": "IPY_MODEL_14406d9ea1ca43deab0a266ccda4e18d",
       "max": 12,
       "min": 1,
       "readout_format": ".0f",
       "style": "IPY_MODEL_d2f9f1b0377848fc882c3fcc28a4adc7",
       "value": 1
      }
     },
     "6493ff84ab194ea3ad056078ea85db2c": {
      "model_module": "@jupyter-widgets/controls",
      "model_module_version": "1.5.0",
      "model_name": "DescriptionStyleModel",
      "state": {
       "description_width": ""
      }
     },
     "6509646a9afd4e60a5773b6e2033bb6e": {
      "model_module": "@jupyter-widgets/base",
      "model_module_version": "1.2.0",
      "model_name": "LayoutModel",
      "state": {}
     },
     "651388240f154d3289da562aa800a135": {
      "model_module": "@jupyter-widgets/base",
      "model_module_version": "1.2.0",
      "model_name": "LayoutModel",
      "state": {}
     },
     "6560842da2124dd6aec53217139d9b73": {
      "model_module": "@jupyter-widgets/output",
      "model_module_version": "1.0.0",
      "model_name": "OutputModel",
      "state": {
       "layout": "IPY_MODEL_de295f94e5d54f5b9e325b66f52684e8",
       "outputs": [
        {
         "name": "stdout",
         "output_type": "stream",
         "text": "The 4/2019 had a turnover of -15933.87 € in comparison with 2021.\n"
        }
       ]
      }
     },
     "65bda023256c40de9fb24e9d40037b1e": {
      "model_module": "@jupyter-widgets/base",
      "model_module_version": "1.2.0",
      "model_name": "LayoutModel",
      "state": {}
     },
     "65fc1871efbc444e9e6819b3e199edbb": {
      "model_module": "@jupyter-widgets/base",
      "model_module_version": "1.2.0",
      "model_name": "LayoutModel",
      "state": {}
     },
     "667199eaba574df5a6ad9018e2d8e1ae": {
      "model_module": "@jupyter-widgets/base",
      "model_module_version": "1.2.0",
      "model_name": "LayoutModel",
      "state": {}
     },
     "66da2308461d4676b12bbe6a885e452e": {
      "model_module": "@jupyter-widgets/controls",
      "model_module_version": "1.5.0",
      "model_name": "DropdownModel",
      "state": {
       "_options_labels": [
        "2021",
        "2020",
        "2019",
        "2018",
        "2017"
       ],
       "description": "YEAR B:",
       "index": 0,
       "layout": "IPY_MODEL_37650b900eb649b78c331265972a75b0",
       "style": "IPY_MODEL_6c09bbc40000418d8c96d04f2776fe89"
      }
     },
     "67215f1a2da1435bb133869d2c5e8bdc": {
      "model_module": "@jupyter-widgets/base",
      "model_module_version": "1.2.0",
      "model_name": "LayoutModel",
      "state": {}
     },
     "6739f1d82d7e46148324f572b017190a": {
      "model_module": "@jupyter-widgets/controls",
      "model_module_version": "1.5.0",
      "model_name": "DropdownModel",
      "state": {
       "_options_labels": [
        "2016",
        "2017",
        "2018",
        "2019",
        "2020",
        "2021"
       ],
       "description": "YEAR A:",
       "index": 3,
       "layout": "IPY_MODEL_ebddaa8b75f04053b0b3d09a5e648c76",
       "style": "IPY_MODEL_2d56b1c37e13401daecd374159f6a1c8"
      }
     },
     "677118c903514dc38df2b4dc94bc2861": {
      "model_module": "@jupyter-widgets/base",
      "model_module_version": "1.2.0",
      "model_name": "LayoutModel",
      "state": {}
     },
     "679fef4055ca4f03be98ecba9d7334bb": {
      "model_module": "@jupyter-widgets/controls",
      "model_module_version": "1.5.0",
      "model_name": "DropdownModel",
      "state": {
       "_options_labels": [
        "1",
        "2",
        "3"
       ],
       "description": "Number:",
       "index": 1,
       "layout": "IPY_MODEL_771410d7ca7340ba87e013b5407c9778",
       "style": "IPY_MODEL_9121a334991947c1b27590bb030a0fdd"
      }
     },
     "67d83cadc6d44603a696b7ca4e6c7412": {
      "model_module": "@jupyter-widgets/base",
      "model_module_version": "1.2.0",
      "model_name": "LayoutModel",
      "state": {}
     },
     "687b68e1bb1446a983bcee27df4bd71d": {
      "model_module": "@jupyter-widgets/controls",
      "model_module_version": "1.5.0",
      "model_name": "FloatSliderModel",
      "state": {
       "description": "MES:",
       "layout": "IPY_MODEL_83f3aa55012041a789bc36d189131573",
       "max": 12,
       "min": 1,
       "readout_format": ".0f",
       "style": "IPY_MODEL_7badc537890c4c62af8880736db64491",
       "value": 1
      }
     },
     "68f01013a56a49358795176833aba96e": {
      "model_module": "@jupyter-widgets/controls",
      "model_module_version": "1.5.0",
      "model_name": "FloatSliderModel",
      "state": {
       "description": "MES:",
       "layout": "IPY_MODEL_f55289e642094c9fa4f490214bbc94b6",
       "max": 12,
       "min": 1,
       "readout_format": ".0f",
       "style": "IPY_MODEL_3554d1eaff1f4fc0bf5a63b3e1c68443",
       "value": 1
      }
     },
     "68fd92ad26bb42ab8394fc30d0af4dea": {
      "model_module": "@jupyter-widgets/base",
      "model_module_version": "1.2.0",
      "model_name": "LayoutModel",
      "state": {}
     },
     "695720503c054241a650fa51e0c7647c": {
      "model_module": "@jupyter-widgets/controls",
      "model_module_version": "1.5.0",
      "model_name": "DropdownModel",
      "state": {
       "_options_labels": [
        "1",
        "2",
        "3"
       ],
       "description": "Mes A:",
       "index": 1,
       "layout": "IPY_MODEL_0ff8e18aadb84ca48a9c846f2e0ce0e9",
       "style": "IPY_MODEL_8c8601744852408f9260466ab3e74158"
      }
     },
     "695e872d0de146a5a7bf5aeab7d95267": {
      "model_module": "@jupyter-widgets/base",
      "model_module_version": "1.2.0",
      "model_name": "LayoutModel",
      "state": {}
     },
     "698d1294104e459eb8a4175037a963f1": {
      "model_module": "@jupyter-widgets/base",
      "model_module_version": "1.2.0",
      "model_name": "LayoutModel",
      "state": {}
     },
     "6a89456ef7324d2a93911133016abfe7": {
      "model_module": "@jupyter-widgets/controls",
      "model_module_version": "1.5.0",
      "model_name": "ButtonStyleModel",
      "state": {}
     },
     "6a99be019da84090b90d4709940de18d": {
      "model_module": "@jupyter-widgets/controls",
      "model_module_version": "1.5.0",
      "model_name": "DescriptionStyleModel",
      "state": {
       "description_width": ""
      }
     },
     "6af4406dd72f43ab8b8fd0e436a63ff5": {
      "model_module": "@jupyter-widgets/controls",
      "model_module_version": "1.5.0",
      "model_name": "FloatSliderModel",
      "state": {
       "description": "MES:",
       "layout": "IPY_MODEL_02626925e5f24f758745e9b52ecf4053",
       "max": 12,
       "min": 1,
       "readout_format": ".0f",
       "style": "IPY_MODEL_15979dd967604a0eba08c6d3347ab867",
       "value": 1
      }
     },
     "6afbe200f1e3486faaddf997d2c1ffa3": {
      "model_module": "@jupyter-widgets/controls",
      "model_module_version": "1.5.0",
      "model_name": "ButtonModel",
      "state": {
       "description": "Click me",
       "icon": "check",
       "layout": "IPY_MODEL_43e21415452447d2bcf6e5ae1b0f5d6c",
       "style": "IPY_MODEL_5fc4c50d333043d092908f6a0e949932",
       "tooltip": "Click me"
      }
     },
     "6b79387e8c444558a0e99913d0c1b904": {
      "model_module": "@jupyter-widgets/controls",
      "model_module_version": "1.5.0",
      "model_name": "SliderStyleModel",
      "state": {
       "description_width": ""
      }
     },
     "6b793bb492584b4486407963a70f63e9": {
      "model_module": "@jupyter-widgets/output",
      "model_module_version": "1.0.0",
      "model_name": "OutputModel",
      "state": {
       "layout": "IPY_MODEL_e04a7927c72b48a6b25aec46082f8e18",
       "outputs": [
        {
         "name": "stdout",
         "output_type": "stream",
         "text": "    ano  MONTH(created_at)    total\n0  2019                  4  21038.8\n1  2020                  4  15421.3\n"
        }
       ]
      }
     },
     "6ba46e8cb3e946399ee9ce218370e677": {
      "model_module": "@jupyter-widgets/controls",
      "model_module_version": "1.5.0",
      "model_name": "FloatSliderModel",
      "state": {
       "description": "MES:",
       "layout": "IPY_MODEL_879674a94ac7482e86a168b157a571fd",
       "max": 12,
       "min": 1,
       "readout_format": ".0f",
       "style": "IPY_MODEL_dde80cde4e794cac8d726d23dc196880",
       "value": 1
      }
     },
     "6be8e1f2a3bb4819be36a972e55d45c2": {
      "model_module": "@jupyter-widgets/controls",
      "model_module_version": "1.5.0",
      "model_name": "VBoxModel",
      "state": {
       "children": [
        "IPY_MODEL_33a203e8c336464a9be8c27031493d57",
        "IPY_MODEL_427c3c6261b24af5bc080e624c2b451e",
        "IPY_MODEL_1fdc45d4890c4514a2f30fa79e045d90"
       ],
       "layout": "IPY_MODEL_2b7c955cbfc244e68713c31a4c104240"
      }
     },
     "6c09bbc40000418d8c96d04f2776fe89": {
      "model_module": "@jupyter-widgets/controls",
      "model_module_version": "1.5.0",
      "model_name": "DescriptionStyleModel",
      "state": {
       "description_width": ""
      }
     },
     "6c12da95cfc04f02be1ae50b581b1063": {
      "model_module": "@jupyter-widgets/base",
      "model_module_version": "1.2.0",
      "model_name": "LayoutModel",
      "state": {}
     },
     "6c27ec40048040b2b25431e9f944054c": {
      "model_module": "@jupyter-widgets/base",
      "model_module_version": "1.2.0",
      "model_name": "LayoutModel",
      "state": {}
     },
     "6c6af68f14b041d09e8e107311249229": {
      "model_module": "@jupyter-widgets/base",
      "model_module_version": "1.2.0",
      "model_name": "LayoutModel",
      "state": {}
     },
     "6c92261b549e4b6eba881be0a0a2e7a1": {
      "model_module": "@jupyter-widgets/controls",
      "model_module_version": "1.5.0",
      "model_name": "FloatSliderModel",
      "state": {
       "description": "MES:",
       "layout": "IPY_MODEL_c43ce602e5d540939932e8383ae89e5c",
       "max": 12,
       "min": 1,
       "readout_format": ".0f",
       "style": "IPY_MODEL_3d35897cb36c41cba00adb8efdf159a7",
       "value": 1
      }
     },
     "6d97e6a1f1974194bb56287a02da6550": {
      "model_module": "@jupyter-widgets/controls",
      "model_module_version": "1.5.0",
      "model_name": "DropdownModel",
      "state": {
       "_options_labels": [
        "1",
        "2",
        "3"
       ],
       "description": "Mes B:",
       "index": 1,
       "layout": "IPY_MODEL_ebd02b192b654c5184c8e1423f8b8cc6",
       "style": "IPY_MODEL_8c6325fd35f84e0bbf320fdeae663c3f"
      }
     },
     "6e2e6bfe79f9414fa84bd2cb6e2a1412": {
      "model_module": "@jupyter-widgets/controls",
      "model_module_version": "1.5.0",
      "model_name": "ButtonModel",
      "state": {
       "button_style": "primary",
       "description": "Compare",
       "icon": "money",
       "layout": "IPY_MODEL_173090da14ba404d822c3c08251da191",
       "style": "IPY_MODEL_8b6463ac3e084a8982ec12f6ae41d604",
       "tooltip": "Click me"
      }
     },
     "6e974cc0011f418e923c351e607ce3a5": {
      "model_module": "@jupyter-widgets/output",
      "model_module_version": "1.0.0",
      "model_name": "OutputModel",
      "state": {
       "layout": "IPY_MODEL_b5e1d8747098481c820e62334c51c9a9",
       "outputs": [
        {
         "name": "stdout",
         "output_type": "stream",
         "text": "2\nEn el mes 1/2019 se facturó -28737.64 € respecto 2021\n"
        }
       ]
      }
     },
     "6ec66784e5f74b289712e6fb95651d0d": {
      "model_module": "@jupyter-widgets/controls",
      "model_module_version": "1.5.0",
      "model_name": "ButtonModel",
      "state": {
       "description": "Click me",
       "icon": "check",
       "layout": "IPY_MODEL_a83ead9af6874e7ea881e84621386dee",
       "style": "IPY_MODEL_336e5a4d07ca4a85854a57427f7fc67a",
       "tooltip": "Click me"
      }
     },
     "6ee88dc92797415d84826832563a2deb": {
      "model_module": "@jupyter-widgets/controls",
      "model_module_version": "1.5.0",
      "model_name": "VBoxModel",
      "state": {
       "children": [
        "IPY_MODEL_c416315a8a3d481bb0acbd5f543dcbcb",
        "IPY_MODEL_b8ef740f39524a82bffe04ee04ddf329",
        "IPY_MODEL_4d9ac3b5a43643fdb8dbf89efa6b8f1f"
       ],
       "layout": "IPY_MODEL_d8918f045a234011b33b2d2d9216f32f"
      }
     },
     "6f64422e1e9d4397a6fe1ba24d751b0a": {
      "model_module": "@jupyter-widgets/base",
      "model_module_version": "1.2.0",
      "model_name": "LayoutModel",
      "state": {}
     },
     "6f93070079d648ad8fcc7b64498a8eaa": {
      "model_module": "@jupyter-widgets/controls",
      "model_module_version": "1.5.0",
      "model_name": "DropdownModel",
      "state": {
       "_options_labels": [
        "1",
        "2",
        "3"
       ],
       "description": "Mes B:",
       "index": 1,
       "layout": "IPY_MODEL_b1848af1468d4010986b6334847a71ba",
       "style": "IPY_MODEL_6493ff84ab194ea3ad056078ea85db2c"
      }
     },
     "700ded8d854f40f598d478ae6e38641b": {
      "model_module": "@jupyter-widgets/controls",
      "model_module_version": "1.5.0",
      "model_name": "VBoxModel",
      "state": {
       "children": [
        "IPY_MODEL_ec150ec6f446401f816d7f2c19d3b4f0",
        "IPY_MODEL_8d34f1e232df4c359c45b15c7a855b2c"
       ],
       "layout": "IPY_MODEL_1f3600c9a1b443ca9d19d85dc9a3aea2"
      }
     },
     "70249a359b704af081e83d4e426a2908": {
      "model_module": "@jupyter-widgets/base",
      "model_module_version": "1.2.0",
      "model_name": "LayoutModel",
      "state": {}
     },
     "70845136e1ab4dbfb5eb1e715da675af": {
      "model_module": "@jupyter-widgets/base",
      "model_module_version": "1.2.0",
      "model_name": "LayoutModel",
      "state": {}
     },
     "714939c51b814efc9785b3cf6f72e6d6": {
      "model_module": "@jupyter-widgets/base",
      "model_module_version": "1.2.0",
      "model_name": "LayoutModel",
      "state": {}
     },
     "71b17b4e5e224091826e0d42e661f4ee": {
      "model_module": "@jupyter-widgets/controls",
      "model_module_version": "1.5.0",
      "model_name": "DropdownModel",
      "state": {
       "_options_labels": [
        "2021",
        "2020",
        "2019",
        "2018",
        "2017",
        "2016"
       ],
       "description": "YEAR A:",
       "index": 0,
       "layout": "IPY_MODEL_81f02d03656047229919d3138e7ee69b",
       "style": "IPY_MODEL_d510ace0885947b5a5ba9c78d17b933e"
      }
     },
     "72a7bd65886043c69256b765dc603248": {
      "model_module": "@jupyter-widgets/controls",
      "model_module_version": "1.5.0",
      "model_name": "HBoxModel",
      "state": {
       "children": [
        "IPY_MODEL_a5a6cddd68994240bba267bbec0ccd4a",
        "IPY_MODEL_c21611cf12fd47fbb10783488e02493c",
        "IPY_MODEL_3db6012742da4f68a68d544658b482d0"
       ],
       "layout": "IPY_MODEL_c9db81a566514a3dbfc62a82b2c203c9"
      }
     },
     "739c57b22c984acd81793b3e02dee5e3": {
      "model_module": "@jupyter-widgets/controls",
      "model_module_version": "1.5.0",
      "model_name": "DropdownModel",
      "state": {
       "_options_labels": [
        "1",
        "2",
        "3"
       ],
       "description": "Mes B:",
       "index": 1,
       "layout": "IPY_MODEL_c14acd6ce56445598c116c59365e6ac0",
       "style": "IPY_MODEL_cdbb6945d1ed42a698ff1093cf6b3e40"
      }
     },
     "73ea329b06ad47ca976104749c97708c": {
      "model_module": "@jupyter-widgets/controls",
      "model_module_version": "1.5.0",
      "model_name": "DropdownModel",
      "state": {
       "_options_labels": [
        "1",
        "2",
        "3"
       ],
       "description": "Mes A:",
       "index": 1,
       "layout": "IPY_MODEL_45836d314d514914aa2edc4f63197f4f",
       "style": "IPY_MODEL_51c6ef083f894b2e879600c9205c9823"
      }
     },
     "74455b50fdfe4a0aa066f0a83ba33b1c": {
      "model_module": "@jupyter-widgets/base",
      "model_module_version": "1.2.0",
      "model_name": "LayoutModel",
      "state": {}
     },
     "750e099fc7ef44c0b472511b4d4ff486": {
      "model_module": "@jupyter-widgets/controls",
      "model_module_version": "1.5.0",
      "model_name": "DropdownModel",
      "state": {
       "_options_labels": [
        "2016",
        "2017",
        "2018",
        "2019",
        "2020",
        "2021"
       ],
       "description": "Mes A:",
       "index": 0,
       "layout": "IPY_MODEL_568a93fb85a7411597ee8e2179d37aa7",
       "style": "IPY_MODEL_bfd7939c22994c56965d967f0f3b6ceb"
      }
     },
     "752cc687224548878dfe9ba2ef19632b": {
      "model_module": "@jupyter-widgets/base",
      "model_module_version": "1.2.0",
      "model_name": "LayoutModel",
      "state": {}
     },
     "757ab4697c1a4c39b8d73c00dbc81a32": {
      "model_module": "@jupyter-widgets/output",
      "model_module_version": "1.0.0",
      "model_name": "OutputModel",
      "state": {
       "layout": "IPY_MODEL_99274730e3434ee0b0563b5baebd914a",
       "outputs": [
        {
         "ename": "KeyError",
         "evalue": "1",
         "output_type": "error",
         "traceback": [
          "\u001b[0;31m---------------------------------------------------------------------------\u001b[0m",
          "\u001b[0;31mValueError\u001b[0m                                Traceback (most recent call last)",
          "\u001b[0;32m/opt/anaconda3/lib/python3.8/site-packages/pandas/core/indexes/range.py\u001b[0m in \u001b[0;36mget_loc\u001b[0;34m(self, key, method, tolerance)\u001b[0m\n\u001b[1;32m    354\u001b[0m                 \u001b[0;32mtry\u001b[0m\u001b[0;34m:\u001b[0m\u001b[0;34m\u001b[0m\u001b[0;34m\u001b[0m\u001b[0m\n\u001b[0;32m--> 355\u001b[0;31m                     \u001b[0;32mreturn\u001b[0m \u001b[0mself\u001b[0m\u001b[0;34m.\u001b[0m\u001b[0m_range\u001b[0m\u001b[0;34m.\u001b[0m\u001b[0mindex\u001b[0m\u001b[0;34m(\u001b[0m\u001b[0mnew_key\u001b[0m\u001b[0;34m)\u001b[0m\u001b[0;34m\u001b[0m\u001b[0;34m\u001b[0m\u001b[0m\n\u001b[0m\u001b[1;32m    356\u001b[0m                 \u001b[0;32mexcept\u001b[0m \u001b[0mValueError\u001b[0m \u001b[0;32mas\u001b[0m \u001b[0merr\u001b[0m\u001b[0;34m:\u001b[0m\u001b[0;34m\u001b[0m\u001b[0;34m\u001b[0m\u001b[0m\n",
          "\u001b[0;31mValueError\u001b[0m: 1 is not in range",
          "\nThe above exception was the direct cause of the following exception:\n",
          "\u001b[0;31mKeyError\u001b[0m                                  Traceback (most recent call last)",
          "\u001b[0;32m<ipython-input-263-8e74d3662b52>\u001b[0m in \u001b[0;36maction_of_button2\u001b[0;34m(b)\u001b[0m\n\u001b[1;32m     24\u001b[0m         \u001b[0;32mwith\u001b[0m \u001b[0mout\u001b[0m\u001b[0;34m:\u001b[0m\u001b[0;34m\u001b[0m\u001b[0;34m\u001b[0m\u001b[0m\n\u001b[1;32m     25\u001b[0m             \u001b[0mtable\u001b[0m\u001b[0;34m\u001b[0m\u001b[0;34m\u001b[0m\u001b[0m\n\u001b[0;32m---> 26\u001b[0;31m             \u001b[0mprint\u001b[0m\u001b[0;34m(\u001b[0m\u001b[0;34mf\"En el mes {mes.value:.0f}/{ano1.value} se facturó {(table['total'][0]-table['total'][1]):.2f} € respecto {ano2.value}\"\u001b[0m\u001b[0;34m)\u001b[0m\u001b[0;34m\u001b[0m\u001b[0;34m\u001b[0m\u001b[0m\n\u001b[0m\u001b[1;32m     27\u001b[0m \u001b[0;34m\u001b[0m\u001b[0m\n\u001b[1;32m     28\u001b[0m \u001b[0mbutton2\u001b[0m\u001b[0;34m.\u001b[0m\u001b[0mon_click\u001b[0m\u001b[0;34m(\u001b[0m\u001b[0maction_of_button2\u001b[0m\u001b[0;34m)\u001b[0m\u001b[0;34m\u001b[0m\u001b[0;34m\u001b[0m\u001b[0m\n",
          "\u001b[0;32m/opt/anaconda3/lib/python3.8/site-packages/pandas/core/series.py\u001b[0m in \u001b[0;36m__getitem__\u001b[0;34m(self, key)\u001b[0m\n\u001b[1;32m    880\u001b[0m \u001b[0;34m\u001b[0m\u001b[0m\n\u001b[1;32m    881\u001b[0m         \u001b[0;32melif\u001b[0m \u001b[0mkey_is_scalar\u001b[0m\u001b[0;34m:\u001b[0m\u001b[0;34m\u001b[0m\u001b[0;34m\u001b[0m\u001b[0m\n\u001b[0;32m--> 882\u001b[0;31m             \u001b[0;32mreturn\u001b[0m \u001b[0mself\u001b[0m\u001b[0;34m.\u001b[0m\u001b[0m_get_value\u001b[0m\u001b[0;34m(\u001b[0m\u001b[0mkey\u001b[0m\u001b[0;34m)\u001b[0m\u001b[0;34m\u001b[0m\u001b[0;34m\u001b[0m\u001b[0m\n\u001b[0m\u001b[1;32m    883\u001b[0m \u001b[0;34m\u001b[0m\u001b[0m\n\u001b[1;32m    884\u001b[0m         \u001b[0;32mif\u001b[0m \u001b[0mis_hashable\u001b[0m\u001b[0;34m(\u001b[0m\u001b[0mkey\u001b[0m\u001b[0;34m)\u001b[0m\u001b[0;34m:\u001b[0m\u001b[0;34m\u001b[0m\u001b[0;34m\u001b[0m\u001b[0m\n",
          "\u001b[0;32m/opt/anaconda3/lib/python3.8/site-packages/pandas/core/series.py\u001b[0m in \u001b[0;36m_get_value\u001b[0;34m(self, label, takeable)\u001b[0m\n\u001b[1;32m    987\u001b[0m \u001b[0;34m\u001b[0m\u001b[0m\n\u001b[1;32m    988\u001b[0m         \u001b[0;31m# Similar to Index.get_value, but we do not fall back to positional\u001b[0m\u001b[0;34m\u001b[0m\u001b[0;34m\u001b[0m\u001b[0;34m\u001b[0m\u001b[0m\n\u001b[0;32m--> 989\u001b[0;31m         \u001b[0mloc\u001b[0m \u001b[0;34m=\u001b[0m \u001b[0mself\u001b[0m\u001b[0;34m.\u001b[0m\u001b[0mindex\u001b[0m\u001b[0;34m.\u001b[0m\u001b[0mget_loc\u001b[0m\u001b[0;34m(\u001b[0m\u001b[0mlabel\u001b[0m\u001b[0;34m)\u001b[0m\u001b[0;34m\u001b[0m\u001b[0;34m\u001b[0m\u001b[0m\n\u001b[0m\u001b[1;32m    990\u001b[0m         \u001b[0;32mreturn\u001b[0m \u001b[0mself\u001b[0m\u001b[0;34m.\u001b[0m\u001b[0mindex\u001b[0m\u001b[0;34m.\u001b[0m\u001b[0m_get_values_for_loc\u001b[0m\u001b[0;34m(\u001b[0m\u001b[0mself\u001b[0m\u001b[0;34m,\u001b[0m \u001b[0mloc\u001b[0m\u001b[0;34m,\u001b[0m \u001b[0mlabel\u001b[0m\u001b[0;34m)\u001b[0m\u001b[0;34m\u001b[0m\u001b[0;34m\u001b[0m\u001b[0m\n\u001b[1;32m    991\u001b[0m \u001b[0;34m\u001b[0m\u001b[0m\n",
          "\u001b[0;32m/opt/anaconda3/lib/python3.8/site-packages/pandas/core/indexes/range.py\u001b[0m in \u001b[0;36mget_loc\u001b[0;34m(self, key, method, tolerance)\u001b[0m\n\u001b[1;32m    355\u001b[0m                     \u001b[0;32mreturn\u001b[0m \u001b[0mself\u001b[0m\u001b[0;34m.\u001b[0m\u001b[0m_range\u001b[0m\u001b[0;34m.\u001b[0m\u001b[0mindex\u001b[0m\u001b[0;34m(\u001b[0m\u001b[0mnew_key\u001b[0m\u001b[0;34m)\u001b[0m\u001b[0;34m\u001b[0m\u001b[0;34m\u001b[0m\u001b[0m\n\u001b[1;32m    356\u001b[0m                 \u001b[0;32mexcept\u001b[0m \u001b[0mValueError\u001b[0m \u001b[0;32mas\u001b[0m \u001b[0merr\u001b[0m\u001b[0;34m:\u001b[0m\u001b[0;34m\u001b[0m\u001b[0;34m\u001b[0m\u001b[0m\n\u001b[0;32m--> 357\u001b[0;31m                     \u001b[0;32mraise\u001b[0m \u001b[0mKeyError\u001b[0m\u001b[0;34m(\u001b[0m\u001b[0mkey\u001b[0m\u001b[0;34m)\u001b[0m \u001b[0;32mfrom\u001b[0m \u001b[0merr\u001b[0m\u001b[0;34m\u001b[0m\u001b[0;34m\u001b[0m\u001b[0m\n\u001b[0m\u001b[1;32m    358\u001b[0m             \u001b[0;32mraise\u001b[0m \u001b[0mKeyError\u001b[0m\u001b[0;34m(\u001b[0m\u001b[0mkey\u001b[0m\u001b[0;34m)\u001b[0m\u001b[0;34m\u001b[0m\u001b[0;34m\u001b[0m\u001b[0m\n\u001b[1;32m    359\u001b[0m         \u001b[0;32mreturn\u001b[0m \u001b[0msuper\u001b[0m\u001b[0;34m(\u001b[0m\u001b[0;34m)\u001b[0m\u001b[0;34m.\u001b[0m\u001b[0mget_loc\u001b[0m\u001b[0;34m(\u001b[0m\u001b[0mkey\u001b[0m\u001b[0;34m,\u001b[0m \u001b[0mmethod\u001b[0m\u001b[0;34m=\u001b[0m\u001b[0mmethod\u001b[0m\u001b[0;34m,\u001b[0m \u001b[0mtolerance\u001b[0m\u001b[0;34m=\u001b[0m\u001b[0mtolerance\u001b[0m\u001b[0;34m)\u001b[0m\u001b[0;34m\u001b[0m\u001b[0;34m\u001b[0m\u001b[0m\n",
          "\u001b[0;31mKeyError\u001b[0m: 1"
         ]
        }
       ]
      }
     },
     "760f5f8f736f4a91a5c405826933c858": {
      "model_module": "@jupyter-widgets/output",
      "model_module_version": "1.0.0",
      "model_name": "OutputModel",
      "state": {
       "layout": "IPY_MODEL_e7fd8b5438be4089beaa5bc891623911",
       "outputs": [
        {
         "name": "stdout",
         "output_type": "stream",
         "text": "En el mes  7 / 2021  se facturó  -74.45000000000005  € respecto  2020\n"
        }
       ]
      }
     },
     "766684de8095412a9547e0a054215384": {
      "model_module": "@jupyter-widgets/controls",
      "model_module_version": "1.5.0",
      "model_name": "FloatSliderModel",
      "state": {
       "description": "MES:",
       "layout": "IPY_MODEL_6c12da95cfc04f02be1ae50b581b1063",
       "max": 12,
       "min": 1,
       "readout_format": ".0f",
       "style": "IPY_MODEL_41ba867e9ebc46b6bae7f96710d4b4d5",
       "value": 1
      }
     },
     "7679203d8f7042a6bde7bba38a6ffa96": {
      "model_module": "@jupyter-widgets/base",
      "model_module_version": "1.2.0",
      "model_name": "LayoutModel",
      "state": {}
     },
     "767ea4f8e6be455ab70bd57212c97815": {
      "model_module": "@jupyter-widgets/base",
      "model_module_version": "1.2.0",
      "model_name": "LayoutModel",
      "state": {}
     },
     "7699b4bcef2c40a09d05c75cff96a1a2": {
      "model_module": "@jupyter-widgets/controls",
      "model_module_version": "1.5.0",
      "model_name": "ButtonModel",
      "state": {
       "button_style": "primary",
       "description": "Compare",
       "icon": "money",
       "layout": "IPY_MODEL_fbf4e09cf69e47d7b1725d0a6b60f0a0",
       "style": "IPY_MODEL_3f19fc351fd24492aa5f299e31d88367",
       "tooltip": "Click me"
      }
     },
     "76b282903bcd48939edfdcefaea3108d": {
      "model_module": "@jupyter-widgets/controls",
      "model_module_version": "1.5.0",
      "model_name": "HBoxModel",
      "state": {
       "children": [
        "IPY_MODEL_a5a6cddd68994240bba267bbec0ccd4a",
        "IPY_MODEL_c21611cf12fd47fbb10783488e02493c",
        "IPY_MODEL_3db6012742da4f68a68d544658b482d0"
       ],
       "layout": "IPY_MODEL_285a5af35cba44a3b30596505e4abcff"
      }
     },
     "76f19d3ecdaf4dbabe3a20dce138eb34": {
      "model_module": "@jupyter-widgets/base",
      "model_module_version": "1.2.0",
      "model_name": "LayoutModel",
      "state": {}
     },
     "771410d7ca7340ba87e013b5407c9778": {
      "model_module": "@jupyter-widgets/base",
      "model_module_version": "1.2.0",
      "model_name": "LayoutModel",
      "state": {}
     },
     "773f9c0f065b455a9abe26c5c23a1c9f": {
      "model_module": "@jupyter-widgets/controls",
      "model_module_version": "1.5.0",
      "model_name": "FloatSliderModel",
      "state": {
       "description": "MES:",
       "layout": "IPY_MODEL_9961c9ae3d2543a7ace95e2d45ea26a6",
       "max": 12,
       "min": 1,
       "readout_format": ".0f",
       "style": "IPY_MODEL_38ee68624f5b4b5eb8f12e93f595a96a",
       "value": 1
      }
     },
     "7745670a3d6e49a88eec6ff70f8f85e9": {
      "model_module": "@jupyter-widgets/controls",
      "model_module_version": "1.5.0",
      "model_name": "DescriptionStyleModel",
      "state": {
       "description_width": ""
      }
     },
     "776d129d68774f0c835833084b9ca046": {
      "model_module": "@jupyter-widgets/base",
      "model_module_version": "1.2.0",
      "model_name": "LayoutModel",
      "state": {}
     },
     "77c3edc363904518a0bf6bb3bf62d621": {
      "model_module": "@jupyter-widgets/base",
      "model_module_version": "1.2.0",
      "model_name": "LayoutModel",
      "state": {}
     },
     "789fcfa6428943d09e888ba33e8fbe68": {
      "model_module": "@jupyter-widgets/controls",
      "model_module_version": "1.5.0",
      "model_name": "DropdownModel",
      "state": {
       "_options_labels": [
        "1",
        "2",
        "3"
       ],
       "description": "Mes A:",
       "index": 1,
       "layout": "IPY_MODEL_d49e0925a5b3455d808554192581288c",
       "style": "IPY_MODEL_9a7df45446bb4710ad048e36c814ff60"
      }
     },
     "78a5dcb2985d4bac8df465a199c86c8d": {
      "model_module": "@jupyter-widgets/controls",
      "model_module_version": "1.5.0",
      "model_name": "FloatSliderModel",
      "state": {
       "description": "MES:",
       "layout": "IPY_MODEL_9ca088f7dfa047d08cd3876d662471e4",
       "max": 12,
       "min": 1,
       "readout_format": ".0f",
       "style": "IPY_MODEL_b5b92f6d97684795b828b9792854bb55",
       "value": 1
      }
     },
     "7922059cdbad47c68cabc34670d6e85b": {
      "model_module": "@jupyter-widgets/base",
      "model_module_version": "1.2.0",
      "model_name": "LayoutModel",
      "state": {}
     },
     "792fde37fb724c539bf1ad49d0dd2e43": {
      "model_module": "@jupyter-widgets/controls",
      "model_module_version": "1.5.0",
      "model_name": "SliderStyleModel",
      "state": {
       "description_width": ""
      }
     },
     "79370ca5aeef4393a0f2cb6cb5929928": {
      "model_module": "@jupyter-widgets/controls",
      "model_module_version": "1.5.0",
      "model_name": "ButtonModel",
      "state": {
       "button_style": "primary",
       "description": "Compare",
       "icon": "money",
       "layout": "IPY_MODEL_13e910e12f544bf6b04a4e11be24380d",
       "style": "IPY_MODEL_ab3cf03001de44799c3ef0eabc1b0236",
       "tooltip": "Click me"
      }
     },
     "79498ce175094a45b1c7fe9502c5976d": {
      "model_module": "@jupyter-widgets/base",
      "model_module_version": "1.2.0",
      "model_name": "LayoutModel",
      "state": {}
     },
     "7959d429db9943d997319a07d1716979": {
      "model_module": "@jupyter-widgets/controls",
      "model_module_version": "1.5.0",
      "model_name": "SliderStyleModel",
      "state": {
       "description_width": ""
      }
     },
     "7ad82211b9ff45679328d2c0a1df6191": {
      "model_module": "@jupyter-widgets/controls",
      "model_module_version": "1.5.0",
      "model_name": "HBoxModel",
      "state": {
       "children": [
        "IPY_MODEL_5794e6f8a1dc445888a377a681828cd2",
        "IPY_MODEL_71b17b4e5e224091826e0d42e661f4ee",
        "IPY_MODEL_03f1e2305632460cb7d9e4ccdf2aa1d9"
       ],
       "layout": "IPY_MODEL_5896a68a2e8a4a5ab3975ff4ff1f0c17"
      }
     },
     "7b1378ab058c4aacab404b651381c1e6": {
      "model_module": "@jupyter-widgets/controls",
      "model_module_version": "1.5.0",
      "model_name": "ButtonModel",
      "state": {
       "button_style": "primary",
       "description": "Compare",
       "icon": "money",
       "layout": "IPY_MODEL_4d81e39aa22e4d6c9c0ab5835ad50fa3",
       "style": "IPY_MODEL_5d09f3fa300a44949c1fe851c5b7f4ec",
       "tooltip": "Click me"
      }
     },
     "7badc537890c4c62af8880736db64491": {
      "model_module": "@jupyter-widgets/controls",
      "model_module_version": "1.5.0",
      "model_name": "SliderStyleModel",
      "state": {
       "description_width": ""
      }
     },
     "7bf3d4e3f3aa4035b662c259f0229718": {
      "model_module": "@jupyter-widgets/base",
      "model_module_version": "1.2.0",
      "model_name": "LayoutModel",
      "state": {}
     },
     "7cbec9c35c024449b0b0e6eefdd405f9": {
      "model_module": "@jupyter-widgets/controls",
      "model_module_version": "1.5.0",
      "model_name": "DropdownModel",
      "state": {
       "_options_labels": [
        "2016",
        "2017",
        "2018",
        "2019",
        "2020"
       ],
       "description": "YEAR B:",
       "index": 0,
       "layout": "IPY_MODEL_b6dc02e4b93e45bd90b8d6215d9d1148",
       "style": "IPY_MODEL_9a57e2f8ade14638bc6d8261a655ca8c"
      }
     },
     "7cd59890e8d84c5db02a2fc3c70aaa05": {
      "model_module": "@jupyter-widgets/base",
      "model_module_version": "1.2.0",
      "model_name": "LayoutModel",
      "state": {}
     },
     "7cee4088cff34aba8a07c29efce644dc": {
      "model_module": "@jupyter-widgets/base",
      "model_module_version": "1.2.0",
      "model_name": "LayoutModel",
      "state": {}
     },
     "7d640c9f8ac14b78a78da65fb73237bb": {
      "model_module": "@jupyter-widgets/controls",
      "model_module_version": "1.5.0",
      "model_name": "VBoxModel",
      "state": {
       "children": [
        "IPY_MODEL_962e88d247574c45b52809f94660581b",
        "IPY_MODEL_79370ca5aeef4393a0f2cb6cb5929928",
        "IPY_MODEL_6e974cc0011f418e923c351e607ce3a5"
       ],
       "layout": "IPY_MODEL_8bb60876d3c8426b90dcf24e967bab8f"
      }
     },
     "7def5a78b4f94b49b4704461dc8fbe98": {
      "model_module": "@jupyter-widgets/controls",
      "model_module_version": "1.5.0",
      "model_name": "ButtonModel",
      "state": {
       "button_style": "primary",
       "description": "Compare",
       "icon": "money",
       "layout": "IPY_MODEL_81ef01a773a342359d4a98395142683b",
       "style": "IPY_MODEL_6a89456ef7324d2a93911133016abfe7",
       "tooltip": "Click me"
      }
     },
     "7ed98d2768ec400f947d94d3a2dff69d": {
      "model_module": "@jupyter-widgets/output",
      "model_module_version": "1.0.0",
      "model_name": "OutputModel",
      "state": {
       "layout": "IPY_MODEL_f94422dd10164f01abde55e8b8fe99b9",
       "outputs": [
        {
         "name": "stdout",
         "output_type": "stream",
         "text": "2\n"
        },
        {
         "ename": "TypeError",
         "evalue": "'>' not supported between instances of 'NoneType' and 'int'",
         "output_type": "error",
         "traceback": [
          "\u001b[0;31m---------------------------------------------------------------------------\u001b[0m",
          "\u001b[0;31mTypeError\u001b[0m                                 Traceback (most recent call last)",
          "\u001b[0;32m<ipython-input-266-24530ac807f9>\u001b[0m in \u001b[0;36maction_of_button2\u001b[0;34m(b)\u001b[0m\n\u001b[1;32m     19\u001b[0m         \u001b[0;32mwith\u001b[0m \u001b[0mout\u001b[0m\u001b[0;34m:\u001b[0m\u001b[0;34m\u001b[0m\u001b[0;34m\u001b[0m\u001b[0m\n\u001b[1;32m     20\u001b[0m             \u001b[0mtable\u001b[0m\u001b[0;34m\u001b[0m\u001b[0;34m\u001b[0m\u001b[0m\n\u001b[0;32m---> 21\u001b[0;31m             \u001b[0;32mif\u001b[0m \u001b[0mprint\u001b[0m\u001b[0;34m(\u001b[0m\u001b[0mlen\u001b[0m\u001b[0;34m(\u001b[0m\u001b[0mdic\u001b[0m\u001b[0;34m)\u001b[0m\u001b[0;34m)\u001b[0m\u001b[0;34m>\u001b[0m\u001b[0;36m1\u001b[0m\u001b[0;34m:\u001b[0m\u001b[0;34m\u001b[0m\u001b[0;34m\u001b[0m\u001b[0m\n\u001b[0m\u001b[1;32m     22\u001b[0m                 \u001b[0mprint\u001b[0m\u001b[0;34m(\u001b[0m\u001b[0;34mf\"En el mes {mes.value:.0f}/{ano1.value} se facturó {(table['total'][0]-table['total'][1]):.2f} € respecto {ano2.value}\"\u001b[0m\u001b[0;34m)\u001b[0m\u001b[0;34m\u001b[0m\u001b[0;34m\u001b[0m\u001b[0m\n\u001b[1;32m     23\u001b[0m             \u001b[0;32melse\u001b[0m\u001b[0;34m:\u001b[0m\u001b[0;34m\u001b[0m\u001b[0;34m\u001b[0m\u001b[0m\n",
          "\u001b[0;31mTypeError\u001b[0m: '>' not supported between instances of 'NoneType' and 'int'"
         ]
        }
       ]
      }
     },
     "7ee9b0150e844255ab0b897cb5bfb07a": {
      "model_module": "@jupyter-widgets/base",
      "model_module_version": "1.2.0",
      "model_name": "LayoutModel",
      "state": {}
     },
     "7ef95f6ca6c54253b09ed71df6e14b28": {
      "model_module": "@jupyter-widgets/controls",
      "model_module_version": "1.5.0",
      "model_name": "FloatSliderModel",
      "state": {
       "description": "MES:",
       "layout": "IPY_MODEL_c1ca6b3fe7f14f11a34b5f0b2377e8d8",
       "max": 12,
       "min": 1,
       "readout_format": ".0f",
       "style": "IPY_MODEL_29a395409ee34d85ab57680a33348fb9",
       "value": 1
      }
     },
     "7efc44ae610c41a4afff09480557183d": {
      "model_module": "@jupyter-widgets/controls",
      "model_module_version": "1.5.0",
      "model_name": "FloatSliderModel",
      "state": {
       "description": "MES:",
       "layout": "IPY_MODEL_bf46ba2466ca4874bb4d0a83f13040a3",
       "max": 12,
       "min": 1,
       "readout_format": ".0f",
       "style": "IPY_MODEL_cebe08001c084784956a4b076b0ed25b",
       "value": 1
      }
     },
     "7f2a09040820474da9fc1e08e8bd19cc": {
      "model_module": "@jupyter-widgets/base",
      "model_module_version": "1.2.0",
      "model_name": "LayoutModel",
      "state": {}
     },
     "803f5c25f2bd4aaa90ef63a10b70fdfa": {
      "model_module": "@jupyter-widgets/base",
      "model_module_version": "1.2.0",
      "model_name": "LayoutModel",
      "state": {}
     },
     "805aa3ba7c1d4a3f984bbb45e07a8821": {
      "model_module": "@jupyter-widgets/controls",
      "model_module_version": "1.5.0",
      "model_name": "ButtonModel",
      "state": {
       "description": "Click me",
       "icon": "check",
       "layout": "IPY_MODEL_1b096bf9bc944f3387b5e3c92cd0c596",
       "style": "IPY_MODEL_b451e8ab69c645a18cc33c9b6f05f343",
       "tooltip": "Click me"
      }
     },
     "810a5396b9f24da289f803c825cb01c6": {
      "model_module": "@jupyter-widgets/controls",
      "model_module_version": "1.5.0",
      "model_name": "VBoxModel",
      "state": {
       "children": [
        "IPY_MODEL_e79aa5993729412aab8849872b05a285",
        "IPY_MODEL_afa1b504ee90441b9a42ae95a3f9f591",
        "IPY_MODEL_6b793bb492584b4486407963a70f63e9"
       ],
       "layout": "IPY_MODEL_1abcecd95196475c92014e43ae62f9a3"
      }
     },
     "816bc32a5a044e46b794078331d7d3ed": {
      "model_module": "@jupyter-widgets/base",
      "model_module_version": "1.2.0",
      "model_name": "LayoutModel",
      "state": {}
     },
     "819ea4c1cc564622aeb4a83556caead0": {
      "model_module": "@jupyter-widgets/controls",
      "model_module_version": "1.5.0",
      "model_name": "FloatSliderModel",
      "state": {
       "description": "MONTH:",
       "layout": "IPY_MODEL_5075593ea05d4562ad75bf751e7098d6",
       "max": 12,
       "min": 1,
       "readout_format": ".0f",
       "style": "IPY_MODEL_beea999a693b450dbf2c88226c5f707b",
       "value": 1
      }
     },
     "81ed540b1ab442aba4450f264e831c33": {
      "model_module": "@jupyter-widgets/base",
      "model_module_version": "1.2.0",
      "model_name": "LayoutModel",
      "state": {}
     },
     "81ee771832c24d6393ae3e5a307a6bfa": {
      "model_module": "@jupyter-widgets/controls",
      "model_module_version": "1.5.0",
      "model_name": "HBoxModel",
      "state": {
       "children": [
        "IPY_MODEL_a211327490da42f59f61ae3b558d36fa",
        "IPY_MODEL_846c52f895db47e0b292a87524936887",
        "IPY_MODEL_c94f090c1d724cb09d48e4570db417a1"
       ],
       "layout": "IPY_MODEL_dc495cf3449b45b0a69710a58ecd0f6f"
      }
     },
     "81ef01a773a342359d4a98395142683b": {
      "model_module": "@jupyter-widgets/base",
      "model_module_version": "1.2.0",
      "model_name": "LayoutModel",
      "state": {}
     },
     "81f02d03656047229919d3138e7ee69b": {
      "model_module": "@jupyter-widgets/base",
      "model_module_version": "1.2.0",
      "model_name": "LayoutModel",
      "state": {}
     },
     "821c0312e0424e689033af7629068913": {
      "model_module": "@jupyter-widgets/base",
      "model_module_version": "1.2.0",
      "model_name": "LayoutModel",
      "state": {}
     },
     "828d6f5982d04f9ebad9856b3ae4728b": {
      "model_module": "@jupyter-widgets/controls",
      "model_module_version": "1.5.0",
      "model_name": "DropdownModel",
      "state": {
       "_options_labels": [
        "2016",
        "2017",
        "2018",
        "2019",
        "2020",
        "2021"
       ],
       "description": "YEAR A:",
       "index": 3,
       "layout": "IPY_MODEL_b974e922071c47eaac49f4403028aed9",
       "style": "IPY_MODEL_c77534601926490b8288c4fe99d515a4"
      }
     },
     "830d51d18c874516bd732c41d5c49c69": {
      "model_module": "@jupyter-widgets/output",
      "model_module_version": "1.0.0",
      "model_name": "OutputModel",
      "state": {
       "layout": "IPY_MODEL_93c3d817c9ce4f459594c3142bcecc97"
      }
     },
     "839d9d6c2ffa40469943f8569520c36a": {
      "model_module": "@jupyter-widgets/controls",
      "model_module_version": "1.5.0",
      "model_name": "FloatSliderModel",
      "state": {
       "description": "MES:",
       "layout": "IPY_MODEL_356d41314539473f9b193453a83c4305",
       "max": 12,
       "min": 1,
       "readout_format": ".0f",
       "style": "IPY_MODEL_0d26fe7fad08478697124cd18392106a",
       "value": 1
      }
     },
     "83d05253b85b4472b9e23d559df34ed2": {
      "model_module": "@jupyter-widgets/controls",
      "model_module_version": "1.5.0",
      "model_name": "VBoxModel",
      "state": {
       "children": [
        "IPY_MODEL_880a7d2cae2a4b339ab991d1375b8bc5",
        "IPY_MODEL_e1dd5f66f9ea4eb789cdad1f45421c85",
        "IPY_MODEL_760f5f8f736f4a91a5c405826933c858"
       ],
       "layout": "IPY_MODEL_f4e4b948213245b1bfc9d1680597e752"
      }
     },
     "83df522b4821476599897af2e627207b": {
      "model_module": "@jupyter-widgets/controls",
      "model_module_version": "1.5.0",
      "model_name": "VBoxModel",
      "state": {
       "children": [
        "IPY_MODEL_06dcc420203a44f3ab3ad4c27ffcaa45",
        "IPY_MODEL_c8b7e71364c64f1c8e5bd4d4540ac5e7",
        "IPY_MODEL_a295c84703bf451b9432489bae67e2a3"
       ],
       "layout": "IPY_MODEL_88e6a3cd76b547e5a2955b6ffcd65036"
      }
     },
     "83f3aa55012041a789bc36d189131573": {
      "model_module": "@jupyter-widgets/base",
      "model_module_version": "1.2.0",
      "model_name": "LayoutModel",
      "state": {}
     },
     "8416cfd6e47f42469c57e545bf7a8913": {
      "model_module": "@jupyter-widgets/controls",
      "model_module_version": "1.5.0",
      "model_name": "SliderStyleModel",
      "state": {
       "description_width": ""
      }
     },
     "846c52f895db47e0b292a87524936887": {
      "model_module": "@jupyter-widgets/controls",
      "model_module_version": "1.5.0",
      "model_name": "DropdownModel",
      "state": {
       "_options_labels": [
        "2021",
        "2020",
        "2019",
        "2018",
        "2017",
        "2016"
       ],
       "description": "YEAR A:",
       "index": 2,
       "layout": "IPY_MODEL_2ae525ef15664655bb657a3a3512e576",
       "style": "IPY_MODEL_ca249ee24f5b4480a19fc0e6ab27c98c"
      }
     },
     "84757fb1c25345eeb1e1af15aaceb9f9": {
      "model_module": "@jupyter-widgets/base",
      "model_module_version": "1.2.0",
      "model_name": "LayoutModel",
      "state": {}
     },
     "848f6357c9ec47ad83a4276b58ea81d1": {
      "model_module": "@jupyter-widgets/controls",
      "model_module_version": "1.5.0",
      "model_name": "SliderStyleModel",
      "state": {
       "description_width": ""
      }
     },
     "86263e46bd754f6bb95369b3bc9b0ab9": {
      "model_module": "@jupyter-widgets/base",
      "model_module_version": "1.2.0",
      "model_name": "LayoutModel",
      "state": {}
     },
     "866bac3b3292439f90bfb56c510dec3e": {
      "model_module": "@jupyter-widgets/controls",
      "model_module_version": "1.5.0",
      "model_name": "FloatSliderModel",
      "state": {
       "description": "MES:",
       "layout": "IPY_MODEL_41c4a81bb1f542c9a07cb077ef452f1f",
       "max": 12,
       "min": 1,
       "readout_format": ".0f",
       "style": "IPY_MODEL_6b79387e8c444558a0e99913d0c1b904",
       "value": 1
      }
     },
     "876da3b21eec4c0a9e029251d676c2d2": {
      "model_module": "@jupyter-widgets/base",
      "model_module_version": "1.2.0",
      "model_name": "LayoutModel",
      "state": {}
     },
     "879674a94ac7482e86a168b157a571fd": {
      "model_module": "@jupyter-widgets/base",
      "model_module_version": "1.2.0",
      "model_name": "LayoutModel",
      "state": {}
     },
     "880a7d2cae2a4b339ab991d1375b8bc5": {
      "model_module": "@jupyter-widgets/controls",
      "model_module_version": "1.5.0",
      "model_name": "HBoxModel",
      "state": {
       "children": [
        "IPY_MODEL_a5a6cddd68994240bba267bbec0ccd4a",
        "IPY_MODEL_c21611cf12fd47fbb10783488e02493c",
        "IPY_MODEL_3db6012742da4f68a68d544658b482d0"
       ],
       "layout": "IPY_MODEL_5de9406b8e1e48849fc31bc4cacb9b13"
      }
     },
     "889bf332c95546999e36bce4fe2dcef7": {
      "model_module": "@jupyter-widgets/controls",
      "model_module_version": "1.5.0",
      "model_name": "DropdownModel",
      "state": {
       "_options_labels": [
        "1",
        "2",
        "3"
       ],
       "description": "Mes B:",
       "index": 1,
       "layout": "IPY_MODEL_c383488017174577ad97e6c384ac430e",
       "style": "IPY_MODEL_20bd5a6a021a469f97792f4ea0f18325"
      }
     },
     "88e6a3cd76b547e5a2955b6ffcd65036": {
      "model_module": "@jupyter-widgets/base",
      "model_module_version": "1.2.0",
      "model_name": "LayoutModel",
      "state": {}
     },
     "893d47e1e79a4845b4bb4cbbba775b55": {
      "model_module": "@jupyter-widgets/base",
      "model_module_version": "1.2.0",
      "model_name": "LayoutModel",
      "state": {}
     },
     "89f66042a5c74acfb98ba43cf427c6ad": {
      "model_module": "@jupyter-widgets/base",
      "model_module_version": "1.2.0",
      "model_name": "LayoutModel",
      "state": {}
     },
     "8a203fea8ce94569b1b4786f10b007d8": {
      "model_module": "@jupyter-widgets/controls",
      "model_module_version": "1.5.0",
      "model_name": "FloatSliderModel",
      "state": {
       "description": "MES:",
       "layout": "IPY_MODEL_19ce25244f7d4701896b6be614a9b921",
       "max": 12,
       "min": 1,
       "readout_format": ".0f",
       "style": "IPY_MODEL_4c8d81bd7b9342c9b8f65d5598b513ab",
       "value": 1
      }
     },
     "8a35f314dbf14af4a47823b46aee2fdb": {
      "model_module": "@jupyter-widgets/base",
      "model_module_version": "1.2.0",
      "model_name": "LayoutModel",
      "state": {}
     },
     "8aa2f91ffff54017adacdb65c86863d6": {
      "model_module": "@jupyter-widgets/base",
      "model_module_version": "1.2.0",
      "model_name": "LayoutModel",
      "state": {}
     },
     "8ad28e0dda8c464ca53cb5f0dbd94b41": {
      "model_module": "@jupyter-widgets/base",
      "model_module_version": "1.2.0",
      "model_name": "LayoutModel",
      "state": {}
     },
     "8af3243b115e4cfcb815c1f2b1f52678": {
      "model_module": "@jupyter-widgets/controls",
      "model_module_version": "1.5.0",
      "model_name": "SliderStyleModel",
      "state": {
       "description_width": ""
      }
     },
     "8b0cf10db85f4193be69aeba8d81e52d": {
      "model_module": "@jupyter-widgets/controls",
      "model_module_version": "1.5.0",
      "model_name": "HBoxModel",
      "state": {
       "children": [
        "IPY_MODEL_e672e97798054f8587d3899da9375e20",
        "IPY_MODEL_270695c3b8384780b386d4a7ddd18c34",
        "IPY_MODEL_66da2308461d4676b12bbe6a885e452e"
       ],
       "layout": "IPY_MODEL_1218d7af37a64ba2a3b0b1d2ffe1a007"
      }
     },
     "8b1c5469e3244bf7a67cdfcc4b7a179a": {
      "model_module": "@jupyter-widgets/base",
      "model_module_version": "1.2.0",
      "model_name": "LayoutModel",
      "state": {}
     },
     "8b6463ac3e084a8982ec12f6ae41d604": {
      "model_module": "@jupyter-widgets/controls",
      "model_module_version": "1.5.0",
      "model_name": "ButtonStyleModel",
      "state": {}
     },
     "8bb60876d3c8426b90dcf24e967bab8f": {
      "model_module": "@jupyter-widgets/base",
      "model_module_version": "1.2.0",
      "model_name": "LayoutModel",
      "state": {}
     },
     "8be29d45e7804e61826ca0b73991d6d4": {
      "model_module": "@jupyter-widgets/controls",
      "model_module_version": "1.5.0",
      "model_name": "VBoxModel",
      "state": {
       "children": [
        "IPY_MODEL_d4a3ef0ddf2247188017acfe087aa683",
        "IPY_MODEL_3af1215d6ec2480da57c31537f2e25a0",
        "IPY_MODEL_1c4c59e7fd854b7f88a9c246c6b1125e"
       ],
       "layout": "IPY_MODEL_f67603017c9e46259c176beebca68331"
      }
     },
     "8c410336212d4ee7a06cac37c9696b71": {
      "model_module": "@jupyter-widgets/controls",
      "model_module_version": "1.5.0",
      "model_name": "ButtonModel",
      "state": {
       "button_style": "primary",
       "description": "Compare",
       "icon": "money",
       "layout": "IPY_MODEL_083d9ef1ab9b4d2c9aace4eaa8f40407",
       "style": "IPY_MODEL_355ab93998d6476f9fd73a0fb487e875",
       "tooltip": "Click me"
      }
     },
     "8c5b4d9fb08f4cc5b932a57af41003d6": {
      "model_module": "@jupyter-widgets/controls",
      "model_module_version": "1.5.0",
      "model_name": "VBoxModel",
      "state": {
       "children": [
        "IPY_MODEL_6afbe200f1e3486faaddf997d2c1ffa3",
        "IPY_MODEL_3902ffcc497f4dba9f7100887da82447"
       ],
       "layout": "IPY_MODEL_79498ce175094a45b1c7fe9502c5976d"
      }
     },
     "8c6325fd35f84e0bbf320fdeae663c3f": {
      "model_module": "@jupyter-widgets/controls",
      "model_module_version": "1.5.0",
      "model_name": "DescriptionStyleModel",
      "state": {
       "description_width": ""
      }
     },
     "8c8601744852408f9260466ab3e74158": {
      "model_module": "@jupyter-widgets/controls",
      "model_module_version": "1.5.0",
      "model_name": "DescriptionStyleModel",
      "state": {
       "description_width": ""
      }
     },
     "8d23fae455434cefa44433ed8e92cc33": {
      "model_module": "@jupyter-widgets/base",
      "model_module_version": "1.2.0",
      "model_name": "LayoutModel",
      "state": {}
     },
     "8d34f1e232df4c359c45b15c7a855b2c": {
      "model_module": "@jupyter-widgets/output",
      "model_module_version": "1.0.0",
      "model_name": "OutputModel",
      "state": {
       "layout": "IPY_MODEL_e64bb63d3a714881b57f8d923cf3a9de",
       "outputs": [
        {
         "name": "stdout",
         "output_type": "stream",
         "text": "I was clicked\n    ano  MONTH(created_at)    totsl\n0  2020                  1  27256.0\nI was clicked\n    ano  MONTH(created_at)    totsl\n0  2020                  1  27256.0\n"
        }
       ]
      }
     },
     "8dcf2e377b9e433fb959b1e2d92ddc41": {
      "model_module": "@jupyter-widgets/controls",
      "model_module_version": "1.5.0",
      "model_name": "ButtonStyleModel",
      "state": {}
     },
     "8e7af9a667964cf0bb99aab012da9df0": {
      "model_module": "@jupyter-widgets/controls",
      "model_module_version": "1.5.0",
      "model_name": "DescriptionStyleModel",
      "state": {
       "description_width": ""
      }
     },
     "8e8171ca25274031a0ad582ad2ef56ec": {
      "model_module": "@jupyter-widgets/output",
      "model_module_version": "1.0.0",
      "model_name": "OutputModel",
      "state": {
       "layout": "IPY_MODEL_8d23fae455434cefa44433ed8e92cc33",
       "outputs": [
        {
         "name": "stdout",
         "output_type": "stream",
         "text": "The 3/2020 had a turnover of -10812.20 € in comparison with 2018.\n"
        }
       ]
      }
     },
     "8e887dc538144343ba1898d91c2a364d": {
      "model_module": "@jupyter-widgets/base",
      "model_module_version": "1.2.0",
      "model_name": "LayoutModel",
      "state": {}
     },
     "8ef8d7c684084dbab0574ed4e47834b0": {
      "model_module": "@jupyter-widgets/output",
      "model_module_version": "1.0.0",
      "model_name": "OutputModel",
      "state": {
       "layout": "IPY_MODEL_7bf3d4e3f3aa4035b662c259f0229718",
       "outputs": [
        {
         "name": "stdout",
         "output_type": "stream",
         "text": "I was clicked\n    ano  MONTH(created_at)   totsl\n0  2020                  7  432.00\n1  2021                  7  506.45\n"
        }
       ]
      }
     },
     "8f0715aa6822477fb73bd9cf5e35bedb": {
      "model_module": "@jupyter-widgets/controls",
      "model_module_version": "1.5.0",
      "model_name": "HBoxModel",
      "state": {
       "children": [
        "IPY_MODEL_a5a6cddd68994240bba267bbec0ccd4a",
        "IPY_MODEL_c21611cf12fd47fbb10783488e02493c",
        "IPY_MODEL_3db6012742da4f68a68d544658b482d0"
       ],
       "layout": "IPY_MODEL_c5e2d2ed12424b9f830005a1dfcc33b8"
      }
     },
     "8f1f4fcd81724b99bd786694b0192c2e": {
      "model_module": "@jupyter-widgets/controls",
      "model_module_version": "1.5.0",
      "model_name": "FloatSliderModel",
      "state": {
       "description": "MES:",
       "layout": "IPY_MODEL_2d0026024fff4014b3de3f1c3ba13324",
       "max": 12,
       "min": 1,
       "readout_format": ".0f",
       "style": "IPY_MODEL_d05678a52f0f4643937fc96908711282",
       "value": 1
      }
     },
     "901455c154074dcfbe04f81df9990e4b": {
      "model_module": "@jupyter-widgets/base",
      "model_module_version": "1.2.0",
      "model_name": "LayoutModel",
      "state": {}
     },
     "907e7f02966b4391b1c526680f67c7a1": {
      "model_module": "@jupyter-widgets/base",
      "model_module_version": "1.2.0",
      "model_name": "LayoutModel",
      "state": {}
     },
     "908cc14c985a4672a85dcae1fdb9307b": {
      "model_module": "@jupyter-widgets/controls",
      "model_module_version": "1.5.0",
      "model_name": "DescriptionStyleModel",
      "state": {
       "description_width": ""
      }
     },
     "90a3b21d75334b5a8155b6c0c3b0b442": {
      "model_module": "@jupyter-widgets/controls",
      "model_module_version": "1.5.0",
      "model_name": "FloatSliderModel",
      "state": {
       "description": "MES:",
       "layout": "IPY_MODEL_e491829b346343f1bb34d31ed65eccc0",
       "max": 12,
       "min": 1,
       "readout_format": ".0f",
       "style": "IPY_MODEL_397a069bbc10479db7ecf3e7ca1a813a",
       "value": 1
      }
     },
     "9121a334991947c1b27590bb030a0fdd": {
      "model_module": "@jupyter-widgets/controls",
      "model_module_version": "1.5.0",
      "model_name": "DescriptionStyleModel",
      "state": {
       "description_width": ""
      }
     },
     "91377a4bde4740e38f594847798f1cfe": {
      "model_module": "@jupyter-widgets/controls",
      "model_module_version": "1.5.0",
      "model_name": "DropdownModel",
      "state": {
       "_options_labels": [
        "1",
        "2",
        "3"
       ],
       "description": "Mes A:",
       "index": 1,
       "layout": "IPY_MODEL_fdf335414231475ea1be58949660853c",
       "style": "IPY_MODEL_e82ea7c9fe7a4a0887386a2b5c34466a"
      }
     },
     "919a655cf6104f55b3591db55a9d8266": {
      "model_module": "@jupyter-widgets/controls",
      "model_module_version": "1.5.0",
      "model_name": "HBoxModel",
      "state": {
       "children": [
        "IPY_MODEL_e893bb73c5dc4f6a9e2e6f0b3633c265",
        "IPY_MODEL_247e8841aa054356a6384f4ce81bd959",
        "IPY_MODEL_195cb8699af24775b31fa2f4e4df2dca"
       ],
       "layout": "IPY_MODEL_667199eaba574df5a6ad9018e2d8e1ae"
      }
     },
     "91dcb2badf4645f1a6648e665d29e25c": {
      "model_module": "@jupyter-widgets/base",
      "model_module_version": "1.2.0",
      "model_name": "LayoutModel",
      "state": {}
     },
     "923abb07769e467c9f5c5201c3455483": {
      "model_module": "@jupyter-widgets/base",
      "model_module_version": "1.2.0",
      "model_name": "LayoutModel",
      "state": {}
     },
     "924c86659b6e4752967b24c12f6c9bfd": {
      "model_module": "@jupyter-widgets/controls",
      "model_module_version": "1.5.0",
      "model_name": "FloatSliderModel",
      "state": {
       "description": "MES:",
       "layout": "IPY_MODEL_ab6f1489d73c4508b0dbe37798db833e",
       "max": 12,
       "min": 1,
       "readout_format": ".0f",
       "style": "IPY_MODEL_afc715a97d97430cbfe930f7d0a06c80",
       "value": 1
      }
     },
     "927302ada6cb41b488c0311fdc70826e": {
      "model_module": "@jupyter-widgets/base",
      "model_module_version": "1.2.0",
      "model_name": "LayoutModel",
      "state": {}
     },
     "9305e07cbb09418db7c7a22d7ee60589": {
      "model_module": "@jupyter-widgets/base",
      "model_module_version": "1.2.0",
      "model_name": "LayoutModel",
      "state": {}
     },
     "932f1e3c3bbf48d691e6cdd59ff4ad54": {
      "model_module": "@jupyter-widgets/controls",
      "model_module_version": "1.5.0",
      "model_name": "FloatSliderModel",
      "state": {
       "description": "MES:",
       "layout": "IPY_MODEL_22c7774b27594c19982cca42df264424",
       "max": 12,
       "min": 1,
       "readout_format": ".0f",
       "style": "IPY_MODEL_ba49596457f944d2b22b373c39e686da",
       "value": 1
      }
     },
     "936b078efb9a457a9580247de06868de": {
      "model_module": "@jupyter-widgets/base",
      "model_module_version": "1.2.0",
      "model_name": "LayoutModel",
      "state": {}
     },
     "936bebba4cd1466ca4238d360be72850": {
      "model_module": "@jupyter-widgets/controls",
      "model_module_version": "1.5.0",
      "model_name": "ButtonStyleModel",
      "state": {}
     },
     "93c3d817c9ce4f459594c3142bcecc97": {
      "model_module": "@jupyter-widgets/base",
      "model_module_version": "1.2.0",
      "model_name": "LayoutModel",
      "state": {}
     },
     "94a3206826dc40f8ac1058aa0e257141": {
      "model_module": "@jupyter-widgets/base",
      "model_module_version": "1.2.0",
      "model_name": "LayoutModel",
      "state": {}
     },
     "953a229bd435495588af459ebe835e46": {
      "model_module": "@jupyter-widgets/output",
      "model_module_version": "1.0.0",
      "model_name": "OutputModel",
      "state": {
       "layout": "IPY_MODEL_46f2b22ad3414005926fe6a0cab91f7e",
       "outputs": [
        {
         "name": "stdout",
         "output_type": "stream",
         "text": "No se puede comparar con el mismo.\n"
        }
       ]
      }
     },
     "9561a1cd35d0454d893b92d533d43fb4": {
      "model_module": "@jupyter-widgets/controls",
      "model_module_version": "1.5.0",
      "model_name": "SliderStyleModel",
      "state": {
       "description_width": ""
      }
     },
     "95b7b6a5e42f44ff8b21b972e387ad1a": {
      "model_module": "@jupyter-widgets/controls",
      "model_module_version": "1.5.0",
      "model_name": "ButtonStyleModel",
      "state": {}
     },
     "962e88d247574c45b52809f94660581b": {
      "model_module": "@jupyter-widgets/controls",
      "model_module_version": "1.5.0",
      "model_name": "HBoxModel",
      "state": {
       "children": [
        "IPY_MODEL_e893bb73c5dc4f6a9e2e6f0b3633c265",
        "IPY_MODEL_247e8841aa054356a6384f4ce81bd959",
        "IPY_MODEL_195cb8699af24775b31fa2f4e4df2dca"
       ],
       "layout": "IPY_MODEL_301dd48c23b24cca97653d89afdbdd38"
      }
     },
     "963dd168a577434d833a36f156b70d7e": {
      "model_module": "@jupyter-widgets/base",
      "model_module_version": "1.2.0",
      "model_name": "LayoutModel",
      "state": {}
     },
     "96d2600d129d4dbc827f22bf36b4f27b": {
      "model_module": "@jupyter-widgets/controls",
      "model_module_version": "1.5.0",
      "model_name": "ButtonStyleModel",
      "state": {}
     },
     "96db802e883f4df8bf2b22297ec1764a": {
      "model_module": "@jupyter-widgets/base",
      "model_module_version": "1.2.0",
      "model_name": "LayoutModel",
      "state": {}
     },
     "9753b60c35ec41db872cae796adc83e7": {
      "model_module": "@jupyter-widgets/base",
      "model_module_version": "1.2.0",
      "model_name": "LayoutModel",
      "state": {}
     },
     "97edf4d7f1c04beda3c1a4c1d9352bec": {
      "model_module": "@jupyter-widgets/controls",
      "model_module_version": "1.5.0",
      "model_name": "DescriptionStyleModel",
      "state": {
       "description_width": ""
      }
     },
     "983131c7c5a844458fc0575fb86089d2": {
      "model_module": "@jupyter-widgets/controls",
      "model_module_version": "1.5.0",
      "model_name": "HBoxModel",
      "state": {
       "children": [
        "IPY_MODEL_5794e6f8a1dc445888a377a681828cd2",
        "IPY_MODEL_71b17b4e5e224091826e0d42e661f4ee",
        "IPY_MODEL_03f1e2305632460cb7d9e4ccdf2aa1d9"
       ],
       "layout": "IPY_MODEL_ef665d7d8edf44bb92bc85369acc240d"
      }
     },
     "985c35dc0471423292498d722c15d69b": {
      "model_module": "@jupyter-widgets/controls",
      "model_module_version": "1.5.0",
      "model_name": "FloatSliderModel",
      "state": {
       "description": "MONTH:",
       "layout": "IPY_MODEL_907e7f02966b4391b1c526680f67c7a1",
       "max": 12,
       "min": 1,
       "readout_format": ".0f",
       "style": "IPY_MODEL_08099ddd100444dbb43427913ee864b3",
       "value": 1
      }
     },
     "99274730e3434ee0b0563b5baebd914a": {
      "model_module": "@jupyter-widgets/base",
      "model_module_version": "1.2.0",
      "model_name": "LayoutModel",
      "state": {}
     },
     "993cc837cab449229116265d37f69fe5": {
      "model_module": "@jupyter-widgets/controls",
      "model_module_version": "1.5.0",
      "model_name": "ButtonModel",
      "state": {
       "description": "Click me",
       "icon": "check",
       "layout": "IPY_MODEL_76f19d3ecdaf4dbabe3a20dce138eb34",
       "style": "IPY_MODEL_9befc52f29694123a74f487c6a1552bc",
       "tooltip": "Click me"
      }
     },
     "995b6df515194d70a411c98475705f3a": {
      "model_module": "@jupyter-widgets/base",
      "model_module_version": "1.2.0",
      "model_name": "LayoutModel",
      "state": {}
     },
     "9961c9ae3d2543a7ace95e2d45ea26a6": {
      "model_module": "@jupyter-widgets/base",
      "model_module_version": "1.2.0",
      "model_name": "LayoutModel",
      "state": {}
     },
     "9a14bcb73c5d4b55b747bfaa56e5fd09": {
      "model_module": "@jupyter-widgets/base",
      "model_module_version": "1.2.0",
      "model_name": "LayoutModel",
      "state": {}
     },
     "9a2790878d6c41bf836d12dc6995cb57": {
      "model_module": "@jupyter-widgets/controls",
      "model_module_version": "1.5.0",
      "model_name": "HBoxModel",
      "state": {
       "children": [
        "IPY_MODEL_e893bb73c5dc4f6a9e2e6f0b3633c265",
        "IPY_MODEL_247e8841aa054356a6384f4ce81bd959",
        "IPY_MODEL_195cb8699af24775b31fa2f4e4df2dca"
       ],
       "layout": "IPY_MODEL_67215f1a2da1435bb133869d2c5e8bdc"
      }
     },
     "9a57e2f8ade14638bc6d8261a655ca8c": {
      "model_module": "@jupyter-widgets/controls",
      "model_module_version": "1.5.0",
      "model_name": "DescriptionStyleModel",
      "state": {
       "description_width": ""
      }
     },
     "9a7b72bbae5249e5ab7962f6cc43f80f": {
      "model_module": "@jupyter-widgets/base",
      "model_module_version": "1.2.0",
      "model_name": "LayoutModel",
      "state": {}
     },
     "9a7df45446bb4710ad048e36c814ff60": {
      "model_module": "@jupyter-widgets/controls",
      "model_module_version": "1.5.0",
      "model_name": "DescriptionStyleModel",
      "state": {
       "description_width": ""
      }
     },
     "9ab8093bf7b2487db77fc18169548204": {
      "model_module": "@jupyter-widgets/base",
      "model_module_version": "1.2.0",
      "model_name": "LayoutModel",
      "state": {}
     },
     "9b37472cc424400e8065973f64b2c4a5": {
      "model_module": "@jupyter-widgets/base",
      "model_module_version": "1.2.0",
      "model_name": "LayoutModel",
      "state": {}
     },
     "9b427013f1a64ee4a274f04d9cc7d75e": {
      "model_module": "@jupyter-widgets/base",
      "model_module_version": "1.2.0",
      "model_name": "LayoutModel",
      "state": {}
     },
     "9b96e9b58cec40a184847644487f7785": {
      "model_module": "@jupyter-widgets/controls",
      "model_module_version": "1.5.0",
      "model_name": "SliderStyleModel",
      "state": {
       "description_width": ""
      }
     },
     "9bcbe4d43e014def990653dc918f172b": {
      "model_module": "@jupyter-widgets/controls",
      "model_module_version": "1.5.0",
      "model_name": "ButtonModel",
      "state": {
       "description": "Click me",
       "icon": "check",
       "layout": "IPY_MODEL_f3a1d168d0504e1a9f54bcf331931dc9",
       "style": "IPY_MODEL_1e6bf50af08b482e9f53df2f18dc1ebb",
       "tooltip": "Click me"
      }
     },
     "9bd140e04bba40e0a05c07e3d1760f6a": {
      "model_module": "@jupyter-widgets/base",
      "model_module_version": "1.2.0",
      "model_name": "LayoutModel",
      "state": {}
     },
     "9befc52f29694123a74f487c6a1552bc": {
      "model_module": "@jupyter-widgets/controls",
      "model_module_version": "1.5.0",
      "model_name": "ButtonStyleModel",
      "state": {}
     },
     "9c3bfb9bb2b54a3b8cbc37384f6de24b": {
      "model_module": "@jupyter-widgets/controls",
      "model_module_version": "1.5.0",
      "model_name": "VBoxModel",
      "state": {
       "children": [
        "IPY_MODEL_60109896be184d26a226ea60436ad4bf",
        "IPY_MODEL_dd32da13328f46298522095b69cd77ec",
        "IPY_MODEL_0564589d684a45708e7ebf87115fe2fa"
       ],
       "layout": "IPY_MODEL_5dbf6f880b2849579eceb94fbfec9c4e"
      }
     },
     "9c789685c3604e4c9e9316df588c75e8": {
      "model_module": "@jupyter-widgets/controls",
      "model_module_version": "1.5.0",
      "model_name": "ButtonModel",
      "state": {
       "description": "Click me",
       "icon": "check",
       "layout": "IPY_MODEL_c2aa3b7395ac4faaae7dfc241e5168ef",
       "style": "IPY_MODEL_2da8b673a20644a39a36953aa2079e9d",
       "tooltip": "Click me"
      }
     },
     "9ca088f7dfa047d08cd3876d662471e4": {
      "model_module": "@jupyter-widgets/base",
      "model_module_version": "1.2.0",
      "model_name": "LayoutModel",
      "state": {}
     },
     "9d4403d46b7141f89920275394abed9f": {
      "model_module": "@jupyter-widgets/base",
      "model_module_version": "1.2.0",
      "model_name": "LayoutModel",
      "state": {}
     },
     "9d5a4424564142b3b8e249fb899d3453": {
      "model_module": "@jupyter-widgets/base",
      "model_module_version": "1.2.0",
      "model_name": "LayoutModel",
      "state": {}
     },
     "9e56aae5eb2c466bb788ce702a861876": {
      "model_module": "@jupyter-widgets/output",
      "model_module_version": "1.0.0",
      "model_name": "OutputModel",
      "state": {
       "layout": "IPY_MODEL_5fd3e9acdd9a4b1192ce4df822a71780"
      }
     },
     "9ecabb32906b4dfcbec9c363b9580f53": {
      "model_module": "@jupyter-widgets/controls",
      "model_module_version": "1.5.0",
      "model_name": "ButtonModel",
      "state": {
       "button_style": "primary",
       "description": "Compare",
       "icon": "money",
       "layout": "IPY_MODEL_995b6df515194d70a411c98475705f3a",
       "style": "IPY_MODEL_406c8cf2820b4f69bf7fd0476269f258",
       "tooltip": "Click me"
      }
     },
     "9f0668c60c134795b9461177055644ff": {
      "model_module": "@jupyter-widgets/controls",
      "model_module_version": "1.5.0",
      "model_name": "VBoxModel",
      "state": {
       "children": [
        "IPY_MODEL_9a2790878d6c41bf836d12dc6995cb57",
        "IPY_MODEL_e56ebe781d364d4fb57dc371110f910a",
        "IPY_MODEL_757ab4697c1a4c39b8d73c00dbc81a32"
       ],
       "layout": "IPY_MODEL_3215e54b541c4ea2ba32559f1a923843"
      }
     },
     "9f406fdb0eac4e1cb400db0b350d3a64": {
      "model_module": "@jupyter-widgets/controls",
      "model_module_version": "1.5.0",
      "model_name": "SliderStyleModel",
      "state": {
       "description_width": ""
      }
     },
     "9f65b042ef264ee0858bc27a95805eff": {
      "model_module": "@jupyter-widgets/base",
      "model_module_version": "1.2.0",
      "model_name": "LayoutModel",
      "state": {}
     },
     "a211327490da42f59f61ae3b558d36fa": {
      "model_module": "@jupyter-widgets/controls",
      "model_module_version": "1.5.0",
      "model_name": "FloatSliderModel",
      "state": {
       "description": "MONTH:",
       "layout": "IPY_MODEL_41279c646ce04d9aadba944092131b6a",
       "max": 12,
       "min": 1,
       "readout_format": ".0f",
       "style": "IPY_MODEL_0a755b87101542ffa465c704dcb699c0",
       "value": 9
      }
     },
     "a2469475a8034b60a4b1fd15f0c0a475": {
      "model_module": "@jupyter-widgets/controls",
      "model_module_version": "1.5.0",
      "model_name": "DropdownModel",
      "state": {
       "_options_labels": [
        "2016",
        "2017",
        "2018",
        "2019",
        "2020",
        "2021"
       ],
       "description": "YEAR A:",
       "index": 0,
       "layout": "IPY_MODEL_84757fb1c25345eeb1e1af15aaceb9f9",
       "style": "IPY_MODEL_908cc14c985a4672a85dcae1fdb9307b"
      }
     },
     "a295c84703bf451b9432489bae67e2a3": {
      "model_module": "@jupyter-widgets/output",
      "model_module_version": "1.0.0",
      "model_name": "OutputModel",
      "state": {
       "layout": "IPY_MODEL_5a934a54876841bc8e162fdcb59d8db8",
       "outputs": [
        {
         "name": "stdout",
         "output_type": "stream",
         "text": "En el mes 4/2021 se facturó -24850.37 € respecto 2018\n"
        }
       ]
      }
     },
     "a32c5776d9f143dd8343333aa50609c8": {
      "model_module": "@jupyter-widgets/base",
      "model_module_version": "1.2.0",
      "model_name": "LayoutModel",
      "state": {}
     },
     "a3759a1b05454a34b9a1e601355dd003": {
      "model_module": "@jupyter-widgets/controls",
      "model_module_version": "1.5.0",
      "model_name": "ButtonStyleModel",
      "state": {}
     },
     "a38c3e35bb8940268920bf3f4361f12c": {
      "model_module": "@jupyter-widgets/controls",
      "model_module_version": "1.5.0",
      "model_name": "ButtonStyleModel",
      "state": {}
     },
     "a3ffc116daad4bb6b51751be5f89e913": {
      "model_module": "@jupyter-widgets/controls",
      "model_module_version": "1.5.0",
      "model_name": "ButtonModel",
      "state": {
       "button_style": "primary",
       "description": "Compare",
       "icon": "money",
       "layout": "IPY_MODEL_9d5a4424564142b3b8e249fb899d3453",
       "style": "IPY_MODEL_b05957ee3666478197daac69a9a46d4e",
       "tooltip": "Click me"
      }
     },
     "a40108bc233f49579a88922db2d3c462": {
      "model_module": "@jupyter-widgets/controls",
      "model_module_version": "1.5.0",
      "model_name": "FloatSliderModel",
      "state": {
       "description": "MES:",
       "layout": "IPY_MODEL_0272e841325c462eabc8c2cef2f064c6",
       "max": 12,
       "min": 1,
       "readout_format": ".0f",
       "style": "IPY_MODEL_bcac3b67259d4d4eb630d57304ac7106",
       "value": 1
      }
     },
     "a43b4e19a1204db6a228fa1d7ef4dd51": {
      "model_module": "@jupyter-widgets/controls",
      "model_module_version": "1.5.0",
      "model_name": "DescriptionStyleModel",
      "state": {
       "description_width": ""
      }
     },
     "a5a6cddd68994240bba267bbec0ccd4a": {
      "model_module": "@jupyter-widgets/controls",
      "model_module_version": "1.5.0",
      "model_name": "FloatSliderModel",
      "state": {
       "description": "MONTH:",
       "layout": "IPY_MODEL_0294e7bcac7f4635a054f09d579286a9",
       "max": 12,
       "min": 1,
       "readout_format": ".0f",
       "style": "IPY_MODEL_a7074b9311744503a59e335532106ebf",
       "value": 2
      }
     },
     "a608b674953f43d3b2deaa85f71835d9": {
      "model_module": "@jupyter-widgets/controls",
      "model_module_version": "1.5.0",
      "model_name": "HBoxModel",
      "state": {
       "children": [
        "IPY_MODEL_57aefdbe0ebe4ab3b72b54f8e1381299",
        "IPY_MODEL_6739f1d82d7e46148324f572b017190a",
        "IPY_MODEL_ba66d741e53e456781b8944962e2b7b9"
       ],
       "layout": "IPY_MODEL_35ef1268e2714325851f1011ae968b81"
      }
     },
     "a671ad89b07f44a6a09b022bb2dfba66": {
      "model_module": "@jupyter-widgets/base",
      "model_module_version": "1.2.0",
      "model_name": "LayoutModel",
      "state": {}
     },
     "a6780c8aea18424a82dfbb1758b51a8e": {
      "model_module": "@jupyter-widgets/base",
      "model_module_version": "1.2.0",
      "model_name": "LayoutModel",
      "state": {}
     },
     "a67b1d79874a48e38d1a93b6d6df6d68": {
      "model_module": "@jupyter-widgets/controls",
      "model_module_version": "1.5.0",
      "model_name": "SliderStyleModel",
      "state": {
       "description_width": ""
      }
     },
     "a68986f45f4d4c63bbef0e4dc26d9791": {
      "model_module": "@jupyter-widgets/controls",
      "model_module_version": "1.5.0",
      "model_name": "FloatSliderModel",
      "state": {
       "description": "MES:",
       "layout": "IPY_MODEL_efcb8aff7fb04cb3a69abd37730c8e3c",
       "max": 12,
       "min": 1,
       "readout_format": ".0f",
       "style": "IPY_MODEL_f18bad4f011d4e62bf81c87e9e70ab5f",
       "value": 1
      }
     },
     "a7074b9311744503a59e335532106ebf": {
      "model_module": "@jupyter-widgets/controls",
      "model_module_version": "1.5.0",
      "model_name": "SliderStyleModel",
      "state": {
       "description_width": ""
      }
     },
     "a7203762b20c4f698fa94aa351741ab3": {
      "model_module": "@jupyter-widgets/controls",
      "model_module_version": "1.5.0",
      "model_name": "SliderStyleModel",
      "state": {
       "description_width": ""
      }
     },
     "a750a0a0b59e4cc29b0a9180d7f9bcfa": {
      "model_module": "@jupyter-widgets/controls",
      "model_module_version": "1.5.0",
      "model_name": "SliderStyleModel",
      "state": {
       "description_width": ""
      }
     },
     "a76ac0efba90466f999a2c090e4f84b9": {
      "model_module": "@jupyter-widgets/controls",
      "model_module_version": "1.5.0",
      "model_name": "VBoxModel",
      "state": {
       "children": [
        "IPY_MODEL_a608b674953f43d3b2deaa85f71835d9",
        "IPY_MODEL_ebfe7b1ed96f4ea9bfb69b9babd62a6d",
        "IPY_MODEL_b8372669029241caa413921e3aa6d2ef"
       ],
       "layout": "IPY_MODEL_29eeab9b22c942f18319942dfe681b39"
      }
     },
     "a8336ce60d7e456fa70708bf9ce8d9e4": {
      "model_module": "@jupyter-widgets/output",
      "model_module_version": "1.0.0",
      "model_name": "OutputModel",
      "state": {
       "layout": "IPY_MODEL_7ee9b0150e844255ab0b897cb5bfb07a",
       "outputs": [
        {
         "ename": "IndexError",
         "evalue": "index 0 is out of bounds for axis 0 with size 0",
         "output_type": "error",
         "traceback": [
          "\u001b[0;31m---------------------------------------------------------------------------\u001b[0m",
          "\u001b[0;31mIndexError\u001b[0m                                Traceback (most recent call last)",
          "\u001b[0;32m<ipython-input-247-aa53862d0498>\u001b[0m in \u001b[0;36maction_of_button2\u001b[0;34m(b)\u001b[0m\n\u001b[1;32m     18\u001b[0m \u001b[0;34m\u001b[0m\u001b[0m\n\u001b[1;32m     19\u001b[0m     \u001b[0;32mwith\u001b[0m \u001b[0mout\u001b[0m\u001b[0;34m:\u001b[0m\u001b[0;34m\u001b[0m\u001b[0;34m\u001b[0m\u001b[0m\n\u001b[0;32m---> 20\u001b[0;31m         \u001b[0mprint\u001b[0m\u001b[0;34m(\u001b[0m\u001b[0;34mf\"En el mes {mes.value:.0f}/{ano1.value} se facturó {(table['total'][0]-table['total'][1]):.2f} € respecto {ano2.value}\"\u001b[0m\u001b[0;34m)\u001b[0m\u001b[0;34m\u001b[0m\u001b[0;34m\u001b[0m\u001b[0m\n\u001b[0m\u001b[1;32m     21\u001b[0m         \u001b[0;31m##print(table)\u001b[0m\u001b[0;34m\u001b[0m\u001b[0;34m\u001b[0m\u001b[0;34m\u001b[0m\u001b[0m\n\u001b[1;32m     22\u001b[0m \u001b[0;34m\u001b[0m\u001b[0m\n",
          "\u001b[0;32m/opt/anaconda3/lib/python3.8/site-packages/pandas/core/series.py\u001b[0m in \u001b[0;36m__getitem__\u001b[0;34m(self, key)\u001b[0m\n\u001b[1;32m    877\u001b[0m \u001b[0;34m\u001b[0m\u001b[0m\n\u001b[1;32m    878\u001b[0m         \u001b[0;32mif\u001b[0m \u001b[0mis_integer\u001b[0m\u001b[0;34m(\u001b[0m\u001b[0mkey\u001b[0m\u001b[0;34m)\u001b[0m \u001b[0;32mand\u001b[0m \u001b[0mself\u001b[0m\u001b[0;34m.\u001b[0m\u001b[0mindex\u001b[0m\u001b[0;34m.\u001b[0m\u001b[0m_should_fallback_to_positional\u001b[0m\u001b[0;34m(\u001b[0m\u001b[0;34m)\u001b[0m\u001b[0;34m:\u001b[0m\u001b[0;34m\u001b[0m\u001b[0;34m\u001b[0m\u001b[0m\n\u001b[0;32m--> 879\u001b[0;31m             \u001b[0;32mreturn\u001b[0m \u001b[0mself\u001b[0m\u001b[0;34m.\u001b[0m\u001b[0m_values\u001b[0m\u001b[0;34m[\u001b[0m\u001b[0mkey\u001b[0m\u001b[0;34m]\u001b[0m\u001b[0;34m\u001b[0m\u001b[0;34m\u001b[0m\u001b[0m\n\u001b[0m\u001b[1;32m    880\u001b[0m \u001b[0;34m\u001b[0m\u001b[0m\n\u001b[1;32m    881\u001b[0m         \u001b[0;32melif\u001b[0m \u001b[0mkey_is_scalar\u001b[0m\u001b[0;34m:\u001b[0m\u001b[0;34m\u001b[0m\u001b[0;34m\u001b[0m\u001b[0m\n",
          "\u001b[0;31mIndexError\u001b[0m: index 0 is out of bounds for axis 0 with size 0"
         ]
        }
       ]
      }
     },
     "a83ead9af6874e7ea881e84621386dee": {
      "model_module": "@jupyter-widgets/base",
      "model_module_version": "1.2.0",
      "model_name": "LayoutModel",
      "state": {}
     },
     "a8ce00e5b83d43cbae93432c5a97bbd7": {
      "model_module": "@jupyter-widgets/base",
      "model_module_version": "1.2.0",
      "model_name": "LayoutModel",
      "state": {}
     },
     "a90b1bc33ede46a0aa9de1a38a229121": {
      "model_module": "@jupyter-widgets/base",
      "model_module_version": "1.2.0",
      "model_name": "LayoutModel",
      "state": {}
     },
     "a9ba37ffe0bf4fe09bbb75d30043d61c": {
      "model_module": "@jupyter-widgets/base",
      "model_module_version": "1.2.0",
      "model_name": "LayoutModel",
      "state": {}
     },
     "a9cb05c3e3504ec5806a5aeedb822e77": {
      "model_module": "@jupyter-widgets/controls",
      "model_module_version": "1.5.0",
      "model_name": "DescriptionStyleModel",
      "state": {
       "description_width": ""
      }
     },
     "aa02c67dbd9d491e8bd30cd02ebb384d": {
      "model_module": "@jupyter-widgets/controls",
      "model_module_version": "1.5.0",
      "model_name": "ButtonModel",
      "state": {
       "button_style": "primary",
       "description": "Compare",
       "icon": "money",
       "layout": "IPY_MODEL_38d44e356107469ab74d415b765b3d31",
       "style": "IPY_MODEL_936bebba4cd1466ca4238d360be72850",
       "tooltip": "Click me"
      }
     },
     "aaf674e056014082abb975672636c725": {
      "model_module": "@jupyter-widgets/controls",
      "model_module_version": "1.5.0",
      "model_name": "DropdownModel",
      "state": {
       "_options_labels": [
        "2016",
        "2017",
        "2018",
        "2019",
        "2020",
        "2021"
       ],
       "description": "Mes A:",
       "index": 0,
       "layout": "IPY_MODEL_594eda6729ce404ca22cc5f740e23640",
       "style": "IPY_MODEL_e6cdcced9df24a3c8109ab97997b52af"
      }
     },
     "ab26f203fcd548ea8303617e689319e2": {
      "model_module": "@jupyter-widgets/controls",
      "model_module_version": "1.5.0",
      "model_name": "HBoxModel",
      "state": {
       "children": [
        "IPY_MODEL_5794e6f8a1dc445888a377a681828cd2",
        "IPY_MODEL_71b17b4e5e224091826e0d42e661f4ee",
        "IPY_MODEL_03f1e2305632460cb7d9e4ccdf2aa1d9"
       ],
       "layout": "IPY_MODEL_698d1294104e459eb8a4175037a963f1"
      }
     },
     "ab3971b21c364504b1b7a88e936cdf84": {
      "model_module": "@jupyter-widgets/controls",
      "model_module_version": "1.5.0",
      "model_name": "ButtonModel",
      "state": {
       "description": "Click me",
       "icon": "check",
       "layout": "IPY_MODEL_ec5dca7c92d94dd489d455f974d7613f",
       "style": "IPY_MODEL_63ba3d06278a48628442e7c5110cf8fe",
       "tooltip": "Click me"
      }
     },
     "ab3cf03001de44799c3ef0eabc1b0236": {
      "model_module": "@jupyter-widgets/controls",
      "model_module_version": "1.5.0",
      "model_name": "ButtonStyleModel",
      "state": {}
     },
     "ab608d4b14ce4d97abb4dcfcfa9af858": {
      "model_module": "@jupyter-widgets/controls",
      "model_module_version": "1.5.0",
      "model_name": "FloatSliderModel",
      "state": {
       "description": "MES:",
       "layout": "IPY_MODEL_50c3762779454fadaf6e9ba840260988",
       "max": 12,
       "min": 1,
       "readout_format": ".0f",
       "style": "IPY_MODEL_7959d429db9943d997319a07d1716979",
       "value": 1
      }
     },
     "ab6f1489d73c4508b0dbe37798db833e": {
      "model_module": "@jupyter-widgets/base",
      "model_module_version": "1.2.0",
      "model_name": "LayoutModel",
      "state": {}
     },
     "ac76ad732b96464ea3a9fdbde7d489b2": {
      "model_module": "@jupyter-widgets/output",
      "model_module_version": "1.0.0",
      "model_name": "OutputModel",
      "state": {
       "layout": "IPY_MODEL_89f66042a5c74acfb98ba43cf427c6ad",
       "outputs": [
        {
         "name": "stdout",
         "output_type": "stream",
         "text": "En el mes 2/2019 se facturó -10162.00€ respecto 2020\n"
        }
       ]
      }
     },
     "acb96d650f3e40288e0516845e0f2b9c": {
      "model_module": "@jupyter-widgets/base",
      "model_module_version": "1.2.0",
      "model_name": "LayoutModel",
      "state": {}
     },
     "ad18e9d00063437195ff77c2970f11ee": {
      "model_module": "@jupyter-widgets/output",
      "model_module_version": "1.0.0",
      "model_name": "OutputModel",
      "state": {
       "layout": "IPY_MODEL_112a6a0f5e5640ebaf73900b62ef714a",
       "outputs": [
        {
         "name": "stdout",
         "output_type": "stream",
         "text": "En el mes {mes.value:.0f}/{ano1.value} se facturó {(table['total'][0]-table['total'][1]):.2f}€ respecto {ano2.value}\n"
        }
       ]
      }
     },
     "ad4b936415604ab2bf278ff51293bb9b": {
      "model_module": "@jupyter-widgets/controls",
      "model_module_version": "1.5.0",
      "model_name": "ButtonStyleModel",
      "state": {}
     },
     "add3ae18e1af4947a391ae023b7eb7d1": {
      "model_module": "@jupyter-widgets/base",
      "model_module_version": "1.2.0",
      "model_name": "LayoutModel",
      "state": {}
     },
     "ae803d38c9bf45e88c03c1c804ff7b7e": {
      "model_module": "@jupyter-widgets/controls",
      "model_module_version": "1.5.0",
      "model_name": "FloatSliderModel",
      "state": {
       "description": "MES:",
       "layout": "IPY_MODEL_09daa99d12e14336b5a2866ae3d23d61",
       "max": 12,
       "min": 1,
       "readout_format": ".0f",
       "style": "IPY_MODEL_ed2ea66c4cf54cc7a6ed365bf4993e56",
       "value": 1
      }
     },
     "ae97d0561afc4ce6a4622c8d8645e986": {
      "model_module": "@jupyter-widgets/controls",
      "model_module_version": "1.5.0",
      "model_name": "VBoxModel",
      "state": {
       "children": [
        "IPY_MODEL_eb8168c0c63147799bf537cdaca8895d",
        "IPY_MODEL_7def5a78b4f94b49b4704461dc8fbe98",
        "IPY_MODEL_42c971fd2cce4f72a85a51955cd72990"
       ],
       "layout": "IPY_MODEL_6160bb0c223f4939bf6f70403175d7a7"
      }
     },
     "af03ce1cfc214e46b1c76a58b232a5ef": {
      "model_module": "@jupyter-widgets/output",
      "model_module_version": "1.0.0",
      "model_name": "OutputModel",
      "state": {
       "layout": "IPY_MODEL_f06a99df58d74f3e9d46ec979cbfacfd",
       "outputs": [
        {
         "name": "stdout",
         "output_type": "stream",
         "text": "The 9/2019 had a turnover of 526.66 € in comparison with 2018.\n"
        }
       ]
      }
     },
     "af5fdbb4e0ee493eb3c93693429100bc": {
      "model_module": "@jupyter-widgets/controls",
      "model_module_version": "1.5.0",
      "model_name": "ButtonModel",
      "state": {
       "button_style": "primary",
       "description": "Compare",
       "icon": "money",
       "layout": "IPY_MODEL_dcef3f99513c4d7b884409d95cfef1bd",
       "style": "IPY_MODEL_0fc2225272764814a5f82df14942c333",
       "tooltip": "Click me"
      }
     },
     "af8bcf2acb0d492a9e5e429f1326c52e": {
      "model_module": "@jupyter-widgets/base",
      "model_module_version": "1.2.0",
      "model_name": "LayoutModel",
      "state": {}
     },
     "af8f5c089db64ae6be3f2d5caa5b89d7": {
      "model_module": "@jupyter-widgets/base",
      "model_module_version": "1.2.0",
      "model_name": "LayoutModel",
      "state": {}
     },
     "afa1b504ee90441b9a42ae95a3f9f591": {
      "model_module": "@jupyter-widgets/controls",
      "model_module_version": "1.5.0",
      "model_name": "ButtonModel",
      "state": {
       "button_style": "primary",
       "description": "Compare",
       "icon": "money",
       "layout": "IPY_MODEL_1f104a600fba421cb3371a52ddc0219b",
       "style": "IPY_MODEL_ad4b936415604ab2bf278ff51293bb9b",
       "tooltip": "Click me"
      }
     },
     "afc715a97d97430cbfe930f7d0a06c80": {
      "model_module": "@jupyter-widgets/controls",
      "model_module_version": "1.5.0",
      "model_name": "SliderStyleModel",
      "state": {
       "description_width": ""
      }
     },
     "b0561b2e366a4b32a50fc3f377b03f54": {
      "model_module": "@jupyter-widgets/controls",
      "model_module_version": "1.5.0",
      "model_name": "SliderStyleModel",
      "state": {
       "description_width": ""
      }
     },
     "b05957ee3666478197daac69a9a46d4e": {
      "model_module": "@jupyter-widgets/controls",
      "model_module_version": "1.5.0",
      "model_name": "ButtonStyleModel",
      "state": {}
     },
     "b1848af1468d4010986b6334847a71ba": {
      "model_module": "@jupyter-widgets/base",
      "model_module_version": "1.2.0",
      "model_name": "LayoutModel",
      "state": {}
     },
     "b1babf2bba77457bacc38391967db244": {
      "model_module": "@jupyter-widgets/output",
      "model_module_version": "1.0.0",
      "model_name": "OutputModel",
      "state": {
       "layout": "IPY_MODEL_4af3a843249f474f94476946245a89a6"
      }
     },
     "b1c36103339c48dcb5576fe0eab32851": {
      "model_module": "@jupyter-widgets/controls",
      "model_module_version": "1.5.0",
      "model_name": "ButtonStyleModel",
      "state": {}
     },
     "b238b57996f34500a9443b7e9b9dafb5": {
      "model_module": "@jupyter-widgets/controls",
      "model_module_version": "1.5.0",
      "model_name": "DropdownModel",
      "state": {
       "_options_labels": [
        "1",
        "2",
        "3"
       ],
       "description": "Mes A:",
       "index": 1,
       "layout": "IPY_MODEL_0f237225d71744549e378b86556ab580",
       "style": "IPY_MODEL_59a849ccb5a146a5830f723cecb9ffc1"
      }
     },
     "b26165c53bd44742b9b52ccc123e5025": {
      "model_module": "@jupyter-widgets/controls",
      "model_module_version": "1.5.0",
      "model_name": "DropdownModel",
      "state": {
       "_options_labels": [
        "1",
        "2",
        "3"
       ],
       "description": "Mes B:",
       "index": 1,
       "layout": "IPY_MODEL_9b427013f1a64ee4a274f04d9cc7d75e",
       "style": "IPY_MODEL_397686f35f9d422b822e1be12ea3c69a"
      }
     },
     "b335431da1084572b00d52da91c6bf6c": {
      "model_module": "@jupyter-widgets/controls",
      "model_module_version": "1.5.0",
      "model_name": "FloatSliderModel",
      "state": {
       "description": "MES:",
       "layout": "IPY_MODEL_640bfbfa11bb4468baecaa8f965fe17d",
       "max": 12,
       "min": 1,
       "readout_format": ".0f",
       "style": "IPY_MODEL_9f406fdb0eac4e1cb400db0b350d3a64",
       "value": 1
      }
     },
     "b35752a39ed444798eb7fe4083cd4898": {
      "model_module": "@jupyter-widgets/base",
      "model_module_version": "1.2.0",
      "model_name": "LayoutModel",
      "state": {}
     },
     "b3c157f4d36248f29776e6c8c8831628": {
      "model_module": "@jupyter-widgets/output",
      "model_module_version": "1.0.0",
      "model_name": "OutputModel",
      "state": {
       "layout": "IPY_MODEL_6c27ec40048040b2b25431e9f944054c",
       "outputs": [
        {
         "name": "stdout",
         "output_type": "stream",
         "text": "I was clicked\n    ano  MONTH(created_at)   totsl\n0  2020                  7  432.00\n1  2021                  7  506.45\n"
        }
       ]
      }
     },
     "b446956aa76f46849d276db90b88c652": {
      "model_module": "@jupyter-widgets/base",
      "model_module_version": "1.2.0",
      "model_name": "LayoutModel",
      "state": {}
     },
     "b451e8ab69c645a18cc33c9b6f05f343": {
      "model_module": "@jupyter-widgets/controls",
      "model_module_version": "1.5.0",
      "model_name": "ButtonStyleModel",
      "state": {}
     },
     "b4e82b529747430f902de5031fd4dc8b": {
      "model_module": "@jupyter-widgets/controls",
      "model_module_version": "1.5.0",
      "model_name": "SliderStyleModel",
      "state": {
       "description_width": ""
      }
     },
     "b4f2b24a30f9426097adaca3750c6c0c": {
      "model_module": "@jupyter-widgets/controls",
      "model_module_version": "1.5.0",
      "model_name": "FloatSliderModel",
      "state": {
       "description": "MES:",
       "layout": "IPY_MODEL_af8f5c089db64ae6be3f2d5caa5b89d7",
       "max": 12,
       "min": 1,
       "readout_format": ".0f",
       "style": "IPY_MODEL_18293b19c7ed4da29fb7c2082a1ae62d",
       "value": 1
      }
     },
     "b578f525f64f491a96f5bffd04ff6a92": {
      "model_module": "@jupyter-widgets/controls",
      "model_module_version": "1.5.0",
      "model_name": "ButtonStyleModel",
      "state": {}
     },
     "b5b92f6d97684795b828b9792854bb55": {
      "model_module": "@jupyter-widgets/controls",
      "model_module_version": "1.5.0",
      "model_name": "SliderStyleModel",
      "state": {
       "description_width": ""
      }
     },
     "b5e1d8747098481c820e62334c51c9a9": {
      "model_module": "@jupyter-widgets/base",
      "model_module_version": "1.2.0",
      "model_name": "LayoutModel",
      "state": {}
     },
     "b66cc789d6fe491a9f43f4233a57c1c4": {
      "model_module": "@jupyter-widgets/controls",
      "model_module_version": "1.5.0",
      "model_name": "DescriptionStyleModel",
      "state": {
       "description_width": ""
      }
     },
     "b69be8c863594cb99b35dd60f5ffef88": {
      "model_module": "@jupyter-widgets/base",
      "model_module_version": "1.2.0",
      "model_name": "LayoutModel",
      "state": {}
     },
     "b6db87c1201e41d6818bc7897995e57a": {
      "model_module": "@jupyter-widgets/controls",
      "model_module_version": "1.5.0",
      "model_name": "VBoxModel",
      "state": {
       "children": [
        "IPY_MODEL_3fed271e316d4f24b71df3988791bc43",
        "IPY_MODEL_aa02c67dbd9d491e8bd30cd02ebb384d",
        "IPY_MODEL_2a9b5bc85da3433daa58c08566105d60"
       ],
       "layout": "IPY_MODEL_4ec9418b858d44278d939cdd6155a11a"
      }
     },
     "b6dc02e4b93e45bd90b8d6215d9d1148": {
      "model_module": "@jupyter-widgets/base",
      "model_module_version": "1.2.0",
      "model_name": "LayoutModel",
      "state": {}
     },
     "b8372669029241caa413921e3aa6d2ef": {
      "model_module": "@jupyter-widgets/output",
      "model_module_version": "1.0.0",
      "model_name": "OutputModel",
      "state": {
       "layout": "IPY_MODEL_816bc32a5a044e46b794078331d7d3ed"
      }
     },
     "b892d6c084a943e79206f3289bf39c75": {
      "model_module": "@jupyter-widgets/controls",
      "model_module_version": "1.5.0",
      "model_name": "DropdownModel",
      "state": {
       "_options_labels": [
        "1",
        "2",
        "3"
       ],
       "description": "Mes A:",
       "index": 1,
       "layout": "IPY_MODEL_cd268eb217d246a694d4e7286fae679b",
       "style": "IPY_MODEL_17e079d3579d4b33a10313b25810b0ed"
      }
     },
     "b8ef54b9e29e41dd9e888ffc585a5e32": {
      "model_module": "@jupyter-widgets/base",
      "model_module_version": "1.2.0",
      "model_name": "LayoutModel",
      "state": {}
     },
     "b8ef740f39524a82bffe04ee04ddf329": {
      "model_module": "@jupyter-widgets/controls",
      "model_module_version": "1.5.0",
      "model_name": "ButtonModel",
      "state": {
       "button_style": "primary",
       "description": "Compare",
       "icon": "money",
       "layout": "IPY_MODEL_405f992804df4ebaabfaa53b979be293",
       "style": "IPY_MODEL_a3759a1b05454a34b9a1e601355dd003",
       "tooltip": "Click me"
      }
     },
     "b974e922071c47eaac49f4403028aed9": {
      "model_module": "@jupyter-widgets/base",
      "model_module_version": "1.2.0",
      "model_name": "LayoutModel",
      "state": {}
     },
     "b9d2b05d94714d69833be26f74cfcd73": {
      "model_module": "@jupyter-widgets/controls",
      "model_module_version": "1.5.0",
      "model_name": "ButtonModel",
      "state": {
       "description": "Click me",
       "icon": "check",
       "layout": "IPY_MODEL_556eabc7495e4d29bab9f9225568b24d",
       "style": "IPY_MODEL_39aca120655a47d1a2a04e0bf599162b",
       "tooltip": "Click me"
      }
     },
     "ba49596457f944d2b22b373c39e686da": {
      "model_module": "@jupyter-widgets/controls",
      "model_module_version": "1.5.0",
      "model_name": "SliderStyleModel",
      "state": {
       "description_width": ""
      }
     },
     "ba66d741e53e456781b8944962e2b7b9": {
      "model_module": "@jupyter-widgets/controls",
      "model_module_version": "1.5.0",
      "model_name": "DropdownModel",
      "state": {
       "_options_labels": [
        "2016",
        "2017",
        "2018",
        "2019",
        "2020"
       ],
       "description": "YEAR B:",
       "index": 4,
       "layout": "IPY_MODEL_5a22f6a6773f42688d75c9120129d200",
       "style": "IPY_MODEL_5b91e60fb3934835b8205e704c9eba9f"
      }
     },
     "ba7d5c8ace834a2e85a07892f25a30d5": {
      "model_module": "@jupyter-widgets/controls",
      "model_module_version": "1.5.0",
      "model_name": "FloatSliderModel",
      "state": {
       "description": "MES:",
       "layout": "IPY_MODEL_158ed881e9834efd9080ae07cbe8e431",
       "max": 12,
       "min": 1,
       "readout_format": ".0f",
       "style": "IPY_MODEL_bc4bbb16f3c8412e8b0e2ccf2c9e89e4",
       "value": 1
      }
     },
     "baa26d5a567b47eeb38fcf9228db8d18": {
      "model_module": "@jupyter-widgets/controls",
      "model_module_version": "1.5.0",
      "model_name": "VBoxModel",
      "state": {
       "children": [
        "IPY_MODEL_7ad82211b9ff45679328d2c0a1df6191",
        "IPY_MODEL_2d1a5bb696bf4f25bc835e7a23908003",
        "IPY_MODEL_830d51d18c874516bd732c41d5c49c69"
       ],
       "layout": "IPY_MODEL_bbbdb9f18e7b4c1e8f8ec6025bdb8088"
      }
     },
     "bb5a958c380449cfa6bb0a7adc5d8b52": {
      "model_module": "@jupyter-widgets/controls",
      "model_module_version": "1.5.0",
      "model_name": "SliderStyleModel",
      "state": {
       "description_width": ""
      }
     },
     "bbbdb9f18e7b4c1e8f8ec6025bdb8088": {
      "model_module": "@jupyter-widgets/base",
      "model_module_version": "1.2.0",
      "model_name": "LayoutModel",
      "state": {}
     },
     "bbdcd457178948e492e455623d886adf": {
      "model_module": "@jupyter-widgets/controls",
      "model_module_version": "1.5.0",
      "model_name": "DescriptionStyleModel",
      "state": {
       "description_width": ""
      }
     },
     "bc42393ba6c84549921a04064e0e3e58": {
      "model_module": "@jupyter-widgets/controls",
      "model_module_version": "1.5.0",
      "model_name": "ButtonStyleModel",
      "state": {}
     },
     "bc4a18489a3341409b21534ef93d8b2d": {
      "model_module": "@jupyter-widgets/base",
      "model_module_version": "1.2.0",
      "model_name": "LayoutModel",
      "state": {}
     },
     "bc4bbb16f3c8412e8b0e2ccf2c9e89e4": {
      "model_module": "@jupyter-widgets/controls",
      "model_module_version": "1.5.0",
      "model_name": "SliderStyleModel",
      "state": {
       "description_width": ""
      }
     },
     "bc63dc0993de4c4fb2e7b2d9c1305869": {
      "model_module": "@jupyter-widgets/base",
      "model_module_version": "1.2.0",
      "model_name": "LayoutModel",
      "state": {}
     },
     "bcac3b67259d4d4eb630d57304ac7106": {
      "model_module": "@jupyter-widgets/controls",
      "model_module_version": "1.5.0",
      "model_name": "SliderStyleModel",
      "state": {
       "description_width": ""
      }
     },
     "bd5f07fe75024ab48c433e8f261714a7": {
      "model_module": "@jupyter-widgets/controls",
      "model_module_version": "1.5.0",
      "model_name": "HBoxModel",
      "state": {
       "children": [
        "IPY_MODEL_57aefdbe0ebe4ab3b72b54f8e1381299",
        "IPY_MODEL_6739f1d82d7e46148324f572b017190a",
        "IPY_MODEL_ba66d741e53e456781b8944962e2b7b9"
       ],
       "layout": "IPY_MODEL_d9e2cb23b80f479ab27deb8d52ca8f94"
      }
     },
     "be4c6641bee247699880688001ddf98b": {
      "model_module": "@jupyter-widgets/base",
      "model_module_version": "1.2.0",
      "model_name": "LayoutModel",
      "state": {}
     },
     "be5f8471b421462d9c7c7b1e2df88c40": {
      "model_module": "@jupyter-widgets/base",
      "model_module_version": "1.2.0",
      "model_name": "LayoutModel",
      "state": {}
     },
     "bebba425c53848c7bc33f80c0f5d5343": {
      "model_module": "@jupyter-widgets/controls",
      "model_module_version": "1.5.0",
      "model_name": "FloatSliderModel",
      "state": {
       "description": "MES:",
       "layout": "IPY_MODEL_7922059cdbad47c68cabc34670d6e85b",
       "max": 12,
       "min": 1,
       "readout_format": ".0f",
       "style": "IPY_MODEL_a7203762b20c4f698fa94aa351741ab3",
       "value": 1
      }
     },
     "beea999a693b450dbf2c88226c5f707b": {
      "model_module": "@jupyter-widgets/controls",
      "model_module_version": "1.5.0",
      "model_name": "SliderStyleModel",
      "state": {
       "description_width": ""
      }
     },
     "bf46ba2466ca4874bb4d0a83f13040a3": {
      "model_module": "@jupyter-widgets/base",
      "model_module_version": "1.2.0",
      "model_name": "LayoutModel",
      "state": {}
     },
     "bf96d2f32c094ea69538dea444eda300": {
      "model_module": "@jupyter-widgets/controls",
      "model_module_version": "1.5.0",
      "model_name": "SliderStyleModel",
      "state": {
       "description_width": ""
      }
     },
     "bfd7939c22994c56965d967f0f3b6ceb": {
      "model_module": "@jupyter-widgets/controls",
      "model_module_version": "1.5.0",
      "model_name": "DescriptionStyleModel",
      "state": {
       "description_width": ""
      }
     },
     "c0dc99a211a44bcbb6c7b31e6a030205": {
      "model_module": "@jupyter-widgets/controls",
      "model_module_version": "1.5.0",
      "model_name": "DescriptionStyleModel",
      "state": {
       "description_width": ""
      }
     },
     "c10aa67bd4174662b101783b23ad4138": {
      "model_module": "@jupyter-widgets/base",
      "model_module_version": "1.2.0",
      "model_name": "LayoutModel",
      "state": {}
     },
     "c14acd6ce56445598c116c59365e6ac0": {
      "model_module": "@jupyter-widgets/base",
      "model_module_version": "1.2.0",
      "model_name": "LayoutModel",
      "state": {}
     },
     "c19c2750e66c4437b17ae1da9ef761a5": {
      "model_module": "@jupyter-widgets/controls",
      "model_module_version": "1.5.0",
      "model_name": "DropdownModel",
      "state": {
       "_options_labels": [
        "1",
        "2",
        "3"
       ],
       "description": "Number:",
       "index": 1,
       "layout": "IPY_MODEL_3b5812c1822044fcad4ca3a10f1b0036",
       "style": "IPY_MODEL_b66cc789d6fe491a9f43f4233a57c1c4"
      }
     },
     "c1ca6b3fe7f14f11a34b5f0b2377e8d8": {
      "model_module": "@jupyter-widgets/base",
      "model_module_version": "1.2.0",
      "model_name": "LayoutModel",
      "state": {}
     },
     "c21611cf12fd47fbb10783488e02493c": {
      "model_module": "@jupyter-widgets/controls",
      "model_module_version": "1.5.0",
      "model_name": "DropdownModel",
      "state": {
       "_options_labels": [
        "2016",
        "2017",
        "2018",
        "2019",
        "2020",
        "2021"
       ],
       "description": "YEAR A:",
       "index": 3,
       "layout": "IPY_MODEL_0986db88db4348c9a841f3857aafbc2b",
       "style": "IPY_MODEL_26bef21597cb4f0492e1b3470755ef49"
      }
     },
     "c2693ef465a64c67ab04949971b59565": {
      "model_module": "@jupyter-widgets/controls",
      "model_module_version": "1.5.0",
      "model_name": "VBoxModel",
      "state": {
       "children": [
        "IPY_MODEL_8f0715aa6822477fb73bd9cf5e35bedb",
        "IPY_MODEL_993cc837cab449229116265d37f69fe5",
        "IPY_MODEL_ad18e9d00063437195ff77c2970f11ee"
       ],
       "layout": "IPY_MODEL_91dcb2badf4645f1a6648e665d29e25c"
      }
     },
     "c2aa3b7395ac4faaae7dfc241e5168ef": {
      "model_module": "@jupyter-widgets/base",
      "model_module_version": "1.2.0",
      "model_name": "LayoutModel",
      "state": {}
     },
     "c383488017174577ad97e6c384ac430e": {
      "model_module": "@jupyter-widgets/base",
      "model_module_version": "1.2.0",
      "model_name": "LayoutModel",
      "state": {}
     },
     "c3cd2243edc24a13bb063fb84a332df7": {
      "model_module": "@jupyter-widgets/controls",
      "model_module_version": "1.5.0",
      "model_name": "ButtonStyleModel",
      "state": {}
     },
     "c416315a8a3d481bb0acbd5f543dcbcb": {
      "model_module": "@jupyter-widgets/controls",
      "model_module_version": "1.5.0",
      "model_name": "HBoxModel",
      "state": {
       "children": [
        "IPY_MODEL_5794e6f8a1dc445888a377a681828cd2",
        "IPY_MODEL_71b17b4e5e224091826e0d42e661f4ee",
        "IPY_MODEL_03f1e2305632460cb7d9e4ccdf2aa1d9"
       ],
       "layout": "IPY_MODEL_9b37472cc424400e8065973f64b2c4a5"
      }
     },
     "c43ce602e5d540939932e8383ae89e5c": {
      "model_module": "@jupyter-widgets/base",
      "model_module_version": "1.2.0",
      "model_name": "LayoutModel",
      "state": {}
     },
     "c454dfa751414b09bcf33609ff9b8c60": {
      "model_module": "@jupyter-widgets/base",
      "model_module_version": "1.2.0",
      "model_name": "LayoutModel",
      "state": {}
     },
     "c54c002727904784b19a956a9d569706": {
      "model_module": "@jupyter-widgets/base",
      "model_module_version": "1.2.0",
      "model_name": "LayoutModel",
      "state": {}
     },
     "c5e2d2ed12424b9f830005a1dfcc33b8": {
      "model_module": "@jupyter-widgets/base",
      "model_module_version": "1.2.0",
      "model_name": "LayoutModel",
      "state": {}
     },
     "c5f66333ed88483cb8e8d44308ee5864": {
      "model_module": "@jupyter-widgets/controls",
      "model_module_version": "1.5.0",
      "model_name": "DescriptionStyleModel",
      "state": {
       "description_width": ""
      }
     },
     "c672a5efc9c6420ba4970b21fbacc39d": {
      "model_module": "@jupyter-widgets/controls",
      "model_module_version": "1.5.0",
      "model_name": "ButtonModel",
      "state": {
       "description": "Click me",
       "icon": "check",
       "layout": "IPY_MODEL_7679203d8f7042a6bde7bba38a6ffa96",
       "style": "IPY_MODEL_4635050cfe7446f88525fd9ea558a023",
       "tooltip": "Click me"
      }
     },
     "c6b7c1aafe384698b70200a41aab7e1a": {
      "model_module": "@jupyter-widgets/controls",
      "model_module_version": "1.5.0",
      "model_name": "HBoxModel",
      "state": {
       "children": [
        "IPY_MODEL_57aefdbe0ebe4ab3b72b54f8e1381299",
        "IPY_MODEL_6739f1d82d7e46148324f572b017190a",
        "IPY_MODEL_ba66d741e53e456781b8944962e2b7b9"
       ],
       "layout": "IPY_MODEL_3620f50488d14ff5bc9361b91be9b4da"
      }
     },
     "c6c55ebb246d4b77bf8717d81396231c": {
      "model_module": "@jupyter-widgets/controls",
      "model_module_version": "1.5.0",
      "model_name": "ButtonModel",
      "state": {
       "description": "Click me",
       "icon": "check",
       "layout": "IPY_MODEL_cdfaa2d6da9f43c5bb54e4501a9d79ba",
       "style": "IPY_MODEL_b578f525f64f491a96f5bffd04ff6a92",
       "tooltip": "Click me"
      }
     },
     "c7237a65adfa475da16a294059417b35": {
      "model_module": "@jupyter-widgets/output",
      "model_module_version": "1.0.0",
      "model_name": "OutputModel",
      "state": {
       "layout": "IPY_MODEL_bc4a18489a3341409b21534ef93d8b2d",
       "outputs": [
        {
         "name": "stdout",
         "output_type": "stream",
         "text": "I was clicked\nI was clicked\nI was clicked\nI was clicked\n"
        }
       ]
      }
     },
     "c75567f6ee324f27bef063249422f025": {
      "model_module": "@jupyter-widgets/base",
      "model_module_version": "1.2.0",
      "model_name": "LayoutModel",
      "state": {}
     },
     "c77534601926490b8288c4fe99d515a4": {
      "model_module": "@jupyter-widgets/controls",
      "model_module_version": "1.5.0",
      "model_name": "DescriptionStyleModel",
      "state": {
       "description_width": ""
      }
     },
     "c77cb25a0f2448ffb9bc4d43f490b582": {
      "model_module": "@jupyter-widgets/base",
      "model_module_version": "1.2.0",
      "model_name": "LayoutModel",
      "state": {}
     },
     "c7b6f39e0f4a4f7aba0e1264dce18e64": {
      "model_module": "@jupyter-widgets/base",
      "model_module_version": "1.2.0",
      "model_name": "LayoutModel",
      "state": {}
     },
     "c83a907102fd40debb4211ddb9c100bd": {
      "model_module": "@jupyter-widgets/base",
      "model_module_version": "1.2.0",
      "model_name": "LayoutModel",
      "state": {}
     },
     "c850989f177a4fa3a1f983c2144f436b": {
      "model_module": "@jupyter-widgets/controls",
      "model_module_version": "1.5.0",
      "model_name": "ButtonStyleModel",
      "state": {}
     },
     "c87e980e2a034e5ab475a0117e412fc1": {
      "model_module": "@jupyter-widgets/controls",
      "model_module_version": "1.5.0",
      "model_name": "ButtonStyleModel",
      "state": {}
     },
     "c898989c1ebb4fe9ac62c4ebc205883b": {
      "model_module": "@jupyter-widgets/controls",
      "model_module_version": "1.5.0",
      "model_name": "SliderStyleModel",
      "state": {
       "description_width": ""
      }
     },
     "c8b7e71364c64f1c8e5bd4d4540ac5e7": {
      "model_module": "@jupyter-widgets/controls",
      "model_module_version": "1.5.0",
      "model_name": "ButtonModel",
      "state": {
       "button_style": "primary",
       "description": "Compare",
       "icon": "money",
       "layout": "IPY_MODEL_f3e74c346b704ba89759b259c7ad046a",
       "style": "IPY_MODEL_c87e980e2a034e5ab475a0117e412fc1",
       "tooltip": "Click me"
      }
     },
     "c929169ce7fb46e1b73755a9dcb7861a": {
      "model_module": "@jupyter-widgets/controls",
      "model_module_version": "1.5.0",
      "model_name": "DropdownModel",
      "state": {
       "_options_labels": [
        "1",
        "2",
        "3"
       ],
       "description": "Mes A:",
       "index": 1,
       "layout": "IPY_MODEL_e693b5d8bb55420ca465e02d2b5b8381",
       "style": "IPY_MODEL_4653bb894b414933925a3d5804cc42a7"
      }
     },
     "c94f090c1d724cb09d48e4570db417a1": {
      "model_module": "@jupyter-widgets/controls",
      "model_module_version": "1.5.0",
      "model_name": "DropdownModel",
      "state": {
       "_options_labels": [
        "2021",
        "2020",
        "2019",
        "2018",
        "2017"
       ],
       "description": "YEAR B:",
       "index": 3,
       "layout": "IPY_MODEL_776d129d68774f0c835833084b9ca046",
       "style": "IPY_MODEL_a43b4e19a1204db6a228fa1d7ef4dd51"
      }
     },
     "c9d54d239f814ede92c729503bf94f58": {
      "model_module": "@jupyter-widgets/controls",
      "model_module_version": "1.5.0",
      "model_name": "ButtonStyleModel",
      "state": {}
     },
     "c9db81a566514a3dbfc62a82b2c203c9": {
      "model_module": "@jupyter-widgets/base",
      "model_module_version": "1.2.0",
      "model_name": "LayoutModel",
      "state": {}
     },
     "ca249ee24f5b4480a19fc0e6ab27c98c": {
      "model_module": "@jupyter-widgets/controls",
      "model_module_version": "1.5.0",
      "model_name": "DescriptionStyleModel",
      "state": {
       "description_width": ""
      }
     },
     "ca9b1b263fa944d9b1d8d456921cd7e8": {
      "model_module": "@jupyter-widgets/base",
      "model_module_version": "1.2.0",
      "model_name": "LayoutModel",
      "state": {}
     },
     "cca82e217b034b44baee85b46b10a957": {
      "model_module": "@jupyter-widgets/controls",
      "model_module_version": "1.5.0",
      "model_name": "DescriptionStyleModel",
      "state": {
       "description_width": ""
      }
     },
     "ccd400c6b7334ee69594daf79a4d4810": {
      "model_module": "@jupyter-widgets/base",
      "model_module_version": "1.2.0",
      "model_name": "LayoutModel",
      "state": {}
     },
     "cce5c004571248be94daff15def406b9": {
      "model_module": "@jupyter-widgets/controls",
      "model_module_version": "1.5.0",
      "model_name": "ButtonStyleModel",
      "state": {}
     },
     "ccfa1788dcc148dab8068e4540813a27": {
      "model_module": "@jupyter-widgets/controls",
      "model_module_version": "1.5.0",
      "model_name": "VBoxModel",
      "state": {
       "children": [
        "IPY_MODEL_bd5f07fe75024ab48c433e8f261714a7",
        "IPY_MODEL_4e076a4157cb40ec9dc9c72595b4ab0b",
        "IPY_MODEL_6184601a49c4470d980282f55ca59a3d"
       ],
       "layout": "IPY_MODEL_5fa7ebad9740438dbc582f718d701ca9"
      }
     },
     "cd268eb217d246a694d4e7286fae679b": {
      "model_module": "@jupyter-widgets/base",
      "model_module_version": "1.2.0",
      "model_name": "LayoutModel",
      "state": {}
     },
     "cdbb6945d1ed42a698ff1093cf6b3e40": {
      "model_module": "@jupyter-widgets/controls",
      "model_module_version": "1.5.0",
      "model_name": "DescriptionStyleModel",
      "state": {
       "description_width": ""
      }
     },
     "cdd91e1638ca49048b4e4c159c6833ee": {
      "model_module": "@jupyter-widgets/controls",
      "model_module_version": "1.5.0",
      "model_name": "FloatSliderModel",
      "state": {
       "description": "MES:",
       "layout": "IPY_MODEL_0fd074bc2c6a4e64852388f6db37e059",
       "max": 12,
       "min": 1,
       "readout_format": ".0f",
       "style": "IPY_MODEL_1b25fab64c32404a8fc3a5d4bbd4a004",
       "value": 1
      }
     },
     "cdfaa2d6da9f43c5bb54e4501a9d79ba": {
      "model_module": "@jupyter-widgets/base",
      "model_module_version": "1.2.0",
      "model_name": "LayoutModel",
      "state": {}
     },
     "ce0d819db69b4344955051762813a428": {
      "model_module": "@jupyter-widgets/controls",
      "model_module_version": "1.5.0",
      "model_name": "DropdownModel",
      "state": {
       "_options_labels": [
        "1",
        "2",
        "3"
       ],
       "description": "Mes B:",
       "index": 1,
       "layout": "IPY_MODEL_12a4c090784445eb9e83cc561550b8d3",
       "style": "IPY_MODEL_e94744aa6ba54aa4bf10dd40d76d5f54"
      }
     },
     "cebe08001c084784956a4b076b0ed25b": {
      "model_module": "@jupyter-widgets/controls",
      "model_module_version": "1.5.0",
      "model_name": "SliderStyleModel",
      "state": {
       "description_width": ""
      }
     },
     "cf36a21076754a2aa67c9873dbaf2cda": {
      "model_module": "@jupyter-widgets/controls",
      "model_module_version": "1.5.0",
      "model_name": "SliderStyleModel",
      "state": {
       "description_width": ""
      }
     },
     "cf91cd99904448d5a77590a5f851c47c": {
      "model_module": "@jupyter-widgets/output",
      "model_module_version": "1.0.0",
      "model_name": "OutputModel",
      "state": {
       "layout": "IPY_MODEL_d56bc980eaa5481aa9569c102f571d44",
       "outputs": [
        {
         "name": "stdout",
         "output_type": "stream",
         "text": "En el mes 4/2019 se facturó 5617.50 € respecto 2020\n"
        }
       ]
      }
     },
     "cf9d13195b404a69a5d956079ea2916c": {
      "model_module": "@jupyter-widgets/controls",
      "model_module_version": "1.5.0",
      "model_name": "FloatSliderModel",
      "state": {
       "description": "MES:",
       "layout": "IPY_MODEL_fa76b8e337cc4be2814047e3b29ce63c",
       "max": 12,
       "min": 1,
       "readout_format": ".0f",
       "style": "IPY_MODEL_792fde37fb724c539bf1ad49d0dd2e43",
       "value": 1
      }
     },
     "cfc97c8714d6420c82946960c8b46712": {
      "model_module": "@jupyter-widgets/controls",
      "model_module_version": "1.5.0",
      "model_name": "FloatSliderModel",
      "state": {
       "description": "MES:",
       "layout": "IPY_MODEL_5b30587736dc482dbe4f15489e9567b5",
       "max": 12,
       "min": 1,
       "readout_format": ".0f",
       "style": "IPY_MODEL_f8c5a0f42ea1408aaf433e85f0ad4ac3",
       "value": 1
      }
     },
     "d004df9cbc6a4d93b6663fed4bea51b3": {
      "model_module": "@jupyter-widgets/controls",
      "model_module_version": "1.5.0",
      "model_name": "VBoxModel",
      "state": {
       "children": [
        "IPY_MODEL_5b5ec9d53b64487baf9752530f031bf5",
        "IPY_MODEL_7699b4bcef2c40a09d05c75cff96a1a2",
        "IPY_MODEL_7ed98d2768ec400f947d94d3a2dff69d"
       ],
       "layout": "IPY_MODEL_d4361d2f0cde4dae8a1d071656f4ad52"
      }
     },
     "d046094c22234d01b8d06364f7dd98ea": {
      "model_module": "@jupyter-widgets/controls",
      "model_module_version": "1.5.0",
      "model_name": "VBoxModel",
      "state": {
       "children": [
        "IPY_MODEL_1077ef7ff93543f289ee3c94146ef31c",
        "IPY_MODEL_7b1378ab058c4aacab404b651381c1e6",
        "IPY_MODEL_cf91cd99904448d5a77590a5f851c47c"
       ],
       "layout": "IPY_MODEL_bc63dc0993de4c4fb2e7b2d9c1305869"
      }
     },
     "d05678a52f0f4643937fc96908711282": {
      "model_module": "@jupyter-widgets/controls",
      "model_module_version": "1.5.0",
      "model_name": "SliderStyleModel",
      "state": {
       "description_width": ""
      }
     },
     "d291dfadd2e44c7883feafa8fac32696": {
      "model_module": "@jupyter-widgets/controls",
      "model_module_version": "1.5.0",
      "model_name": "FloatSliderModel",
      "state": {
       "description": "MES:",
       "layout": "IPY_MODEL_2c22cd1c88164d3a82758c0320775dc7",
       "max": 12,
       "min": 1,
       "readout_format": ".0f",
       "style": "IPY_MODEL_34c7189fc7f544ff8ac5fcbdcbe97599",
       "value": 1
      }
     },
     "d29eb243587542b68a275cd412c123b5": {
      "model_module": "@jupyter-widgets/controls",
      "model_module_version": "1.5.0",
      "model_name": "DescriptionStyleModel",
      "state": {
       "description_width": ""
      }
     },
     "d2c1e01c23a14a2aad20131f15ebddee": {
      "model_module": "@jupyter-widgets/base",
      "model_module_version": "1.2.0",
      "model_name": "LayoutModel",
      "state": {}
     },
     "d2f9f1b0377848fc882c3fcc28a4adc7": {
      "model_module": "@jupyter-widgets/controls",
      "model_module_version": "1.5.0",
      "model_name": "SliderStyleModel",
      "state": {
       "description_width": ""
      }
     },
     "d30e5ffd46d8457eac790f547ff2b823": {
      "model_module": "@jupyter-widgets/controls",
      "model_module_version": "1.5.0",
      "model_name": "SliderStyleModel",
      "state": {
       "description_width": ""
      }
     },
     "d4361d2f0cde4dae8a1d071656f4ad52": {
      "model_module": "@jupyter-widgets/base",
      "model_module_version": "1.2.0",
      "model_name": "LayoutModel",
      "state": {}
     },
     "d49b6bca2f6f42fe9f29f92a5cab684f": {
      "model_module": "@jupyter-widgets/controls",
      "model_module_version": "1.5.0",
      "model_name": "FloatSliderModel",
      "state": {
       "description": "MES:",
       "layout": "IPY_MODEL_8e887dc538144343ba1898d91c2a364d",
       "max": 12,
       "min": 1,
       "readout_format": ".0f",
       "style": "IPY_MODEL_1480bae4143e4659951258f4329302b2",
       "value": 1
      }
     },
     "d49e0925a5b3455d808554192581288c": {
      "model_module": "@jupyter-widgets/base",
      "model_module_version": "1.2.0",
      "model_name": "LayoutModel",
      "state": {}
     },
     "d4a3ef0ddf2247188017acfe087aa683": {
      "model_module": "@jupyter-widgets/controls",
      "model_module_version": "1.5.0",
      "model_name": "HBoxModel",
      "state": {
       "children": [
        "IPY_MODEL_57aefdbe0ebe4ab3b72b54f8e1381299",
        "IPY_MODEL_6739f1d82d7e46148324f572b017190a",
        "IPY_MODEL_ba66d741e53e456781b8944962e2b7b9"
       ],
       "layout": "IPY_MODEL_0cb59e8c668b49499f89fb24b90c66ec"
      }
     },
     "d4ab555878564b3c8d34ddc8c32a9c84": {
      "model_module": "@jupyter-widgets/controls",
      "model_module_version": "1.5.0",
      "model_name": "SliderStyleModel",
      "state": {
       "description_width": ""
      }
     },
     "d510ace0885947b5a5ba9c78d17b933e": {
      "model_module": "@jupyter-widgets/controls",
      "model_module_version": "1.5.0",
      "model_name": "DescriptionStyleModel",
      "state": {
       "description_width": ""
      }
     },
     "d56bc980eaa5481aa9569c102f571d44": {
      "model_module": "@jupyter-widgets/base",
      "model_module_version": "1.2.0",
      "model_name": "LayoutModel",
      "state": {}
     },
     "d600ea597de84b4482e6450eb5d28350": {
      "model_module": "@jupyter-widgets/controls",
      "model_module_version": "1.5.0",
      "model_name": "VBoxModel",
      "state": {
       "children": [
        "IPY_MODEL_3f5af8839db042449aab77ed19a79167",
        "IPY_MODEL_9c789685c3604e4c9e9316df588c75e8",
        "IPY_MODEL_b3c157f4d36248f29776e6c8c8831628"
       ],
       "layout": "IPY_MODEL_af8bcf2acb0d492a9e5e429f1326c52e"
      }
     },
     "d650fd624b304e62881fdf5dc555a026": {
      "model_module": "@jupyter-widgets/base",
      "model_module_version": "1.2.0",
      "model_name": "LayoutModel",
      "state": {}
     },
     "d65dc73a1ac44687835a8f043297da29": {
      "model_module": "@jupyter-widgets/controls",
      "model_module_version": "1.5.0",
      "model_name": "VBoxModel",
      "state": {
       "children": [
        "IPY_MODEL_c6b7c1aafe384698b70200a41aab7e1a",
        "IPY_MODEL_9ecabb32906b4dfcbec9c363b9580f53",
        "IPY_MODEL_44b85b6d43c848fc98bc4529240e186c"
       ],
       "layout": "IPY_MODEL_7f2a09040820474da9fc1e08e8bd19cc"
      }
     },
     "d7e94a23380f4e75a3cef38cf0d050e9": {
      "model_module": "@jupyter-widgets/base",
      "model_module_version": "1.2.0",
      "model_name": "LayoutModel",
      "state": {}
     },
     "d8918f045a234011b33b2d2d9216f32f": {
      "model_module": "@jupyter-widgets/base",
      "model_module_version": "1.2.0",
      "model_name": "LayoutModel",
      "state": {}
     },
     "d923725e01104317b190fe568d99a3a4": {
      "model_module": "@jupyter-widgets/base",
      "model_module_version": "1.2.0",
      "model_name": "LayoutModel",
      "state": {}
     },
     "d9e2cb23b80f479ab27deb8d52ca8f94": {
      "model_module": "@jupyter-widgets/base",
      "model_module_version": "1.2.0",
      "model_name": "LayoutModel",
      "state": {}
     },
     "da55aa959ae04500afffbba250ab54ad": {
      "model_module": "@jupyter-widgets/output",
      "model_module_version": "1.0.0",
      "model_name": "OutputModel",
      "state": {
       "layout": "IPY_MODEL_8a35f314dbf14af4a47823b46aee2fdb"
      }
     },
     "da6e7aa543694ccfbd8b4745771570d3": {
      "model_module": "@jupyter-widgets/base",
      "model_module_version": "1.2.0",
      "model_name": "LayoutModel",
      "state": {}
     },
     "db0b3ff7f2f54464bed6bb9ae6e94cf1": {
      "model_module": "@jupyter-widgets/base",
      "model_module_version": "1.2.0",
      "model_name": "LayoutModel",
      "state": {}
     },
     "db6fed747c214b5a8025a4ad101803b7": {
      "model_module": "@jupyter-widgets/controls",
      "model_module_version": "1.5.0",
      "model_name": "DropdownModel",
      "state": {
       "_options_labels": [
        "1",
        "2",
        "3"
       ],
       "description": "Number:",
       "index": 1,
       "layout": "IPY_MODEL_acb96d650f3e40288e0516845e0f2b9c",
       "style": "IPY_MODEL_e5f7e489c3b54e2da02057548a264c7d"
      }
     },
     "db8c31e84b5a4ba5a4def2fa477d6fce": {
      "model_module": "@jupyter-widgets/base",
      "model_module_version": "1.2.0",
      "model_name": "LayoutModel",
      "state": {}
     },
     "dba577961a2841a5aecf34c5873ee192": {
      "model_module": "@jupyter-widgets/base",
      "model_module_version": "1.2.0",
      "model_name": "LayoutModel",
      "state": {}
     },
     "dc27d12c2916401a8c43d2d3de8d2042": {
      "model_module": "@jupyter-widgets/controls",
      "model_module_version": "1.5.0",
      "model_name": "FloatSliderModel",
      "state": {
       "description": "MES:",
       "layout": "IPY_MODEL_0c3132caef2144458c36d982ee4fd54c",
       "max": 12,
       "min": 1,
       "readout_format": ".0f",
       "style": "IPY_MODEL_15cc1ed8ce22421bbac35de143fbe57b",
       "value": 1
      }
     },
     "dc495cf3449b45b0a69710a58ecd0f6f": {
      "model_module": "@jupyter-widgets/base",
      "model_module_version": "1.2.0",
      "model_name": "LayoutModel",
      "state": {}
     },
     "dc9492ec26fb446d80cf9b9d728ed0a6": {
      "model_module": "@jupyter-widgets/controls",
      "model_module_version": "1.5.0",
      "model_name": "SliderStyleModel",
      "state": {
       "description_width": ""
      }
     },
     "dcef3f99513c4d7b884409d95cfef1bd": {
      "model_module": "@jupyter-widgets/base",
      "model_module_version": "1.2.0",
      "model_name": "LayoutModel",
      "state": {}
     },
     "dd32da13328f46298522095b69cd77ec": {
      "model_module": "@jupyter-widgets/controls",
      "model_module_version": "1.5.0",
      "model_name": "ButtonModel",
      "state": {
       "button_style": "primary",
       "description": "Compare",
       "icon": "money",
       "layout": "IPY_MODEL_752cc687224548878dfe9ba2ef19632b",
       "style": "IPY_MODEL_cce5c004571248be94daff15def406b9",
       "tooltip": "Click me"
      }
     },
     "dde80cde4e794cac8d726d23dc196880": {
      "model_module": "@jupyter-widgets/controls",
      "model_module_version": "1.5.0",
      "model_name": "SliderStyleModel",
      "state": {
       "description_width": ""
      }
     },
     "de295f94e5d54f5b9e325b66f52684e8": {
      "model_module": "@jupyter-widgets/base",
      "model_module_version": "1.2.0",
      "model_name": "LayoutModel",
      "state": {}
     },
     "de4bed1edac04a448c4bd73933d35f76": {
      "model_module": "@jupyter-widgets/controls",
      "model_module_version": "1.5.0",
      "model_name": "DropdownModel",
      "state": {
       "_options_labels": [
        "2016",
        "2017",
        "2018",
        "2019",
        "2020",
        "2021"
       ],
       "description": "Mes A:",
       "index": 0,
       "layout": "IPY_MODEL_ccd400c6b7334ee69594daf79a4d4810",
       "style": "IPY_MODEL_1035077a035040f0abae19052074f37e"
      }
     },
     "ded52a36f35f41e1a5a4bfe7eaecae0d": {
      "model_module": "@jupyter-widgets/controls",
      "model_module_version": "1.5.0",
      "model_name": "FloatSliderModel",
      "state": {
       "description": "MES:",
       "layout": "IPY_MODEL_f471c3a8f3fd426b86c2add39d65b5a2",
       "max": 12,
       "min": 1,
       "readout_format": ".0f",
       "style": "IPY_MODEL_b0561b2e366a4b32a50fc3f377b03f54",
       "value": 1
      }
     },
     "def694ff2c3a4f78a9a4add267b1337e": {
      "model_module": "@jupyter-widgets/controls",
      "model_module_version": "1.5.0",
      "model_name": "DropdownModel",
      "state": {
       "_options_labels": [
        "1",
        "2",
        "3"
       ],
       "description": "Number:",
       "index": 1,
       "layout": "IPY_MODEL_b8ef54b9e29e41dd9e888ffc585a5e32",
       "style": "IPY_MODEL_6221bce2aa3142e49b1e7137107e5a73"
      }
     },
     "df2ea6adda7844ca9584b664ce3559b5": {
      "model_module": "@jupyter-widgets/controls",
      "model_module_version": "1.5.0",
      "model_name": "SliderStyleModel",
      "state": {
       "description_width": ""
      }
     },
     "e04a7927c72b48a6b25aec46082f8e18": {
      "model_module": "@jupyter-widgets/base",
      "model_module_version": "1.2.0",
      "model_name": "LayoutModel",
      "state": {}
     },
     "e12ef176f10a495aa4b08a44b71af5f7": {
      "model_module": "@jupyter-widgets/controls",
      "model_module_version": "1.5.0",
      "model_name": "FloatSliderModel",
      "state": {
       "description": "MES:",
       "layout": "IPY_MODEL_2d2b836de98449069f206cea6b5be794",
       "max": 12,
       "min": 1,
       "readout_format": ".0f",
       "style": "IPY_MODEL_2bfdaa468abc40bda4c5ee12f7a59940",
       "value": 1
      }
     },
     "e1596f77743e4a7f9a31b8c6743d3cd1": {
      "model_module": "@jupyter-widgets/controls",
      "model_module_version": "1.5.0",
      "model_name": "FloatSliderModel",
      "state": {
       "description": "MES:",
       "layout": "IPY_MODEL_ee4244543d11440fa6d0f691b8b7c075",
       "max": 12,
       "min": 1,
       "readout_format": ".0f",
       "style": "IPY_MODEL_9b96e9b58cec40a184847644487f7785",
       "value": 1
      }
     },
     "e16512f25e70418e96d7f2099f605759": {
      "model_module": "@jupyter-widgets/controls",
      "model_module_version": "1.5.0",
      "model_name": "DescriptionStyleModel",
      "state": {
       "description_width": ""
      }
     },
     "e1dd5f66f9ea4eb789cdad1f45421c85": {
      "model_module": "@jupyter-widgets/controls",
      "model_module_version": "1.5.0",
      "model_name": "ButtonModel",
      "state": {
       "description": "Click me",
       "icon": "check",
       "layout": "IPY_MODEL_f3446d2faff14fe58a4b5d13f2cb6ce8",
       "style": "IPY_MODEL_605efdba41104b49a47b8f2a90e64763",
       "tooltip": "Click me"
      }
     },
     "e21cb1ed1ba844129a4fa798c502bf7d": {
      "model_module": "@jupyter-widgets/base",
      "model_module_version": "1.2.0",
      "model_name": "LayoutModel",
      "state": {}
     },
     "e2fcf9804d494db7b1e847e108b1d521": {
      "model_module": "@jupyter-widgets/output",
      "model_module_version": "1.0.0",
      "model_name": "OutputModel",
      "state": {
       "layout": "IPY_MODEL_927302ada6cb41b488c0311fdc70826e"
      }
     },
     "e37a5ce89b9f4873814d49c5adf1295f": {
      "model_module": "@jupyter-widgets/controls",
      "model_module_version": "1.5.0",
      "model_name": "DescriptionStyleModel",
      "state": {
       "description_width": ""
      }
     },
     "e47ff6f459d4411da5a3047edfcf049f": {
      "model_module": "@jupyter-widgets/base",
      "model_module_version": "1.2.0",
      "model_name": "LayoutModel",
      "state": {}
     },
     "e491829b346343f1bb34d31ed65eccc0": {
      "model_module": "@jupyter-widgets/base",
      "model_module_version": "1.2.0",
      "model_name": "LayoutModel",
      "state": {}
     },
     "e56ebe781d364d4fb57dc371110f910a": {
      "model_module": "@jupyter-widgets/controls",
      "model_module_version": "1.5.0",
      "model_name": "ButtonModel",
      "state": {
       "button_style": "primary",
       "description": "Compare",
       "icon": "money",
       "layout": "IPY_MODEL_c54c002727904784b19a956a9d569706",
       "style": "IPY_MODEL_96d2600d129d4dbc827f22bf36b4f27b",
       "tooltip": "Click me"
      }
     },
     "e585f25413414ed5aa71b1830da49cb8": {
      "model_module": "@jupyter-widgets/base",
      "model_module_version": "1.2.0",
      "model_name": "LayoutModel",
      "state": {}
     },
     "e5df005304ef4b9b93e5c3ab63235032": {
      "model_module": "@jupyter-widgets/controls",
      "model_module_version": "1.5.0",
      "model_name": "DropdownModel",
      "state": {
       "_options_labels": [
        "1",
        "2",
        "3"
       ],
       "description": "Mes B:",
       "index": 1,
       "layout": "IPY_MODEL_52b4b248e9e44eb9abaca7408d678fe9",
       "style": "IPY_MODEL_508af22cce5447638b358506a15b385b"
      }
     },
     "e5f7e489c3b54e2da02057548a264c7d": {
      "model_module": "@jupyter-widgets/controls",
      "model_module_version": "1.5.0",
      "model_name": "DescriptionStyleModel",
      "state": {
       "description_width": ""
      }
     },
     "e648d61e775a4e8291e63b942f39a763": {
      "model_module": "@jupyter-widgets/controls",
      "model_module_version": "1.5.0",
      "model_name": "SliderStyleModel",
      "state": {
       "description_width": ""
      }
     },
     "e64bb63d3a714881b57f8d923cf3a9de": {
      "model_module": "@jupyter-widgets/base",
      "model_module_version": "1.2.0",
      "model_name": "LayoutModel",
      "state": {}
     },
     "e672e97798054f8587d3899da9375e20": {
      "model_module": "@jupyter-widgets/controls",
      "model_module_version": "1.5.0",
      "model_name": "FloatSliderModel",
      "state": {
       "description": "MONTH:",
       "layout": "IPY_MODEL_48425bc657034aef94acd82362e6ba22",
       "max": 12,
       "min": 1,
       "readout_format": ".0f",
       "style": "IPY_MODEL_11f1513e56134558959eee98d2ca0fc2",
       "value": 4
      }
     },
     "e693b5d8bb55420ca465e02d2b5b8381": {
      "model_module": "@jupyter-widgets/base",
      "model_module_version": "1.2.0",
      "model_name": "LayoutModel",
      "state": {}
     },
     "e6cdcced9df24a3c8109ab97997b52af": {
      "model_module": "@jupyter-widgets/controls",
      "model_module_version": "1.5.0",
      "model_name": "DescriptionStyleModel",
      "state": {
       "description_width": ""
      }
     },
     "e79aa5993729412aab8849872b05a285": {
      "model_module": "@jupyter-widgets/controls",
      "model_module_version": "1.5.0",
      "model_name": "HBoxModel",
      "state": {
       "children": [
        "IPY_MODEL_57aefdbe0ebe4ab3b72b54f8e1381299",
        "IPY_MODEL_6739f1d82d7e46148324f572b017190a",
        "IPY_MODEL_ba66d741e53e456781b8944962e2b7b9"
       ],
       "layout": "IPY_MODEL_42d6e01cb1fc4cb292b7761f28fa35ba"
      }
     },
     "e79bc5902ccc4ed7a04dbcecea9376d6": {
      "model_module": "@jupyter-widgets/base",
      "model_module_version": "1.2.0",
      "model_name": "LayoutModel",
      "state": {}
     },
     "e7e0d42e8bcd4c02b6a2d34dbc233dcb": {
      "model_module": "@jupyter-widgets/controls",
      "model_module_version": "1.5.0",
      "model_name": "FloatSliderModel",
      "state": {
       "description": "MES:",
       "layout": "IPY_MODEL_9305e07cbb09418db7c7a22d7ee60589",
       "max": 12,
       "min": 1,
       "readout_format": ".0f",
       "style": "IPY_MODEL_bb5a958c380449cfa6bb0a7adc5d8b52",
       "value": 1
      }
     },
     "e7fd8b5438be4089beaa5bc891623911": {
      "model_module": "@jupyter-widgets/base",
      "model_module_version": "1.2.0",
      "model_name": "LayoutModel",
      "state": {}
     },
     "e81e77f274f34c8eb65728498c585acc": {
      "model_module": "@jupyter-widgets/controls",
      "model_module_version": "1.5.0",
      "model_name": "FloatSliderModel",
      "state": {
       "description": "MES:",
       "layout": "IPY_MODEL_70845136e1ab4dbfb5eb1e715da675af",
       "max": 12,
       "min": 1,
       "readout_format": ".0f",
       "style": "IPY_MODEL_2f84e3d1759347d3ba4d6dbdaed066a5",
       "value": 1
      }
     },
     "e82ea7c9fe7a4a0887386a2b5c34466a": {
      "model_module": "@jupyter-widgets/controls",
      "model_module_version": "1.5.0",
      "model_name": "DescriptionStyleModel",
      "state": {
       "description_width": ""
      }
     },
     "e8384261dae748deb356d2ec00eaed19": {
      "model_module": "@jupyter-widgets/controls",
      "model_module_version": "1.5.0",
      "model_name": "DescriptionStyleModel",
      "state": {
       "description_width": ""
      }
     },
     "e85321e1b82e4c9a8675b2e0b9dca989": {
      "model_module": "@jupyter-widgets/controls",
      "model_module_version": "1.5.0",
      "model_name": "HBoxModel",
      "state": {
       "children": [
        "IPY_MODEL_a5a6cddd68994240bba267bbec0ccd4a",
        "IPY_MODEL_c21611cf12fd47fbb10783488e02493c",
        "IPY_MODEL_3db6012742da4f68a68d544658b482d0"
       ],
       "layout": "IPY_MODEL_46101c1ae90348bfa069c271ea496630"
      }
     },
     "e893bb73c5dc4f6a9e2e6f0b3633c265": {
      "model_module": "@jupyter-widgets/controls",
      "model_module_version": "1.5.0",
      "model_name": "FloatSliderModel",
      "state": {
       "description": "MONTH:",
       "layout": "IPY_MODEL_508ea2cd80aa4142959d78915262e835",
       "max": 12,
       "min": 1,
       "readout_format": ".0f",
       "style": "IPY_MODEL_3000585272c748dc861355c3f663b753",
       "value": 3
      }
     },
     "e94744aa6ba54aa4bf10dd40d76d5f54": {
      "model_module": "@jupyter-widgets/controls",
      "model_module_version": "1.5.0",
      "model_name": "DescriptionStyleModel",
      "state": {
       "description_width": ""
      }
     },
     "e997da6f07e94a2bb6e09bde3f3f51bd": {
      "model_module": "@jupyter-widgets/controls",
      "model_module_version": "1.5.0",
      "model_name": "DescriptionStyleModel",
      "state": {
       "description_width": ""
      }
     },
     "ea3c7d35a0f644bd9da6f4a6962382b8": {
      "model_module": "@jupyter-widgets/controls",
      "model_module_version": "1.5.0",
      "model_name": "DescriptionStyleModel",
      "state": {
       "description_width": ""
      }
     },
     "eb00a520b1134564ba9169b17e049254": {
      "model_module": "@jupyter-widgets/controls",
      "model_module_version": "1.5.0",
      "model_name": "FloatSliderModel",
      "state": {
       "description": "MES:",
       "layout": "IPY_MODEL_714939c51b814efc9785b3cf6f72e6d6",
       "max": 12,
       "min": 1,
       "readout_format": ".0f",
       "style": "IPY_MODEL_378c7f037a9241ffaf9f1f109392f9c8",
       "value": 1
      }
     },
     "eb8168c0c63147799bf537cdaca8895d": {
      "model_module": "@jupyter-widgets/controls",
      "model_module_version": "1.5.0",
      "model_name": "HBoxModel",
      "state": {
       "children": [
        "IPY_MODEL_5794e6f8a1dc445888a377a681828cd2",
        "IPY_MODEL_71b17b4e5e224091826e0d42e661f4ee",
        "IPY_MODEL_03f1e2305632460cb7d9e4ccdf2aa1d9"
       ],
       "layout": "IPY_MODEL_a90b1bc33ede46a0aa9de1a38a229121"
      }
     },
     "ebd02b192b654c5184c8e1423f8b8cc6": {
      "model_module": "@jupyter-widgets/base",
      "model_module_version": "1.2.0",
      "model_name": "LayoutModel",
      "state": {}
     },
     "ebddaa8b75f04053b0b3d09a5e648c76": {
      "model_module": "@jupyter-widgets/base",
      "model_module_version": "1.2.0",
      "model_name": "LayoutModel",
      "state": {}
     },
     "ebfe7b1ed96f4ea9bfb69b9babd62a6d": {
      "model_module": "@jupyter-widgets/controls",
      "model_module_version": "1.5.0",
      "model_name": "ButtonModel",
      "state": {
       "button_style": "primary",
       "description": "Click me",
       "icon": "money",
       "layout": "IPY_MODEL_52d7a5dd59204772a9136d58a2b5ff0e",
       "style": "IPY_MODEL_309d1a815dc04437b30364ca96b30da9",
       "tooltip": "Click me"
      }
     },
     "ec150ec6f446401f816d7f2c19d3b4f0": {
      "model_module": "@jupyter-widgets/controls",
      "model_module_version": "1.5.0",
      "model_name": "ButtonModel",
      "state": {
       "description": "Click me",
       "icon": "check",
       "layout": "IPY_MODEL_2aa4adb2a0e3425abc6fadfba25e3b16",
       "style": "IPY_MODEL_a38c3e35bb8940268920bf3f4361f12c",
       "tooltip": "Click me"
      }
     },
     "ec5dca7c92d94dd489d455f974d7613f": {
      "model_module": "@jupyter-widgets/base",
      "model_module_version": "1.2.0",
      "model_name": "LayoutModel",
      "state": {}
     },
     "ed2ea66c4cf54cc7a6ed365bf4993e56": {
      "model_module": "@jupyter-widgets/controls",
      "model_module_version": "1.5.0",
      "model_name": "SliderStyleModel",
      "state": {
       "description_width": ""
      }
     },
     "edb686c1433c436582b655129b4bdcfc": {
      "model_module": "@jupyter-widgets/base",
      "model_module_version": "1.2.0",
      "model_name": "LayoutModel",
      "state": {}
     },
     "ee4244543d11440fa6d0f691b8b7c075": {
      "model_module": "@jupyter-widgets/base",
      "model_module_version": "1.2.0",
      "model_name": "LayoutModel",
      "state": {}
     },
     "eef5289bfffc43e5a5d4f2d671be7707": {
      "model_module": "@jupyter-widgets/controls",
      "model_module_version": "1.5.0",
      "model_name": "FloatSliderModel",
      "state": {
       "description": "MES:",
       "layout": "IPY_MODEL_db8c31e84b5a4ba5a4def2fa477d6fce",
       "max": 12,
       "min": 1,
       "readout_format": ".0f",
       "style": "IPY_MODEL_848f6357c9ec47ad83a4276b58ea81d1",
       "value": 1
      }
     },
     "ef22e6c9c01745b39ef8e7669e4c3fbf": {
      "model_module": "@jupyter-widgets/controls",
      "model_module_version": "1.5.0",
      "model_name": "DropdownModel",
      "state": {
       "_options_labels": [
        "2016",
        "2017",
        "2018",
        "2019",
        "2020",
        "2021"
       ],
       "description": "Mes A:",
       "index": 2,
       "layout": "IPY_MODEL_74455b50fdfe4a0aa066f0a83ba33b1c",
       "style": "IPY_MODEL_310f1166fc0b4173a91c5aaeb06f32cd"
      }
     },
     "ef58c949db92495e8fc16c501a9b107f": {
      "model_module": "@jupyter-widgets/controls",
      "model_module_version": "1.5.0",
      "model_name": "SliderStyleModel",
      "state": {
       "description_width": ""
      }
     },
     "ef665d7d8edf44bb92bc85369acc240d": {
      "model_module": "@jupyter-widgets/base",
      "model_module_version": "1.2.0",
      "model_name": "LayoutModel",
      "state": {}
     },
     "efcb8aff7fb04cb3a69abd37730c8e3c": {
      "model_module": "@jupyter-widgets/base",
      "model_module_version": "1.2.0",
      "model_name": "LayoutModel",
      "state": {}
     },
     "f0237a7661a94e90bfc28200912fed94": {
      "model_module": "@jupyter-widgets/base",
      "model_module_version": "1.2.0",
      "model_name": "LayoutModel",
      "state": {}
     },
     "f06a99df58d74f3e9d46ec979cbfacfd": {
      "model_module": "@jupyter-widgets/base",
      "model_module_version": "1.2.0",
      "model_name": "LayoutModel",
      "state": {}
     },
     "f14589196c864ac29342d50ab5b6cfd9": {
      "model_module": "@jupyter-widgets/base",
      "model_module_version": "1.2.0",
      "model_name": "LayoutModel",
      "state": {}
     },
     "f16d93a7b1064e1c8c4d2fe073f08dd4": {
      "model_module": "@jupyter-widgets/controls",
      "model_module_version": "1.5.0",
      "model_name": "HBoxModel",
      "state": {
       "children": [
        "IPY_MODEL_a5a6cddd68994240bba267bbec0ccd4a",
        "IPY_MODEL_c21611cf12fd47fbb10783488e02493c",
        "IPY_MODEL_3db6012742da4f68a68d544658b482d0"
       ],
       "layout": "IPY_MODEL_936b078efb9a457a9580247de06868de"
      }
     },
     "f18bad4f011d4e62bf81c87e9e70ab5f": {
      "model_module": "@jupyter-widgets/controls",
      "model_module_version": "1.5.0",
      "model_name": "SliderStyleModel",
      "state": {
       "description_width": ""
      }
     },
     "f3408d60e2744ff58b5bca4252fb10a0": {
      "model_module": "@jupyter-widgets/controls",
      "model_module_version": "1.5.0",
      "model_name": "ButtonModel",
      "state": {
       "description": "Click me",
       "icon": "check",
       "layout": "IPY_MODEL_f14589196c864ac29342d50ab5b6cfd9",
       "style": "IPY_MODEL_8dcf2e377b9e433fb959b1e2d92ddc41",
       "tooltip": "Click me"
      }
     },
     "f3446d2faff14fe58a4b5d13f2cb6ce8": {
      "model_module": "@jupyter-widgets/base",
      "model_module_version": "1.2.0",
      "model_name": "LayoutModel",
      "state": {}
     },
     "f3a009f8e9ab4c0caec69ef4b9a2fb3e": {
      "model_module": "@jupyter-widgets/base",
      "model_module_version": "1.2.0",
      "model_name": "LayoutModel",
      "state": {}
     },
     "f3a1d168d0504e1a9f54bcf331931dc9": {
      "model_module": "@jupyter-widgets/base",
      "model_module_version": "1.2.0",
      "model_name": "LayoutModel",
      "state": {}
     },
     "f3d0389c623a4410b2df06a794e7b83d": {
      "model_module": "@jupyter-widgets/controls",
      "model_module_version": "1.5.0",
      "model_name": "DescriptionStyleModel",
      "state": {
       "description_width": ""
      }
     },
     "f3e74c346b704ba89759b259c7ad046a": {
      "model_module": "@jupyter-widgets/base",
      "model_module_version": "1.2.0",
      "model_name": "LayoutModel",
      "state": {}
     },
     "f471c3a8f3fd426b86c2add39d65b5a2": {
      "model_module": "@jupyter-widgets/base",
      "model_module_version": "1.2.0",
      "model_name": "LayoutModel",
      "state": {}
     },
     "f4a1ec16ddaf4a42b9e593e8df32dcca": {
      "model_module": "@jupyter-widgets/controls",
      "model_module_version": "1.5.0",
      "model_name": "SliderStyleModel",
      "state": {
       "description_width": ""
      }
     },
     "f4e4b948213245b1bfc9d1680597e752": {
      "model_module": "@jupyter-widgets/base",
      "model_module_version": "1.2.0",
      "model_name": "LayoutModel",
      "state": {}
     },
     "f55289e642094c9fa4f490214bbc94b6": {
      "model_module": "@jupyter-widgets/base",
      "model_module_version": "1.2.0",
      "model_name": "LayoutModel",
      "state": {}
     },
     "f59ed19ac9e04fabad4bb75e7cf90d28": {
      "model_module": "@jupyter-widgets/controls",
      "model_module_version": "1.5.0",
      "model_name": "DropdownModel",
      "state": {
       "_options_labels": [
        "2016",
        "2017",
        "2018",
        "2019",
        "2020"
       ],
       "description": "Mes B:",
       "index": 0,
       "layout": "IPY_MODEL_2e0e6b91979f4af8aefff4578cc0486f",
       "style": "IPY_MODEL_2a655f989bb946b798f9156099324d7a"
      }
     },
     "f60431b7651e42daae654c8b1c794805": {
      "model_module": "@jupyter-widgets/controls",
      "model_module_version": "1.5.0",
      "model_name": "DropdownModel",
      "state": {
       "_options_labels": [
        "2",
        "0",
        "1",
        "6",
        "2",
        "0",
        "1",
        "7",
        "2",
        "0",
        "1",
        "8",
        "2",
        "0",
        "1",
        "9",
        "2",
        "0",
        "2",
        "0",
        "2",
        "0",
        "2",
        "1"
       ],
       "description": "Mes A:",
       "index": 0,
       "layout": "IPY_MODEL_70249a359b704af081e83d4e426a2908",
       "style": "IPY_MODEL_d29eb243587542b68a275cd412c123b5"
      }
     },
     "f61c856bc2a9496aacd5780438c16f4b": {
      "model_module": "@jupyter-widgets/output",
      "model_module_version": "1.0.0",
      "model_name": "OutputModel",
      "state": {
       "layout": "IPY_MODEL_96db802e883f4df8bf2b22297ec1764a"
      }
     },
     "f625177abe6045d39642e6e88d8fcde3": {
      "model_module": "@jupyter-widgets/controls",
      "model_module_version": "1.5.0",
      "model_name": "SliderStyleModel",
      "state": {
       "description_width": ""
      }
     },
     "f67603017c9e46259c176beebca68331": {
      "model_module": "@jupyter-widgets/base",
      "model_module_version": "1.2.0",
      "model_name": "LayoutModel",
      "state": {}
     },
     "f6cec444c6104acb8c3053e7a0ac7b30": {
      "model_module": "@jupyter-widgets/controls",
      "model_module_version": "1.5.0",
      "model_name": "HBoxModel",
      "state": {
       "children": [
        "IPY_MODEL_a5a6cddd68994240bba267bbec0ccd4a",
        "IPY_MODEL_c21611cf12fd47fbb10783488e02493c",
        "IPY_MODEL_3db6012742da4f68a68d544658b482d0"
       ],
       "layout": "IPY_MODEL_e21cb1ed1ba844129a4fa798c502bf7d"
      }
     },
     "f8a113ac1bc04687ace0d2f787b83739": {
      "model_module": "@jupyter-widgets/controls",
      "model_module_version": "1.5.0",
      "model_name": "VBoxModel",
      "state": {
       "children": [
        "IPY_MODEL_ab26f203fcd548ea8303617e689319e2",
        "IPY_MODEL_a3ffc116daad4bb6b51751be5f89e913",
        "IPY_MODEL_953a229bd435495588af459ebe835e46"
       ],
       "layout": "IPY_MODEL_94a3206826dc40f8ac1058aa0e257141"
      }
     },
     "f8b21867133d4df58f34721bc89e5eb3": {
      "model_module": "@jupyter-widgets/controls",
      "model_module_version": "1.5.0",
      "model_name": "ButtonModel",
      "state": {
       "button_style": "primary",
       "description": "Compare",
       "icon": "money",
       "layout": "IPY_MODEL_e47ff6f459d4411da5a3047edfcf049f",
       "style": "IPY_MODEL_c9d54d239f814ede92c729503bf94f58",
       "tooltip": "Click me"
      }
     },
     "f8c5a0f42ea1408aaf433e85f0ad4ac3": {
      "model_module": "@jupyter-widgets/controls",
      "model_module_version": "1.5.0",
      "model_name": "SliderStyleModel",
      "state": {
       "description_width": ""
      }
     },
     "f94422dd10164f01abde55e8b8fe99b9": {
      "model_module": "@jupyter-widgets/base",
      "model_module_version": "1.2.0",
      "model_name": "LayoutModel",
      "state": {}
     },
     "f95d0d6e67ee4bb3ab62966451e97dc6": {
      "model_module": "@jupyter-widgets/output",
      "model_module_version": "1.0.0",
      "model_name": "OutputModel",
      "state": {
       "layout": "IPY_MODEL_563e4327f1464de0a03500a1e75dcb9d",
       "outputs": [
        {
         "name": "stdout",
         "output_type": "stream",
         "text": "I was clicked\n"
        }
       ]
      }
     },
     "fa76b8e337cc4be2814047e3b29ce63c": {
      "model_module": "@jupyter-widgets/base",
      "model_module_version": "1.2.0",
      "model_name": "LayoutModel",
      "state": {}
     },
     "fb6dcbb209bd4faf9f0a8a607f8e3935": {
      "model_module": "@jupyter-widgets/base",
      "model_module_version": "1.2.0",
      "model_name": "LayoutModel",
      "state": {}
     },
     "fbd1684b4a8e4f8ab858001e86b665e7": {
      "model_module": "@jupyter-widgets/output",
      "model_module_version": "1.0.0",
      "model_name": "OutputModel",
      "state": {
       "layout": "IPY_MODEL_67d83cadc6d44603a696b7ca4e6c7412"
      }
     },
     "fbf4e09cf69e47d7b1725d0a6b60f0a0": {
      "model_module": "@jupyter-widgets/base",
      "model_module_version": "1.2.0",
      "model_name": "LayoutModel",
      "state": {}
     },
     "fc739e63282d446281ecc761403d6023": {
      "model_module": "@jupyter-widgets/base",
      "model_module_version": "1.2.0",
      "model_name": "LayoutModel",
      "state": {}
     },
     "fd0f758dd5ab405093cb11d0c95fc3de": {
      "model_module": "@jupyter-widgets/base",
      "model_module_version": "1.2.0",
      "model_name": "LayoutModel",
      "state": {}
     },
     "fdf335414231475ea1be58949660853c": {
      "model_module": "@jupyter-widgets/base",
      "model_module_version": "1.2.0",
      "model_name": "LayoutModel",
      "state": {}
     },
     "ff293563ff9d41d8b3cf9bb1f6161faf": {
      "model_module": "@jupyter-widgets/controls",
      "model_module_version": "1.5.0",
      "model_name": "DropdownModel",
      "state": {
       "_options_labels": [
        "1",
        "2",
        "3"
       ],
       "description": "Mes B:",
       "index": 1,
       "layout": "IPY_MODEL_fd0f758dd5ab405093cb11d0c95fc3de",
       "style": "IPY_MODEL_f3d0389c623a4410b2df06a794e7b83d"
      }
     },
     "ff4705ba521f4555b62602c023205d2a": {
      "model_module": "@jupyter-widgets/base",
      "model_module_version": "1.2.0",
      "model_name": "LayoutModel",
      "state": {}
     },
     "ffefa8619c01490395c47933646283ce": {
      "model_module": "@jupyter-widgets/controls",
      "model_module_version": "1.5.0",
      "model_name": "ButtonStyleModel",
      "state": {}
     }
    },
    "version_major": 2,
    "version_minor": 0
   }
  }
 },
 "nbformat": 4,
 "nbformat_minor": 4
}
